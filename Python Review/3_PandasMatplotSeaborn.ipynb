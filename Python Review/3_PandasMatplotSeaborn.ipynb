{
 "cells": [
  {
   "cell_type": "markdown",
   "id": "11a91663-d799-4780-ac32-b90e84da1bce",
   "metadata": {
    "id": "11a91663-d799-4780-ac32-b90e84da1bce"
   },
   "source": [
    "## Guía de Trabajo: Análisis de Datos con Pandas, Matplotlib y Seaborn\n",
    "\n",
    "### Introducción:\n",
    "En esta guía, aprenderemos a utilizar las bibliotecas de Python Pandas, Matplotlib y Seaborn para el análisis exploratorio de datos. Utilizaremos datos artificiales para comprender cómo cargar, limpiar, visualizar y analizar datos utilizando estas poderosas herramientas.\n",
    "\n",
    "### 1. Instalación de Bibliotecas: Normalmente estas bibliotecas ya se encuetran disponibles en tu entorno\n",
    "Asegúrate de tener instaladas las siguientes bibliotecas:\n",
    "```bash\n",
    "pip install pandas matplotlib seaborn\n",
    "```\n",
    "\n",
    "### 2. Importación de Bibliotecas:\n",
    "```python\n",
    "import pandas as pd\n",
    "import matplotlib.pyplot as plt\n",
    "import seaborn as sns\n",
    "```\n"
   ]
  },
  {
   "cell_type": "code",
   "execution_count": 5,
   "id": "2e3805c7",
   "metadata": {},
   "outputs": [
    {
     "name": "stdout",
     "output_type": "stream",
     "text": [
      "Requirement already satisfied: pandas in c:\\users\\diana\\appdata\\local\\programs\\python\\python313\\lib\\site-packages (2.2.3)\n",
      "Requirement already satisfied: numpy>=1.26.0 in c:\\users\\diana\\appdata\\local\\programs\\python\\python313\\lib\\site-packages (from pandas) (2.2.2)\n",
      "Requirement already satisfied: python-dateutil>=2.8.2 in c:\\users\\diana\\appdata\\roaming\\python\\python313\\site-packages (from pandas) (2.9.0.post0)\n",
      "Requirement already satisfied: pytz>=2020.1 in c:\\users\\diana\\appdata\\local\\programs\\python\\python313\\lib\\site-packages (from pandas) (2025.1)\n",
      "Requirement already satisfied: tzdata>=2022.7 in c:\\users\\diana\\appdata\\local\\programs\\python\\python313\\lib\\site-packages (from pandas) (2025.1)\n",
      "Requirement already satisfied: six>=1.5 in c:\\users\\diana\\appdata\\roaming\\python\\python313\\site-packages (from python-dateutil>=2.8.2->pandas) (1.17.0)\n",
      "Requirement already satisfied: matplotlib in c:\\users\\diana\\appdata\\local\\programs\\python\\python313\\lib\\site-packages (3.10.0)\n",
      "Requirement already satisfied: contourpy>=1.0.1 in c:\\users\\diana\\appdata\\local\\programs\\python\\python313\\lib\\site-packages (from matplotlib) (1.3.1)\n",
      "Requirement already satisfied: cycler>=0.10 in c:\\users\\diana\\appdata\\local\\programs\\python\\python313\\lib\\site-packages (from matplotlib) (0.12.1)\n",
      "Requirement already satisfied: fonttools>=4.22.0 in c:\\users\\diana\\appdata\\local\\programs\\python\\python313\\lib\\site-packages (from matplotlib) (4.56.0)\n",
      "Requirement already satisfied: kiwisolver>=1.3.1 in c:\\users\\diana\\appdata\\local\\programs\\python\\python313\\lib\\site-packages (from matplotlib) (1.4.8)\n",
      "Requirement already satisfied: numpy>=1.23 in c:\\users\\diana\\appdata\\local\\programs\\python\\python313\\lib\\site-packages (from matplotlib) (2.2.2)\n",
      "Requirement already satisfied: packaging>=20.0 in c:\\users\\diana\\appdata\\roaming\\python\\python313\\site-packages (from matplotlib) (24.2)\n",
      "Requirement already satisfied: pillow>=8 in c:\\users\\diana\\appdata\\local\\programs\\python\\python313\\lib\\site-packages (from matplotlib) (11.1.0)\n",
      "Requirement already satisfied: pyparsing>=2.3.1 in c:\\users\\diana\\appdata\\local\\programs\\python\\python313\\lib\\site-packages (from matplotlib) (3.2.1)\n",
      "Requirement already satisfied: python-dateutil>=2.7 in c:\\users\\diana\\appdata\\roaming\\python\\python313\\site-packages (from matplotlib) (2.9.0.post0)\n",
      "Requirement already satisfied: six>=1.5 in c:\\users\\diana\\appdata\\roaming\\python\\python313\\site-packages (from python-dateutil>=2.7->matplotlib) (1.17.0)\n",
      "Requirement already satisfied: seaborn in c:\\users\\diana\\appdata\\local\\programs\\python\\python313\\lib\\site-packages (0.13.2)\n",
      "Requirement already satisfied: numpy!=1.24.0,>=1.20 in c:\\users\\diana\\appdata\\local\\programs\\python\\python313\\lib\\site-packages (from seaborn) (2.2.2)\n",
      "Requirement already satisfied: pandas>=1.2 in c:\\users\\diana\\appdata\\local\\programs\\python\\python313\\lib\\site-packages (from seaborn) (2.2.3)\n",
      "Requirement already satisfied: matplotlib!=3.6.1,>=3.4 in c:\\users\\diana\\appdata\\local\\programs\\python\\python313\\lib\\site-packages (from seaborn) (3.10.0)\n",
      "Requirement already satisfied: contourpy>=1.0.1 in c:\\users\\diana\\appdata\\local\\programs\\python\\python313\\lib\\site-packages (from matplotlib!=3.6.1,>=3.4->seaborn) (1.3.1)\n",
      "Requirement already satisfied: cycler>=0.10 in c:\\users\\diana\\appdata\\local\\programs\\python\\python313\\lib\\site-packages (from matplotlib!=3.6.1,>=3.4->seaborn) (0.12.1)\n",
      "Requirement already satisfied: fonttools>=4.22.0 in c:\\users\\diana\\appdata\\local\\programs\\python\\python313\\lib\\site-packages (from matplotlib!=3.6.1,>=3.4->seaborn) (4.56.0)\n",
      "Requirement already satisfied: kiwisolver>=1.3.1 in c:\\users\\diana\\appdata\\local\\programs\\python\\python313\\lib\\site-packages (from matplotlib!=3.6.1,>=3.4->seaborn) (1.4.8)\n",
      "Requirement already satisfied: packaging>=20.0 in c:\\users\\diana\\appdata\\roaming\\python\\python313\\site-packages (from matplotlib!=3.6.1,>=3.4->seaborn) (24.2)\n",
      "Requirement already satisfied: pillow>=8 in c:\\users\\diana\\appdata\\local\\programs\\python\\python313\\lib\\site-packages (from matplotlib!=3.6.1,>=3.4->seaborn) (11.1.0)\n",
      "Requirement already satisfied: pyparsing>=2.3.1 in c:\\users\\diana\\appdata\\local\\programs\\python\\python313\\lib\\site-packages (from matplotlib!=3.6.1,>=3.4->seaborn) (3.2.1)\n",
      "Requirement already satisfied: python-dateutil>=2.7 in c:\\users\\diana\\appdata\\roaming\\python\\python313\\site-packages (from matplotlib!=3.6.1,>=3.4->seaborn) (2.9.0.post0)\n",
      "Requirement already satisfied: pytz>=2020.1 in c:\\users\\diana\\appdata\\local\\programs\\python\\python313\\lib\\site-packages (from pandas>=1.2->seaborn) (2025.1)\n",
      "Requirement already satisfied: tzdata>=2022.7 in c:\\users\\diana\\appdata\\local\\programs\\python\\python313\\lib\\site-packages (from pandas>=1.2->seaborn) (2025.1)\n",
      "Requirement already satisfied: six>=1.5 in c:\\users\\diana\\appdata\\roaming\\python\\python313\\site-packages (from python-dateutil>=2.7->matplotlib!=3.6.1,>=3.4->seaborn) (1.17.0)\n"
     ]
    }
   ],
   "source": [
    "#use a ! to run a shell command in a jupyter notebook\n",
    "\n",
    "! pip install pandas\n",
    "! pip install matplotlib\n",
    "! pip install seaborn"
   ]
  },
  {
   "cell_type": "code",
   "execution_count": 2,
   "id": "e1e9b8c3-6680-41db-9b17-2f6320d4421f",
   "metadata": {
    "id": "e1e9b8c3-6680-41db-9b17-2f6320d4421f"
   },
   "outputs": [],
   "source": [
    "import pandas as pd\n",
    "import matplotlib.pyplot as plt\n",
    "import seaborn as sns"
   ]
  },
  {
   "cell_type": "markdown",
   "id": "d0412e0f",
   "metadata": {},
   "source": [
    "### Ejercicio 1: Introducción a Series\n",
    "**Objetivo:** Aprender a crear y manipular Series en pandas.\n"
   ]
  },
  {
   "cell_type": "markdown",
   "id": "5549c1f7",
   "metadata": {},
   "source": [
    "1. **Crear una Serie a partir de una lista de Python:**"
   ]
  },
  {
   "cell_type": "code",
   "execution_count": 3,
   "id": "dc437522",
   "metadata": {},
   "outputs": [
    {
     "name": "stdout",
     "output_type": "stream",
     "text": [
      "0    10\n",
      "1    20\n",
      "2    30\n",
      "3    40\n",
      "4    50\n",
      "dtype: int64\n"
     ]
    }
   ],
   "source": [
    "#A series is a one-dimensional array-like object containing a sequence of values and an associated array of data labels, called its index.\n",
    "#The difference between a series and a list is that a series can have an index, meaning that it can be labeled, whereas a list cannot.\n",
    "data = [10, 20, 30, 40, 50]\n",
    "series = pd.Series(data)\n",
    "print(series)"
   ]
  },
  {
   "cell_type": "markdown",
   "id": "d9ab2c6a",
   "metadata": {},
   "source": [
    "2. **Asignar etiquetas (índices) personalizadas a una Serie:**"
   ]
  },
  {
   "cell_type": "code",
   "execution_count": 4,
   "id": "b7d5071b",
   "metadata": {},
   "outputs": [
    {
     "name": "stdout",
     "output_type": "stream",
     "text": [
      "a    10\n",
      "b    20\n",
      "c    30\n",
      "d    40\n",
      "e    50\n",
      "dtype: int64\n"
     ]
    }
   ],
   "source": [
    "#We can also specify the index of the series\n",
    "#The index can be a list of strings or numbers\n",
    "#The index must be the same length as the data\n",
    "#If no index is specified, the index will be a range of numbers starting at 0\n",
    "#The index will work like a dictionary key, so we can use it to access the data\n",
    "#The differece between dictornary and series is that the series is ordered\n",
    "labels = ['a', 'b', 'c', 'd', 'e']\n",
    "series = pd.Series(data, index=labels)\n",
    "print(series)"
   ]
  },
  {
   "cell_type": "markdown",
   "id": "64ad26a9",
   "metadata": {},
   "source": [
    "3. **Acceder a elementos de una Serie:**"
   ]
  },
  {
   "cell_type": "code",
   "execution_count": 6,
   "id": "7b686761",
   "metadata": {},
   "outputs": [
    {
     "name": "stdout",
     "output_type": "stream",
     "text": [
      "20\n",
      "20\n"
     ]
    },
    {
     "name": "stderr",
     "output_type": "stream",
     "text": [
      "C:\\Users\\diana\\AppData\\Local\\Temp\\ipykernel_16300\\2829660639.py:5: FutureWarning: Series.__getitem__ treating keys as positions is deprecated. In a future version, integer keys will always be treated as labels (consistent with DataFrame behavior). To access a value by position, use `ser.iloc[pos]`\n",
      "  print(series[1])\n"
     ]
    }
   ],
   "source": [
    "#If we want to access the data using the index, we can use the index as a key\n",
    "#We can also use the index as a key to change the data\n",
    "#The number index will still work\n",
    "print(series['b'])\n",
    "print(series[1])"
   ]
  },
  {
   "cell_type": "markdown",
   "id": "e147b822",
   "metadata": {},
   "source": [
    "4. **Operaciones básicas en Series:**"
   ]
  },
  {
   "cell_type": "code",
   "execution_count": 8,
   "id": "a744dcd9",
   "metadata": {},
   "outputs": [
    {
     "name": "stdout",
     "output_type": "stream",
     "text": [
      "a     20\n",
      "b     40\n",
      "c     60\n",
      "d     80\n",
      "e    100\n",
      "dtype: int64\n",
      "a     100\n",
      "b     400\n",
      "c     900\n",
      "d    1600\n",
      "e    2500\n",
      "dtype: int64\n",
      "dot product:  5500\n",
      "Mean: 30.0\n",
      "count     5.000000\n",
      "mean     30.000000\n",
      "std      15.811388\n",
      "min      10.000000\n",
      "25%      20.000000\n",
      "50%      30.000000\n",
      "75%      40.000000\n",
      "max      50.000000\n",
      "dtype: float64\n"
     ]
    }
   ],
   "source": [
    "#Basic operations can be done on a series\n",
    "\n",
    "#Multiply by scalar value\n",
    "print(series * 2)\n",
    "\n",
    "#Multiply by another series\n",
    "print(series * series)\n",
    "\n",
    "#dot product\n",
    "print(\"dot product: \", series.dot(series))\n",
    "\n",
    "#Find the mean of a series\n",
    "print(\"Mean:\", series.mean())\n",
    "\n",
    "#Describe the series with all the basic statistics\n",
    "print(series.describe())"
   ]
  },
  {
   "cell_type": "code",
   "execution_count": 13,
   "id": "460a776e",
   "metadata": {},
   "outputs": [
    {
     "name": "stdout",
     "output_type": "stream",
     "text": [
      "0      pedro\n",
      "1      pedro\n",
      "2      pedro\n",
      "3     marcos\n",
      "4    ricardo\n",
      "5     Teresa\n",
      "6     Camila\n",
      "7     Camila\n",
      "8     Camila\n",
      "9     Camila\n",
      "dtype: object\n"
     ]
    }
   ],
   "source": [
    "#Series can also have string data\n",
    "data = [\"pedro\",\"pedro\",\"pedro\", \"marcos\", \"ricardo\", \"Teresa\", \"Camila\",\"Camila\",\"Camila\",\"Camila\"]\n",
    "series = pd.Series(data)\n",
    "print(series)"
   ]
  },
  {
   "cell_type": "code",
   "execution_count": null,
   "id": "cbb1fc42",
   "metadata": {},
   "outputs": [
    {
     "name": "stdout",
     "output_type": "stream",
     "text": [
      "count         10\n",
      "unique         5\n",
      "top       Camila\n",
      "freq           4\n",
      "dtype: object\n",
      "0          10\n",
      "1          20\n",
      "2          30\n",
      "3          40\n",
      "4          50\n",
      "5       pedro\n",
      "6       pedro\n",
      "7       pedro\n",
      "8      marcos\n",
      "9     ricardo\n",
      "10     Teresa\n",
      "11     Camila\n",
      "12     Camila\n",
      "13     Camila\n",
      "14     Camila\n",
      "dtype: object\n",
      "count         15\n",
      "unique        10\n",
      "top       Camila\n",
      "freq           4\n",
      "dtype: object\n"
     ]
    }
   ],
   "source": [
    "#When describing a series with string data, we get different statistics\n",
    "print(series.describe())\n",
    "\n",
    "#Mixed data can also be used in a series\n",
    "#The series will have the data type of the most general data type\n",
    "#In this case, the data type is object\n",
    "#The describe method will return the statistics of the most general data type\n",
    "mixedData = [10, 20, 30, 40, 50, \"pedro\",\"pedro\",\"pedro\", \"marcos\", \"ricardo\", \"Teresa\", \"Camila\",\"Camila\",\"Camila\",\"Camila\"]\n",
    "series = pd.Series(mixedData)\n",
    "print(series)\n",
    "print(series.describe())\n"
   ]
  },
  {
   "cell_type": "markdown",
   "id": "daa3fccd",
   "metadata": {},
   "source": [
    "\n",
    "### Ejercicio 2: Introducción a DataFrames\n",
    "**Objetivo:** Aprender a crear y manipular DataFrames en pandas.\n"
   ]
  },
  {
   "cell_type": "markdown",
   "id": "2a0c2de1",
   "metadata": {},
   "source": [
    "1. **Crear un DataFrame a partir de un diccionario:**"
   ]
  },
  {
   "cell_type": "code",
   "execution_count": 18,
   "id": "012d86f2",
   "metadata": {},
   "outputs": [
    {
     "name": "stdout",
     "output_type": "stream",
     "text": [
      "  Nombre  Edad     Ciudad\n",
      "a    Ana    23     Madrid\n",
      "b   Juan    34  Barcelona\n",
      "c  Pedro    45    Sevilla\n",
      "d  María    29   Valencia\n"
     ]
    }
   ],
   "source": [
    "data = {\n",
    "    'Nombre': ['Ana', 'Juan', 'Pedro', 'María'],\n",
    "    'Edad': [23, 34, 45, 29],\n",
    "    'Ciudad': ['Madrid', 'Barcelona', 'Sevilla', 'Valencia']\n",
    "}\n",
    "df = pd.DataFrame(data, index=['a', 'b', 'c', 'd'])\n",
    "print(df)"
   ]
  },
  {
   "cell_type": "markdown",
   "id": "94c6eafe",
   "metadata": {},
   "source": [
    "2. **Acceder a columnas y filas de un DataFrame:**"
   ]
  },
  {
   "cell_type": "code",
   "execution_count": 38,
   "id": "0c27eabd",
   "metadata": {},
   "outputs": [
    {
     "name": "stdout",
     "output_type": "stream",
     "text": [
      "a      Ana\n",
      "b     Juan\n",
      "c    Pedro\n",
      "d    María\n",
      "Name: Nombre, dtype: object\n",
      "  Nombre     Ciudad\n",
      "a    Ana     Madrid\n",
      "b   Juan  Barcelona\n",
      "c  Pedro    Sevilla\n",
      "d  María   Valencia\n",
      "a      Ana\n",
      "b     Juan\n",
      "c    Pedro\n",
      "d    María\n",
      "Name: Nombre, dtype: object\n",
      "a      Ana\n",
      "b     Juan\n",
      "c    Pedro\n",
      "d    María\n",
      "Name: Nombre, dtype: object\n"
     ]
    }
   ],
   "source": [
    "#In dataframes, we can access the columns using the column name\n",
    "print(df['Nombre'])\n",
    "\n",
    "#We can access multiple columns by passing a list of column names\n",
    "print(df[['Nombre', 'Ciudad']])\n",
    "\n",
    "#We can also access the columns using loc and iloc\n",
    "#The difference between loc and iloc is that loc uses the index name, while iloc uses the index number\n",
    "print(df.loc[:,'Nombre'])\n",
    "print(df.iloc[:,0])"
   ]
  },
  {
   "cell_type": "code",
   "execution_count": 39,
   "id": "a3d6f17d",
   "metadata": {},
   "outputs": [
    {
     "name": "stdout",
     "output_type": "stream",
     "text": [
      "Nombre         Ana\n",
      "Edad            23\n",
      "Ciudad      Madrid\n",
      "Salario2      3000\n",
      "Name: a, dtype: object\n"
     ]
    }
   ],
   "source": [
    "#To access specific rows you can use the loc and iloc methods\n",
    "print(df.loc['a'])\n"
   ]
  },
  {
   "cell_type": "code",
   "execution_count": 40,
   "id": "e1785650",
   "metadata": {},
   "outputs": [
    {
     "name": "stdout",
     "output_type": "stream",
     "text": [
      "  Nombre  Edad     Ciudad  Salario2\n",
      "a    Ana    23     Madrid      3000\n",
      "b   Juan    34  Barcelona      4000\n",
      "c  Pedro    45    Sevilla      3500\n",
      "  Nombre  Edad     Ciudad  Salario2\n",
      "a    Ana    23     Madrid      3000\n",
      "b   Juan    34  Barcelona      4000\n",
      "c  Pedro    45    Sevilla      3500\n"
     ]
    }
   ],
   "source": [
    "#We can also access multiple rows by passing a list or range of index names\n",
    "#Both use the same syntax start:end, but loc uses the index name, while iloc uses the index number\n",
    "print(df.loc['a':'c'])\n",
    "print(df.iloc[0:3])"
   ]
  },
  {
   "cell_type": "code",
   "execution_count": 41,
   "id": "6e7dc8c4",
   "metadata": {},
   "outputs": [
    {
     "name": "stdout",
     "output_type": "stream",
     "text": [
      "  Nombre  Edad     Ciudad\n",
      "a    Ana    23     Madrid\n",
      "b   Juan    34  Barcelona\n",
      "c  Pedro    45    Sevilla\n"
     ]
    }
   ],
   "source": [
    "#To access specific rows and columns, you can use loc and iloc with two parameters\n",
    "#The first parameter is the rows, and the second parameter is the columns\n",
    "print(df.loc['a':'c', 'Nombre':'Ciudad'])"
   ]
  },
  {
   "cell_type": "code",
   "execution_count": 43,
   "id": "eb33556a",
   "metadata": {},
   "outputs": [
    {
     "name": "stdout",
     "output_type": "stream",
     "text": [
      "  Nombre  Edad     Ciudad  Salario2\n",
      "a    Ana    23     Madrid      3000\n",
      "b   Juan    34  Barcelona      4000\n",
      "c  Pedro    45    Sevilla      3500\n"
     ]
    }
   ],
   "source": [
    "#To access specific rows you can use the df[] syntax\n",
    "#The first parameter is the rows, and the second parameter is the columns\n",
    "print(df[0:3])"
   ]
  },
  {
   "cell_type": "code",
   "execution_count": 24,
   "id": "75542e60",
   "metadata": {},
   "outputs": [
    {
     "data": {
      "text/plain": [
       "count          4\n",
       "unique         4\n",
       "top       Madrid\n",
       "freq           1\n",
       "Name: Ciudad, dtype: object"
      ]
     },
     "execution_count": 24,
     "metadata": {},
     "output_type": "execute_result"
    }
   ],
   "source": [
    "#The data in a column can be accessed using the column name\n",
    "#The data can be described\n",
    "s = df[\"Ciudad\"]\n",
    "s.describe()"
   ]
  },
  {
   "cell_type": "code",
   "execution_count": 25,
   "id": "426a3389",
   "metadata": {},
   "outputs": [
    {
     "data": {
      "text/html": [
       "<div>\n",
       "<style scoped>\n",
       "    .dataframe tbody tr th:only-of-type {\n",
       "        vertical-align: middle;\n",
       "    }\n",
       "\n",
       "    .dataframe tbody tr th {\n",
       "        vertical-align: top;\n",
       "    }\n",
       "\n",
       "    .dataframe thead th {\n",
       "        text-align: right;\n",
       "    }\n",
       "</style>\n",
       "<table border=\"1\" class=\"dataframe\">\n",
       "  <thead>\n",
       "    <tr style=\"text-align: right;\">\n",
       "      <th></th>\n",
       "      <th>Edad</th>\n",
       "    </tr>\n",
       "  </thead>\n",
       "  <tbody>\n",
       "    <tr>\n",
       "      <th>count</th>\n",
       "      <td>4.000000</td>\n",
       "    </tr>\n",
       "    <tr>\n",
       "      <th>mean</th>\n",
       "      <td>32.750000</td>\n",
       "    </tr>\n",
       "    <tr>\n",
       "      <th>std</th>\n",
       "      <td>9.322911</td>\n",
       "    </tr>\n",
       "    <tr>\n",
       "      <th>min</th>\n",
       "      <td>23.000000</td>\n",
       "    </tr>\n",
       "    <tr>\n",
       "      <th>25%</th>\n",
       "      <td>27.500000</td>\n",
       "    </tr>\n",
       "    <tr>\n",
       "      <th>50%</th>\n",
       "      <td>31.500000</td>\n",
       "    </tr>\n",
       "    <tr>\n",
       "      <th>75%</th>\n",
       "      <td>36.750000</td>\n",
       "    </tr>\n",
       "    <tr>\n",
       "      <th>max</th>\n",
       "      <td>45.000000</td>\n",
       "    </tr>\n",
       "  </tbody>\n",
       "</table>\n",
       "</div>"
      ],
      "text/plain": [
       "            Edad\n",
       "count   4.000000\n",
       "mean   32.750000\n",
       "std     9.322911\n",
       "min    23.000000\n",
       "25%    27.500000\n",
       "50%    31.500000\n",
       "75%    36.750000\n",
       "max    45.000000"
      ]
     },
     "execution_count": 25,
     "metadata": {},
     "output_type": "execute_result"
    }
   ],
   "source": [
    "#We can also describe the entire dataframe\n",
    "df.describe()"
   ]
  },
  {
   "cell_type": "markdown",
   "id": "d2db8ff3",
   "metadata": {},
   "source": [
    "3. **Añadir y eliminar columnas:**"
   ]
  },
  {
   "cell_type": "code",
   "execution_count": 27,
   "id": "9faf0815",
   "metadata": {},
   "outputs": [
    {
     "name": "stdout",
     "output_type": "stream",
     "text": [
      "  Nombre  Edad     Ciudad  Salario2  Salario\n",
      "a    Ana    23     Madrid      3000     3000\n",
      "b   Juan    34  Barcelona      4000     4000\n",
      "c  Pedro    45    Sevilla      3500     3500\n",
      "d  María    29   Valencia      4500     4500\n",
      "  Nombre  Edad     Ciudad  Salario2  Salario\n",
      "a    Ana    23     Madrid      3000     3000\n",
      "b   Juan    34  Barcelona      4000     4000\n",
      "c  Pedro    45    Sevilla      3500     3500\n",
      "d  María    29   Valencia      4500     4500\n",
      "  Nombre  Edad     Ciudad  Salario2\n",
      "a    Ana    23     Madrid      3000\n",
      "b   Juan    34  Barcelona      4000\n",
      "c  Pedro    45    Sevilla      3500\n",
      "d  María    29   Valencia      4500\n"
     ]
    }
   ],
   "source": [
    "#To add a new column to the dataframe, we can use the column name as a key\n",
    "df['Salario'] = [3000, 4000, 3500, 4500]\n",
    "print(df)\n",
    "\n",
    "#We can also add a new column by using the assign method\n",
    "df = df.assign(Salario2=[3000, 4000, 3500, 4500])\n",
    "print(df)\n",
    "\n",
    "#To remove a column from the dataframe, we can use the del keyword\n",
    "del df['Salario']\n",
    "print(df)\n"
   ]
  },
  {
   "cell_type": "markdown",
   "id": "19c5848a",
   "metadata": {},
   "source": [
    "4. **Filtrar datos en un DataFrame:**\n"
   ]
  },
  {
   "cell_type": "code",
   "execution_count": 29,
   "id": "8f968acb",
   "metadata": {},
   "outputs": [
    {
     "name": "stdout",
     "output_type": "stream",
     "text": [
      "a    False\n",
      "b     True\n",
      "c     True\n",
      "d    False\n",
      "Name: Edad, dtype: bool\n",
      "  Nombre  Edad     Ciudad  Salario2\n",
      "b   Juan    34  Barcelona      4000\n",
      "c  Pedro    45    Sevilla      3500\n",
      "  Nombre  Edad     Ciudad  Salario2\n",
      "b   Juan    34  Barcelona      4000\n",
      "c  Pedro    45    Sevilla      3500\n"
     ]
    }
   ],
   "source": [
    "#Filtering dataframes\n",
    "#We can filter the data in a dataframe using a boolean mask\n",
    "#The mask is a boolean series that has the same length as the dataframe\n",
    "#The mask is used to filter the data in the dataframe\n",
    "mask = df['Edad'] > 30\n",
    "#The mask will return a boolean series\n",
    "print(mask)\n",
    "\n",
    "#The mask can be passed to the dataframe to filter the data\n",
    "print(df[mask])\n",
    "\n",
    "#The mask step can be skipped\n",
    "print(df[df['Edad'] > 30])"
   ]
  },
  {
   "cell_type": "markdown",
   "id": "476df9f7",
   "metadata": {},
   "source": [
    "### Ejercicio 3: Carga de Datos desde Archivos\n",
    "**Objetivo:** Aprender a cargar y guardar datos usando pandas.\n",
    "\n",
    "1. **Leer datos desde un archivo CSV:**\n",
    "    ```python\n",
    "    df = pd.read_csv('ruta/al/archivo.csv')\n",
    "    print(df.head())\n",
    "    ```\n",
    "\n",
    "2. **Guardar datos en un archivo CSV:**\n",
    "    ```python\n",
    "    df.to_csv('ruta/al/archivo_guardado.csv', index=False)\n",
    "    ```\n",
    "\n",
    "\n"
   ]
  },
  {
   "cell_type": "code",
   "execution_count": null,
   "id": "923fbca8",
   "metadata": {},
   "outputs": [
    {
     "name": "stdout",
     "output_type": "stream",
     "text": [
      "          Make       Model  Year                Engine Fuel Type  Engine HP  \\\n",
      "0          BMW  1 Series M  2011     premium unleaded (required)      335.0   \n",
      "1          BMW    1 Series  2011     premium unleaded (required)      300.0   \n",
      "2          BMW    1 Series  2011     premium unleaded (required)      300.0   \n",
      "3          BMW    1 Series  2011     premium unleaded (required)      230.0   \n",
      "4          BMW    1 Series  2011     premium unleaded (required)      230.0   \n",
      "...        ...         ...   ...                             ...        ...   \n",
      "11909    Acura         ZDX  2012     premium unleaded (required)      300.0   \n",
      "11910    Acura         ZDX  2012     premium unleaded (required)      300.0   \n",
      "11911    Acura         ZDX  2012     premium unleaded (required)      300.0   \n",
      "11912    Acura         ZDX  2013  premium unleaded (recommended)      300.0   \n",
      "11913  Lincoln      Zephyr  2006                regular unleaded      221.0   \n",
      "\n",
      "       Engine Cylinders Transmission Type      Driven_Wheels  Number of Doors  \\\n",
      "0                   6.0            MANUAL   rear wheel drive              2.0   \n",
      "1                   6.0            MANUAL   rear wheel drive              2.0   \n",
      "2                   6.0            MANUAL   rear wheel drive              2.0   \n",
      "3                   6.0            MANUAL   rear wheel drive              2.0   \n",
      "4                   6.0            MANUAL   rear wheel drive              2.0   \n",
      "...                 ...               ...                ...              ...   \n",
      "11909               6.0         AUTOMATIC    all wheel drive              4.0   \n",
      "11910               6.0         AUTOMATIC    all wheel drive              4.0   \n",
      "11911               6.0         AUTOMATIC    all wheel drive              4.0   \n",
      "11912               6.0         AUTOMATIC    all wheel drive              4.0   \n",
      "11913               6.0         AUTOMATIC  front wheel drive              4.0   \n",
      "\n",
      "                             Market Category Vehicle Size  Vehicle Style  \\\n",
      "0      Factory Tuner,Luxury,High-Performance      Compact          Coupe   \n",
      "1                         Luxury,Performance      Compact    Convertible   \n",
      "2                    Luxury,High-Performance      Compact          Coupe   \n",
      "3                         Luxury,Performance      Compact          Coupe   \n",
      "4                                     Luxury      Compact    Convertible   \n",
      "...                                      ...          ...            ...   \n",
      "11909             Crossover,Hatchback,Luxury      Midsize  4dr Hatchback   \n",
      "11910             Crossover,Hatchback,Luxury      Midsize  4dr Hatchback   \n",
      "11911             Crossover,Hatchback,Luxury      Midsize  4dr Hatchback   \n",
      "11912             Crossover,Hatchback,Luxury      Midsize  4dr Hatchback   \n",
      "11913                                 Luxury      Midsize          Sedan   \n",
      "\n",
      "       highway MPG  city mpg  Popularity   MSRP  \n",
      "0               26        19        3916  46135  \n",
      "1               28        19        3916  40650  \n",
      "2               28        20        3916  36350  \n",
      "3               28        18        3916  29450  \n",
      "4               28        18        3916  34500  \n",
      "...            ...       ...         ...    ...  \n",
      "11909           23        16         204  46120  \n",
      "11910           23        16         204  56670  \n",
      "11911           23        16         204  50620  \n",
      "11912           23        16         204  50920  \n",
      "11913           26        17          61  28995  \n",
      "\n",
      "[11914 rows x 16 columns]\n"
     ]
    }
   ],
   "source": [
    "#to load and save dataframes from and to a file, we can use the to_csv and read_csv methods\n",
    "\n",
    "df = pd.read_csv('data.csv')\n",
    "print(df)\n",
    "\n",
    "df.to_csv('data.csv', index=False)"
   ]
  },
  {
   "cell_type": "markdown",
   "id": "cb586135",
   "metadata": {},
   "source": [
    "\n",
    "### Generación de Datos Artificiales\n",
    "\n",
    "\n"
   ]
  },
  {
   "cell_type": "code",
   "execution_count": 52,
   "id": "d8856bb2",
   "metadata": {},
   "outputs": [
    {
     "data": {
      "text/html": [
       "<div>\n",
       "<style scoped>\n",
       "    .dataframe tbody tr th:only-of-type {\n",
       "        vertical-align: middle;\n",
       "    }\n",
       "\n",
       "    .dataframe tbody tr th {\n",
       "        vertical-align: top;\n",
       "    }\n",
       "\n",
       "    .dataframe thead th {\n",
       "        text-align: right;\n",
       "    }\n",
       "</style>\n",
       "<table border=\"1\" class=\"dataframe\">\n",
       "  <thead>\n",
       "    <tr style=\"text-align: right;\">\n",
       "      <th></th>\n",
       "      <th>Edad</th>\n",
       "      <th>HorasTrabajadasPorSemana</th>\n",
       "      <th>CategoriaTrabajo</th>\n",
       "    </tr>\n",
       "  </thead>\n",
       "  <tbody>\n",
       "    <tr>\n",
       "      <th>0</th>\n",
       "      <td>58</td>\n",
       "      <td>33</td>\n",
       "      <td>Oficina</td>\n",
       "    </tr>\n",
       "    <tr>\n",
       "      <th>1</th>\n",
       "      <td>48</td>\n",
       "      <td>45</td>\n",
       "      <td>Remoto</td>\n",
       "    </tr>\n",
       "    <tr>\n",
       "      <th>2</th>\n",
       "      <td>34</td>\n",
       "      <td>23</td>\n",
       "      <td>Remoto</td>\n",
       "    </tr>\n",
       "    <tr>\n",
       "      <th>3</th>\n",
       "      <td>62</td>\n",
       "      <td>44</td>\n",
       "      <td>Campo</td>\n",
       "    </tr>\n",
       "    <tr>\n",
       "      <th>4</th>\n",
       "      <td>27</td>\n",
       "      <td>44</td>\n",
       "      <td>Campo</td>\n",
       "    </tr>\n",
       "    <tr>\n",
       "      <th>5</th>\n",
       "      <td>40</td>\n",
       "      <td>37</td>\n",
       "      <td>Campo</td>\n",
       "    </tr>\n",
       "    <tr>\n",
       "      <th>6</th>\n",
       "      <td>58</td>\n",
       "      <td>59</td>\n",
       "      <td>Campo</td>\n",
       "    </tr>\n",
       "    <tr>\n",
       "      <th>7</th>\n",
       "      <td>38</td>\n",
       "      <td>27</td>\n",
       "      <td>Oficina</td>\n",
       "    </tr>\n",
       "    <tr>\n",
       "      <th>8</th>\n",
       "      <td>42</td>\n",
       "      <td>58</td>\n",
       "      <td>Oficina</td>\n",
       "    </tr>\n",
       "    <tr>\n",
       "      <th>9</th>\n",
       "      <td>30</td>\n",
       "      <td>59</td>\n",
       "      <td>Campo</td>\n",
       "    </tr>\n",
       "  </tbody>\n",
       "</table>\n",
       "</div>"
      ],
      "text/plain": [
       "   Edad  HorasTrabajadasPorSemana CategoriaTrabajo\n",
       "0    58                        33          Oficina\n",
       "1    48                        45           Remoto\n",
       "2    34                        23           Remoto\n",
       "3    62                        44            Campo\n",
       "4    27                        44            Campo\n",
       "5    40                        37            Campo\n",
       "6    58                        59            Campo\n",
       "7    38                        27          Oficina\n",
       "8    42                        58          Oficina\n",
       "9    30                        59            Campo"
      ]
     },
     "execution_count": 52,
     "metadata": {},
     "output_type": "execute_result"
    }
   ],
   "source": [
    "import pandas as pd\n",
    "import numpy as np\n",
    "\n",
    "# Configurar la semilla para reproducibilidad\n",
    "np.random.seed(42)\n",
    "\n",
    "# Generar datos\n",
    "#select a number of samples\n",
    "num_samples = 1000\n",
    "#generate random data for the age, hours worked per week and job category\n",
    "#age is a random number between 20 and 65\n",
    "age = np.random.randint(20, 65, size=num_samples)  # Variable numérica\n",
    "#hours worked per week is a random number between 20 and 60\n",
    "hours_worked_per_week = np.random.randint(20, 60, size=num_samples)  # Variable discreta\n",
    "#job category is a random choice between Oficina, Campo and Remoto\n",
    "job_category = np.random.choice(['Oficina', 'Campo', 'Remoto'], size=num_samples)  # Variable categórica\n",
    "\n",
    "# Crear DataFrame\n",
    "data = {\n",
    "    'Edad': age,\n",
    "    'HorasTrabajadasPorSemana': hours_worked_per_week,\n",
    "    'CategoriaTrabajo': job_category\n",
    "}\n",
    "df = pd.DataFrame(data)\n",
    "\n",
    "df.head(10)"
   ]
  },
  {
   "cell_type": "code",
   "execution_count": 54,
   "id": "034e2435",
   "metadata": {},
   "outputs": [
    {
     "name": "stdout",
     "output_type": "stream",
     "text": [
      "[751 655 199 441 741 984 847 311 913 306 791 417 576 300 696 997 376 993\n",
      " 811 206 888   2 881 407 550 831 352 203 353 322]\n"
     ]
    },
    {
     "data": {
      "text/html": [
       "<div>\n",
       "<style scoped>\n",
       "    .dataframe tbody tr th:only-of-type {\n",
       "        vertical-align: middle;\n",
       "    }\n",
       "\n",
       "    .dataframe tbody tr th {\n",
       "        vertical-align: top;\n",
       "    }\n",
       "\n",
       "    .dataframe thead th {\n",
       "        text-align: right;\n",
       "    }\n",
       "</style>\n",
       "<table border=\"1\" class=\"dataframe\">\n",
       "  <thead>\n",
       "    <tr style=\"text-align: right;\">\n",
       "      <th></th>\n",
       "      <th>Edad</th>\n",
       "      <th>HorasTrabajadasPorSemana</th>\n",
       "      <th>CategoriaTrabajo</th>\n",
       "    </tr>\n",
       "  </thead>\n",
       "  <tbody>\n",
       "    <tr>\n",
       "      <th>0</th>\n",
       "      <td>58.0</td>\n",
       "      <td>33.0</td>\n",
       "      <td>Oficina</td>\n",
       "    </tr>\n",
       "    <tr>\n",
       "      <th>1</th>\n",
       "      <td>48.0</td>\n",
       "      <td>45.0</td>\n",
       "      <td>Remoto</td>\n",
       "    </tr>\n",
       "    <tr>\n",
       "      <th>2</th>\n",
       "      <td>34.0</td>\n",
       "      <td>23.0</td>\n",
       "      <td>Remoto</td>\n",
       "    </tr>\n",
       "    <tr>\n",
       "      <th>3</th>\n",
       "      <td>62.0</td>\n",
       "      <td>44.0</td>\n",
       "      <td>Campo</td>\n",
       "    </tr>\n",
       "    <tr>\n",
       "      <th>4</th>\n",
       "      <td>NaN</td>\n",
       "      <td>44.0</td>\n",
       "      <td>Campo</td>\n",
       "    </tr>\n",
       "    <tr>\n",
       "      <th>5</th>\n",
       "      <td>40.0</td>\n",
       "      <td>37.0</td>\n",
       "      <td>Campo</td>\n",
       "    </tr>\n",
       "    <tr>\n",
       "      <th>6</th>\n",
       "      <td>58.0</td>\n",
       "      <td>59.0</td>\n",
       "      <td>Campo</td>\n",
       "    </tr>\n",
       "    <tr>\n",
       "      <th>7</th>\n",
       "      <td>38.0</td>\n",
       "      <td>27.0</td>\n",
       "      <td>Oficina</td>\n",
       "    </tr>\n",
       "    <tr>\n",
       "      <th>8</th>\n",
       "      <td>42.0</td>\n",
       "      <td>58.0</td>\n",
       "      <td>Oficina</td>\n",
       "    </tr>\n",
       "    <tr>\n",
       "      <th>9</th>\n",
       "      <td>30.0</td>\n",
       "      <td>59.0</td>\n",
       "      <td>Campo</td>\n",
       "    </tr>\n",
       "  </tbody>\n",
       "</table>\n",
       "</div>"
      ],
      "text/plain": [
       "   Edad  HorasTrabajadasPorSemana CategoriaTrabajo\n",
       "0  58.0                      33.0          Oficina\n",
       "1  48.0                      45.0           Remoto\n",
       "2  34.0                      23.0           Remoto\n",
       "3  62.0                      44.0            Campo\n",
       "4   NaN                      44.0            Campo\n",
       "5  40.0                      37.0            Campo\n",
       "6  58.0                      59.0            Campo\n",
       "7  38.0                      27.0          Oficina\n",
       "8  42.0                      58.0          Oficina\n",
       "9  30.0                      59.0            Campo"
      ]
     },
     "execution_count": 54,
     "metadata": {},
     "output_type": "execute_result"
    }
   ],
   "source": [
    "# Introducir valores faltantes al azar en todas las variables\n",
    "missing_percentage = 0.03\n",
    "num_missing = int(num_samples * missing_percentage)\n",
    "\n",
    "# Crear un índice aleatorio para los valores faltantes\n",
    "missing_indices = np.random.choice(df.index, num_missing, replace=False)\n",
    "print(missing_indices)\n",
    "\n",
    "# Aplicar valores faltantes en todas las variables\n",
    "for col in df.columns:\n",
    "    df.loc[missing_indices[:num_missing//3], col] = np.nan\n",
    "\n",
    "# Introducir valores faltantes en una sola variable en 1% de los registros\n",
    "missing_percentage_single_var = 0.01\n",
    "num_missing_single_var = int(num_samples * missing_percentage_single_var)\n",
    "single_var_missing_indices = np.random.choice(df.index, num_missing_single_var, replace=False)\n",
    "df.loc[single_var_missing_indices, 'Edad'] = np.nan\n",
    "\n",
    "# Mostrar los primeros registros del DataFrame\n",
    "df.head(10)"
   ]
  },
  {
   "cell_type": "code",
   "execution_count": 56,
   "id": "bb56ed6e",
   "metadata": {},
   "outputs": [
    {
     "data": {
      "text/html": [
       "<div>\n",
       "<style scoped>\n",
       "    .dataframe tbody tr th:only-of-type {\n",
       "        vertical-align: middle;\n",
       "    }\n",
       "\n",
       "    .dataframe tbody tr th {\n",
       "        vertical-align: top;\n",
       "    }\n",
       "\n",
       "    .dataframe thead th {\n",
       "        text-align: right;\n",
       "    }\n",
       "</style>\n",
       "<table border=\"1\" class=\"dataframe\">\n",
       "  <thead>\n",
       "    <tr style=\"text-align: right;\">\n",
       "      <th></th>\n",
       "      <th>Edad</th>\n",
       "      <th>HorasTrabajadasPorSemana</th>\n",
       "      <th>CategoriaTrabajo</th>\n",
       "    </tr>\n",
       "  </thead>\n",
       "  <tbody>\n",
       "    <tr>\n",
       "      <th>990</th>\n",
       "      <td>30.0</td>\n",
       "      <td>34.0</td>\n",
       "      <td>Campo</td>\n",
       "    </tr>\n",
       "    <tr>\n",
       "      <th>991</th>\n",
       "      <td>NaN</td>\n",
       "      <td>23.0</td>\n",
       "      <td>Campo</td>\n",
       "    </tr>\n",
       "    <tr>\n",
       "      <th>992</th>\n",
       "      <td>56.0</td>\n",
       "      <td>40.0</td>\n",
       "      <td>Remoto</td>\n",
       "    </tr>\n",
       "    <tr>\n",
       "      <th>993</th>\n",
       "      <td>33.0</td>\n",
       "      <td>32.0</td>\n",
       "      <td>Campo</td>\n",
       "    </tr>\n",
       "    <tr>\n",
       "      <th>994</th>\n",
       "      <td>49.0</td>\n",
       "      <td>41.0</td>\n",
       "      <td>Oficina</td>\n",
       "    </tr>\n",
       "    <tr>\n",
       "      <th>995</th>\n",
       "      <td>54.0</td>\n",
       "      <td>38.0</td>\n",
       "      <td>Remoto</td>\n",
       "    </tr>\n",
       "    <tr>\n",
       "      <th>996</th>\n",
       "      <td>40.0</td>\n",
       "      <td>53.0</td>\n",
       "      <td>Campo</td>\n",
       "    </tr>\n",
       "    <tr>\n",
       "      <th>997</th>\n",
       "      <td>56.0</td>\n",
       "      <td>33.0</td>\n",
       "      <td>Remoto</td>\n",
       "    </tr>\n",
       "    <tr>\n",
       "      <th>998</th>\n",
       "      <td>24.0</td>\n",
       "      <td>23.0</td>\n",
       "      <td>Remoto</td>\n",
       "    </tr>\n",
       "    <tr>\n",
       "      <th>999</th>\n",
       "      <td>38.0</td>\n",
       "      <td>46.0</td>\n",
       "      <td>Campo</td>\n",
       "    </tr>\n",
       "  </tbody>\n",
       "</table>\n",
       "</div>"
      ],
      "text/plain": [
       "     Edad  HorasTrabajadasPorSemana CategoriaTrabajo\n",
       "990  30.0                      34.0            Campo\n",
       "991   NaN                      23.0            Campo\n",
       "992  56.0                      40.0           Remoto\n",
       "993  33.0                      32.0            Campo\n",
       "994  49.0                      41.0          Oficina\n",
       "995  54.0                      38.0           Remoto\n",
       "996  40.0                      53.0            Campo\n",
       "997  56.0                      33.0           Remoto\n",
       "998  24.0                      23.0           Remoto\n",
       "999  38.0                      46.0            Campo"
      ]
     },
     "execution_count": 56,
     "metadata": {},
     "output_type": "execute_result"
    }
   ],
   "source": [
    "df.tail(10)"
   ]
  },
  {
   "cell_type": "code",
   "execution_count": 69,
   "id": "cfdaeab4",
   "metadata": {},
   "outputs": [
    {
     "data": {
      "text/html": [
       "<div>\n",
       "<style scoped>\n",
       "    .dataframe tbody tr th:only-of-type {\n",
       "        vertical-align: middle;\n",
       "    }\n",
       "\n",
       "    .dataframe tbody tr th {\n",
       "        vertical-align: top;\n",
       "    }\n",
       "\n",
       "    .dataframe thead th {\n",
       "        text-align: right;\n",
       "    }\n",
       "</style>\n",
       "<table border=\"1\" class=\"dataframe\">\n",
       "  <thead>\n",
       "    <tr style=\"text-align: right;\">\n",
       "      <th></th>\n",
       "      <th>Make</th>\n",
       "      <th>Model</th>\n",
       "      <th>Year</th>\n",
       "      <th>Engine Fuel Type</th>\n",
       "      <th>Engine HP</th>\n",
       "      <th>Engine Cylinders</th>\n",
       "      <th>Transmission Type</th>\n",
       "      <th>Driven_Wheels</th>\n",
       "      <th>Number of Doors</th>\n",
       "      <th>Market Category</th>\n",
       "      <th>Vehicle Size</th>\n",
       "      <th>Vehicle Style</th>\n",
       "      <th>highway MPG</th>\n",
       "      <th>city mpg</th>\n",
       "      <th>Popularity</th>\n",
       "      <th>MSRP</th>\n",
       "    </tr>\n",
       "  </thead>\n",
       "  <tbody>\n",
       "    <tr>\n",
       "      <th>0</th>\n",
       "      <td>BMW</td>\n",
       "      <td>1 Series M</td>\n",
       "      <td>2011</td>\n",
       "      <td>premium unleaded (required)</td>\n",
       "      <td>335.0</td>\n",
       "      <td>6.0</td>\n",
       "      <td>MANUAL</td>\n",
       "      <td>rear wheel drive</td>\n",
       "      <td>2.0</td>\n",
       "      <td>Factory Tuner,Luxury,High-Performance</td>\n",
       "      <td>Compact</td>\n",
       "      <td>Coupe</td>\n",
       "      <td>26</td>\n",
       "      <td>19</td>\n",
       "      <td>3916</td>\n",
       "      <td>46135</td>\n",
       "    </tr>\n",
       "    <tr>\n",
       "      <th>1</th>\n",
       "      <td>BMW</td>\n",
       "      <td>1 Series</td>\n",
       "      <td>2011</td>\n",
       "      <td>premium unleaded (required)</td>\n",
       "      <td>300.0</td>\n",
       "      <td>6.0</td>\n",
       "      <td>MANUAL</td>\n",
       "      <td>rear wheel drive</td>\n",
       "      <td>2.0</td>\n",
       "      <td>Luxury,Performance</td>\n",
       "      <td>Compact</td>\n",
       "      <td>Convertible</td>\n",
       "      <td>28</td>\n",
       "      <td>19</td>\n",
       "      <td>3916</td>\n",
       "      <td>40650</td>\n",
       "    </tr>\n",
       "    <tr>\n",
       "      <th>2</th>\n",
       "      <td>BMW</td>\n",
       "      <td>1 Series</td>\n",
       "      <td>2011</td>\n",
       "      <td>premium unleaded (required)</td>\n",
       "      <td>300.0</td>\n",
       "      <td>6.0</td>\n",
       "      <td>MANUAL</td>\n",
       "      <td>rear wheel drive</td>\n",
       "      <td>2.0</td>\n",
       "      <td>Luxury,High-Performance</td>\n",
       "      <td>Compact</td>\n",
       "      <td>Coupe</td>\n",
       "      <td>28</td>\n",
       "      <td>20</td>\n",
       "      <td>3916</td>\n",
       "      <td>36350</td>\n",
       "    </tr>\n",
       "    <tr>\n",
       "      <th>3</th>\n",
       "      <td>BMW</td>\n",
       "      <td>1 Series</td>\n",
       "      <td>2011</td>\n",
       "      <td>premium unleaded (required)</td>\n",
       "      <td>230.0</td>\n",
       "      <td>6.0</td>\n",
       "      <td>MANUAL</td>\n",
       "      <td>rear wheel drive</td>\n",
       "      <td>2.0</td>\n",
       "      <td>Luxury,Performance</td>\n",
       "      <td>Compact</td>\n",
       "      <td>Coupe</td>\n",
       "      <td>28</td>\n",
       "      <td>18</td>\n",
       "      <td>3916</td>\n",
       "      <td>29450</td>\n",
       "    </tr>\n",
       "    <tr>\n",
       "      <th>4</th>\n",
       "      <td>BMW</td>\n",
       "      <td>1 Series</td>\n",
       "      <td>2011</td>\n",
       "      <td>premium unleaded (required)</td>\n",
       "      <td>230.0</td>\n",
       "      <td>6.0</td>\n",
       "      <td>MANUAL</td>\n",
       "      <td>rear wheel drive</td>\n",
       "      <td>2.0</td>\n",
       "      <td>Luxury</td>\n",
       "      <td>Compact</td>\n",
       "      <td>Convertible</td>\n",
       "      <td>28</td>\n",
       "      <td>18</td>\n",
       "      <td>3916</td>\n",
       "      <td>34500</td>\n",
       "    </tr>\n",
       "    <tr>\n",
       "      <th>5</th>\n",
       "      <td>BMW</td>\n",
       "      <td>1 Series</td>\n",
       "      <td>2012</td>\n",
       "      <td>premium unleaded (required)</td>\n",
       "      <td>230.0</td>\n",
       "      <td>6.0</td>\n",
       "      <td>MANUAL</td>\n",
       "      <td>rear wheel drive</td>\n",
       "      <td>2.0</td>\n",
       "      <td>Luxury,Performance</td>\n",
       "      <td>Compact</td>\n",
       "      <td>Coupe</td>\n",
       "      <td>28</td>\n",
       "      <td>18</td>\n",
       "      <td>3916</td>\n",
       "      <td>31200</td>\n",
       "    </tr>\n",
       "    <tr>\n",
       "      <th>6</th>\n",
       "      <td>BMW</td>\n",
       "      <td>1 Series</td>\n",
       "      <td>2012</td>\n",
       "      <td>premium unleaded (required)</td>\n",
       "      <td>300.0</td>\n",
       "      <td>6.0</td>\n",
       "      <td>MANUAL</td>\n",
       "      <td>rear wheel drive</td>\n",
       "      <td>2.0</td>\n",
       "      <td>Luxury,Performance</td>\n",
       "      <td>Compact</td>\n",
       "      <td>Convertible</td>\n",
       "      <td>26</td>\n",
       "      <td>17</td>\n",
       "      <td>3916</td>\n",
       "      <td>44100</td>\n",
       "    </tr>\n",
       "    <tr>\n",
       "      <th>7</th>\n",
       "      <td>BMW</td>\n",
       "      <td>1 Series</td>\n",
       "      <td>2012</td>\n",
       "      <td>premium unleaded (required)</td>\n",
       "      <td>300.0</td>\n",
       "      <td>6.0</td>\n",
       "      <td>MANUAL</td>\n",
       "      <td>rear wheel drive</td>\n",
       "      <td>2.0</td>\n",
       "      <td>Luxury,High-Performance</td>\n",
       "      <td>Compact</td>\n",
       "      <td>Coupe</td>\n",
       "      <td>28</td>\n",
       "      <td>20</td>\n",
       "      <td>3916</td>\n",
       "      <td>39300</td>\n",
       "    </tr>\n",
       "    <tr>\n",
       "      <th>8</th>\n",
       "      <td>BMW</td>\n",
       "      <td>1 Series</td>\n",
       "      <td>2012</td>\n",
       "      <td>premium unleaded (required)</td>\n",
       "      <td>230.0</td>\n",
       "      <td>6.0</td>\n",
       "      <td>MANUAL</td>\n",
       "      <td>rear wheel drive</td>\n",
       "      <td>2.0</td>\n",
       "      <td>Luxury</td>\n",
       "      <td>Compact</td>\n",
       "      <td>Convertible</td>\n",
       "      <td>28</td>\n",
       "      <td>18</td>\n",
       "      <td>3916</td>\n",
       "      <td>36900</td>\n",
       "    </tr>\n",
       "    <tr>\n",
       "      <th>9</th>\n",
       "      <td>BMW</td>\n",
       "      <td>1 Series</td>\n",
       "      <td>2013</td>\n",
       "      <td>premium unleaded (required)</td>\n",
       "      <td>230.0</td>\n",
       "      <td>6.0</td>\n",
       "      <td>MANUAL</td>\n",
       "      <td>rear wheel drive</td>\n",
       "      <td>2.0</td>\n",
       "      <td>Luxury</td>\n",
       "      <td>Compact</td>\n",
       "      <td>Convertible</td>\n",
       "      <td>27</td>\n",
       "      <td>18</td>\n",
       "      <td>3916</td>\n",
       "      <td>37200</td>\n",
       "    </tr>\n",
       "  </tbody>\n",
       "</table>\n",
       "</div>"
      ],
      "text/plain": [
       "  Make       Model  Year             Engine Fuel Type  Engine HP  \\\n",
       "0  BMW  1 Series M  2011  premium unleaded (required)      335.0   \n",
       "1  BMW    1 Series  2011  premium unleaded (required)      300.0   \n",
       "2  BMW    1 Series  2011  premium unleaded (required)      300.0   \n",
       "3  BMW    1 Series  2011  premium unleaded (required)      230.0   \n",
       "4  BMW    1 Series  2011  premium unleaded (required)      230.0   \n",
       "5  BMW    1 Series  2012  premium unleaded (required)      230.0   \n",
       "6  BMW    1 Series  2012  premium unleaded (required)      300.0   \n",
       "7  BMW    1 Series  2012  premium unleaded (required)      300.0   \n",
       "8  BMW    1 Series  2012  premium unleaded (required)      230.0   \n",
       "9  BMW    1 Series  2013  premium unleaded (required)      230.0   \n",
       "\n",
       "   Engine Cylinders Transmission Type     Driven_Wheels  Number of Doors  \\\n",
       "0               6.0            MANUAL  rear wheel drive              2.0   \n",
       "1               6.0            MANUAL  rear wheel drive              2.0   \n",
       "2               6.0            MANUAL  rear wheel drive              2.0   \n",
       "3               6.0            MANUAL  rear wheel drive              2.0   \n",
       "4               6.0            MANUAL  rear wheel drive              2.0   \n",
       "5               6.0            MANUAL  rear wheel drive              2.0   \n",
       "6               6.0            MANUAL  rear wheel drive              2.0   \n",
       "7               6.0            MANUAL  rear wheel drive              2.0   \n",
       "8               6.0            MANUAL  rear wheel drive              2.0   \n",
       "9               6.0            MANUAL  rear wheel drive              2.0   \n",
       "\n",
       "                         Market Category Vehicle Size Vehicle Style  \\\n",
       "0  Factory Tuner,Luxury,High-Performance      Compact         Coupe   \n",
       "1                     Luxury,Performance      Compact   Convertible   \n",
       "2                Luxury,High-Performance      Compact         Coupe   \n",
       "3                     Luxury,Performance      Compact         Coupe   \n",
       "4                                 Luxury      Compact   Convertible   \n",
       "5                     Luxury,Performance      Compact         Coupe   \n",
       "6                     Luxury,Performance      Compact   Convertible   \n",
       "7                Luxury,High-Performance      Compact         Coupe   \n",
       "8                                 Luxury      Compact   Convertible   \n",
       "9                                 Luxury      Compact   Convertible   \n",
       "\n",
       "   highway MPG  city mpg  Popularity   MSRP  \n",
       "0           26        19        3916  46135  \n",
       "1           28        19        3916  40650  \n",
       "2           28        20        3916  36350  \n",
       "3           28        18        3916  29450  \n",
       "4           28        18        3916  34500  \n",
       "5           28        18        3916  31200  \n",
       "6           26        17        3916  44100  \n",
       "7           28        20        3916  39300  \n",
       "8           28        18        3916  36900  \n",
       "9           27        18        3916  37200  "
      ]
     },
     "execution_count": 69,
     "metadata": {},
     "output_type": "execute_result"
    }
   ],
   "source": [
    "dfex = pd.read_csv('data.csv')\n",
    "dfex.head(10)"
   ]
  },
  {
   "cell_type": "code",
   "execution_count": 70,
   "id": "9f8431d0",
   "metadata": {},
   "outputs": [
    {
     "data": {
      "text/plain": [
       "Make                    0\n",
       "Model                   0\n",
       "Year                    0\n",
       "Engine Fuel Type        3\n",
       "Engine HP              69\n",
       "Engine Cylinders       30\n",
       "Transmission Type       0\n",
       "Driven_Wheels           0\n",
       "Number of Doors         6\n",
       "Market Category      3742\n",
       "Vehicle Size            0\n",
       "Vehicle Style           0\n",
       "highway MPG             0\n",
       "city mpg                0\n",
       "Popularity              0\n",
       "MSRP                    0\n",
       "dtype: int64"
      ]
     },
     "execution_count": 70,
     "metadata": {},
     "output_type": "execute_result"
    }
   ],
   "source": [
    "#To check if there are any missing values in the dataframe, we can use the isnull method\n",
    "#The isnull method will return a boolean dataframe with the same shape as the original dataframe\n",
    "#The value True indicates that the value is missing\n",
    "#sum method can be used to count the number of missing values in each column\n",
    "dfex.isnull().sum()"
   ]
  },
  {
   "cell_type": "code",
   "execution_count": 72,
   "id": "0a680123",
   "metadata": {},
   "outputs": [
    {
     "name": "stdout",
     "output_type": "stream",
     "text": [
      "          Make       Model  Year                Engine Fuel Type  Engine HP  \\\n",
      "0          BMW  1 Series M  2011     premium unleaded (required)      335.0   \n",
      "1          BMW    1 Series  2011     premium unleaded (required)      300.0   \n",
      "2          BMW    1 Series  2011     premium unleaded (required)      300.0   \n",
      "3          BMW    1 Series  2011     premium unleaded (required)      230.0   \n",
      "4          BMW    1 Series  2011     premium unleaded (required)      230.0   \n",
      "...        ...         ...   ...                             ...        ...   \n",
      "11909    Acura         ZDX  2012     premium unleaded (required)      300.0   \n",
      "11910    Acura         ZDX  2012     premium unleaded (required)      300.0   \n",
      "11911    Acura         ZDX  2012     premium unleaded (required)      300.0   \n",
      "11912    Acura         ZDX  2013  premium unleaded (recommended)      300.0   \n",
      "11913  Lincoln      Zephyr  2006                regular unleaded      221.0   \n",
      "\n",
      "       Engine Cylinders Transmission Type      Driven_Wheels  Number of Doors  \\\n",
      "0                   6.0            MANUAL   rear wheel drive              2.0   \n",
      "1                   6.0            MANUAL   rear wheel drive              2.0   \n",
      "2                   6.0            MANUAL   rear wheel drive              2.0   \n",
      "3                   6.0            MANUAL   rear wheel drive              2.0   \n",
      "4                   6.0            MANUAL   rear wheel drive              2.0   \n",
      "...                 ...               ...                ...              ...   \n",
      "11909               6.0         AUTOMATIC    all wheel drive              4.0   \n",
      "11910               6.0         AUTOMATIC    all wheel drive              4.0   \n",
      "11911               6.0         AUTOMATIC    all wheel drive              4.0   \n",
      "11912               6.0         AUTOMATIC    all wheel drive              4.0   \n",
      "11913               6.0         AUTOMATIC  front wheel drive              4.0   \n",
      "\n",
      "                             Market Category Vehicle Size  Vehicle Style  \\\n",
      "0      Factory Tuner,Luxury,High-Performance      Compact          Coupe   \n",
      "1                         Luxury,Performance      Compact    Convertible   \n",
      "2                    Luxury,High-Performance      Compact          Coupe   \n",
      "3                         Luxury,Performance      Compact          Coupe   \n",
      "4                                     Luxury      Compact    Convertible   \n",
      "...                                      ...          ...            ...   \n",
      "11909             Crossover,Hatchback,Luxury      Midsize  4dr Hatchback   \n",
      "11910             Crossover,Hatchback,Luxury      Midsize  4dr Hatchback   \n",
      "11911             Crossover,Hatchback,Luxury      Midsize  4dr Hatchback   \n",
      "11912             Crossover,Hatchback,Luxury      Midsize  4dr Hatchback   \n",
      "11913                                 Luxury      Midsize          Sedan   \n",
      "\n",
      "       highway MPG  city mpg  Popularity   MSRP  \n",
      "0               26        19        3916  46135  \n",
      "1               28        19        3916  40650  \n",
      "2               28        20        3916  36350  \n",
      "3               28        18        3916  29450  \n",
      "4               28        18        3916  34500  \n",
      "...            ...       ...         ...    ...  \n",
      "11909           23        16         204  46120  \n",
      "11910           23        16         204  56670  \n",
      "11911           23        16         204  50620  \n",
      "11912           23        16         204  50920  \n",
      "11913           26        17          61  28995  \n",
      "\n",
      "[8084 rows x 16 columns]\n"
     ]
    }
   ],
   "source": [
    "#dfex.dropna(inplace=True) will remove all rows with missing values\n",
    "dfex.dropna(inplace=True)\n",
    "print(dfex)"
   ]
  },
  {
   "cell_type": "markdown",
   "id": "0563548d",
   "metadata": {},
   "source": [
    "### Ejercicio 4: Limpieza de Datos\n",
    "\n",
    "**Objetivo:** Aprender a manejar datos faltantes y realizar limpieza básica de datos.\n",
    "\n",
    "1. **Identificar datos faltantes:**\n",
    "    ```python\n",
    "    print(df.isnull().sum())\n",
    "    ```\n",
    "\n",
    "2. **Rellenar datos faltantes:**\n",
    "    ```python\n",
    "    df.fillna(0, inplace=True)\n",
    "    print(df)\n",
    "    ```\n",
    "\n",
    "3. **Eliminar filas/columnas con datos faltantes:**\n",
    "    ```python\n",
    "    df.dropna(inplace=True)\n",
    "    print(df)\n",
    "    ```\n",
    "\n"
   ]
  },
  {
   "cell_type": "code",
   "execution_count": null,
   "id": "741ec1aa",
   "metadata": {},
   "outputs": [
    {
     "name": "stdout",
     "output_type": "stream",
     "text": [
      "Edad                        40\n",
      "HorasTrabajadasPorSemana    20\n",
      "CategoriaTrabajo            20\n",
      "dtype: int64\n"
     ]
    }
   ],
   "source": [
    "#To find the missing values in a df, we can use the isnull method\n",
    "print(df.isnull().sum())"
   ]
  },
  {
   "cell_type": "code",
   "execution_count": 75,
   "id": "7a18117a",
   "metadata": {},
   "outputs": [
    {
     "data": {
      "text/html": [
       "<div>\n",
       "<style scoped>\n",
       "    .dataframe tbody tr th:only-of-type {\n",
       "        vertical-align: middle;\n",
       "    }\n",
       "\n",
       "    .dataframe tbody tr th {\n",
       "        vertical-align: top;\n",
       "    }\n",
       "\n",
       "    .dataframe thead th {\n",
       "        text-align: right;\n",
       "    }\n",
       "</style>\n",
       "<table border=\"1\" class=\"dataframe\">\n",
       "  <thead>\n",
       "    <tr style=\"text-align: right;\">\n",
       "      <th></th>\n",
       "      <th>Edad</th>\n",
       "      <th>HorasTrabajadasPorSemana</th>\n",
       "      <th>CategoriaTrabajo</th>\n",
       "    </tr>\n",
       "  </thead>\n",
       "  <tbody>\n",
       "    <tr>\n",
       "      <th>990</th>\n",
       "      <td>30.0</td>\n",
       "      <td>34.0</td>\n",
       "      <td>Campo</td>\n",
       "    </tr>\n",
       "    <tr>\n",
       "      <th>991</th>\n",
       "      <td>0.0</td>\n",
       "      <td>23.0</td>\n",
       "      <td>Campo</td>\n",
       "    </tr>\n",
       "    <tr>\n",
       "      <th>992</th>\n",
       "      <td>56.0</td>\n",
       "      <td>40.0</td>\n",
       "      <td>Remoto</td>\n",
       "    </tr>\n",
       "    <tr>\n",
       "      <th>993</th>\n",
       "      <td>33.0</td>\n",
       "      <td>32.0</td>\n",
       "      <td>Campo</td>\n",
       "    </tr>\n",
       "    <tr>\n",
       "      <th>994</th>\n",
       "      <td>49.0</td>\n",
       "      <td>41.0</td>\n",
       "      <td>Oficina</td>\n",
       "    </tr>\n",
       "    <tr>\n",
       "      <th>995</th>\n",
       "      <td>54.0</td>\n",
       "      <td>38.0</td>\n",
       "      <td>Remoto</td>\n",
       "    </tr>\n",
       "    <tr>\n",
       "      <th>996</th>\n",
       "      <td>40.0</td>\n",
       "      <td>53.0</td>\n",
       "      <td>Campo</td>\n",
       "    </tr>\n",
       "    <tr>\n",
       "      <th>997</th>\n",
       "      <td>56.0</td>\n",
       "      <td>33.0</td>\n",
       "      <td>Remoto</td>\n",
       "    </tr>\n",
       "    <tr>\n",
       "      <th>998</th>\n",
       "      <td>24.0</td>\n",
       "      <td>23.0</td>\n",
       "      <td>Remoto</td>\n",
       "    </tr>\n",
       "    <tr>\n",
       "      <th>999</th>\n",
       "      <td>38.0</td>\n",
       "      <td>46.0</td>\n",
       "      <td>Campo</td>\n",
       "    </tr>\n",
       "  </tbody>\n",
       "</table>\n",
       "</div>"
      ],
      "text/plain": [
       "     Edad  HorasTrabajadasPorSemana CategoriaTrabajo\n",
       "990  30.0                      34.0            Campo\n",
       "991   0.0                      23.0            Campo\n",
       "992  56.0                      40.0           Remoto\n",
       "993  33.0                      32.0            Campo\n",
       "994  49.0                      41.0          Oficina\n",
       "995  54.0                      38.0           Remoto\n",
       "996  40.0                      53.0            Campo\n",
       "997  56.0                      33.0           Remoto\n",
       "998  24.0                      23.0           Remoto\n",
       "999  38.0                      46.0            Campo"
      ]
     },
     "execution_count": 75,
     "metadata": {},
     "output_type": "execute_result"
    }
   ],
   "source": [
    "#to fill the missing values in a df, we can use the fillna method\n",
    "#The fillna method can be used to fill the missing values with a specific value\n",
    "#fillna(value, inplace=True) will fill the missing values with the specified value\n",
    "#inplace=True will modify the original dataframe\n",
    "#inplace=False will return a new dataframe with the missing values filled\n",
    "df.fillna(0, inplace=True)\n",
    "df.tail(10)"
   ]
  },
  {
   "cell_type": "markdown",
   "id": "40147efd",
   "metadata": {},
   "source": [
    "### Ejercicio 5: Agrupamiento y Resumen de Datos\n",
    "\n",
    "**Objetivo:** Aprender a agrupar datos y obtener resúmenes estadísticos.\n",
    "\n",
    "1. **Agrupar datos por una columna:**\n",
    "    ```python\n",
    "    grouped = df.groupby('CategoriaTrabajo')\n",
    "    print(grouped.mean())\n",
    "    ```\n",
    "\n",
    "2. **Obtener estadísticas descriptivas por grupo:**\n",
    "    ```python\n",
    "    print(grouped.describe())\n",
    "    ```\n",
    "\n"
   ]
  },
  {
   "cell_type": "code",
   "execution_count": 77,
   "id": "0b54bdb9",
   "metadata": {},
   "outputs": [
    {
     "name": "stdout",
     "output_type": "stream",
     "text": [
      "                       Edad  HorasTrabajadasPorSemana\n",
      "CategoriaTrabajo                                     \n",
      "0                  0.000000                  0.000000\n",
      "Campo             40.420000                 40.457143\n",
      "Oficina           41.220497                 39.251553\n",
      "Remoto            41.762987                 39.961039\n"
     ]
    }
   ],
   "source": [
    "#The grouby method can be used to group the data in a dataframe\n",
    "#The groupby method will return a groupby object\n",
    "#The groupby object can be used to apply aggregate functions to the groups\n",
    "#The aggregate functions can be applied to the groups using the mean, sum, count, etc. methods\n",
    "#The aggregate functions will return a new dataframe with the aggregated data\n",
    "\n",
    "grouped = df.groupby('CategoriaTrabajo')\n",
    "print(grouped.mean())"
   ]
  },
  {
   "cell_type": "code",
   "execution_count": null,
   "id": "8efc3948",
   "metadata": {
    "scrolled": true
   },
   "outputs": [
    {
     "data": {
      "text/html": [
       "<div>\n",
       "<style scoped>\n",
       "    .dataframe tbody tr th:only-of-type {\n",
       "        vertical-align: middle;\n",
       "    }\n",
       "\n",
       "    .dataframe tbody tr th {\n",
       "        vertical-align: top;\n",
       "    }\n",
       "\n",
       "    .dataframe thead tr th {\n",
       "        text-align: left;\n",
       "    }\n",
       "\n",
       "    .dataframe thead tr:last-of-type th {\n",
       "        text-align: right;\n",
       "    }\n",
       "</style>\n",
       "<table border=\"1\" class=\"dataframe\">\n",
       "  <thead>\n",
       "    <tr>\n",
       "      <th></th>\n",
       "      <th colspan=\"8\" halign=\"left\">Edad</th>\n",
       "      <th colspan=\"8\" halign=\"left\">HorasTrabajadasPorSemana</th>\n",
       "    </tr>\n",
       "    <tr>\n",
       "      <th></th>\n",
       "      <th>count</th>\n",
       "      <th>mean</th>\n",
       "      <th>std</th>\n",
       "      <th>min</th>\n",
       "      <th>25%</th>\n",
       "      <th>50%</th>\n",
       "      <th>75%</th>\n",
       "      <th>max</th>\n",
       "      <th>count</th>\n",
       "      <th>mean</th>\n",
       "      <th>std</th>\n",
       "      <th>min</th>\n",
       "      <th>25%</th>\n",
       "      <th>50%</th>\n",
       "      <th>75%</th>\n",
       "      <th>max</th>\n",
       "    </tr>\n",
       "    <tr>\n",
       "      <th>CategoriaTrabajo</th>\n",
       "      <th></th>\n",
       "      <th></th>\n",
       "      <th></th>\n",
       "      <th></th>\n",
       "      <th></th>\n",
       "      <th></th>\n",
       "      <th></th>\n",
       "      <th></th>\n",
       "      <th></th>\n",
       "      <th></th>\n",
       "      <th></th>\n",
       "      <th></th>\n",
       "      <th></th>\n",
       "      <th></th>\n",
       "      <th></th>\n",
       "      <th></th>\n",
       "    </tr>\n",
       "  </thead>\n",
       "  <tbody>\n",
       "    <tr>\n",
       "      <th>0</th>\n",
       "      <td>20.0</td>\n",
       "      <td>0.000000</td>\n",
       "      <td>0.000000</td>\n",
       "      <td>0.0</td>\n",
       "      <td>0.0</td>\n",
       "      <td>0.0</td>\n",
       "      <td>0.00</td>\n",
       "      <td>0.0</td>\n",
       "      <td>20.0</td>\n",
       "      <td>0.000000</td>\n",
       "      <td>0.000000</td>\n",
       "      <td>0.0</td>\n",
       "      <td>0.0</td>\n",
       "      <td>0.0</td>\n",
       "      <td>0.00</td>\n",
       "      <td>0.0</td>\n",
       "    </tr>\n",
       "    <tr>\n",
       "      <th>Campo</th>\n",
       "      <td>350.0</td>\n",
       "      <td>40.420000</td>\n",
       "      <td>14.950660</td>\n",
       "      <td>0.0</td>\n",
       "      <td>29.0</td>\n",
       "      <td>41.0</td>\n",
       "      <td>53.75</td>\n",
       "      <td>64.0</td>\n",
       "      <td>350.0</td>\n",
       "      <td>40.457143</td>\n",
       "      <td>11.489731</td>\n",
       "      <td>20.0</td>\n",
       "      <td>31.0</td>\n",
       "      <td>41.0</td>\n",
       "      <td>50.75</td>\n",
       "      <td>59.0</td>\n",
       "    </tr>\n",
       "    <tr>\n",
       "      <th>Oficina</th>\n",
       "      <td>322.0</td>\n",
       "      <td>41.220497</td>\n",
       "      <td>13.129756</td>\n",
       "      <td>0.0</td>\n",
       "      <td>31.0</td>\n",
       "      <td>43.0</td>\n",
       "      <td>51.00</td>\n",
       "      <td>64.0</td>\n",
       "      <td>322.0</td>\n",
       "      <td>39.251553</td>\n",
       "      <td>11.559493</td>\n",
       "      <td>20.0</td>\n",
       "      <td>29.0</td>\n",
       "      <td>39.0</td>\n",
       "      <td>49.00</td>\n",
       "      <td>59.0</td>\n",
       "    </tr>\n",
       "    <tr>\n",
       "      <th>Remoto</th>\n",
       "      <td>308.0</td>\n",
       "      <td>41.762987</td>\n",
       "      <td>14.175689</td>\n",
       "      <td>0.0</td>\n",
       "      <td>31.0</td>\n",
       "      <td>43.0</td>\n",
       "      <td>54.00</td>\n",
       "      <td>64.0</td>\n",
       "      <td>308.0</td>\n",
       "      <td>39.961039</td>\n",
       "      <td>11.613977</td>\n",
       "      <td>20.0</td>\n",
       "      <td>30.0</td>\n",
       "      <td>40.0</td>\n",
       "      <td>51.00</td>\n",
       "      <td>59.0</td>\n",
       "    </tr>\n",
       "  </tbody>\n",
       "</table>\n",
       "</div>"
      ],
      "text/plain": [
       "                   Edad                                                      \\\n",
       "                  count       mean        std  min   25%   50%    75%   max   \n",
       "CategoriaTrabajo                                                              \n",
       "0                  20.0   0.000000   0.000000  0.0   0.0   0.0   0.00   0.0   \n",
       "Campo             350.0  40.420000  14.950660  0.0  29.0  41.0  53.75  64.0   \n",
       "Oficina           322.0  41.220497  13.129756  0.0  31.0  43.0  51.00  64.0   \n",
       "Remoto            308.0  41.762987  14.175689  0.0  31.0  43.0  54.00  64.0   \n",
       "\n",
       "                 HorasTrabajadasPorSemana                                    \\\n",
       "                                    count       mean        std   min   25%   \n",
       "CategoriaTrabajo                                                              \n",
       "0                                    20.0   0.000000   0.000000   0.0   0.0   \n",
       "Campo                               350.0  40.457143  11.489731  20.0  31.0   \n",
       "Oficina                             322.0  39.251553  11.559493  20.0  29.0   \n",
       "Remoto                              308.0  39.961039  11.613977  20.0  30.0   \n",
       "\n",
       "                                     \n",
       "                   50%    75%   max  \n",
       "CategoriaTrabajo                     \n",
       "0                  0.0   0.00   0.0  \n",
       "Campo             41.0  50.75  59.0  \n",
       "Oficina           39.0  49.00  59.0  \n",
       "Remoto            40.0  51.00  59.0  "
      ]
     },
     "execution_count": 82,
     "metadata": {},
     "output_type": "execute_result"
    }
   ],
   "source": [
    "#To get described statistics for each group, we can use the describe method\n",
    "grouped.describe()"
   ]
  },
  {
   "cell_type": "markdown",
   "id": "0afb124e",
   "metadata": {},
   "source": [
    "\n",
    "### Ejercicio 6: Visualización de Datos\n",
    "\n",
    "**Objetivo:** Aprender a visualizar datos usando pandas y matplotlib.\n",
    "\n",
    "1. **Visualización básica de un DataFrame:**\n",
    "    ```python\n",
    "    import matplotlib.pyplot as plt\n",
    "\n",
    "    df['Edad'].plot(kind='hist', title='Distribución de Edades')\n",
    "    plt.show()\n",
    "    ```\n",
    "\n",
    "2. **Gráficos de barras y de líneas:**\n",
    "    ```python\n",
    "    df.plot(kind='bar', x='CategoriaTrabajo', y='HorasTrabajadasPorSemana', title='Horas Trabajadas por Categoría de Trabajo')\n",
    "    plt.show()\n",
    "\n",
    "    df['HorasTrabajadasPorSemana'].plot(kind='line', title='Horas Trabajadas por Semana')\n",
    "    plt.show()\n",
    "    ```"
   ]
  },
  {
   "cell_type": "code",
   "execution_count": 64,
   "id": "45155c6b",
   "metadata": {},
   "outputs": [
    {
     "data": {
      "image/png": "[encoded data removed]",
      "text/plain": [
       "<Figure size 640x480 with 1 Axes>"
      ]
     },
     "metadata": {},
     "output_type": "display_data"
    }
   ],
   "source": [
    "import matplotlib.pyplot as plt\n",
    "\n",
    "#matplotlib is a plotting library for the Python programming language and its numerical mathematics extension NumPy\n",
    "#pyplot is a collection of command style functions that make matplotlib work like MATLAB\n",
    "#The plot method can be used to plot the data in a dataframe\n",
    "#The plot method will return a matplotlib axes object\n",
    "#The axes object can be used to customize the plot\n",
    "#The show method can be used to display the plot\n",
    "df['Edad'].plot(kind='hist', title='Distribución de Edades')\n",
    "plt.show()"
   ]
  },
  {
   "cell_type": "code",
   "execution_count": 86,
   "id": "9378112a",
   "metadata": {
    "scrolled": false
   },
   "outputs": [
    {
     "data": {
      "image/png": "[encoded data removed]",
      "text/plain": [
       "<Figure size 640x480 with 1 Axes>"
      ]
     },
     "metadata": {},
     "output_type": "display_data"
    }
   ],
   "source": [
    "#The plot method can be used to plot the data in a dataframe\n",
    "#kind can be used to specify the type of plot\n",
    "#x can be used to specify the x-axis\n",
    "#y can be used to specify the y-axis\n",
    "#title can be used to specify the title of the plot\n",
    "df.plot(kind='bar', x='CategoriaTrabajo', y='HorasTrabajadasPorSemana', title='Horas Trabajadas por Categoría de Trabajo')\n",
    "plt.show()"
   ]
  },
  {
   "cell_type": "code",
   "execution_count": null,
   "id": "45162510",
   "metadata": {},
   "outputs": [],
   "source": []
  },
  {
   "cell_type": "markdown",
   "id": "08ccfdeb-7c22-4809-a591-4364ac249514",
   "metadata": {
    "id": "08ccfdeb-7c22-4809-a591-4364ac249514"
   },
   "source": [
    "###3. Cargar datos: Si trabajamos en colab, también será necesario dar permisos para acceder al google drive\n",
    "\n",
    "#### paso 1: dar permisos a colab para acceder a nuestro Drive\n",
    "#### definimos la ruta hasta nuestro drive en la variable `root` para indicar donde se encuentran nuestros archivos\n",
    "```python\n",
    "from google.colab import drive\n",
    "drive.mount('/content/drive')\n",
    "\n",
    "\n",
    "root = \"/content/drive/My Drive/\"\n",
    "\n",
    "```\n"
   ]
  },
  {
   "cell_type": "code",
   "execution_count": 3,
   "id": "f354385d-b341-472d-86c4-88980bdd052f",
   "metadata": {
    "colab": {
     "base_uri": "https://localhost:8080/"
    },
    "id": "f354385d-b341-472d-86c4-88980bdd052f",
    "outputId": "a786094d-3a04-4331-ebba-bcf2c9eec8b0"
   },
   "outputs": [
    {
     "name": "stdout",
     "output_type": "stream",
     "text": [
      "Mounted at /content/drive\n"
     ]
    }
   ],
   "source": [
    "from google.colab import drive\n",
    "drive.mount('/content/drive')\n",
    "\n",
    "root = \"/content/drive/My Drive/\""
   ]
  },
  {
   "cell_type": "markdown",
   "id": "ChmCwB-eFAJk",
   "metadata": {
    "id": "ChmCwB-eFAJk"
   },
   "source": [
    "### Paso 2: complementar la ruta de nuestro archivo y leerlo usando pandas\n",
    "\n",
    "primero definimos la ruta a nuestro archivo, debe ser una carpeta en nuestro Drive\n",
    "```python\n",
    "archivo = root + \"cursopython/artificial.csv\"\n",
    "```\n",
    "Luego usamos pandas para leer el archivo con los datos\n",
    "```python\n",
    "datos= pd.read_csv(archivo)\n",
    "\n",
    "```\n",
    "Finalmente mostramos la cabecera de los datos para confirmar que los datos si corresponden.\n",
    "```python\n",
    "datos.head()\n",
    "```\n",
    "\n",
    "### **Ejercicio** : crear la carpeta `data` en google drive, cargar los datos compartidos en la clase anterior y hacer el proceso para cada uno de ellos mostrando la cabecera de los datos\n",
    "**nota** : hacer el proceso (ejercicio) en un colab diferente a este"
   ]
  },
  {
   "cell_type": "code",
   "execution_count": 90,
   "id": "OTgKg4dNE7iE",
   "metadata": {
    "colab": {
     "base_uri": "https://localhost:8080/",
     "height": 206
    },
    "id": "OTgKg4dNE7iE",
    "outputId": "81016148-3d8b-4420-b889-06e4bc0dc971"
   },
   "outputs": [
    {
     "data": {
      "text/html": [
       "<div>\n",
       "<style scoped>\n",
       "    .dataframe tbody tr th:only-of-type {\n",
       "        vertical-align: middle;\n",
       "    }\n",
       "\n",
       "    .dataframe tbody tr th {\n",
       "        vertical-align: top;\n",
       "    }\n",
       "\n",
       "    .dataframe thead th {\n",
       "        text-align: right;\n",
       "    }\n",
       "</style>\n",
       "<table border=\"1\" class=\"dataframe\">\n",
       "  <thead>\n",
       "    <tr style=\"text-align: right;\">\n",
       "      <th></th>\n",
       "      <th>ID</th>\n",
       "      <th>Age</th>\n",
       "      <th>Income</th>\n",
       "      <th>Children</th>\n",
       "      <th>Education</th>\n",
       "      <th>Marital_Status</th>\n",
       "      <th>Purchase_Amount</th>\n",
       "    </tr>\n",
       "  </thead>\n",
       "  <tbody>\n",
       "    <tr>\n",
       "      <th>0</th>\n",
       "      <td>1</td>\n",
       "      <td>34</td>\n",
       "      <td>56.8</td>\n",
       "      <td>1</td>\n",
       "      <td>Master's</td>\n",
       "      <td>Married</td>\n",
       "      <td>150.23</td>\n",
       "    </tr>\n",
       "    <tr>\n",
       "      <th>1</th>\n",
       "      <td>2</td>\n",
       "      <td>23</td>\n",
       "      <td>45.2</td>\n",
       "      <td>0</td>\n",
       "      <td>Bachelor's</td>\n",
       "      <td>Single</td>\n",
       "      <td>78.45</td>\n",
       "    </tr>\n",
       "    <tr>\n",
       "      <th>2</th>\n",
       "      <td>3</td>\n",
       "      <td>45</td>\n",
       "      <td>123.6</td>\n",
       "      <td>3</td>\n",
       "      <td>PhD</td>\n",
       "      <td>Married</td>\n",
       "      <td>320.87</td>\n",
       "    </tr>\n",
       "    <tr>\n",
       "      <th>3</th>\n",
       "      <td>4</td>\n",
       "      <td>36</td>\n",
       "      <td>76.9</td>\n",
       "      <td>2</td>\n",
       "      <td>Master's</td>\n",
       "      <td>Divorced</td>\n",
       "      <td>189.34</td>\n",
       "    </tr>\n",
       "    <tr>\n",
       "      <th>4</th>\n",
       "      <td>5</td>\n",
       "      <td>29</td>\n",
       "      <td>60.0</td>\n",
       "      <td>0</td>\n",
       "      <td>Bachelor's</td>\n",
       "      <td>Single</td>\n",
       "      <td>54.78</td>\n",
       "    </tr>\n",
       "  </tbody>\n",
       "</table>\n",
       "</div>"
      ],
      "text/plain": [
       "   ID  Age  Income  Children   Education Marital_Status  Purchase_Amount\n",
       "0   1   34    56.8         1    Master's        Married           150.23\n",
       "1   2   23    45.2         0  Bachelor's         Single            78.45\n",
       "2   3   45   123.6         3         PhD        Married           320.87\n",
       "3   4   36    76.9         2    Master's       Divorced           189.34\n",
       "4   5   29    60.0         0  Bachelor's         Single            54.78"
      ]
     },
     "execution_count": 90,
     "metadata": {},
     "output_type": "execute_result"
    }
   ],
   "source": [
    "# archivo = root + \"cursopython/artificial.csv\"\n",
    "datos= pd.read_csv(\"artificial.csv\")\n",
    "datos.head()"
   ]
  },
  {
   "cell_type": "code",
   "execution_count": null,
   "id": "cd6d4353-3583-4ab5-a25e-187f6175c186",
   "metadata": {
    "id": "cd6d4353-3583-4ab5-a25e-187f6175c186"
   },
   "outputs": [],
   "source": []
  },
  {
   "cell_type": "markdown",
   "id": "2fc428bf-9818-403e-b697-f0b0cf0a3165",
   "metadata": {
    "id": "2fc428bf-9818-403e-b697-f0b0cf0a3165"
   },
   "source": [
    "### 4. Exploración de Datos:\n",
    "```python\n",
    "# Ver las primeras filas del DataFrame\n",
    "print(datos.head())\n",
    "\n",
    "# Obtener información sobre el DataFrame\n",
    "print(datos.info())\n",
    "\n",
    "# Resumen estadístico de los datos numéricos\n",
    "print(datos.describe())\n",
    "\n",
    "# Conteo de valores únicos en una columna\n",
    "print(datos['Nombre columna'].value_counts())\n",
    "```\n"
   ]
  },
  {
   "cell_type": "code",
   "execution_count": 91,
   "id": "U8VWsVdwGaY9",
   "metadata": {
    "colab": {
     "base_uri": "https://localhost:8080/"
    },
    "id": "U8VWsVdwGaY9",
    "outputId": "ff2858c2-ec7f-4c70-96ee-2c2ce5e68937"
   },
   "outputs": [
    {
     "name": "stdout",
     "output_type": "stream",
     "text": [
      "<class 'pandas.core.frame.DataFrame'>\n",
      "RangeIndex: 100 entries, 0 to 99\n",
      "Data columns (total 7 columns):\n",
      " #   Column           Non-Null Count  Dtype  \n",
      "---  ------           --------------  -----  \n",
      " 0   ID               100 non-null    int64  \n",
      " 1   Age              100 non-null    int64  \n",
      " 2   Income           100 non-null    float64\n",
      " 3   Children         100 non-null    int64  \n",
      " 4   Education        100 non-null    object \n",
      " 5   Marital_Status   100 non-null    object \n",
      " 6   Purchase_Amount  100 non-null    float64\n",
      "dtypes: float64(2), int64(3), object(2)\n",
      "memory usage: 5.6+ KB\n",
      "None\n"
     ]
    }
   ],
   "source": [
    "#df.info() will return a summary of the dataframe\n",
    "#The summary will include the number of non-null values, the data type of each column, and the memory usage\n",
    "print(datos.info())"
   ]
  },
  {
   "cell_type": "code",
   "execution_count": 92,
   "id": "b2d6f984-f4e9-4e58-a1d5-2b975ae849ff",
   "metadata": {
    "colab": {
     "base_uri": "https://localhost:8080/"
    },
    "id": "b2d6f984-f4e9-4e58-a1d5-2b975ae849ff",
    "outputId": "e2534709-7fe2-4cdc-8d8c-107b7e2b2d2f"
   },
   "outputs": [
    {
     "name": "stdout",
     "output_type": "stream",
     "text": [
      "   ID  Age  Income  Children   Education Marital_Status  Purchase_Amount\n",
      "0   1   34    56.8         1    Master's        Married           150.23\n",
      "1   2   23    45.2         0  Bachelor's         Single            78.45\n",
      "2   3   45   123.6         3         PhD        Married           320.87\n",
      "3   4   36    76.9         2    Master's       Divorced           189.34\n",
      "4   5   29    60.0         0  Bachelor's         Single            54.78\n"
     ]
    }
   ],
   "source": [
    "#df.head() will return the first 5 rows of the dataframe by default\n",
    "print(datos.head())"
   ]
  },
  {
   "cell_type": "code",
   "execution_count": null,
   "id": "Ehi7rOiXGS94",
   "metadata": {
    "colab": {
     "base_uri": "https://localhost:8080/"
    },
    "id": "Ehi7rOiXGS94",
    "outputId": "de37afba-a9d3-46da-a32a-2ec9d44ed64a"
   },
   "outputs": [
    {
     "name": "stdout",
     "output_type": "stream",
     "text": [
      "Marital_Status\n",
      "Married     62\n",
      "Single      29\n",
      "Divorced     9\n",
      "Name: count, dtype: int64\n"
     ]
    }
   ],
   "source": [
    "#column.value_counts() will return the count of unique values in a column\n",
    "print(datos['Marital_Status'].value_counts())"
   ]
  },
  {
   "cell_type": "markdown",
   "id": "98f11002-b9f7-4487-9992-c1cc6d6f7460",
   "metadata": {
    "id": "98f11002-b9f7-4487-9992-c1cc6d6f7460"
   },
   "source": [
    "\n",
    "### 5. Visualización de Datos con Matplotlib:\n",
    "```python\n",
    "# Histograma de la columna 'A'\n",
    "plt.hist(datos['A'], bins=20)\n",
    "plt.title('Histograma de A')\n",
    "plt.xlabel('Valor')\n",
    "plt.ylabel('Frecuencia')\n",
    "plt.show()\n",
    "```\n"
   ]
  },
  {
   "cell_type": "code",
   "execution_count": 96,
   "id": "de71fe71-35d4-4517-9994-34c78a1aa269",
   "metadata": {
    "colab": {
     "base_uri": "https://localhost:8080/",
     "height": 472
    },
    "id": "de71fe71-35d4-4517-9994-34c78a1aa269",
    "outputId": "e6bb04a2-df4c-4ccc-e0cb-669550eb5b57"
   },
   "outputs": [
    {
     "data": {
      "image/png": "[encoded data removed]",
      "text/plain": [
       "<Figure size 640x480 with 1 Axes>"
      ]
     },
     "metadata": {},
     "output_type": "display_data"
    }
   ],
   "source": [
    "#Other way to plot inside of using df.plot(kind='hist') is using plt.hist()\n",
    "# Histograma de la columna 'Age'\n",
    "#hist(data, bins), data is the data to be plotted, bins is the number of bins (intervals) to divide the data\n",
    "plt.hist(datos['Age'], bins=20)\n",
    "plt.title('Histograma de Age')\n",
    "plt.xlabel('Valor')\n",
    "plt.ylabel('Frecuencia')\n",
    "plt.show()"
   ]
  },
  {
   "cell_type": "markdown",
   "id": "e1db349d-bcce-47c4-873e-6656c5eb2505",
   "metadata": {
    "id": "e1db349d-bcce-47c4-873e-6656c5eb2505"
   },
   "source": [
    "\n",
    "### 6. Visualización de Datos con Seaborn:\n",
    "```python\n",
    "# Gráfico de dispersión de 'A' vs 'B' con Seaborn\n",
    "sns.scatterplot(x='A', y='B', data=datos)\n",
    "plt.title('Gráfico de Dispersión de A vs B')\n",
    "plt.show()\n",
    "\n",
    "# Boxplot de 'C' vs 'B' con Seaborn\n",
    "sns.boxplot(x='C', y='B', data=datos)\n",
    "plt.title('Boxplot de C vs B')\n",
    "plt.show()\n",
    "```\n"
   ]
  },
  {
   "cell_type": "code",
   "execution_count": null,
   "id": "9dff5e76-8615-4f93-916b-eff7d7ee215f",
   "metadata": {
    "colab": {
     "base_uri": "https://localhost:8080/",
     "height": 927
    },
    "id": "9dff5e76-8615-4f93-916b-eff7d7ee215f",
    "outputId": "eaf6c483-ba35-4af6-a340-e1b44e4fde97"
   },
   "outputs": [
    {
     "data": {
      "image/png": "[encoded data removed]",
      "text/plain": [
       "<Figure size 640x480 with 1 Axes>"
      ]
     },
     "metadata": {},
     "output_type": "display_data"
    },
    {
     "data": {
      "image/png": "[encoded data removed]",
      "text/plain": [
       "<Figure size 640x480 with 1 Axes>"
      ]
     },
     "metadata": {},
     "output_type": "display_data"
    }
   ],
   "source": [
    "#The other way to plot is using seaborn\n",
    "#seaborn is a Python data visualization library based on matplotlib\n",
    "#It provides a high-level interface for drawing attractive and informative statistical graphics\n",
    "# Gráfico de dispersión de 'Age' vs 'Income' con Seaborn\n",
    "sns.scatterplot(x='Age', y='Income', data=datos)\n",
    "#plt and sns can be used together to customize the plot\n",
    "plt.title('Gráfico de Dispersión de Age vs Income')\n",
    "plt.show()\n",
    "\n",
    "# Boxplot de 'Children' vs 'Purchase_Amount' con Seaborn\n",
    "sns.boxplot(x='Children', y='Purchase_Amount', data=datos)\n",
    "plt.title('Boxplot de Children vs Purchase_Amount')\n",
    "plt.show()"
   ]
  },
  {
   "cell_type": "markdown",
   "id": "87ce4455-8e04-4d7c-a7e7-0e5f57f4df75",
   "metadata": {
    "id": "87ce4455-8e04-4d7c-a7e7-0e5f57f4df75"
   },
   "source": [
    "\n",
    "### 7. Limpieza de Datos:\n",
    "```python\n",
    "# Eliminar filas con valores NaN\n",
    "datos_limpio = datos.dropna()\n",
    "\n",
    "# Eliminar duplicados\n",
    "datos_limpio = datos.drop_duplicates()\n",
    "\n",
    "# Corregir nombres de columnas\n",
    "datos.rename(columns={'A': 'Columna_A', 'B': 'Columna_B'}, inplace=True)\n",
    "```\n"
   ]
  },
  {
   "cell_type": "code",
   "execution_count": null,
   "id": "c762ea54-2de5-4919-81df-43d7338e2bb2",
   "metadata": {
    "id": "c762ea54-2de5-4919-81df-43d7338e2bb2"
   },
   "outputs": [],
   "source": [
    "#To eliminate rows with missing values, we can use the dropna method\n",
    "cleanedData = datos.dropna()\n",
    "\n",
    "#To eliminate duplicates, we can use the drop_duplicates method\n",
    "cleanedData = datos.drop_duplicates()\n",
    "\n",
    "#To rename the columns in a dataframe, we can use the rename method\n",
    "#The rename method takes a dictionary as an argument\n",
    "#The keys of the dictionary are the old column names, and the values are the new column names\n",
    "cleanedData = datos.rename(columns={'Marital_Status': 'MaritalStatus', 'Income': 'IncomeUSD'})"
   ]
  },
  {
   "cell_type": "markdown",
   "id": "29f5b14c-491d-4481-9911-7211c7cc6bee",
   "metadata": {
    "id": "29f5b14c-491d-4481-9911-7211c7cc6bee"
   },
   "source": [
    "\n",
    "### 8. Análisis Adicional:\n",
    "```python\n",
    "# Correlación entre columnas numéricas\n",
    "correlacion = datos.corr()\n",
    "print(correlacion)\n",
    "\n",
    "# Mapa de calor de correlación con Seaborn\n",
    "sns.heatmap(correlacion, annot=True, cmap='coolwarm')\n",
    "plt.title('Mapa de Calor de Correlación')\n",
    "plt.show()\n",
    "```\n"
   ]
  },
  {
   "cell_type": "code",
   "execution_count": 100,
   "id": "0ce7dd10-2c41-4025-af90-7b84f6177031",
   "metadata": {
    "colab": {
     "base_uri": "https://localhost:8080/",
     "height": 544
    },
    "id": "0ce7dd10-2c41-4025-af90-7b84f6177031",
    "outputId": "6a535cf2-6385-4985-f487-57a96d5eb0d7"
   },
   "outputs": [
    {
     "name": "stdout",
     "output_type": "stream",
     "text": [
      "                      Age    Income  Children  Purchase_Amount\n",
      "Age              1.000000  0.987053  0.968709         0.986530\n",
      "Income           0.987053  1.000000  0.957517         0.991933\n",
      "Children         0.968709  0.957517  1.000000         0.972207\n",
      "Purchase_Amount  0.986530  0.991933  0.972207         1.000000\n"
     ]
    },
    {
     "data": {
      "image/png": "[encoded data removed]",
      "text/plain": [
       "<Figure size 640x480 with 2 Axes>"
      ]
     },
     "metadata": {},
     "output_type": "display_data"
    }
   ],
   "source": [
    "# Correlación entre columnas numéricas\n",
    "columnas = ['Age',  'Income' , 'Children',   'Purchase_Amount']\n",
    "#corr() will return the correlation between the columns\n",
    "#The correlation is a value between -1 and 1\n",
    "#The correlation can be used to measure the relationship between two variables\n",
    "#Specific columns can be selected by passing a list of column names\n",
    "correlacion = datos[columnas].corr()\n",
    "print(correlacion)\n",
    "\n",
    "# Mapa de calor de correlación con Seaborn\n",
    "#seaborn can be used to make a heatmap of the correlation\n",
    "#The heatmap will show the correlation between the columns\n",
    "#annot=True will show the correlation values on the heatmap\n",
    "#The cmap parameter can be used to specify the color map\n",
    "sns.heatmap(correlacion, annot=True, cmap='coolwarm')\n",
    "plt.title('Mapa de Calor de Correlación')\n",
    "plt.show()"
   ]
  },
  {
   "cell_type": "markdown",
   "id": "6ef0f183-64cc-4cf3-afde-9c178e5c2d54",
   "metadata": {
    "id": "6ef0f183-64cc-4cf3-afde-9c178e5c2d54"
   },
   "source": [
    "## 9. Ejemplos\n",
    "\n",
    "### Ejemplo jugadores\n",
    "Supongamos que queremos almacenar información sobre jugadores de futbol guardando el nombre, la posición y el pais de origen. Lo hacemos con un diccionario de la siguiente forma:"
   ]
  },
  {
   "cell_type": "code",
   "execution_count": null,
   "id": "05ebf405-9b82-4e2b-97dd-ac52bc480086",
   "metadata": {
    "id": "05ebf405-9b82-4e2b-97dd-ac52bc480086",
    "outputId": "0bb99c84-802d-444d-d5d6-37385d3ac920"
   },
   "outputs": [
    {
     "data": {
      "text/html": [
       "<div>\n",
       "<style scoped>\n",
       "    .dataframe tbody tr th:only-of-type {\n",
       "        vertical-align: middle;\n",
       "    }\n",
       "\n",
       "    .dataframe tbody tr th {\n",
       "        vertical-align: top;\n",
       "    }\n",
       "\n",
       "    .dataframe thead th {\n",
       "        text-align: right;\n",
       "    }\n",
       "</style>\n",
       "<table border=\"1\" class=\"dataframe\">\n",
       "  <thead>\n",
       "    <tr style=\"text-align: right;\">\n",
       "      <th></th>\n",
       "      <th>Nombre</th>\n",
       "      <th>Posicion</th>\n",
       "      <th>Pais</th>\n",
       "    </tr>\n",
       "  </thead>\n",
       "  <tbody>\n",
       "    <tr>\n",
       "      <th>0</th>\n",
       "      <td>Casillas</td>\n",
       "      <td>Arquero</td>\n",
       "      <td>España</td>\n",
       "    </tr>\n",
       "    <tr>\n",
       "      <th>1</th>\n",
       "      <td>Ramos</td>\n",
       "      <td>Defensa</td>\n",
       "      <td>España</td>\n",
       "    </tr>\n",
       "    <tr>\n",
       "      <th>2</th>\n",
       "      <td>Ronaldo</td>\n",
       "      <td>Delantero</td>\n",
       "      <td>Portugal</td>\n",
       "    </tr>\n",
       "    <tr>\n",
       "      <th>3</th>\n",
       "      <td>Messi</td>\n",
       "      <td>Delantero</td>\n",
       "      <td>Argentina</td>\n",
       "    </tr>\n",
       "    <tr>\n",
       "      <th>4</th>\n",
       "      <td>Neymar</td>\n",
       "      <td>Delantero</td>\n",
       "      <td>Brasil</td>\n",
       "    </tr>\n",
       "    <tr>\n",
       "      <th>5</th>\n",
       "      <td>Roberto Carlos</td>\n",
       "      <td>Defensa</td>\n",
       "      <td>Brasil</td>\n",
       "    </tr>\n",
       "    <tr>\n",
       "      <th>6</th>\n",
       "      <td>Falcao</td>\n",
       "      <td>Delantero</td>\n",
       "      <td>Colombia</td>\n",
       "    </tr>\n",
       "    <tr>\n",
       "      <th>7</th>\n",
       "      <td>James</td>\n",
       "      <td>Medio campo</td>\n",
       "      <td>Colombia</td>\n",
       "    </tr>\n",
       "    <tr>\n",
       "      <th>8</th>\n",
       "      <td>David Ospina</td>\n",
       "      <td>Arquero</td>\n",
       "      <td>Colombia</td>\n",
       "    </tr>\n",
       "    <tr>\n",
       "      <th>9</th>\n",
       "      <td>Valderrama</td>\n",
       "      <td>Medio campo</td>\n",
       "      <td>Colombia</td>\n",
       "    </tr>\n",
       "    <tr>\n",
       "      <th>10</th>\n",
       "      <td>Jorge Bermudez</td>\n",
       "      <td>Defensa</td>\n",
       "      <td>Colombia</td>\n",
       "    </tr>\n",
       "  </tbody>\n",
       "</table>\n",
       "</div>"
      ],
      "text/plain": [
       "            Nombre     Posicion       Pais\n",
       "0         Casillas      Arquero     España\n",
       "1            Ramos      Defensa     España\n",
       "2          Ronaldo    Delantero   Portugal\n",
       "3            Messi    Delantero  Argentina\n",
       "4           Neymar    Delantero     Brasil\n",
       "5   Roberto Carlos      Defensa     Brasil\n",
       "6           Falcao    Delantero   Colombia\n",
       "7            James  Medio campo   Colombia\n",
       "8     David Ospina      Arquero   Colombia\n",
       "9       Valderrama  Medio campo   Colombia\n",
       "10  Jorge Bermudez      Defensa   Colombia"
      ]
     },
     "execution_count": 107,
     "metadata": {},
     "output_type": "execute_result"
    }
   ],
   "source": [
    "#crear diccionario\n",
    "jugadores = \\\n",
    "{\n",
    "        'Nombre': ['Casillas', 'Ramos', 'Ronaldo', 'Messi', 'Neymar', 'Roberto Carlos', 'Falcao', 'James',\n",
    "                 'David Ospina', 'Valderrama', 'Jorge Bermudez'],\n",
    "        'Posicion': ['Arquero', 'Defensa', 'Delantero', 'Delantero','Delantero', 'Defensa', 'Delantero',\n",
    "                        'Medio campo', 'Arquero', 'Medio campo', 'Defensa'],\n",
    "        'Pais': ['España', 'España', 'Portugal', 'Argentina', 'Brasil', 'Brasil',\n",
    "                 'Colombia', 'Colombia', 'Colombia', 'Colombia', 'Colombia']\n",
    "    }\n",
    "\n",
    "#crear data frame\n",
    "#You can used pd.DataFrame() to create a dataframe\n",
    "#The first argument is the data, which can be a dictionary, list, or series\n",
    "#The columns argument can be used to specify the column names\n",
    "#The index argument can be used to specify the index names\n",
    "jugadores_df = pd.DataFrame(jugadores\n",
    "    , columns=['Nombre', 'Posicion', 'Pais'], #index = range(1,12)\n",
    ")\n",
    "\n",
    "jugadores_df"
   ]
  },
  {
   "cell_type": "markdown",
   "id": "557565d1-92d3-4535-9c12-33339bb70172",
   "metadata": {
    "id": "557565d1-92d3-4535-9c12-33339bb70172"
   },
   "source": [
    "También podemos cargar los datos desde un archivo, normalmente archivos **csv**"
   ]
  },
  {
   "cell_type": "code",
   "execution_count": 123,
   "id": "00a8bfd7-9ba1-4f74-9fa8-c8a09a25cb79",
   "metadata": {
    "colab": {
     "base_uri": "https://localhost:8080/",
     "height": 206
    },
    "id": "00a8bfd7-9ba1-4f74-9fa8-c8a09a25cb79",
    "outputId": "fb6130f8-3d16-4035-f55e-a411391ace3d"
   },
   "outputs": [
    {
     "data": {
      "text/html": [
       "<div>\n",
       "<style scoped>\n",
       "    .dataframe tbody tr th:only-of-type {\n",
       "        vertical-align: middle;\n",
       "    }\n",
       "\n",
       "    .dataframe tbody tr th {\n",
       "        vertical-align: top;\n",
       "    }\n",
       "\n",
       "    .dataframe thead th {\n",
       "        text-align: right;\n",
       "    }\n",
       "</style>\n",
       "<table border=\"1\" class=\"dataframe\">\n",
       "  <thead>\n",
       "    <tr style=\"text-align: right;\">\n",
       "      <th></th>\n",
       "      <th>Nombre</th>\n",
       "      <th>Posicion</th>\n",
       "      <th>Pais</th>\n",
       "    </tr>\n",
       "  </thead>\n",
       "  <tbody>\n",
       "    <tr>\n",
       "      <th>0</th>\n",
       "      <td>Casillas</td>\n",
       "      <td>Arquero</td>\n",
       "      <td>España</td>\n",
       "    </tr>\n",
       "    <tr>\n",
       "      <th>1</th>\n",
       "      <td>Ramos</td>\n",
       "      <td>Defensa</td>\n",
       "      <td>España</td>\n",
       "    </tr>\n",
       "    <tr>\n",
       "      <th>2</th>\n",
       "      <td>Ronaldo</td>\n",
       "      <td>Delantero</td>\n",
       "      <td>Portugal</td>\n",
       "    </tr>\n",
       "    <tr>\n",
       "      <th>3</th>\n",
       "      <td>Messi</td>\n",
       "      <td>Delantero</td>\n",
       "      <td>Argentina</td>\n",
       "    </tr>\n",
       "    <tr>\n",
       "      <th>4</th>\n",
       "      <td>Neymar</td>\n",
       "      <td>Delantero</td>\n",
       "      <td>Brasil</td>\n",
       "    </tr>\n",
       "  </tbody>\n",
       "</table>\n",
       "</div>"
      ],
      "text/plain": [
       "     Nombre   Posicion       Pais\n",
       "0  Casillas    Arquero     España\n",
       "1     Ramos    Defensa     España\n",
       "2   Ronaldo  Delantero   Portugal\n",
       "3     Messi  Delantero  Argentina\n",
       "4    Neymar  Delantero     Brasil"
      ]
     },
     "execution_count": 123,
     "metadata": {},
     "output_type": "execute_result"
    }
   ],
   "source": [
    "#mis archivos de datos se encuentran almacenados en la carpeta cursopython de mi drive, en su caso reemplazar por la carpeta que corresponda\n",
    "\n",
    "# archivo = root + \"cursopython/arqueros.csv\"\n",
    "df= pd.read_csv(\"arqueros.csv\")\n",
    "df.head()"
   ]
  },
  {
   "cell_type": "code",
   "execution_count": 124,
   "id": "e41dc5de-0bd3-42bb-85ed-46e6b76fabfb",
   "metadata": {
    "colab": {
     "base_uri": "https://localhost:8080/",
     "height": 425
    },
    "id": "e41dc5de-0bd3-42bb-85ed-46e6b76fabfb",
    "outputId": "70898a12-2b4b-41ac-ed2d-9e488e4d69a4"
   },
   "outputs": [
    {
     "data": {
      "text/html": [
       "<div>\n",
       "<style scoped>\n",
       "    .dataframe tbody tr th:only-of-type {\n",
       "        vertical-align: middle;\n",
       "    }\n",
       "\n",
       "    .dataframe tbody tr th {\n",
       "        vertical-align: top;\n",
       "    }\n",
       "\n",
       "    .dataframe thead th {\n",
       "        text-align: right;\n",
       "    }\n",
       "</style>\n",
       "<table border=\"1\" class=\"dataframe\">\n",
       "  <thead>\n",
       "    <tr style=\"text-align: right;\">\n",
       "      <th></th>\n",
       "      <th>Nombre</th>\n",
       "      <th>Posicion</th>\n",
       "      <th>Pais</th>\n",
       "    </tr>\n",
       "  </thead>\n",
       "  <tbody>\n",
       "    <tr>\n",
       "      <th>0</th>\n",
       "      <td>Casillas</td>\n",
       "      <td>Arquero</td>\n",
       "      <td>España</td>\n",
       "    </tr>\n",
       "    <tr>\n",
       "      <th>1</th>\n",
       "      <td>Ramos</td>\n",
       "      <td>Defensa</td>\n",
       "      <td>España</td>\n",
       "    </tr>\n",
       "    <tr>\n",
       "      <th>2</th>\n",
       "      <td>Ronaldo</td>\n",
       "      <td>Delantero</td>\n",
       "      <td>Portugal</td>\n",
       "    </tr>\n",
       "    <tr>\n",
       "      <th>3</th>\n",
       "      <td>Messi</td>\n",
       "      <td>Delantero</td>\n",
       "      <td>Argentina</td>\n",
       "    </tr>\n",
       "    <tr>\n",
       "      <th>4</th>\n",
       "      <td>Neymar</td>\n",
       "      <td>Delantero</td>\n",
       "      <td>Brasil</td>\n",
       "    </tr>\n",
       "    <tr>\n",
       "      <th>5</th>\n",
       "      <td>Roberto Carlos</td>\n",
       "      <td>Defensa</td>\n",
       "      <td>Brasil</td>\n",
       "    </tr>\n",
       "    <tr>\n",
       "      <th>6</th>\n",
       "      <td>Falcao</td>\n",
       "      <td>Delantero</td>\n",
       "      <td>Colombia</td>\n",
       "    </tr>\n",
       "    <tr>\n",
       "      <th>7</th>\n",
       "      <td>James</td>\n",
       "      <td>Medio campo</td>\n",
       "      <td>Colombia</td>\n",
       "    </tr>\n",
       "    <tr>\n",
       "      <th>8</th>\n",
       "      <td>David Ospina</td>\n",
       "      <td>Arquero</td>\n",
       "      <td>Colombia</td>\n",
       "    </tr>\n",
       "    <tr>\n",
       "      <th>9</th>\n",
       "      <td>Valderrama</td>\n",
       "      <td>Medio campo</td>\n",
       "      <td>Colombia</td>\n",
       "    </tr>\n",
       "    <tr>\n",
       "      <th>10</th>\n",
       "      <td>Jorge Bermudez</td>\n",
       "      <td>Defensa</td>\n",
       "      <td>Colombia</td>\n",
       "    </tr>\n",
       "    <tr>\n",
       "      <th>11</th>\n",
       "      <td>Buffon</td>\n",
       "      <td>Arquero</td>\n",
       "      <td>Italia</td>\n",
       "    </tr>\n",
       "  </tbody>\n",
       "</table>\n",
       "</div>"
      ],
      "text/plain": [
       "            Nombre     Posicion       Pais\n",
       "0         Casillas      Arquero     España\n",
       "1            Ramos      Defensa     España\n",
       "2          Ronaldo    Delantero   Portugal\n",
       "3            Messi    Delantero  Argentina\n",
       "4           Neymar    Delantero     Brasil\n",
       "5   Roberto Carlos      Defensa     Brasil\n",
       "6           Falcao    Delantero   Colombia\n",
       "7            James  Medio campo   Colombia\n",
       "8     David Ospina      Arquero   Colombia\n",
       "9       Valderrama  Medio campo   Colombia\n",
       "10  Jorge Bermudez      Defensa   Colombia\n",
       "11          Buffon      Arquero     Italia"
      ]
     },
     "execution_count": 124,
     "metadata": {},
     "output_type": "execute_result"
    }
   ],
   "source": [
    "#ahora queremos agregar otro jugador:\n",
    "# df[11:] = ['Buffon', 'Arquero', 'Italia'] would do the same thing\n",
    "df.loc[11] = ['Buffon', 'Arquero', 'Italia']\n",
    "df"
   ]
  },
  {
   "cell_type": "code",
   "execution_count": 125,
   "id": "855d1731-c1d1-4afb-ad45-929b3b154595",
   "metadata": {
    "colab": {
     "base_uri": "https://localhost:8080/",
     "height": 425
    },
    "id": "855d1731-c1d1-4afb-ad45-929b3b154595",
    "outputId": "9d1957d7-4ff2-48e2-e549-56fff1026a08"
   },
   "outputs": [
    {
     "data": {
      "text/html": [
       "<div>\n",
       "<style scoped>\n",
       "    .dataframe tbody tr th:only-of-type {\n",
       "        vertical-align: middle;\n",
       "    }\n",
       "\n",
       "    .dataframe tbody tr th {\n",
       "        vertical-align: top;\n",
       "    }\n",
       "\n",
       "    .dataframe thead th {\n",
       "        text-align: right;\n",
       "    }\n",
       "</style>\n",
       "<table border=\"1\" class=\"dataframe\">\n",
       "  <thead>\n",
       "    <tr style=\"text-align: right;\">\n",
       "      <th></th>\n",
       "      <th>Nombre</th>\n",
       "      <th>Posicion</th>\n",
       "      <th>Pais</th>\n",
       "      <th>Estado</th>\n",
       "    </tr>\n",
       "  </thead>\n",
       "  <tbody>\n",
       "    <tr>\n",
       "      <th>0</th>\n",
       "      <td>Casillas</td>\n",
       "      <td>Arquero</td>\n",
       "      <td>España</td>\n",
       "      <td>activo</td>\n",
       "    </tr>\n",
       "    <tr>\n",
       "      <th>1</th>\n",
       "      <td>Ramos</td>\n",
       "      <td>Defensa</td>\n",
       "      <td>España</td>\n",
       "      <td>activo</td>\n",
       "    </tr>\n",
       "    <tr>\n",
       "      <th>2</th>\n",
       "      <td>Ronaldo</td>\n",
       "      <td>Delantero</td>\n",
       "      <td>Portugal</td>\n",
       "      <td>activo</td>\n",
       "    </tr>\n",
       "    <tr>\n",
       "      <th>3</th>\n",
       "      <td>Messi</td>\n",
       "      <td>Delantero</td>\n",
       "      <td>Argentina</td>\n",
       "      <td>activo</td>\n",
       "    </tr>\n",
       "    <tr>\n",
       "      <th>4</th>\n",
       "      <td>Neymar</td>\n",
       "      <td>Delantero</td>\n",
       "      <td>Brasil</td>\n",
       "      <td>activo</td>\n",
       "    </tr>\n",
       "    <tr>\n",
       "      <th>5</th>\n",
       "      <td>Roberto Carlos</td>\n",
       "      <td>Defensa</td>\n",
       "      <td>Brasil</td>\n",
       "      <td>retirado</td>\n",
       "    </tr>\n",
       "    <tr>\n",
       "      <th>6</th>\n",
       "      <td>Falcao</td>\n",
       "      <td>Delantero</td>\n",
       "      <td>Colombia</td>\n",
       "      <td>activo</td>\n",
       "    </tr>\n",
       "    <tr>\n",
       "      <th>7</th>\n",
       "      <td>James</td>\n",
       "      <td>Medio campo</td>\n",
       "      <td>Colombia</td>\n",
       "      <td>activo</td>\n",
       "    </tr>\n",
       "    <tr>\n",
       "      <th>8</th>\n",
       "      <td>David Ospina</td>\n",
       "      <td>Arquero</td>\n",
       "      <td>Colombia</td>\n",
       "      <td>activo</td>\n",
       "    </tr>\n",
       "    <tr>\n",
       "      <th>9</th>\n",
       "      <td>Valderrama</td>\n",
       "      <td>Medio campo</td>\n",
       "      <td>Colombia</td>\n",
       "      <td>retirado</td>\n",
       "    </tr>\n",
       "    <tr>\n",
       "      <th>10</th>\n",
       "      <td>Jorge Bermudez</td>\n",
       "      <td>Defensa</td>\n",
       "      <td>Colombia</td>\n",
       "      <td>retirado</td>\n",
       "    </tr>\n",
       "    <tr>\n",
       "      <th>11</th>\n",
       "      <td>Buffon</td>\n",
       "      <td>Arquero</td>\n",
       "      <td>Italia</td>\n",
       "      <td>retirado</td>\n",
       "    </tr>\n",
       "  </tbody>\n",
       "</table>\n",
       "</div>"
      ],
      "text/plain": [
       "            Nombre     Posicion       Pais    Estado\n",
       "0         Casillas      Arquero     España    activo\n",
       "1            Ramos      Defensa     España    activo\n",
       "2          Ronaldo    Delantero   Portugal    activo\n",
       "3            Messi    Delantero  Argentina    activo\n",
       "4           Neymar    Delantero     Brasil    activo\n",
       "5   Roberto Carlos      Defensa     Brasil  retirado\n",
       "6           Falcao    Delantero   Colombia    activo\n",
       "7            James  Medio campo   Colombia    activo\n",
       "8     David Ospina      Arquero   Colombia    activo\n",
       "9       Valderrama  Medio campo   Colombia  retirado\n",
       "10  Jorge Bermudez      Defensa   Colombia  retirado\n",
       "11          Buffon      Arquero     Italia  retirado"
      ]
     },
     "execution_count": 125,
     "metadata": {},
     "output_type": "execute_result"
    }
   ],
   "source": [
    "#agregar nueva columna\n",
    "df['Estado'] = \\\n",
    "['activo','activo','activo','activo','activo','retirado','activo','activo','activo','retirado','retirado','retirado']\n",
    "df"
   ]
  },
  {
   "cell_type": "code",
   "execution_count": 126,
   "id": "3afb11a9-d5a9-4291-b4b6-fd4e167358c7",
   "metadata": {
    "colab": {
     "base_uri": "https://localhost:8080/",
     "height": 175
    },
    "id": "3afb11a9-d5a9-4291-b4b6-fd4e167358c7",
    "outputId": "fdbf4d6f-3a00-4c3c-dd10-7c4fc525b5ea"
   },
   "outputs": [
    {
     "data": {
      "text/html": [
       "<div>\n",
       "<style scoped>\n",
       "    .dataframe tbody tr th:only-of-type {\n",
       "        vertical-align: middle;\n",
       "    }\n",
       "\n",
       "    .dataframe tbody tr th {\n",
       "        vertical-align: top;\n",
       "    }\n",
       "\n",
       "    .dataframe thead th {\n",
       "        text-align: right;\n",
       "    }\n",
       "</style>\n",
       "<table border=\"1\" class=\"dataframe\">\n",
       "  <thead>\n",
       "    <tr style=\"text-align: right;\">\n",
       "      <th></th>\n",
       "      <th>Nombre</th>\n",
       "      <th>Posicion</th>\n",
       "      <th>Pais</th>\n",
       "      <th>Estado</th>\n",
       "    </tr>\n",
       "  </thead>\n",
       "  <tbody>\n",
       "    <tr>\n",
       "      <th>5</th>\n",
       "      <td>Roberto Carlos</td>\n",
       "      <td>Defensa</td>\n",
       "      <td>Brasil</td>\n",
       "      <td>retirado</td>\n",
       "    </tr>\n",
       "    <tr>\n",
       "      <th>9</th>\n",
       "      <td>Valderrama</td>\n",
       "      <td>Medio campo</td>\n",
       "      <td>Colombia</td>\n",
       "      <td>retirado</td>\n",
       "    </tr>\n",
       "    <tr>\n",
       "      <th>10</th>\n",
       "      <td>Jorge Bermudez</td>\n",
       "      <td>Defensa</td>\n",
       "      <td>Colombia</td>\n",
       "      <td>retirado</td>\n",
       "    </tr>\n",
       "    <tr>\n",
       "      <th>11</th>\n",
       "      <td>Buffon</td>\n",
       "      <td>Arquero</td>\n",
       "      <td>Italia</td>\n",
       "      <td>retirado</td>\n",
       "    </tr>\n",
       "  </tbody>\n",
       "</table>\n",
       "</div>"
      ],
      "text/plain": [
       "            Nombre     Posicion      Pais    Estado\n",
       "5   Roberto Carlos      Defensa    Brasil  retirado\n",
       "9       Valderrama  Medio campo  Colombia  retirado\n",
       "10  Jorge Bermudez      Defensa  Colombia  retirado\n",
       "11          Buffon      Arquero    Italia  retirado"
      ]
     },
     "execution_count": 126,
     "metadata": {},
     "output_type": "execute_result"
    }
   ],
   "source": [
    "#filtar datos\n",
    "df[df['Estado']=='retirado']"
   ]
  },
  {
   "cell_type": "code",
   "execution_count": 127,
   "id": "5ff7141f-3dea-46f5-9aa7-d1fcc88706dc",
   "metadata": {
    "colab": {
     "base_uri": "https://localhost:8080/",
     "height": 143
    },
    "id": "5ff7141f-3dea-46f5-9aa7-d1fcc88706dc",
    "outputId": "977bae65-1109-4e07-f47a-22425f40c1af"
   },
   "outputs": [
    {
     "data": {
      "text/html": [
       "<div>\n",
       "<style scoped>\n",
       "    .dataframe tbody tr th:only-of-type {\n",
       "        vertical-align: middle;\n",
       "    }\n",
       "\n",
       "    .dataframe tbody tr th {\n",
       "        vertical-align: top;\n",
       "    }\n",
       "\n",
       "    .dataframe thead th {\n",
       "        text-align: right;\n",
       "    }\n",
       "</style>\n",
       "<table border=\"1\" class=\"dataframe\">\n",
       "  <thead>\n",
       "    <tr style=\"text-align: right;\">\n",
       "      <th></th>\n",
       "      <th>Nombre</th>\n",
       "      <th>Posicion</th>\n",
       "      <th>Pais</th>\n",
       "      <th>Estado</th>\n",
       "    </tr>\n",
       "  </thead>\n",
       "  <tbody>\n",
       "    <tr>\n",
       "      <th>0</th>\n",
       "      <td>Casillas</td>\n",
       "      <td>Arquero</td>\n",
       "      <td>España</td>\n",
       "      <td>activo</td>\n",
       "    </tr>\n",
       "    <tr>\n",
       "      <th>8</th>\n",
       "      <td>David Ospina</td>\n",
       "      <td>Arquero</td>\n",
       "      <td>Colombia</td>\n",
       "      <td>activo</td>\n",
       "    </tr>\n",
       "    <tr>\n",
       "      <th>11</th>\n",
       "      <td>Buffon</td>\n",
       "      <td>Arquero</td>\n",
       "      <td>Italia</td>\n",
       "      <td>retirado</td>\n",
       "    </tr>\n",
       "  </tbody>\n",
       "</table>\n",
       "</div>"
      ],
      "text/plain": [
       "          Nombre Posicion      Pais    Estado\n",
       "0       Casillas  Arquero    España    activo\n",
       "8   David Ospina  Arquero  Colombia    activo\n",
       "11        Buffon  Arquero    Italia  retirado"
      ]
     },
     "execution_count": 127,
     "metadata": {},
     "output_type": "execute_result"
    }
   ],
   "source": [
    "df[df['Posicion']=='Arquero']"
   ]
  },
  {
   "cell_type": "code",
   "execution_count": 128,
   "id": "62ca97ac-2b98-4ccb-95c2-aaeade6e55d9",
   "metadata": {
    "colab": {
     "base_uri": "https://localhost:8080/",
     "height": 521
    },
    "id": "62ca97ac-2b98-4ccb-95c2-aaeade6e55d9",
    "outputId": "98125447-413a-405f-b4bc-25179a517016"
   },
   "outputs": [
    {
     "data": {
      "text/plain": [
       "<Axes: xlabel='Pais'>"
      ]
     },
     "execution_count": 128,
     "metadata": {},
     "output_type": "execute_result"
    },
    {
     "data": {
      "image/png": "[encoded data removed]",
      "text/plain": [
       "<Figure size 640x480 with 1 Axes>"
      ]
     },
     "metadata": {},
     "output_type": "display_data"
    }
   ],
   "source": [
    "df['Pais'].value_counts().plot.bar()"
   ]
  },
  {
   "cell_type": "code",
   "execution_count": 129,
   "id": "220a600c-9567-4c41-ab32-7de871023d39",
   "metadata": {
    "colab": {
     "base_uri": "https://localhost:8080/",
     "height": 467
    },
    "id": "220a600c-9567-4c41-ab32-7de871023d39",
    "outputId": "a499270b-de1f-4fc9-8dd7-595541ff4566"
   },
   "outputs": [
    {
     "data": {
      "text/plain": [
       "<Axes: xlabel='Pais'>"
      ]
     },
     "execution_count": 129,
     "metadata": {},
     "output_type": "execute_result"
    },
    {
     "data": {
      "image/png": "[encoded data removed]",
      "text/plain": [
       "<Figure size 640x480 with 1 Axes>"
      ]
     },
     "metadata": {},
     "output_type": "display_data"
    }
   ],
   "source": [
    "df['Pais'].value_counts().plot()"
   ]
  },
  {
   "cell_type": "code",
   "execution_count": null,
   "id": "2767d530-5e22-4a33-a55c-f48e693599b2",
   "metadata": {
    "id": "2767d530-5e22-4a33-a55c-f48e693599b2"
   },
   "outputs": [],
   "source": []
  },
  {
   "cell_type": "markdown",
   "id": "a8b5b530-66b4-4142-a70e-7ebd6d5c57b9",
   "metadata": {
    "id": "a8b5b530-66b4-4142-a70e-7ebd6d5c57b9"
   },
   "source": [
    "#### Manipulación de Datos con Pandas\n",
    "\n",
    "**Descripción**:\n",
    "Trabajar con un DataFrame de Pandas para realizar operaciones de selección, filtrado y agregación de datos.\n",
    "\n",
    "**Instrucciones**:\n",
    "1. Crear un DataFrame con datos ficticios de ventas (ID, Producto, Cantidad, Precio, Fecha).\n",
    "2. Filtrar las ventas de un producto específico.\n",
    "3. Calcular el total de ventas por producto.\n",
    "4. Crear una nueva columna con el valor total de cada venta (Cantidad * Precio).\n",
    "\n",
    "**Solución**:\n",
    "\n",
    "```python\n",
    "import pandas as pd\n",
    "from datetime import datetime\n",
    "\n",
    "# Crear un DataFrame\n",
    "data = {\n",
    "    'ID': range(1, 11),\n",
    "    'Producto': ['A', 'B', 'A', 'C', 'B', 'A', 'D', 'B', 'C', 'D'],\n",
    "    'Cantidad': [10, 5, 8, 3, 7, 9, 2, 6, 4, 1],\n",
    "    'Precio': [100, 200, 150, 300, 200, 150, 400, 200, 300, 400],\n",
    "    'Fecha': [datetime(2024, 5, i+1) for i in range(10)]\n",
    "}\n",
    "df = pd.DataFrame(data)\n",
    "\n",
    "# Filtrar ventas del producto 'A'\n",
    "producto_a = df[df['Producto'] == 'A']\n",
    "print(\"Ventas del Producto A:\")\n",
    "print(producto_a)\n",
    "\n",
    "# Calcular el total de ventas por producto\n",
    "total_ventas = df.groupby('Producto')['Cantidad'].sum()\n",
    "print(\"\\nTotal de Ventas por Producto:\")\n",
    "print(total_ventas)\n",
    "\n",
    "# Crear una nueva columna con el valor total de cada venta\n",
    "df['Total'] = df['Cantidad'] * df['Precio']\n",
    "print(\"\\nDataFrame con Columna de Total de Venta:\")\n",
    "print(df)\n",
    "```\n",
    "\n"
   ]
  },
  {
   "cell_type": "code",
   "execution_count": 131,
   "id": "248c9a04",
   "metadata": {},
   "outputs": [],
   "source": [
    "from datetime import datetime"
   ]
  },
  {
   "cell_type": "code",
   "execution_count": 133,
   "id": "25bcff82-fef9-45d5-a952-67bc6a88ee5d",
   "metadata": {
    "id": "25bcff82-fef9-45d5-a952-67bc6a88ee5d"
   },
   "outputs": [
    {
     "data": {
      "text/html": [
       "<div>\n",
       "<style scoped>\n",
       "    .dataframe tbody tr th:only-of-type {\n",
       "        vertical-align: middle;\n",
       "    }\n",
       "\n",
       "    .dataframe tbody tr th {\n",
       "        vertical-align: top;\n",
       "    }\n",
       "\n",
       "    .dataframe thead th {\n",
       "        text-align: right;\n",
       "    }\n",
       "</style>\n",
       "<table border=\"1\" class=\"dataframe\">\n",
       "  <thead>\n",
       "    <tr style=\"text-align: right;\">\n",
       "      <th></th>\n",
       "      <th>ID</th>\n",
       "      <th>Producto</th>\n",
       "      <th>Cantidad</th>\n",
       "      <th>Precio</th>\n",
       "      <th>Fecha</th>\n",
       "    </tr>\n",
       "  </thead>\n",
       "  <tbody>\n",
       "    <tr>\n",
       "      <th>0</th>\n",
       "      <td>1</td>\n",
       "      <td>A</td>\n",
       "      <td>10</td>\n",
       "      <td>100</td>\n",
       "      <td>2024-05-01</td>\n",
       "    </tr>\n",
       "    <tr>\n",
       "      <th>1</th>\n",
       "      <td>2</td>\n",
       "      <td>B</td>\n",
       "      <td>5</td>\n",
       "      <td>200</td>\n",
       "      <td>2024-05-02</td>\n",
       "    </tr>\n",
       "    <tr>\n",
       "      <th>2</th>\n",
       "      <td>3</td>\n",
       "      <td>A</td>\n",
       "      <td>8</td>\n",
       "      <td>150</td>\n",
       "      <td>2024-05-03</td>\n",
       "    </tr>\n",
       "    <tr>\n",
       "      <th>3</th>\n",
       "      <td>4</td>\n",
       "      <td>C</td>\n",
       "      <td>3</td>\n",
       "      <td>300</td>\n",
       "      <td>2024-05-04</td>\n",
       "    </tr>\n",
       "    <tr>\n",
       "      <th>4</th>\n",
       "      <td>5</td>\n",
       "      <td>B</td>\n",
       "      <td>7</td>\n",
       "      <td>200</td>\n",
       "      <td>2024-05-05</td>\n",
       "    </tr>\n",
       "    <tr>\n",
       "      <th>5</th>\n",
       "      <td>6</td>\n",
       "      <td>A</td>\n",
       "      <td>9</td>\n",
       "      <td>150</td>\n",
       "      <td>2024-05-06</td>\n",
       "    </tr>\n",
       "    <tr>\n",
       "      <th>6</th>\n",
       "      <td>7</td>\n",
       "      <td>D</td>\n",
       "      <td>2</td>\n",
       "      <td>400</td>\n",
       "      <td>2024-05-07</td>\n",
       "    </tr>\n",
       "    <tr>\n",
       "      <th>7</th>\n",
       "      <td>8</td>\n",
       "      <td>B</td>\n",
       "      <td>6</td>\n",
       "      <td>200</td>\n",
       "      <td>2024-05-08</td>\n",
       "    </tr>\n",
       "    <tr>\n",
       "      <th>8</th>\n",
       "      <td>9</td>\n",
       "      <td>C</td>\n",
       "      <td>4</td>\n",
       "      <td>300</td>\n",
       "      <td>2024-05-09</td>\n",
       "    </tr>\n",
       "    <tr>\n",
       "      <th>9</th>\n",
       "      <td>10</td>\n",
       "      <td>D</td>\n",
       "      <td>1</td>\n",
       "      <td>400</td>\n",
       "      <td>2024-05-10</td>\n",
       "    </tr>\n",
       "  </tbody>\n",
       "</table>\n",
       "</div>"
      ],
      "text/plain": [
       "   ID Producto  Cantidad  Precio      Fecha\n",
       "0   1        A        10     100 2024-05-01\n",
       "1   2        B         5     200 2024-05-02\n",
       "2   3        A         8     150 2024-05-03\n",
       "3   4        C         3     300 2024-05-04\n",
       "4   5        B         7     200 2024-05-05\n",
       "5   6        A         9     150 2024-05-06\n",
       "6   7        D         2     400 2024-05-07\n",
       "7   8        B         6     200 2024-05-08\n",
       "8   9        C         4     300 2024-05-09\n",
       "9  10        D         1     400 2024-05-10"
      ]
     },
     "execution_count": 133,
     "metadata": {},
     "output_type": "execute_result"
    }
   ],
   "source": [
    "data = {\n",
    "    'ID': range(1, 11),\n",
    "    'Producto': ['A', 'B', 'A', 'C', 'B', 'A', 'D', 'B', 'C', 'D'],\n",
    "    'Cantidad': [10, 5, 8, 3, 7, 9, 2, 6, 4, 1],\n",
    "    'Precio': [100, 200, 150, 300, 200, 150, 400, 200, 300, 400],\n",
    "    'Fecha': [datetime(2024, 5, i+1) for i in range(10)]\n",
    "}\n",
    "df = pd.DataFrame(data)\n",
    "df\n"
   ]
  },
  {
   "cell_type": "code",
   "execution_count": null,
   "id": "80d10097",
   "metadata": {},
   "outputs": [
    {
     "name": "stdout",
     "output_type": "stream",
     "text": [
      "   ID Producto  Cantidad  Precio      Fecha\n",
      "0   1        A        10     100 2024-05-01\n",
      "2   3        A         8     150 2024-05-03\n",
      "5   6        A         9     150 2024-05-06\n"
     ]
    }
   ],
   "source": [
    "#Filter by a specific product\n",
    "print(df[df['Producto']=='A'])"
   ]
  },
  {
   "cell_type": "code",
   "execution_count": null,
   "id": "751735d0",
   "metadata": {},
   "outputs": [
    {
     "name": "stdout",
     "output_type": "stream",
     "text": [
      "Producto\n",
      "A    27\n",
      "B    18\n",
      "C     7\n",
      "D     3\n",
      "Name: Cantidad, dtype: int64\n"
     ]
    }
   ],
   "source": [
    "#Calculate the total sales per product\n",
    "grouped = df.groupby('Producto')\n",
    "print(grouped['Cantidad'].sum())\n",
    "\n",
    "#To skip the groupby step, we can use the groupby method with the aggregate function\n",
    "#print(df.groupby('Producto')['Cantidad'].sum())"
   ]
  },
  {
   "cell_type": "code",
   "execution_count": 140,
   "id": "3248e1af",
   "metadata": {},
   "outputs": [
    {
     "data": {
      "text/html": [
       "<div>\n",
       "<style scoped>\n",
       "    .dataframe tbody tr th:only-of-type {\n",
       "        vertical-align: middle;\n",
       "    }\n",
       "\n",
       "    .dataframe tbody tr th {\n",
       "        vertical-align: top;\n",
       "    }\n",
       "\n",
       "    .dataframe thead th {\n",
       "        text-align: right;\n",
       "    }\n",
       "</style>\n",
       "<table border=\"1\" class=\"dataframe\">\n",
       "  <thead>\n",
       "    <tr style=\"text-align: right;\">\n",
       "      <th></th>\n",
       "      <th>ID</th>\n",
       "      <th>Producto</th>\n",
       "      <th>Cantidad</th>\n",
       "      <th>Precio</th>\n",
       "      <th>Fecha</th>\n",
       "      <th>Total</th>\n",
       "    </tr>\n",
       "  </thead>\n",
       "  <tbody>\n",
       "    <tr>\n",
       "      <th>0</th>\n",
       "      <td>1</td>\n",
       "      <td>A</td>\n",
       "      <td>10</td>\n",
       "      <td>100</td>\n",
       "      <td>2024-05-01</td>\n",
       "      <td>1000</td>\n",
       "    </tr>\n",
       "    <tr>\n",
       "      <th>1</th>\n",
       "      <td>2</td>\n",
       "      <td>B</td>\n",
       "      <td>5</td>\n",
       "      <td>200</td>\n",
       "      <td>2024-05-02</td>\n",
       "      <td>1000</td>\n",
       "    </tr>\n",
       "    <tr>\n",
       "      <th>2</th>\n",
       "      <td>3</td>\n",
       "      <td>A</td>\n",
       "      <td>8</td>\n",
       "      <td>150</td>\n",
       "      <td>2024-05-03</td>\n",
       "      <td>1200</td>\n",
       "    </tr>\n",
       "    <tr>\n",
       "      <th>3</th>\n",
       "      <td>4</td>\n",
       "      <td>C</td>\n",
       "      <td>3</td>\n",
       "      <td>300</td>\n",
       "      <td>2024-05-04</td>\n",
       "      <td>900</td>\n",
       "    </tr>\n",
       "    <tr>\n",
       "      <th>4</th>\n",
       "      <td>5</td>\n",
       "      <td>B</td>\n",
       "      <td>7</td>\n",
       "      <td>200</td>\n",
       "      <td>2024-05-05</td>\n",
       "      <td>1400</td>\n",
       "    </tr>\n",
       "    <tr>\n",
       "      <th>5</th>\n",
       "      <td>6</td>\n",
       "      <td>A</td>\n",
       "      <td>9</td>\n",
       "      <td>150</td>\n",
       "      <td>2024-05-06</td>\n",
       "      <td>1350</td>\n",
       "    </tr>\n",
       "    <tr>\n",
       "      <th>6</th>\n",
       "      <td>7</td>\n",
       "      <td>D</td>\n",
       "      <td>2</td>\n",
       "      <td>400</td>\n",
       "      <td>2024-05-07</td>\n",
       "      <td>800</td>\n",
       "    </tr>\n",
       "    <tr>\n",
       "      <th>7</th>\n",
       "      <td>8</td>\n",
       "      <td>B</td>\n",
       "      <td>6</td>\n",
       "      <td>200</td>\n",
       "      <td>2024-05-08</td>\n",
       "      <td>1200</td>\n",
       "    </tr>\n",
       "    <tr>\n",
       "      <th>8</th>\n",
       "      <td>9</td>\n",
       "      <td>C</td>\n",
       "      <td>4</td>\n",
       "      <td>300</td>\n",
       "      <td>2024-05-09</td>\n",
       "      <td>1200</td>\n",
       "    </tr>\n",
       "    <tr>\n",
       "      <th>9</th>\n",
       "      <td>10</td>\n",
       "      <td>D</td>\n",
       "      <td>1</td>\n",
       "      <td>400</td>\n",
       "      <td>2024-05-10</td>\n",
       "      <td>400</td>\n",
       "    </tr>\n",
       "  </tbody>\n",
       "</table>\n",
       "</div>"
      ],
      "text/plain": [
       "   ID Producto  Cantidad  Precio      Fecha  Total\n",
       "0   1        A        10     100 2024-05-01   1000\n",
       "1   2        B         5     200 2024-05-02   1000\n",
       "2   3        A         8     150 2024-05-03   1200\n",
       "3   4        C         3     300 2024-05-04    900\n",
       "4   5        B         7     200 2024-05-05   1400\n",
       "5   6        A         9     150 2024-05-06   1350\n",
       "6   7        D         2     400 2024-05-07    800\n",
       "7   8        B         6     200 2024-05-08   1200\n",
       "8   9        C         4     300 2024-05-09   1200\n",
       "9  10        D         1     400 2024-05-10    400"
      ]
     },
     "execution_count": 140,
     "metadata": {},
     "output_type": "execute_result"
    }
   ],
   "source": [
    "#Create new column to add total sales product * price\n",
    "df['Total'] = df['Cantidad'] * df['Precio']\n",
    "df"
   ]
  },
  {
   "cell_type": "markdown",
   "id": "72d3d403-7a48-4203-993a-821fff5136e6",
   "metadata": {
    "id": "72d3d403-7a48-4203-993a-821fff5136e6"
   },
   "source": [
    "#### Visualización de Datos con Matplotlib\n",
    "\n",
    "**Descripción**:\n",
    "Visualizar datos utilizando gráficos de línea y de barras.\n",
    "\n",
    "**Instrucciones**:\n",
    "1. Crear una serie temporal de datos de ventas mensuales para un año.\n",
    "2. Graficar las ventas mensuales en un gráfico de línea.\n",
    "3. Graficar un gráfico de barras mostrando las ventas por trimestre.\n",
    "\n",
    "**Solución**:\n",
    "\n",
    "```python\n",
    "import matplotlib.pyplot as plt\n",
    "\n",
    "# Datos de ventas mensuales\n",
    "months = ['Enero', 'Febrero', 'Marzo', 'Abril', 'Mayo', 'Junio', 'Julio', 'Agosto', 'Septiembre', 'Octubre', 'Noviembre', 'Diciembre']\n",
    "ventas_mensuales = [1200, 1500, 1100, 1800, 1600, 1700, 1900, 1750, 1400, 1300, 2000, 2100]\n",
    "\n",
    "# Gráfico de línea\n",
    "plt.figure(figsize=(10, 5))\n",
    "plt.plot(months, ventas_mensuales, marker='o', linestyle='-', color='b')\n",
    "plt.title('Ventas Mensuales')\n",
    "plt.xlabel('Mes')\n",
    "plt.ylabel('Ventas')\n",
    "plt.grid(True)\n",
    "plt.show()\n",
    "\n",
    "# Ventas trimestrales\n",
    "trimestres = ['Q1', 'Q2', 'Q3', 'Q4']\n",
    "ventas_trimestrales = [sum(ventas_mensuales[i:i+3]) for i in range(0, 12, 3)]\n",
    "\n",
    "# Gráfico de barras\n",
    "plt.figure(figsize=(8, 5))\n",
    "plt.bar(trimestres, ventas_trimestrales, color='g')\n",
    "plt.title('Ventas Trimestrales')\n",
    "plt.xlabel('Trimestre')\n",
    "plt.ylabel('Ventas')\n",
    "plt.show()\n",
    "```\n",
    "\n"
   ]
  },
  {
   "cell_type": "code",
   "execution_count": 3,
   "id": "1c674d35-fa40-4a52-9cb5-5aa40fb62e52",
   "metadata": {
    "id": "1c674d35-fa40-4a52-9cb5-5aa40fb62e52"
   },
   "outputs": [
    {
     "data": {
      "image/png": "[encoded data removed]",
      "text/plain": [
       "<Figure size 1000x500 with 1 Axes>"
      ]
     },
     "metadata": {},
     "output_type": "display_data"
    }
   ],
   "source": [
    "months = ['Enero', 'Febrero', 'Marzo', 'Abril', 'Mayo', 'Junio', 'Julio', 'Agosto', 'Septiembre', 'Octubre', 'Noviembre', 'Diciembre']\n",
    "ventas_mensuales = [1200, 1500, 1100, 1800, 1600, 1700, 1900, 1750, 1400, 1300, 2000, 2100]\n",
    "\n",
    "# Gráfico de línea\n",
    "plt.figure(figsize=(10, 5))\n",
    "plt.plot(months, ventas_mensuales, marker='o', linestyle='-', color='b')\n",
    "plt.title('Ventas Mensuales')\n",
    "plt.xlabel('Mes')\n",
    "plt.ylabel('Ventas')\n",
    "plt.grid(True)\n",
    "plt.show()"
   ]
  },
  {
   "cell_type": "code",
   "execution_count": 4,
   "id": "0f2cf6b9",
   "metadata": {},
   "outputs": [
    {
     "data": {
      "image/png": "[encoded data removed]",
      "text/plain": [
       "<Figure size 800x500 with 1 Axes>"
      ]
     },
     "metadata": {},
     "output_type": "display_data"
    }
   ],
   "source": [
    "trimestres = ['Q1', 'Q2', 'Q3', 'Q4']\n",
    "ventas_trimestrales = [sum(ventas_mensuales[i:i+3]) for i in range(0, 12, 3)]\n",
    "\n",
    "plt.figure(figsize=(8, 5))\n",
    "plt.bar(trimestres, ventas_trimestrales, color='g')\n",
    "plt.title('Ventas Trimestrales')\n",
    "plt.xlabel('Trimestre')\n",
    "plt.ylabel('Ventas')\n",
    "plt.show()"
   ]
  },
  {
   "cell_type": "markdown",
   "id": "6cbad55b-bc8e-4b01-a249-8673ea4400a0",
   "metadata": {
    "id": "6cbad55b-bc8e-4b01-a249-8673ea4400a0"
   },
   "source": [
    "#### Análisis Exploratorio de Datos con Seaborn\n",
    "\n",
    "**Descripción**:\n",
    "Usar Seaborn para realizar un análisis exploratorio de datos (EDA).\n",
    "\n",
    "**Instrucciones**:\n",
    "1. Cargar el conjunto de datos 'tips' de Seaborn.\n",
    "2. Crear un gráfico de dispersión mostrando la relación entre la propina y el total de la cuenta.\n",
    "3. Crear un gráfico de caja (boxplot) para comparar la distribución de las propinas entre diferentes días de la semana.\n",
    "\n",
    "**Solución**:\n",
    "\n",
    "```python\n",
    "import seaborn as sns\n",
    "\n",
    "# Cargar datos\n",
    "tips = sns.load_dataset('tips')\n",
    "\n",
    "# Gráfico de dispersión\n",
    "plt.figure(figsize=(8, 5))\n",
    "sns.scatterplot(x='total_bill', y='tip', data=tips)\n",
    "plt.title('Relación entre Total de la Cuenta y Propina')\n",
    "plt.xlabel('Total de la Cuenta')\n",
    "plt.ylabel('Propina')\n",
    "plt.show()\n",
    "\n",
    "# Gráfico de caja\n",
    "plt.figure(figsize=(8, 5))\n",
    "sns.boxplot(x='day', y='tip', data=tips)\n",
    "plt.title('Distribución de Propinas por Día de la Semana')\n",
    "plt.xlabel('Día de la Semana')\n",
    "plt.ylabel('Propina')\n",
    "plt.show()\n",
    "```"
   ]
  },
  {
   "cell_type": "code",
   "execution_count": 6,
   "id": "2eb4dfd8-0cb9-4f6d-b139-adfd1e2bbef0",
   "metadata": {
    "id": "2eb4dfd8-0cb9-4f6d-b139-adfd1e2bbef0"
   },
   "outputs": [
    {
     "data": {
      "text/html": [
       "<div>\n",
       "<style scoped>\n",
       "    .dataframe tbody tr th:only-of-type {\n",
       "        vertical-align: middle;\n",
       "    }\n",
       "\n",
       "    .dataframe tbody tr th {\n",
       "        vertical-align: top;\n",
       "    }\n",
       "\n",
       "    .dataframe thead th {\n",
       "        text-align: right;\n",
       "    }\n",
       "</style>\n",
       "<table border=\"1\" class=\"dataframe\">\n",
       "  <thead>\n",
       "    <tr style=\"text-align: right;\">\n",
       "      <th></th>\n",
       "      <th>total_bill</th>\n",
       "      <th>tip</th>\n",
       "      <th>sex</th>\n",
       "      <th>smoker</th>\n",
       "      <th>day</th>\n",
       "      <th>time</th>\n",
       "      <th>size</th>\n",
       "    </tr>\n",
       "  </thead>\n",
       "  <tbody>\n",
       "    <tr>\n",
       "      <th>0</th>\n",
       "      <td>16.99</td>\n",
       "      <td>1.01</td>\n",
       "      <td>Female</td>\n",
       "      <td>No</td>\n",
       "      <td>Sun</td>\n",
       "      <td>Dinner</td>\n",
       "      <td>2</td>\n",
       "    </tr>\n",
       "    <tr>\n",
       "      <th>1</th>\n",
       "      <td>10.34</td>\n",
       "      <td>1.66</td>\n",
       "      <td>Male</td>\n",
       "      <td>No</td>\n",
       "      <td>Sun</td>\n",
       "      <td>Dinner</td>\n",
       "      <td>3</td>\n",
       "    </tr>\n",
       "    <tr>\n",
       "      <th>2</th>\n",
       "      <td>21.01</td>\n",
       "      <td>3.50</td>\n",
       "      <td>Male</td>\n",
       "      <td>No</td>\n",
       "      <td>Sun</td>\n",
       "      <td>Dinner</td>\n",
       "      <td>3</td>\n",
       "    </tr>\n",
       "    <tr>\n",
       "      <th>3</th>\n",
       "      <td>23.68</td>\n",
       "      <td>3.31</td>\n",
       "      <td>Male</td>\n",
       "      <td>No</td>\n",
       "      <td>Sun</td>\n",
       "      <td>Dinner</td>\n",
       "      <td>2</td>\n",
       "    </tr>\n",
       "    <tr>\n",
       "      <th>4</th>\n",
       "      <td>24.59</td>\n",
       "      <td>3.61</td>\n",
       "      <td>Female</td>\n",
       "      <td>No</td>\n",
       "      <td>Sun</td>\n",
       "      <td>Dinner</td>\n",
       "      <td>4</td>\n",
       "    </tr>\n",
       "  </tbody>\n",
       "</table>\n",
       "</div>"
      ],
      "text/plain": [
       "   total_bill   tip     sex smoker  day    time  size\n",
       "0       16.99  1.01  Female     No  Sun  Dinner     2\n",
       "1       10.34  1.66    Male     No  Sun  Dinner     3\n",
       "2       21.01  3.50    Male     No  Sun  Dinner     3\n",
       "3       23.68  3.31    Male     No  Sun  Dinner     2\n",
       "4       24.59  3.61  Female     No  Sun  Dinner     4"
      ]
     },
     "execution_count": 6,
     "metadata": {},
     "output_type": "execute_result"
    }
   ],
   "source": [
    "# Cargar datos\n",
    "tips = sns.load_dataset('tips')\n",
    "\n",
    "tips.head()"
   ]
  },
  {
   "cell_type": "code",
   "execution_count": 7,
   "id": "c6e83d6f",
   "metadata": {},
   "outputs": [
    {
     "data": {
      "image/png": "[encoded data removed]",
      "text/plain": [
       "<Figure size 800x500 with 1 Axes>"
      ]
     },
     "metadata": {},
     "output_type": "display_data"
    }
   ],
   "source": [
    "# Gráfico de dispersión\n",
    "plt.figure(figsize=(8, 5))\n",
    "sns.scatterplot(x='total_bill', y='tip', data=tips)\n",
    "plt.title('Relación entre Total de la Cuenta y Propina')\n",
    "plt.xlabel('Total de la Cuenta')\n",
    "plt.ylabel('Propina')\n",
    "plt.show()"
   ]
  },
  {
   "cell_type": "code",
   "execution_count": 8,
   "id": "bd0ba507",
   "metadata": {},
   "outputs": [
    {
     "data": {
      "image/png": "[encoded data removed]",
      "text/plain": [
       "<Figure size 800x500 with 1 Axes>"
      ]
     },
     "metadata": {},
     "output_type": "display_data"
    }
   ],
   "source": [
    "# Gráfico de caja\n",
    "plt.figure(figsize=(8, 5))\n",
    "sns.boxplot(x='day', y='tip', data=tips)\n",
    "plt.title('Distribución de Propinas por Día de la Semana')\n",
    "plt.xlabel('Día de la Semana')\n",
    "plt.ylabel('Propina')\n",
    "plt.show()"
   ]
  },
  {
   "cell_type": "markdown",
   "id": "e80299f6-1f8b-4866-bd20-68d2d3e85e1b",
   "metadata": {
    "id": "e80299f6-1f8b-4866-bd20-68d2d3e85e1b"
   },
   "source": [
    "Utilizar Seaborn para ilustrar cómo generar diferentes tipos de gráficos: un histograma, un gráfico de barras y un mapa de calor de correlación."
   ]
  },
  {
   "cell_type": "code",
   "execution_count": 10,
   "id": "c0812620-d915-4e87-847a-bce2d449820c",
   "metadata": {
    "id": "c0812620-d915-4e87-847a-bce2d449820c",
    "outputId": "fcfc4e95-4233-40cb-ff51-d18ab14ea925"
   },
   "outputs": [
    {
     "data": {
      "text/html": [
       "<div>\n",
       "<style scoped>\n",
       "    .dataframe tbody tr th:only-of-type {\n",
       "        vertical-align: middle;\n",
       "    }\n",
       "\n",
       "    .dataframe tbody tr th {\n",
       "        vertical-align: top;\n",
       "    }\n",
       "\n",
       "    .dataframe thead th {\n",
       "        text-align: right;\n",
       "    }\n",
       "</style>\n",
       "<table border=\"1\" class=\"dataframe\">\n",
       "  <thead>\n",
       "    <tr style=\"text-align: right;\">\n",
       "      <th></th>\n",
       "      <th>numerical_col1</th>\n",
       "      <th>numerical_col2</th>\n",
       "      <th>numerical_col3</th>\n",
       "      <th>categorical_col</th>\n",
       "    </tr>\n",
       "  </thead>\n",
       "  <tbody>\n",
       "    <tr>\n",
       "      <th>0</th>\n",
       "      <td>0.496714</td>\n",
       "      <td>41.741100</td>\n",
       "      <td>98</td>\n",
       "      <td>Category B</td>\n",
       "    </tr>\n",
       "    <tr>\n",
       "      <th>1</th>\n",
       "      <td>-0.138264</td>\n",
       "      <td>22.210781</td>\n",
       "      <td>21</td>\n",
       "      <td>Category C</td>\n",
       "    </tr>\n",
       "    <tr>\n",
       "      <th>2</th>\n",
       "      <td>0.647689</td>\n",
       "      <td>11.986537</td>\n",
       "      <td>30</td>\n",
       "      <td>Category B</td>\n",
       "    </tr>\n",
       "    <tr>\n",
       "      <th>3</th>\n",
       "      <td>1.523030</td>\n",
       "      <td>33.761517</td>\n",
       "      <td>97</td>\n",
       "      <td>Category C</td>\n",
       "    </tr>\n",
       "    <tr>\n",
       "      <th>4</th>\n",
       "      <td>-0.234153</td>\n",
       "      <td>94.290970</td>\n",
       "      <td>28</td>\n",
       "      <td>Category A</td>\n",
       "    </tr>\n",
       "  </tbody>\n",
       "</table>\n",
       "</div>"
      ],
      "text/plain": [
       "   numerical_col1  numerical_col2  numerical_col3 categorical_col\n",
       "0        0.496714       41.741100              98      Category B\n",
       "1       -0.138264       22.210781              21      Category C\n",
       "2        0.647689       11.986537              30      Category B\n",
       "3        1.523030       33.761517              97      Category C\n",
       "4       -0.234153       94.290970              28      Category A"
      ]
     },
     "execution_count": 10,
     "metadata": {},
     "output_type": "execute_result"
    }
   ],
   "source": [
    "import numpy as np\n",
    "import pandas as pd\n",
    "import seaborn as sns\n",
    "import matplotlib.pyplot as plt\n",
    "\n",
    "# Configurar el entorno para que los gráficos se muestren en el notebook\n",
    "%matplotlib inline\n",
    "\n",
    "# Crear datos artificiales\n",
    "np.random.seed(42)\n",
    "data = {\n",
    "    'numerical_col1': np.random.randn(100),\n",
    "    'numerical_col2': np.random.rand(100) * 100,\n",
    "    'numerical_col3': np.random.randint(1, 100, 100),\n",
    "    'categorical_col': np.random.choice(['Category A', 'Category B', 'Category C'], 100)\n",
    "}\n",
    "\n",
    "# Crear DataFrame\n",
    "df = pd.DataFrame(data)\n",
    "\n",
    "# Mostrar las primeras filas del DataFrame\n",
    "df.head()\n"
   ]
  },
  {
   "cell_type": "code",
   "execution_count": 11,
   "id": "27e59c39-ceb0-4e00-9d0c-9441629aaed8",
   "metadata": {
    "id": "27e59c39-ceb0-4e00-9d0c-9441629aaed8",
    "outputId": "f78dbebb-bf8a-408c-8fa0-bb31bea31925"
   },
   "outputs": [
    {
     "data": {
      "image/png": "[encoded data removed]",
      "text/plain": [
       "<Figure size 1000x600 with 1 Axes>"
      ]
     },
     "metadata": {},
     "output_type": "display_data"
    }
   ],
   "source": [
    "# Histograma de numerical_col1\n",
    "plt.figure(figsize=(10, 6))\n",
    "sns.histplot(df['numerical_col1'], bins=20, kde=True)\n",
    "plt.title('Histograma de numerical_col1')\n",
    "plt.xlabel('numerical_col1')\n",
    "plt.ylabel('Frecuencia')\n",
    "plt.show()\n"
   ]
  },
  {
   "cell_type": "code",
   "execution_count": 13,
   "id": "77833229-e13a-416c-b493-fc118bdd7891",
   "metadata": {
    "id": "77833229-e13a-416c-b493-fc118bdd7891",
    "outputId": "c9cc6ae9-78f2-4acd-aee4-d3757b98f157"
   },
   "outputs": [
    {
     "data": {
      "image/png": "[encoded data removed]",
      "text/plain": [
       "<Figure size 1000x600 with 1 Axes>"
      ]
     },
     "metadata": {},
     "output_type": "display_data"
    }
   ],
   "source": [
    "# Gráfico de barras entre categorical_col y numerical_col2\n",
    "plt.figure(figsize=(10, 6))\n",
    "sns.barplot(x='categorical_col', y='numerical_col2', data=df, errorbar=None)\n",
    "plt.title('Relación entre categorical_col y numerical_col2')\n",
    "plt.xlabel('Categoría')\n",
    "plt.ylabel('Valor Medio de numerical_col2')\n",
    "plt.show()"
   ]
  },
  {
   "cell_type": "code",
   "execution_count": null,
   "id": "395d1e85-0a7e-4a7f-91b9-09974834921a",
   "metadata": {
    "id": "395d1e85-0a7e-4a7f-91b9-09974834921a",
    "outputId": "49867926-8927-43ea-c440-5ed61f89e0cc"
   },
   "outputs": [
    {
     "data": {
      "image/png": "[encoded data removed]",
      "text/plain": [
       "<Figure size 1000x600 with 2 Axes>"
      ]
     },
     "metadata": {},
     "output_type": "display_data"
    }
   ],
   "source": [
    "# Calcular la correlación entre las columnas numéricas\n",
    "corr = df[['numerical_col1', 'numerical_col2', 'numerical_col3']].corr()\n",
    "\n",
    "# Mapa de calor de correlación\n",
    "#Heatmap can be used to show the correlation between the columns\n",
    "#Seaborn can make heapmap based on the correlation\n",
    "plt.figure(figsize=(10, 6))\n",
    "sns.heatmap(corr, annot=True, cmap='coolwarm', vmin=-1, vmax=1)\n",
    "plt.title('Mapa de Calor de Correlación')\n",
    "plt.show()\n"
   ]
  }
 ],
 "metadata": {
  "colab": {
   "provenance": []
  },
  "kernelspec": {
   "display_name": "Python 3",
   "language": "python",
   "name": "python3"
  },
  "language_info": {
   "codemirror_mode": {
    "name": "ipython",
    "version": 3
   },
   "file_extension": ".py",
   "mimetype": "text/x-python",
   "name": "python",
   "nbconvert_exporter": "python",
   "pygments_lexer": "ipython3",
   "version": "3.13.2"
  }
 },
 "nbformat": 4,
 "nbformat_minor": 5
}
