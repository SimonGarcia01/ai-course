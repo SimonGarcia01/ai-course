{
 "cells": [
  {
   "cell_type": "markdown",
   "id": "1cccb0fa-9684-428f-8aa6-01220f1034f9",
   "metadata": {},
   "source": [
    "# Conceptos Fundamentales de Python\n",
    "\n",
    "## Breve Historia de Python\n",
    "Python es un lenguaje de programación de alto nivel creado por Guido van Rossum en 1991. Se caracteriza por su sintaxis clara y legible, lo que lo hace ideal para principiantes y expertos por igual. Python es ampliamente utilizado en diversas áreas, como desarrollo web, análisis de datos, inteligencia artificial, entre otros.\n",
    "\n",
    "## Diferencias con Otros Lenguajes\n",
    "Python se diferencia de lenguajes como C, C++ y Java en varios aspectos:\n",
    "- Python es interpretado, lo que significa que el código se ejecuta línea por línea sin necesidad de compilarlo previamente.\n",
    "- Python es dinámicamente tipado, lo que permite la flexibilidad en el manejo de tipos de datos.\n",
    "- Python se enfoca en la legibilidad del código y la simplicidad, lo que facilita su aprendizaje y uso.\n",
    "\n",
    "## Tipos de Datos\n",
    "Python admite diversos tipos de datos, incluyendo:\n",
    "- Enteros (int)\n",
    "- Flotantes (float)\n",
    "- Cadenas de texto (str)\n",
    "- Listas (list)\n",
    "- Tuplas (tuple)\n",
    "- Diccionarios (dict)\n",
    "- Conjuntos (set)\n",
    "- Booleanos (bool)\n",
    "\n",
    "### Ejemplos de Uso de Tipos de Datos:\n",
    "- Enteros: Representación de cantidades enteras, como la edad de una persona.\n",
    "- Flotantes: Representación de valores decimales, como la altura de una persona.\n",
    "- Cadenas de Texto: Representación de nombres, direcciones, etc.\n",
    "- Listas: Almacenamiento de elementos ordenados, como una lista de tareas pendientes.\n",
    "- Diccionarios: Asociación de claves con valores, como un diccionario de definiciones.\n",
    "- Conjuntos: Almacenamiento de elementos únicos, como un conjunto de palabras clave.\n",
    "- Booleanos: Representación de valores de verdad, como verdadero o falso.\n",
    "\n"
   ]
  },
  {
   "cell_type": "markdown",
   "id": "82571d8f-643d-45e9-8bfb-85d16825e2e3",
   "metadata": {},
   "source": [
    "### Enteros (int):\n",
    "```python\n",
    "edad = 25\n",
    "cantidad_productos = 10\n",
    "numero_telefono = 1234567890\n",
    "```\n"
   ]
  },
  {
   "cell_type": "code",
   "execution_count": null,
   "id": "c8920579-487f-4130-a172-378536af48c9",
   "metadata": {},
   "outputs": [],
   "source": [
    "#ints\n",
    "age = 25\n",
    "#xd"
   ]
  },
  {
   "cell_type": "markdown",
   "id": "6c021378-9bf8-46e8-8e6f-8f3420f06cc8",
   "metadata": {},
   "source": [
    "\n",
    "### Flotantes (float):\n",
    "```python\n",
    "precio = 19.99\n",
    "pi = 3.14159\n",
    "tasa_interes = 0.05\n",
    "```\n"
   ]
  },
  {
   "cell_type": "code",
   "execution_count": 3,
   "id": "e157085e-058b-4f5a-b9a3-cbdac982208c",
   "metadata": {},
   "outputs": [],
   "source": [
    "#floats\n",
    "price = 10.50"
   ]
  },
  {
   "cell_type": "markdown",
   "id": "c054f0c1-16c0-4dc6-bcee-934e674e086f",
   "metadata": {},
   "source": [
    "\n",
    "### Cadenas de Texto (str):\n",
    "```python\n",
    "nombre = \"Juan\"\n",
    "apellido = 'Pérez'\n",
    "direccion = \"Calle Principal, 123\"\n",
    "mensaje = '¡Hola, mundo!'\n",
    "```\n"
   ]
  },
  {
   "cell_type": "code",
   "execution_count": 5,
   "id": "6622d880-3c4a-46de-8326-effc0011fd48",
   "metadata": {},
   "outputs": [],
   "source": [
    "#strings (str)\n",
    "name = \"John\""
   ]
  },
  {
   "cell_type": "markdown",
   "id": "db1d3502-7849-44cd-a147-212bbb16a171",
   "metadata": {},
   "source": [
    "### Booleanos (bool):\n",
    "```python\n",
    "activo = True\n",
    "es_mayor_de_edad = False\n",
    "```"
   ]
  },
  {
   "cell_type": "code",
   "execution_count": 6,
   "id": "0767152a-8040-4bba-be41-b4303fc8c5fa",
   "metadata": {},
   "outputs": [],
   "source": [
    "#Booleans (bool)\n",
    "active = True\n",
    "notActive = False"
   ]
  },
  {
   "cell_type": "markdown",
   "id": "c9bed484-36ea-4108-a14a-d81c3e7a4e66",
   "metadata": {},
   "source": [
    "## Listas, Diccionarios, Ciclos y Condicionales\n",
    "Python proporciona estructuras de datos y constructos de control de flujo para manipular datos de manera efectiva.\n"
   ]
  },
  {
   "cell_type": "markdown",
   "id": "e978f725-c202-46d9-9c1d-bb8e51ef0cce",
   "metadata": {},
   "source": [
    "\n",
    "### Listas (list):\n",
    "```python\n",
    "numeros = [1, 2, 3, 4, 5]\n",
    "nombres = ['Juan', 'María', 'Pedro']\n",
    "mezclado = [1, 'dos', 3.0, True]\n",
    "\n",
    "# Acceder a elementos de la lista\n",
    "print(numeros[0])  # Imprime el primer elemento (índice 0)\n",
    "```\n",
    "\n"
   ]
  },
  {
   "cell_type": "code",
   "execution_count": null,
   "id": "66ffd729-fba9-4604-b20d-d0ca247de3d4",
   "metadata": {},
   "outputs": [
    {
     "name": "stdout",
     "output_type": "stream",
     "text": [
      "25\n",
      "Jane\n",
      "True\n",
      "0\n",
      "Jane Doe\n",
      "False String\n"
     ]
    }
   ],
   "source": [
    "#lists\n",
    "\n",
    "#list of integers\n",
    "ages = [25, 30, 35, 40]\n",
    "\n",
    "#list of strings\n",
    "names = [\"John\", \"Jane\", \"Jack\"]\n",
    "\n",
    "#list of mixed data types\n",
    "person = [\"John\", 25, True]\n",
    "\n",
    "#accessing elements has a 0 index\n",
    "print(ages[0])\n",
    "print(names[1])\n",
    "print(person[2])\n",
    "\n",
    "#changing elements (doesn't have to be the same type)\n",
    "ages[0] = 0\n",
    "names[1] = \"Jane Doe\"\n",
    "person[2] = \"False String\"\n",
    "print(ages[0])\n",
    "print(names[1])\n",
    "print(person[2])"
   ]
  },
  {
   "cell_type": "markdown",
   "id": "9c39d9b8-08a4-4f0c-ab78-34f81885d24c",
   "metadata": {},
   "source": [
    "### Tuplas (tuple):\n",
    "```python\n",
    "coordenadas = (10, 20)\n",
    "colores = ('rojo', 'verde', 'azul')\n",
    "```"
   ]
  },
  {
   "cell_type": "code",
   "execution_count": 9,
   "id": "32090ec1-5585-4def-baf0-c35e0e96267c",
   "metadata": {},
   "outputs": [
    {
     "name": "stdout",
     "output_type": "stream",
     "text": [
      "10\n",
      "blue\n"
     ]
    }
   ],
   "source": [
    "#Tuples are similar to lists but are immutable\n",
    "coordinate = (10, 20)\n",
    "colors = (\"red\", \"green\", \"blue\")\n",
    "\n",
    "print(coordinate[0])\n",
    "print(colors[2])"
   ]
  },
  {
   "cell_type": "markdown",
   "id": "a1bfbfb7-4daa-4871-9ebd-b52f63ff6910",
   "metadata": {},
   "source": [
    "\n",
    "\n",
    "### Diccionarios (dict):\n",
    "```python\n",
    "# Crear diccionarios\n",
    "persona = {'nombre': 'Juan', 'edad': 30, 'ciudad': 'Madrid'}\n",
    "producto = {'nombre': 'Camisa', 'precio': 29.99, 'stock': 100}\n",
    "\n",
    "# Crear un diccionario de nombres y edades\n",
    "personas = {'Juan': 30, 'María': 25, 'Pedro': 35}\n",
    "\n",
    "# Acceder a valores por clave\n",
    "print(personas['Juan'])  # Imprime la edad de Juan\n",
    "```\n"
   ]
  },
  {
   "cell_type": "code",
   "execution_count": 14,
   "id": "e0d6fc1f-bc4c-4877-a073-f76117623821",
   "metadata": {},
   "outputs": [
    {
     "name": "stdout",
     "output_type": "stream",
     "text": [
      "John\n",
      "25\n",
      "True\n"
     ]
    }
   ],
   "source": [
    "#Dictitonaries are lists that instead of indexes use keys\n",
    "person = {\n",
    "    'name': \"John\",\n",
    "    'age': 25,\n",
    "    'is_active': True\n",
    "}\n",
    "\n",
    "print(person['name'])\n",
    "print(person['age'])\n",
    "print(person['is_active'])"
   ]
  },
  {
   "cell_type": "markdown",
   "id": "6fc809f3-a3b1-41af-ac54-f9de69776999",
   "metadata": {},
   "source": [
    "\n",
    "### Conjuntos (set):\n",
    "```python\n",
    "numeros_primos = {2, 3, 5, 7, 11}\n",
    "vocales = {'a', 'e', 'i', 'o', 'u'}\n",
    "\n",
    "```"
   ]
  },
  {
   "cell_type": "code",
   "execution_count": null,
   "id": "d8eea518-7184-4ca1-9f49-458bb935e2c1",
   "metadata": {},
   "outputs": [
    {
     "name": "stdout",
     "output_type": "stream",
     "text": [
      "{2, 3, 5, 7, 11}\n"
     ]
    }
   ],
   "source": [
    "#sets are similar to lists but they don't allow duplicates and since there is no order,\n",
    "#indixes dont work\n",
    "\n",
    "numeros_primos = {2, 3, 5, 7, 11}\n",
    "vocales = {'a', 'e', 'i', 'o', 'u'}\n",
    "\n",
    "print(numeros_primos)"
   ]
  },
  {
   "cell_type": "markdown",
   "id": "a6c6f8b8-3e83-49ed-98ba-9136a0891afa",
   "metadata": {},
   "source": [
    "### Acceder a elementos del conjunto\n",
    "\n",
    "No puede acceder a los elementos de un conjunto haciendo referencia a un índice, ya que los conjuntos están desordenados y los elementos no tienen índice.\n",
    "\n",
    "Pero puedes recorrer los elementos del conjunto usando un bucle for, o preguntar si un valor específico está presente en un conjunto, usando la palabra clave **in**."
   ]
  },
  {
   "cell_type": "code",
   "execution_count": 24,
   "id": "11ee950b-adbf-4aea-940b-ffb82b6a1b7a",
   "metadata": {},
   "outputs": [
    {
     "name": "stdout",
     "output_type": "stream",
     "text": [
      "i\n",
      "a\n",
      "o\n",
      "u\n",
      "e\n",
      "True\n"
     ]
    }
   ],
   "source": [
    "for x in vocales:\n",
    "  print(x) \n",
    "\n",
    "#check if the element exists in the set\n",
    "print(\"a\" in vocales)"
   ]
  },
  {
   "cell_type": "markdown",
   "id": "763ae263-5eaa-4c53-8882-9f9c0e7222af",
   "metadata": {},
   "source": [
    "# Ciclos y condicionales\n",
    "Los ciclos y condicionales son estructuras de control de flujo que permiten a los programas tomar decisiones y repetir tareas de manera controlada en Python. Aquí tienes una explicación de cada uno:\n",
    "\n",
    "### Ciclos:\n",
    "Los ciclos, también conocidos como bucles, son utilizados para ejecutar un bloque de código repetidamente mientras se cumpla una condición. Hay dos tipos principales de ciclos en Python: `for` y `while`.\n",
    "\n",
    "#### Ciclo `for`:\n",
    "El ciclo `for` se utiliza para iterar sobre una secuencia (como una lista, tupla, diccionario, etc.) y ejecutar un bloque de código una vez para cada elemento en la secuencia.\n",
    "\n"
   ]
  },
  {
   "cell_type": "markdown",
   "id": "e9ff8ada-4e68-4b67-ab9a-2a96a1960255",
   "metadata": {},
   "source": [
    "```python\n",
    "# Ejemplo de ciclo for\n",
    "numeros = [1, 2, 3, 4, 5]\n",
    "for numero in numeros:\n",
    "    print(numero)\n",
    "```\n",
    "\n",
    "En este ejemplo, el bloque de código dentro del ciclo `for` se ejecutará una vez para cada número en la lista `numeros`, imprimiendo cada número en la salida estándar.\n",
    "\n"
   ]
  },
  {
   "cell_type": "code",
   "execution_count": 27,
   "id": "18007b9f-2e3f-4072-a925-476b64963984",
   "metadata": {},
   "outputs": [
    {
     "name": "stdout",
     "output_type": "stream",
     "text": [
      "2\n",
      "4\n",
      "6\n",
      "8\n",
      "10\n"
     ]
    }
   ],
   "source": [
    "#for example\n",
    "numbers = [1, 2, 3, 4, 5, 6, 7, 8, 9, 10]\n",
    "for number in numbers:\n",
    "  if number % 2 == 0:\n",
    "    print(number)"
   ]
  },
  {
   "cell_type": "markdown",
   "id": "6c090415-5943-4014-ab78-0a724993c698",
   "metadata": {},
   "source": [
    "\n",
    "#### Ciclo `while`:\n",
    "El ciclo `while` se utiliza para ejecutar un bloque de código repetidamente mientras se cumpla una condición especificada.\n",
    "\n",
    "```python\n",
    "# Ejemplo de ciclo while\n",
    "contador = 0\n",
    "while contador < 5:\n",
    "    print(\"El contador es:\", contador)\n",
    "    contador += 1\n",
    "```"
   ]
  },
  {
   "cell_type": "code",
   "execution_count": 28,
   "id": "040b5abf-bd27-4a4c-898b-8f8afe25a6fa",
   "metadata": {},
   "outputs": [
    {
     "name": "stdout",
     "output_type": "stream",
     "text": [
      "0\n",
      "1\n",
      "2\n",
      "3\n",
      "4\n",
      "5\n",
      "6\n",
      "7\n",
      "8\n",
      "9\n"
     ]
    }
   ],
   "source": [
    "#while loop example\n",
    "count = 0\n",
    "while count < 10:\n",
    "  print(count)\n",
    "  count += 1"
   ]
  },
  {
   "cell_type": "markdown",
   "id": "5d74c768-7e92-48ba-9264-5ffa99edc4e7",
   "metadata": {},
   "source": [
    "### Condicionales:\n",
    "Los condicionales se utilizan para tomar decisiones en un programa. Permiten ejecutar diferentes bloques de código según si una condición dada es verdadera o falsa. En Python, los condicionales se definen con las palabras clave `if`, `elif` (opcional) y `else`.\n",
    "\n",
    "```python\n",
    "# Ejemplo de condicional\n",
    "edad = 18\n",
    "if edad >= 18:\n",
    "    print(\"Eres mayor de edad\")\n",
    "else:\n",
    "    print(\"Eres menor de edad\")\n",
    "```\n",
    "\n",
    "Si la variable `edad` es mayor o igual a 18, se imprimirá \"Eres mayor de edad\". De lo contrario, se imprimirá \"Eres menor de edad\".\n",
    "\n",
    "Los condicionales también pueden contener múltiples condiciones utilizando la palabra clave `elif` (abreviatura de \"else if\").\n",
    "\n",
    "```python\n",
    "# Ejemplo de condicional con elif\n",
    "numero = 0\n",
    "if numero > 0:\n",
    "    print(\"El número es positivo\")\n",
    "elif numero < 0:\n",
    "    print(\"El número es negativo\")\n",
    "else:\n",
    "    print(\"El número es cero\")\n",
    "```\n",
    "\n",
    "Si el número es mayor que 0, se imprimirá \"El número es positivo\". Si es menor que 0, se imprimirá \"El número es negativo\". Si ninguna de estas condiciones se cumple, se imprimirá \"El número es cero\".\n"
   ]
  },
  {
   "cell_type": "code",
   "execution_count": 29,
   "id": "2dc85435-ef76-411f-a280-f935e6f7ea6b",
   "metadata": {},
   "outputs": [
    {
     "name": "stdout",
     "output_type": "stream",
     "text": [
      "You are an adult\n"
     ]
    }
   ],
   "source": [
    "#if else example\n",
    "age = 25\n",
    "if age >= 18:\n",
    "  print(\"You are an adult\")\n",
    "else:\n",
    "  print(\"You are a minor\")"
   ]
  },
  {
   "cell_type": "code",
   "execution_count": 30,
   "id": "db70e3cd-9937-4c6a-b626-9aaafff3aed4",
   "metadata": {},
   "outputs": [
    {
     "name": "stdout",
     "output_type": "stream",
     "text": [
      "You are an adult\n"
     ]
    }
   ],
   "source": [
    "#if else elif example\n",
    "age = 25\n",
    "if age >= 18:\n",
    "  print(\"You are an adult\")\n",
    "elif age >= 13:\n",
    "    print(\"You are a teenager\")\n",
    "else:\n",
    "    print(\"You are a minor\")"
   ]
  },
  {
   "cell_type": "markdown",
   "id": "92e62ba7-6e40-4db8-a0e8-58a36b1b9398",
   "metadata": {},
   "source": [
    "## Ejemplos \n",
    "Python es versátil y puede utilizarse para resolver una amplia gama de problemas, como cálculos matemáticos, análisis de datos, procesamiento de texto, entre otros.\n",
    "\n",
    "### Ejemplo: Suma de Números Pares\n",
    "```python\n",
    "# Suma de números pares del 1 al 10\n",
    "suma = 0\n",
    "for i in range(1, 11):\n",
    "    if i % 2 == 0:\n",
    "        suma += i\n",
    "print(\"La suma de los números pares del 1 al 10 es:\", suma)\n",
    "```\n"
   ]
  },
  {
   "cell_type": "code",
   "execution_count": null,
   "id": "51028f2b-8269-4f07-8bfc-95501783b891",
   "metadata": {},
   "outputs": [
    {
     "name": "stdout",
     "output_type": "stream",
     "text": [
      "55\n",
      "2\n",
      "4\n",
      "6\n",
      "8\n",
      "10\n"
     ]
    }
   ],
   "source": [
    "#for loop with explicit values\n",
    "sum = 0\n",
    "#range(start, stop, step)\n",
    "#stop is not included\n",
    "for i in range(1, 11):\n",
    "  sum += i\n",
    "print(sum)\n",
    "\n",
    "#printing even numbers\n",
    "for i in range(2, 11, 2):\n",
    "  print(i)"
   ]
  },
  {
   "cell_type": "markdown",
   "id": "0c987218-acdf-4c6d-9314-b103f930f0cb",
   "metadata": {},
   "source": [
    "\n",
    "### Ejemplo: Conteo de Palabras en un Texto\n",
    "```python\n",
    "# Conteo de palabras en un texto\n",
    "texto = \"Python es un lenguaje de programación fácil de aprender y poderoso\"\n",
    "palabras = texto.split()\n",
    "conteo = len(palabras)\n",
    "print(\"El texto contiene\", conteo, \"palabras.\")\n",
    "```\n"
   ]
  },
  {
   "cell_type": "code",
   "execution_count": 39,
   "id": "a4223816-95c4-46a2-9c5a-6e6432f4dcd0",
   "metadata": {},
   "outputs": [
    {
     "name": "stdout",
     "output_type": "stream",
     "text": [
      "Length of a string:  21\n",
      "length of a list:  4\n"
     ]
    }
   ],
   "source": [
    "#counting words in a text\n",
    "text = \"Hello World some text\"\n",
    "print(\"Length of a string: \", len(text))\n",
    "#split the text into a list of words\n",
    "#default separator is a space\n",
    "#you can specify a different separator\n",
    "text = text.split()\n",
    "print(\"length of a list: \", len(text))"
   ]
  }
 ],
 "metadata": {
  "kernelspec": {
   "display_name": "Python 3",
   "language": "python",
   "name": "python3"
  },
  "language_info": {
   "codemirror_mode": {
    "name": "ipython",
    "version": 3
   },
   "file_extension": ".py",
   "mimetype": "text/x-python",
   "name": "python",
   "nbconvert_exporter": "python",
   "pygments_lexer": "ipython3",
   "version": "3.13.2"
  }
 },
 "nbformat": 4,
 "nbformat_minor": 5
}
