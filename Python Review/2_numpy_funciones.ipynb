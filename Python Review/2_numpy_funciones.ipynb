{
 "cells": [
  {
   "cell_type": "markdown",
   "id": "8edd2359-ba67-42e1-93ff-989602921ccb",
   "metadata": {},
   "source": [
    "# Introducción a NumPy\n",
    "\n",
    "### Introducción:\n",
    "NumPy es una biblioteca fundamental en Python para computación numérica. Proporciona estructuras de datos eficientes para trabajar con matrices multidimensionales y funciones para realizar operaciones matemáticas en estas matrices de manera rápida y eficiente. En esta guía, aprenderemos a utilizar NumPy para tareas comunes de análisis de datos.\n",
    "\n",
    "### 1. Instalación de NumPy: Normalmente este paso no es necesario!!\n",
    "Asegúrate de tener NumPy instalado en tu entorno de Python:\n",
    "```bash\n",
    "pip install numpy\n",
    "```\n",
    "\n",
    "### 2. Importación de NumPy:\n",
    "```python\n",
    "import numpy as np\n",
    "```\n",
    "\n"
   ]
  },
  {
   "cell_type": "code",
   "execution_count": 2,
   "id": "71c46538",
   "metadata": {},
   "outputs": [
    {
     "name": "stdout",
     "output_type": "stream",
     "text": [
      "Requirement already satisfied: numpy in c:\\users\\diana\\appdata\\local\\programs\\python\\python313\\lib\\site-packages (2.2.2)\n",
      "Note: you may need to restart the kernel to use updated packages.\n"
     ]
    }
   ],
   "source": [
    "pip install numpy"
   ]
  },
  {
   "cell_type": "code",
   "execution_count": 3,
   "id": "383af35e-842e-466b-ac9d-d05bd81502dd",
   "metadata": {},
   "outputs": [],
   "source": [
    "import numpy as np"
   ]
  },
  {
   "cell_type": "markdown",
   "id": "628e281b-b517-4280-8f77-ca1ed6ab841b",
   "metadata": {},
   "source": [
    "\n",
    "### 3. Creación de Arrays Numéricos:\n",
    "```python\n",
    "# Crear un array de una dimensión\n",
    "array_1d = np.array([1, 2, 3, 4, 5])\n",
    "\n",
    "# Crear un array de dos dimensiones (matriz)\n",
    "matriz_2d = np.array([[1, 2, 3], [4, 5, 6], [7, 8, 9]])\n",
    "```\n"
   ]
  },
  {
   "cell_type": "code",
   "execution_count": 4,
   "id": "126788e5-7281-4475-adab-53f2d4a4499d",
   "metadata": {},
   "outputs": [
    {
     "name": "stdout",
     "output_type": "stream",
     "text": [
      "[1 2 3 4 5]\n",
      "[[1 2 3]\n",
      " [4 5 6]]\n"
     ]
    }
   ],
   "source": [
    "#create a 1D array\n",
    "a = np.array([1, 2, 3, 4, 5])\n",
    "print(a)\n",
    "\n",
    "#create a 2D array\n",
    "b = np.array([[1, 2, 3], [4, 5, 6]])\n",
    "print(b)"
   ]
  },
  {
   "cell_type": "markdown",
   "id": "94b2c72d-c89a-4c74-ab51-1a8276c4a6ff",
   "metadata": {},
   "source": [
    "\n",
    "### 4. Operaciones Básicas con Arrays:\n",
    "```python\n",
    "# Suma de arrays\n",
    "suma = array_1d + array_1d\n",
    "\n",
    "# Multiplicación de arrays\n",
    "producto = array_1d * 2\n",
    "\n",
    "# Producto punto (dot product) de dos arrays\n",
    "dot_product = np.dot(array_1d, array_1d)\n",
    "```\n"
   ]
  },
  {
   "cell_type": "code",
   "execution_count": 8,
   "id": "cf63dc0c-4fed-4d73-a517-9007ebd8cc8d",
   "metadata": {},
   "outputs": [
    {
     "name": "stdout",
     "output_type": "stream",
     "text": [
      "Original Array: [1 2 3 4 5]\n",
      "Scalar addition [3 4 5 6 7]\n",
      "Scalar multiplication [ 2  4  6  8 10]\n",
      "Array element wise addition [ 2  4  6  8 10]\n",
      "Array element wise multiplication [ 1  4  9 16 25]\n",
      "55\n"
     ]
    }
   ],
   "source": [
    "#operations on arrays\n",
    "a = np.array([1, 2, 3, 4, 5])\n",
    "print(\"Original Array:\", a)\n",
    "\n",
    "#scalar addition\n",
    "print(\"Scalar addition\", a + 2)\n",
    "\n",
    "#scalar multiplication\n",
    "print(\"Scalar multiplication\", a * 2)\n",
    "\n",
    "#element-wise addition\n",
    "print(\"Array element wise addition\", a + a)\n",
    "\n",
    "#element-wise multiplication\n",
    "print(\"Array element wise multiplication\", a * a)\n",
    "\n",
    "#dot product\n",
    "print(np.dot(a, a))"
   ]
  },
  {
   "cell_type": "markdown",
   "id": "bc558a40-e615-4d20-80ba-14cdbf86c001",
   "metadata": {},
   "source": [
    "\n",
    "### 5. Funciones y Métodos de NumPy:\n",
    "```python\n",
    "# Calcular la media de un array\n",
    "media = np.mean(array_1d)\n",
    "\n",
    "# Calcular la desviación estándar de un array\n",
    "desviacion_estandar = np.std(array_1d)\n",
    "\n",
    "# Redimensionar un array\n",
    "array_redimensionado = np.reshape(array_1d, (2, 3))\n",
    "```\n"
   ]
  },
  {
   "cell_type": "code",
   "execution_count": 12,
   "id": "36e2c813-4a57-4f2f-80fc-f93e4cfe9579",
   "metadata": {},
   "outputs": [
    {
     "name": "stdout",
     "output_type": "stream",
     "text": [
      "Original Array: [1 2 3 4 5]\n",
      "Mean: 3.0\n",
      "Standard Deviation: 1.4142135623730951\n",
      "Variance: 2.0\n",
      "Min: 1\n",
      "Max: 5\n",
      "Sum: 15\n",
      "Cumulative Sum: [ 1  3  6 10 15]\n",
      "Cumulative Product: [  1   2   6  24 120]\n",
      "[[1]\n",
      " [2]\n",
      " [3]\n",
      " [4]\n",
      " [5]]\n"
     ]
    }
   ],
   "source": [
    "a = np.array([1, 2, 3, 4, 5])\n",
    "print(\"Original Array:\", a)\n",
    "\n",
    "#mean\n",
    "print(\"Mean:\", np.mean(a))\n",
    "\n",
    "#standard deviation\n",
    "print(\"Standard Deviation:\", np.std(a))\n",
    "\n",
    "#variance\n",
    "print(\"Variance:\", np.var(a))\n",
    "\n",
    "#min\n",
    "print(\"Min:\", np.min(a))\n",
    "\n",
    "#max\n",
    "print(\"Max:\", np.max(a))\n",
    "\n",
    "#sum\n",
    "print(\"Sum:\", np.sum(a))\n",
    "\n",
    "#cumulative sum\n",
    "print(\"Cumulative Sum:\", np.cumsum(a))\n",
    "\n",
    "#cumulative product\n",
    "print(\"Cumulative Product:\", np.cumprod(a))\n",
    "\n",
    "#redimensioning\n",
    "#reshape() function is used to give a new shape to an array without changing its data.\n",
    "#reshape(array, newshape, order='C')\n",
    "#newshape is the new shape you want to give to the array.\n",
    "#example: reshape(8, 2) will give a new shape to the array as 8 rows and 2 columns.\n",
    "#order is an optional argument which can have the following values:\n",
    "#'C' − C-style row-major order.\n",
    "#'F' − F-style column-major order.\n",
    "#'A' − Fortran style column-major order.\n",
    "#'K' − read the elements in the order they occur in memory, except for reversing the data when strides are negative.\n",
    "a = np.reshape(a, (5, 1))\n",
    "print(a)"
   ]
  },
  {
   "cell_type": "markdown",
   "id": "6602dcdd-c8fc-48f6-bedc-e265733e82cb",
   "metadata": {},
   "source": [
    "\n",
    "### Ejemplos :\n",
    "\n",
    "#### Ejemplo 1: Análisis de Datos Financieros\n",
    "```python\n",
    "# Calcular el rendimiento promedio diario de una cartera de acciones\n",
    "rendimientos_diarios = np.array([0.01, -0.02, 0.03, 0.005, -0.015])\n",
    "rendimiento_promedio_diario = np.mean(rendimientos_diarios)\n",
    "print(\"Rendimiento Promedio Diario:\", rendimiento_promedio_diario)\n",
    "```\n"
   ]
  },
  {
   "cell_type": "code",
   "execution_count": 13,
   "id": "59e6a1bd-d24d-438c-b33e-e59a5fb14c67",
   "metadata": {},
   "outputs": [
    {
     "name": "stdout",
     "output_type": "stream",
     "text": [
      "Daily Returns: [ 0.01  -0.02   0.03   0.005 -0.15 ]\n",
      "Mean: -0.025\n",
      "Standard Deviation: 0.0644980619863884\n"
     ]
    }
   ],
   "source": [
    "dailyReturns = np.array([0.01, -0.02, 0.03, 0.005, -0.15])\n",
    "print(\"Daily Returns:\", dailyReturns)\n",
    "print(\"Mean:\", np.mean(dailyReturns))\n",
    "print(\"Standard Deviation:\", np.std(dailyReturns))"
   ]
  },
  {
   "cell_type": "markdown",
   "id": "8c042614-1e93-4bf3-994e-89424a17d857",
   "metadata": {},
   "source": [
    "\n",
    "#### Ejemplo 2: Procesamiento de Imágenes\n",
    "```python\n",
    "# Cargar una imagen como un array NumPy\n",
    "from PIL import Image\n",
    "\n",
    "imagen = Image.open('data/imagen.jpg')\n",
    "array_imagen = np.array(imagen)\n",
    "\n",
    "# Calcular la media de los valores de píxel en cada canal de color\n",
    "media_canal_rojo = np.mean(array_imagen[:, :, 0])\n",
    "media_canal_verde = np.mean(array_imagen[:, :, 1])\n",
    "media_canal_azul = np.mean(array_imagen[:, :, 2])\n",
    "\n",
    "print(\"Media Canal Rojo:\", media_canal_rojo)\n",
    "print(\"Media Canal Verde:\", media_canal_verde)\n",
    "print(\"Media Canal Azul:\", media_canal_azul)\n",
    "```"
   ]
  },
  {
   "cell_type": "code",
   "execution_count": 17,
   "id": "1288bd24-e029-49a3-926c-a79bf1671d79",
   "metadata": {},
   "outputs": [
    {
     "ename": "SyntaxError",
     "evalue": "invalid syntax (3203557842.py, line 3)",
     "output_type": "error",
     "traceback": [
      "\u001b[1;36m  Cell \u001b[1;32mIn[17], line 3\u001b[1;36m\u001b[0m\n\u001b[1;33m    pip install pillow\u001b[0m\n\u001b[1;37m        ^\u001b[0m\n\u001b[1;31mSyntaxError\u001b[0m\u001b[1;31m:\u001b[0m invalid syntax\n"
     ]
    }
   ],
   "source": [
    "#Load an image using numpy\n",
    "#To load an image using numpy, you need to install the PIL library.\n",
    "pip install pillow\n",
    "from PIL import Image\n",
    "\n",
    "img = Image.open('image.jpg')\n",
    "array = np.array(img)"
   ]
  },
  {
   "cell_type": "markdown",
   "id": "54502318-3383-48ac-9721-5e9e8689ff94",
   "metadata": {},
   "source": [
    "# Definición y Uso de Funciones en Python\n",
    "\n",
    "### Introducción:\n",
    "Las funciones son bloques de código reutilizables que realizan una tarea específica. Son una parte fundamental de la programación en Python y permiten organizar y modularizar el código de manera efectiva. En esta guía, aprenderemos cómo definir, llamar y utilizar funciones en Python.\n",
    "\n",
    "### Definición de Funciones:\n",
    "En Python, una función se define utilizando la palabra clave `def`, seguida del nombre de la función y paréntesis que pueden contener los parámetros de entrada de la función. El cuerpo de la función se indenta debajo de la declaración `def`.\n"
   ]
  },
  {
   "cell_type": "markdown",
   "id": "8e5cf887-4c7e-40f6-9d4d-6ec354b8b6cb",
   "metadata": {},
   "source": [
    "\n",
    "```python\n",
    "def nombre_de_la_funcion(parametro1, parametro2):\n",
    "    # Cuerpo de la función\n",
    "    # Realizar operaciones\n",
    "    resultado = parametro1 + parametro2\n",
    "    return resultado\n",
    "```\n"
   ]
  },
  {
   "cell_type": "code",
   "execution_count": null,
   "id": "9c93676d-c40a-4fa8-981e-c239a85c3a14",
   "metadata": {},
   "outputs": [],
   "source": []
  },
  {
   "cell_type": "markdown",
   "id": "9fa6a376-f06e-478d-98ce-fa34b5c954e1",
   "metadata": {},
   "source": [
    "\n",
    "### Llamada a Funciones:\n",
    "Para llamar a una función, simplemente escribimos el nombre de la función seguido de paréntesis que contienen los argumentos necesarios, si los hay.\n",
    "\n",
    "```python\n",
    "# Llamar a la función y almacenar el resultado en una variable\n",
    "resultado = nombre_de_la_funcion(10, 20)\n",
    "print(resultado)  # Imprime 30\n",
    "```\n",
    "\n"
   ]
  },
  {
   "cell_type": "code",
   "execution_count": null,
   "id": "21267645-21ee-4cb9-9d41-5b42370fc003",
   "metadata": {},
   "outputs": [],
   "source": []
  },
  {
   "cell_type": "markdown",
   "id": "e3840aaf-00ec-4406-a374-b68bc8dec45f",
   "metadata": {},
   "source": [
    "### Parámetros de Función:\n",
    "Las funciones pueden tener cero o más parámetros. Los parámetros son variables que se utilizan para pasar valores a la función cuando se llama. Estos valores se denominan argumentos.\n",
    "\n",
    "```python\n",
    "def saludar(nombre):\n",
    "    print(\"¡Hola,\", nombre, \"!\")\n",
    "    \n",
    "saludar(\"Juan\")  # Imprime \"¡Hola, Juan!\"\n",
    "```\n"
   ]
  },
  {
   "cell_type": "code",
   "execution_count": null,
   "id": "702e2fde-ca40-4821-abbc-b4aab994506c",
   "metadata": {},
   "outputs": [],
   "source": []
  },
  {
   "cell_type": "markdown",
   "id": "f70ff74c-0c72-421d-b861-7ae7e2aa8678",
   "metadata": {},
   "source": [
    "\n",
    "### Valores de Retorno:\n",
    "Las funciones pueden devolver un valor utilizando la palabra clave `return`. Esto permite que una función calcule un resultado y lo devuelva para ser utilizado en otra parte del programa.\n",
    "\n",
    "```python\n",
    "def sumar(a, b):\n",
    "    return a + b\n",
    "\n",
    "resultado = sumar(10, 5)\n",
    "print(resultado)  # Imprime 15\n",
    "```\n",
    "\n",
    "\n"
   ]
  },
  {
   "cell_type": "code",
   "execution_count": null,
   "id": "66bdc315-974b-40f4-ba59-aaccd753a2c3",
   "metadata": {},
   "outputs": [],
   "source": []
  },
  {
   "cell_type": "markdown",
   "id": "df96afd0-1711-4e3e-bd8f-14044666e333",
   "metadata": {},
   "source": [
    "### Funciones con Valores Predeterminados:\n",
    "Los parámetros de una función pueden tener valores predeterminados, lo que significa que si no se proporciona un valor cuando se llama a la función, se utilizará el valor predeterminado.\n",
    "\n",
    "```python\n",
    "def saludar(nombre=\"Mundo\"):\n",
    "    print(\"¡Hola,\", nombre, \"!\")\n",
    "    \n",
    "saludar()  # Imprime \"¡Hola, Mundo!\"\n",
    "saludar(\"Juan\")  # Imprime \"¡Hola, Juan!\"\n",
    "```\n",
    "\n"
   ]
  },
  {
   "cell_type": "markdown",
   "id": "fdc21404-7611-40a3-8c24-540c35ead6ff",
   "metadata": {},
   "source": []
  },
  {
   "cell_type": "markdown",
   "id": "bbaf8507-7e18-4d7c-a3cf-5d4de9a46d7a",
   "metadata": {},
   "source": [
    "### Funciones con Argumentos Variables:\n",
    "Las funciones pueden tener un número variable de argumentos utilizando `*args` para parámetros posicionales y `**kwargs` para parámetros de palabras clave.\n",
    "\n",
    "```python\n",
    "def imprimir_argumentos(*args, **kwargs):\n",
    "    for arg in args:\n",
    "        print(\"Argumento:\", arg)\n",
    "    for clave, valor in kwargs.items():\n",
    "        print(\"Argumento con palabra clave:\", clave, \"=\", valor)\n",
    "\n",
    "imprimir_argumentos(1, 2, 3, nombre=\"Juan\", edad=30)\n",
    "```\n"
   ]
  },
  {
   "cell_type": "code",
   "execution_count": null,
   "id": "bfb7b561-eec4-4914-8c83-6da1beece3d5",
   "metadata": {},
   "outputs": [],
   "source": []
  },
  {
   "cell_type": "markdown",
   "id": "b535f31e-4c04-47c2-9b20-7cb1064f9fca",
   "metadata": {},
   "source": [
    "\n",
    "### Funciones Anidadas:\n",
    "Una función puede contener otra función dentro de ella. Estas funciones se denominan funciones anidadas.\n",
    "\n",
    "```python\n",
    "def exterior():\n",
    "    print(\"Función exterior\")\n",
    "    \n",
    "    def interior():\n",
    "        print(\"Función interior\")\n",
    "    \n",
    "    interior()\n",
    "\n",
    "exterior()\n",
    "```"
   ]
  },
  {
   "cell_type": "code",
   "execution_count": 3,
   "id": "f78a564d-73b0-4300-8398-7185f0f7fea5",
   "metadata": {},
   "outputs": [
    {
     "name": "stdout",
     "output_type": "stream",
     "text": [
      "Función exterior\n",
      "Función interior\n"
     ]
    }
   ],
   "source": [
    "def exterior():\n",
    "    print(\"Función exterior\")\n",
    "    \n",
    "    def interior():\n",
    "        print(\"Función interior\")\n",
    "    \n",
    "    interior()\n",
    "\n",
    "exterior()\n"
   ]
  }
 ],
 "metadata": {
  "kernelspec": {
   "display_name": "Python 3",
   "language": "python",
   "name": "python3"
  },
  "language_info": {
   "codemirror_mode": {
    "name": "ipython",
    "version": 3
   },
   "file_extension": ".py",
   "mimetype": "text/x-python",
   "name": "python",
   "nbconvert_exporter": "python",
   "pygments_lexer": "ipython3",
   "version": "3.13.2"
  }
 },
 "nbformat": 4,
 "nbformat_minor": 5
}
