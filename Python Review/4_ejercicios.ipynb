{
 "cells": [
  {
   "cell_type": "markdown",
   "id": "1b5dbeea-78d5-48d0-b18a-09d0da1133ec",
   "metadata": {},
   "source": [
    "## Ejercicios: Python con NumPy, Matplotlib, Pandas y Seaborn\n",
    "\n",
    "### Ejercicio 1: Manipulación de Datos con NumPy\n",
    "- Cree un array NumPy de 1 dimensión con los números del 1 al 10.\n",
    "- Cree un array NumPy de 2 dimensiones (5x5) con valores aleatorios entre 0 y 1.\n",
    "- Calcule la suma de cada fila y columna del array de 2 dimensiones.\n"
   ]
  },
  {
   "cell_type": "code",
   "execution_count": null,
   "id": "9e4fba35-3286-43dd-81a8-f1ea89b7fe5f",
   "metadata": {},
   "outputs": [],
   "source": [
    "#R\n"
   ]
  },
  {
   "cell_type": "code",
   "execution_count": null,
   "id": "5a0c80e8-f0ee-44f0-a0bf-71fb542a59b1",
   "metadata": {},
   "outputs": [],
   "source": []
  },
  {
   "cell_type": "markdown",
   "id": "81cc1f1f-67e2-4ef1-97eb-042426ee676c",
   "metadata": {},
   "source": [
    "\n",
    "### Ejercicio 2: Visualización de Datos con Matplotlib\n",
    "- Cree dos arrays NumPy, `x` y `y`, que representen los puntos (x, y) en una gráfica.\n",
    "- Utilice Matplotlib para trazar un diagrama de dispersión de los puntos.\n",
    "- Agregue etiquetas al eje x, al eje y y un título a la gráfica.\n",
    "\n"
   ]
  },
  {
   "cell_type": "code",
   "execution_count": null,
   "id": "39d612a4-5161-4f15-b37c-7f0f3800e352",
   "metadata": {},
   "outputs": [],
   "source": []
  },
  {
   "cell_type": "markdown",
   "id": "dc726107-b04a-4159-a29f-6dfd4c6804de",
   "metadata": {},
   "source": [
    "### Ejercicio 3: Análisis de Datos con Pandas\n",
    "En este ejercicio, el ejercicio 4 y 5,   trabajamos con el conjunto de datos disponible en la carpeta **data** el conjunto de datos es el archivo **artificial.csv**\n",
    "\n",
    "**Contexto**: El conjunto de datos artificiales contiene 100 filas y 7 columnas con las siguientes características:\n",
    "\n",
    "    1. ID: Identificador único (discreto).\n",
    "    2. Age: Edad del individuo (numérico continuo, rango: 18-65).\n",
    "    3. Income: Ingreso anual en miles de dólares (numérico continuo, rango: 20-150).\n",
    "    4. Children: Número de hijos (discreto, rango: 0-4).\n",
    "    5. Education: Nivel educativo (categórico, valores posibles: \"High School\", \"Bachelor's\", \"Master's\", \"PhD\").\n",
    "    6. Marital_Status: Estado civil (categórico, valores posibles: \"Single\", \"Married\", \"Divorced\", \"Widowed\").\n",
    "    7. Purchase_Amount: Monto de compra en dólares (numérico continuo, rango: 5-500).\n",
    "\n",
    "**Actividad**\n",
    "- Cargue un conjunto de datos en un DataFrame de Pandas\n",
    "- Muestre las primeras filas del DataFrame.\n",
    "- Agrupe los datos por una columna categórica y calcule la suma para otra columna numérica.\n",
    "\n"
   ]
  },
  {
   "cell_type": "markdown",
   "id": "468ef897-8deb-4916-b32e-7b75eb0b34bf",
   "metadata": {},
   "source": [
    "### Recuerde dar permisos\n",
    "```python\n",
    "from google.colab import drive\n",
    "drive.mount('/content/drive')\n",
    "\n",
    "root = \"/content/drive/My Drive/\"\n",
    "\n",
    "```"
   ]
  },
  {
   "cell_type": "code",
   "execution_count": null,
   "id": "7732cbad-73db-4113-b3d1-e87088d5f803",
   "metadata": {},
   "outputs": [],
   "source": []
  },
  {
   "cell_type": "markdown",
   "id": "ac37e548-25bb-4095-a802-f3389007f9f4",
   "metadata": {},
   "source": [
    "### Ejercicio 4: Visualización de Datos con Seaborn\n",
    "- Utilice Seaborn para trazar un histograma de una columna numérica en su DataFrame.\n",
    "- Trace un gráfico de barras mostrando la relación entre una columna categórica y una columna numérica.\n",
    "- Trace un mapa de calor de correlación para todas las columnas numéricas en su DataFrame.\n",
    "\n"
   ]
  },
  {
   "cell_type": "code",
   "execution_count": null,
   "id": "8d680188-fdb8-40be-983c-3d207f6cf7fb",
   "metadata": {},
   "outputs": [],
   "source": []
  },
  {
   "cell_type": "code",
   "execution_count": null,
   "id": "820e6302-d945-4fa2-9f1a-3f35693b30d5",
   "metadata": {},
   "outputs": [],
   "source": []
  },
  {
   "cell_type": "markdown",
   "id": "cf79e568-12d9-4120-a6a3-90fc81c2b354",
   "metadata": {},
   "source": [
    "### Ejercicio : uso de datos de personas\n",
    "- Elija un conjunto de datos que le interese y que desee explorar más a fondo (puede usar el conjunto de datos **personas.csv**).\n",
    "- Cargue el conjunto de datos en un DataFrame de Pandas.\n",
    "- Explorar el tamaño del dataset, el tipo de datos, identificar posibles columnas irrelevantes\n",
    "- Realizar algunas graficas\n",
    "\n"
   ]
  },
  {
   "cell_type": "code",
   "execution_count": null,
   "id": "0a0f492c-4103-4534-9549-d67ea29ffb63",
   "metadata": {},
   "outputs": [],
   "source": []
  },
  {
   "cell_type": "code",
   "execution_count": null,
   "id": "28f2963a-d8ab-4271-a354-756f243cfe1b",
   "metadata": {},
   "outputs": [],
   "source": []
  }
 ],
 "metadata": {
  "kernelspec": {
   "display_name": "Python 3 (ipykernel)",
   "language": "python",
   "name": "python3"
  },
  "language_info": {
   "codemirror_mode": {
    "name": "ipython",
    "version": 3
   },
   "file_extension": ".py",
   "mimetype": "text/x-python",
   "name": "python",
   "nbconvert_exporter": "python",
   "pygments_lexer": "ipython3",
   "version": "3.11.5"
  }
 },
 "nbformat": 4,
 "nbformat_minor": 5
}
