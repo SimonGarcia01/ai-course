{
 "cells": [
  {
   "cell_type": "markdown",
   "id": "1b5dbeea-78d5-48d0-b18a-09d0da1133ec",
   "metadata": {},
   "source": [
    "## Ejercicios: Python con NumPy, Matplotlib, Pandas y Seaborn\n",
    "\n",
    "### Ejercicio 1: Manipulación de Datos con NumPy\n",
    "- Cree un array NumPy de 1 dimensión con los números del 1 al 10.\n",
    "- Cree un array NumPy de 2 dimensiones (5x5) con valores aleatorios entre 0 y 1.\n",
    "- Calcule la suma de cada fila y columna del array de 2 dimensiones.\n"
   ]
  },
  {
   "cell_type": "code",
   "execution_count": 2,
   "id": "60c9dc85",
   "metadata": {},
   "outputs": [],
   "source": [
    "import numpy as np\n",
    "import matplotlib.pyplot as plt\n",
    "import pandas as pd\n",
    "import seaborn as sns"
   ]
  },
  {
   "cell_type": "code",
   "execution_count": null,
   "id": "9e4fba35-3286-43dd-81a8-f1ea89b7fe5f",
   "metadata": {},
   "outputs": [
    {
     "name": "stdout",
     "output_type": "stream",
     "text": [
      "[ 1  2  3  4  5  6  7  8  9 10]\n"
     ]
    }
   ],
   "source": [
    "array1 = np.array(range(1, 11))\n",
    "print(array1)\n",
    "#1123"
   ]
  },
  {
   "cell_type": "code",
   "execution_count": 13,
   "id": "5a0c80e8-f0ee-44f0-a0bf-71fb542a59b1",
   "metadata": {},
   "outputs": [
    {
     "name": "stdout",
     "output_type": "stream",
     "text": [
      "[[0.58110586 0.86202739 0.41595987 0.45293677 0.15008719]\n",
      " [0.61055496 0.4085093  0.60246544 0.8784528  0.53432633]\n",
      " [0.26248581 0.61684649 0.77177957 0.75519514 0.00958913]\n",
      " [0.29982506 0.21663911 0.99621102 0.55067814 0.36751758]\n",
      " [0.987023   0.46045332 0.84266774 0.67571762 0.58209462]]\n"
     ]
    }
   ],
   "source": [
    "array2 = np.array([np.random.rand(5), np.random.rand(5), np.random.rand(5), np.random.rand(5), np.random.rand(5)])\n",
    "print(array2)"
   ]
  },
  {
   "cell_type": "code",
   "execution_count": null,
   "id": "8871fd27",
   "metadata": {},
   "outputs": [
    {
     "name": "stdout",
     "output_type": "stream",
     "text": [
      "          0         1         2         3         4\n",
      "0  0.581106  0.862027  0.415960  0.452937  0.150087\n",
      "1  0.610555  0.408509  0.602465  0.878453  0.534326\n",
      "2  0.262486  0.616846  0.771780  0.755195  0.009589\n",
      "3  0.299825  0.216639  0.996211  0.550678  0.367518\n",
      "4  0.987023  0.460453  0.842668  0.675718  0.582095\n",
      "Row sum: \n",
      "2.462117085831679\n",
      "3.0343088206772033\n",
      "2.4158961383920916\n",
      "2.430870907090382\n",
      "3.5479562909362077\n",
      "Column sum: \n",
      "2.7409946808964607\n",
      "2.564475594797178\n",
      "3.6290836491056897\n",
      "3.3129804680098824\n",
      "1.6436148501183532\n"
     ]
    }
   ],
   "source": [
    "df2 = pd.DataFrame(array2)\n",
    "print(df2)\n",
    "\n",
    "print(\"Row sum: \")\n",
    "for n in range(5):\n",
    "    print(df2.loc[n].sum())\n",
    "\n",
    "print(\"Column sum: \")\n",
    "for n in range(5):\n",
    "    print(df2[n].sum())\n",
    "    #The same as print(df2.loc[:, n].sum())\n",
    "\n",
    "\n",
    "\n"
   ]
  },
  {
   "cell_type": "markdown",
   "id": "81cc1f1f-67e2-4ef1-97eb-042426ee676c",
   "metadata": {},
   "source": [
    "\n",
    "### Ejercicio 2: Visualización de Datos con Matplotlib\n",
    "- Cree dos arrays NumPy, `x` y `y`, que representen los puntos (x, y) en una gráfica.\n",
    "- Utilice Matplotlib para trazar un diagrama de dispersión de los puntos.\n",
    "- Agregue etiquetas al eje x, al eje y y un título a la gráfica.\n",
    "\n"
   ]
  },
  {
   "cell_type": "code",
   "execution_count": 24,
   "id": "39d612a4-5161-4f15-b37c-7f0f3800e352",
   "metadata": {},
   "outputs": [
    {
     "data": {
      "image/png": "[encoded data removed]",
      "text/plain": [
       "<Figure size 640x480 with 1 Axes>"
      ]
     },
     "metadata": {},
     "output_type": "display_data"
    }
   ],
   "source": [
    "x = np.array(np.random.rand(10))\n",
    "y = np.array(np.random.rand(10))\n",
    "\n",
    "plt.scatter(x, y)\n",
    "plt.title(\"Scatter plot\")\n",
    "plt.xlabel(\"X\")\n",
    "plt.ylabel(\"Y\")\n",
    "plt.show()"
   ]
  },
  {
   "cell_type": "markdown",
   "id": "dc726107-b04a-4159-a29f-6dfd4c6804de",
   "metadata": {},
   "source": [
    "### Ejercicio 3: Análisis de Datos con Pandas\n",
    "En este ejercicio, el ejercicio 4 y 5,   trabajamos con el conjunto de datos disponible en la carpeta **data** el conjunto de datos es el archivo **artificial.csv**\n",
    "\n",
    "**Contexto**: El conjunto de datos artificiales contiene 100 filas y 7 columnas con las siguientes características:\n",
    "\n",
    "    1. ID: Identificador único (discreto).\n",
    "    2. Age: Edad del individuo (numérico continuo, rango: 18-65).\n",
    "    3. Income: Ingreso anual en miles de dólares (numérico continuo, rango: 20-150).\n",
    "    4. Children: Número de hijos (discreto, rango: 0-4).\n",
    "    5. Education: Nivel educativo (categórico, valores posibles: \"High School\", \"Bachelor's\", \"Master's\", \"PhD\").\n",
    "    6. Marital_Status: Estado civil (categórico, valores posibles: \"Single\", \"Married\", \"Divorced\", \"Widowed\").\n",
    "    7. Purchase_Amount: Monto de compra en dólares (numérico continuo, rango: 5-500).\n",
    "\n",
    "**Actividad**\n",
    "- Cargue un conjunto de datos en un DataFrame de Pandas\n",
    "- Muestre las primeras filas del DataFrame.\n",
    "- Agrupe los datos por una columna categórica y calcule la suma para otra columna numérica.\n",
    "\n"
   ]
  },
  {
   "cell_type": "markdown",
   "id": "468ef897-8deb-4916-b32e-7b75eb0b34bf",
   "metadata": {},
   "source": [
    "### Recuerde dar permisos\n",
    "```python\n",
    "from google.colab import drive\n",
    "drive.mount('/content/drive')\n",
    "\n",
    "root = \"/content/drive/My Drive/\"\n",
    "\n",
    "```"
   ]
  },
  {
   "cell_type": "code",
   "execution_count": 27,
   "id": "7732cbad-73db-4113-b3d1-e87088d5f803",
   "metadata": {},
   "outputs": [
    {
     "data": {
      "text/html": [
       "<div>\n",
       "<style scoped>\n",
       "    .dataframe tbody tr th:only-of-type {\n",
       "        vertical-align: middle;\n",
       "    }\n",
       "\n",
       "    .dataframe tbody tr th {\n",
       "        vertical-align: top;\n",
       "    }\n",
       "\n",
       "    .dataframe thead th {\n",
       "        text-align: right;\n",
       "    }\n",
       "</style>\n",
       "<table border=\"1\" class=\"dataframe\">\n",
       "  <thead>\n",
       "    <tr style=\"text-align: right;\">\n",
       "      <th></th>\n",
       "      <th>ID</th>\n",
       "      <th>Age</th>\n",
       "      <th>Income</th>\n",
       "      <th>Children</th>\n",
       "      <th>Education</th>\n",
       "      <th>Marital_Status</th>\n",
       "      <th>Purchase_Amount</th>\n",
       "    </tr>\n",
       "  </thead>\n",
       "  <tbody>\n",
       "    <tr>\n",
       "      <th>0</th>\n",
       "      <td>1</td>\n",
       "      <td>34</td>\n",
       "      <td>56.8</td>\n",
       "      <td>1</td>\n",
       "      <td>Master's</td>\n",
       "      <td>Married</td>\n",
       "      <td>150.23</td>\n",
       "    </tr>\n",
       "    <tr>\n",
       "      <th>1</th>\n",
       "      <td>2</td>\n",
       "      <td>23</td>\n",
       "      <td>45.2</td>\n",
       "      <td>0</td>\n",
       "      <td>Bachelor's</td>\n",
       "      <td>Single</td>\n",
       "      <td>78.45</td>\n",
       "    </tr>\n",
       "    <tr>\n",
       "      <th>2</th>\n",
       "      <td>3</td>\n",
       "      <td>45</td>\n",
       "      <td>123.6</td>\n",
       "      <td>3</td>\n",
       "      <td>PhD</td>\n",
       "      <td>Married</td>\n",
       "      <td>320.87</td>\n",
       "    </tr>\n",
       "    <tr>\n",
       "      <th>3</th>\n",
       "      <td>4</td>\n",
       "      <td>36</td>\n",
       "      <td>76.9</td>\n",
       "      <td>2</td>\n",
       "      <td>Master's</td>\n",
       "      <td>Divorced</td>\n",
       "      <td>189.34</td>\n",
       "    </tr>\n",
       "    <tr>\n",
       "      <th>4</th>\n",
       "      <td>5</td>\n",
       "      <td>29</td>\n",
       "      <td>60.0</td>\n",
       "      <td>0</td>\n",
       "      <td>Bachelor's</td>\n",
       "      <td>Single</td>\n",
       "      <td>54.78</td>\n",
       "    </tr>\n",
       "    <tr>\n",
       "      <th>...</th>\n",
       "      <td>...</td>\n",
       "      <td>...</td>\n",
       "      <td>...</td>\n",
       "      <td>...</td>\n",
       "      <td>...</td>\n",
       "      <td>...</td>\n",
       "      <td>...</td>\n",
       "    </tr>\n",
       "    <tr>\n",
       "      <th>95</th>\n",
       "      <td>96</td>\n",
       "      <td>49</td>\n",
       "      <td>126.0</td>\n",
       "      <td>3</td>\n",
       "      <td>PhD</td>\n",
       "      <td>Married</td>\n",
       "      <td>370.34</td>\n",
       "    </tr>\n",
       "    <tr>\n",
       "      <th>96</th>\n",
       "      <td>97</td>\n",
       "      <td>25</td>\n",
       "      <td>41.9</td>\n",
       "      <td>0</td>\n",
       "      <td>High School</td>\n",
       "      <td>Single</td>\n",
       "      <td>33.45</td>\n",
       "    </tr>\n",
       "    <tr>\n",
       "      <th>97</th>\n",
       "      <td>98</td>\n",
       "      <td>34</td>\n",
       "      <td>68.4</td>\n",
       "      <td>1</td>\n",
       "      <td>Master's</td>\n",
       "      <td>Married</td>\n",
       "      <td>155.67</td>\n",
       "    </tr>\n",
       "    <tr>\n",
       "      <th>98</th>\n",
       "      <td>99</td>\n",
       "      <td>46</td>\n",
       "      <td>119.0</td>\n",
       "      <td>3</td>\n",
       "      <td>PhD</td>\n",
       "      <td>Married</td>\n",
       "      <td>350.23</td>\n",
       "    </tr>\n",
       "    <tr>\n",
       "      <th>99</th>\n",
       "      <td>100</td>\n",
       "      <td>30</td>\n",
       "      <td>54.5</td>\n",
       "      <td>0</td>\n",
       "      <td>Bachelor's</td>\n",
       "      <td>Single</td>\n",
       "      <td>63.34</td>\n",
       "    </tr>\n",
       "  </tbody>\n",
       "</table>\n",
       "<p>100 rows × 7 columns</p>\n",
       "</div>"
      ],
      "text/plain": [
       "     ID  Age  Income  Children    Education Marital_Status  Purchase_Amount\n",
       "0     1   34    56.8         1     Master's        Married           150.23\n",
       "1     2   23    45.2         0   Bachelor's         Single            78.45\n",
       "2     3   45   123.6         3          PhD        Married           320.87\n",
       "3     4   36    76.9         2     Master's       Divorced           189.34\n",
       "4     5   29    60.0         0   Bachelor's         Single            54.78\n",
       "..  ...  ...     ...       ...          ...            ...              ...\n",
       "95   96   49   126.0         3          PhD        Married           370.34\n",
       "96   97   25    41.9         0  High School         Single            33.45\n",
       "97   98   34    68.4         1     Master's        Married           155.67\n",
       "98   99   46   119.0         3          PhD        Married           350.23\n",
       "99  100   30    54.5         0   Bachelor's         Single            63.34\n",
       "\n",
       "[100 rows x 7 columns]"
      ]
     },
     "execution_count": 27,
     "metadata": {},
     "output_type": "execute_result"
    }
   ],
   "source": [
    "df = pd.read_csv(\"artificial.csv\")\n",
    "df"
   ]
  },
  {
   "cell_type": "code",
   "execution_count": 28,
   "id": "0b2efe5a",
   "metadata": {},
   "outputs": [
    {
     "data": {
      "text/html": [
       "<div>\n",
       "<style scoped>\n",
       "    .dataframe tbody tr th:only-of-type {\n",
       "        vertical-align: middle;\n",
       "    }\n",
       "\n",
       "    .dataframe tbody tr th {\n",
       "        vertical-align: top;\n",
       "    }\n",
       "\n",
       "    .dataframe thead th {\n",
       "        text-align: right;\n",
       "    }\n",
       "</style>\n",
       "<table border=\"1\" class=\"dataframe\">\n",
       "  <thead>\n",
       "    <tr style=\"text-align: right;\">\n",
       "      <th></th>\n",
       "      <th>ID</th>\n",
       "      <th>Age</th>\n",
       "      <th>Income</th>\n",
       "      <th>Children</th>\n",
       "      <th>Education</th>\n",
       "      <th>Marital_Status</th>\n",
       "      <th>Purchase_Amount</th>\n",
       "    </tr>\n",
       "  </thead>\n",
       "  <tbody>\n",
       "    <tr>\n",
       "      <th>0</th>\n",
       "      <td>1</td>\n",
       "      <td>34</td>\n",
       "      <td>56.8</td>\n",
       "      <td>1</td>\n",
       "      <td>Master's</td>\n",
       "      <td>Married</td>\n",
       "      <td>150.23</td>\n",
       "    </tr>\n",
       "    <tr>\n",
       "      <th>1</th>\n",
       "      <td>2</td>\n",
       "      <td>23</td>\n",
       "      <td>45.2</td>\n",
       "      <td>0</td>\n",
       "      <td>Bachelor's</td>\n",
       "      <td>Single</td>\n",
       "      <td>78.45</td>\n",
       "    </tr>\n",
       "    <tr>\n",
       "      <th>2</th>\n",
       "      <td>3</td>\n",
       "      <td>45</td>\n",
       "      <td>123.6</td>\n",
       "      <td>3</td>\n",
       "      <td>PhD</td>\n",
       "      <td>Married</td>\n",
       "      <td>320.87</td>\n",
       "    </tr>\n",
       "    <tr>\n",
       "      <th>3</th>\n",
       "      <td>4</td>\n",
       "      <td>36</td>\n",
       "      <td>76.9</td>\n",
       "      <td>2</td>\n",
       "      <td>Master's</td>\n",
       "      <td>Divorced</td>\n",
       "      <td>189.34</td>\n",
       "    </tr>\n",
       "    <tr>\n",
       "      <th>4</th>\n",
       "      <td>5</td>\n",
       "      <td>29</td>\n",
       "      <td>60.0</td>\n",
       "      <td>0</td>\n",
       "      <td>Bachelor's</td>\n",
       "      <td>Single</td>\n",
       "      <td>54.78</td>\n",
       "    </tr>\n",
       "  </tbody>\n",
       "</table>\n",
       "</div>"
      ],
      "text/plain": [
       "   ID  Age  Income  Children   Education Marital_Status  Purchase_Amount\n",
       "0   1   34    56.8         1    Master's        Married           150.23\n",
       "1   2   23    45.2         0  Bachelor's         Single            78.45\n",
       "2   3   45   123.6         3         PhD        Married           320.87\n",
       "3   4   36    76.9         2    Master's       Divorced           189.34\n",
       "4   5   29    60.0         0  Bachelor's         Single            54.78"
      ]
     },
     "execution_count": 28,
     "metadata": {},
     "output_type": "execute_result"
    }
   ],
   "source": [
    "df.head()"
   ]
  },
  {
   "cell_type": "code",
   "execution_count": 29,
   "id": "63da803d",
   "metadata": {},
   "outputs": [
    {
     "data": {
      "text/plain": [
       "Education\n",
       "Bachelor's     1491.7\n",
       "High School     410.1\n",
       "Master's       2457.7\n",
       "PhD            4035.4\n",
       "Name: Income, dtype: float64"
      ]
     },
     "execution_count": 29,
     "metadata": {},
     "output_type": "execute_result"
    }
   ],
   "source": [
    "df.groupby(\"Education\")[\"Income\"].sum()"
   ]
  },
  {
   "cell_type": "markdown",
   "id": "ac37e548-25bb-4095-a802-f3389007f9f4",
   "metadata": {},
   "source": [
    "### Ejercicio 4: Visualización de Datos con Seaborn\n",
    "- Utilice Seaborn para trazar un histograma de una columna numérica en su DataFrame.\n",
    "- Trace un gráfico de barras mostrando la relación entre una columna categórica y una columna numérica.\n",
    "- Trace un mapa de calor de correlación para todas las columnas numéricas en su DataFrame.\n",
    "\n"
   ]
  },
  {
   "cell_type": "code",
   "execution_count": 31,
   "id": "8d680188-fdb8-40be-983c-3d207f6cf7fb",
   "metadata": {},
   "outputs": [
    {
     "data": {
      "text/plain": [
       "<Axes: xlabel='Income', ylabel='Count'>"
      ]
     },
     "execution_count": 31,
     "metadata": {},
     "output_type": "execute_result"
    },
    {
     "data": {
      "image/png": "[encoded data removed]",
      "text/plain": [
       "<Figure size 640x480 with 1 Axes>"
      ]
     },
     "metadata": {},
     "output_type": "display_data"
    }
   ],
   "source": [
    "sns.histplot(df[\"Income\"], bins=10)"
   ]
  },
  {
   "cell_type": "code",
   "execution_count": 32,
   "id": "820e6302-d945-4fa2-9f1a-3f35693b30d5",
   "metadata": {},
   "outputs": [
    {
     "data": {
      "text/plain": [
       "<Axes: xlabel='Education', ylabel='Income'>"
      ]
     },
     "execution_count": 32,
     "metadata": {},
     "output_type": "execute_result"
    },
    {
     "data": {
      "image/png": "[encoded data removed]",
      "text/plain": [
       "<Figure size 640x480 with 1 Axes>"
      ]
     },
     "metadata": {},
     "output_type": "display_data"
    }
   ],
   "source": [
    "sns.barplot(x=\"Education\", y=\"Income\", data=df)"
   ]
  },
  {
   "cell_type": "code",
   "execution_count": 36,
   "id": "675de022",
   "metadata": {},
   "outputs": [
    {
     "data": {
      "text/plain": [
       "<Axes: >"
      ]
     },
     "execution_count": 36,
     "metadata": {},
     "output_type": "execute_result"
    },
    {
     "data": {
      "image/png": "[encoded data removed]",
      "text/plain": [
       "<Figure size 640x480 with 2 Axes>"
      ]
     },
     "metadata": {},
     "output_type": "display_data"
    }
   ],
   "source": [
    "dfNumericTypes = df.select_dtypes(include=['number'])\n",
    "corr = dfNumericTypes.corr()\n",
    "\n",
    "sns.heatmap(corr, annot=True, cmap='coolwarm')"
   ]
  },
  {
   "cell_type": "markdown",
   "id": "cf79e568-12d9-4120-a6a3-90fc81c2b354",
   "metadata": {},
   "source": [
    "### Ejercicio : uso de datos de personas\n",
    "- Elija un conjunto de datos que le interese y que desee explorar más a fondo (puede usar el conjunto de datos **personas.csv**).\n",
    "- Cargue el conjunto de datos en un DataFrame de Pandas.\n",
    "- Explorar el tamaño del dataset, el tipo de datos, identificar posibles columnas irrelevantes\n",
    "- Realizar algunas graficas\n",
    "\n"
   ]
  },
  {
   "cell_type": "code",
   "execution_count": 37,
   "id": "0a0f492c-4103-4534-9549-d67ea29ffb63",
   "metadata": {},
   "outputs": [],
   "source": [
    "dfP = pd.read_csv(\"personas.csv\")"
   ]
  },
  {
   "cell_type": "code",
   "execution_count": 39,
   "id": "28f2963a-d8ab-4271-a354-756f243cfe1b",
   "metadata": {},
   "outputs": [
    {
     "data": {
      "text/plain": [
       "(35, 7)"
      ]
     },
     "execution_count": 39,
     "metadata": {},
     "output_type": "execute_result"
    }
   ],
   "source": [
    "dfP.shape"
   ]
  },
  {
   "cell_type": "code",
   "execution_count": 41,
   "id": "49b1efba",
   "metadata": {},
   "outputs": [
    {
     "name": "stdout",
     "output_type": "stream",
     "text": [
      "<class 'pandas.core.frame.DataFrame'>\n",
      "RangeIndex: 35 entries, 0 to 34\n",
      "Data columns (total 7 columns):\n",
      " #   Column                        Non-Null Count  Dtype  \n",
      "---  ------                        --------------  -----  \n",
      " 0   Timestamp                     35 non-null     object \n",
      " 1   Código                        35 non-null     int64  \n",
      " 2   Genero                        35 non-null     object \n",
      " 3   Estatura en cm                35 non-null     float64\n",
      " 4   Peso en Kg                    35 non-null     int64  \n",
      " 5   Circunferencia cintura en cm  35 non-null     float64\n",
      " 6   Circunferencia cadera cm      35 non-null     int64  \n",
      "dtypes: float64(2), int64(3), object(2)\n",
      "memory usage: 2.0+ KB\n"
     ]
    }
   ],
   "source": [
    "dfP.info()"
   ]
  },
  {
   "cell_type": "code",
   "execution_count": 40,
   "id": "f82fb45b",
   "metadata": {},
   "outputs": [
    {
     "data": {
      "text/html": [
       "<div>\n",
       "<style scoped>\n",
       "    .dataframe tbody tr th:only-of-type {\n",
       "        vertical-align: middle;\n",
       "    }\n",
       "\n",
       "    .dataframe tbody tr th {\n",
       "        vertical-align: top;\n",
       "    }\n",
       "\n",
       "    .dataframe thead th {\n",
       "        text-align: right;\n",
       "    }\n",
       "</style>\n",
       "<table border=\"1\" class=\"dataframe\">\n",
       "  <thead>\n",
       "    <tr style=\"text-align: right;\">\n",
       "      <th></th>\n",
       "      <th>Código</th>\n",
       "      <th>Estatura en cm</th>\n",
       "      <th>Peso en Kg</th>\n",
       "      <th>Circunferencia cintura en cm</th>\n",
       "      <th>Circunferencia cadera cm</th>\n",
       "    </tr>\n",
       "  </thead>\n",
       "  <tbody>\n",
       "    <tr>\n",
       "      <th>count</th>\n",
       "      <td>3.500000e+01</td>\n",
       "      <td>35.000000</td>\n",
       "      <td>35.000000</td>\n",
       "      <td>35.000000</td>\n",
       "      <td>35.000000</td>\n",
       "    </tr>\n",
       "    <tr>\n",
       "      <th>mean</th>\n",
       "      <td>9.179680e+08</td>\n",
       "      <td>168.271429</td>\n",
       "      <td>71.200000</td>\n",
       "      <td>84.500000</td>\n",
       "      <td>95.342857</td>\n",
       "    </tr>\n",
       "    <tr>\n",
       "      <th>std</th>\n",
       "      <td>4.087685e+08</td>\n",
       "      <td>9.947911</td>\n",
       "      <td>12.759771</td>\n",
       "      <td>12.420926</td>\n",
       "      <td>11.203841</td>\n",
       "    </tr>\n",
       "    <tr>\n",
       "      <th>min</th>\n",
       "      <td>1.607922e+07</td>\n",
       "      <td>155.000000</td>\n",
       "      <td>46.000000</td>\n",
       "      <td>60.000000</td>\n",
       "      <td>73.000000</td>\n",
       "    </tr>\n",
       "    <tr>\n",
       "      <th>25%</th>\n",
       "      <td>1.006015e+09</td>\n",
       "      <td>158.000000</td>\n",
       "      <td>61.500000</td>\n",
       "      <td>77.500000</td>\n",
       "      <td>89.500000</td>\n",
       "    </tr>\n",
       "    <tr>\n",
       "      <th>50%</th>\n",
       "      <td>1.062336e+09</td>\n",
       "      <td>170.000000</td>\n",
       "      <td>72.000000</td>\n",
       "      <td>87.000000</td>\n",
       "      <td>97.000000</td>\n",
       "    </tr>\n",
       "    <tr>\n",
       "      <th>75%</th>\n",
       "      <td>1.143977e+09</td>\n",
       "      <td>175.000000</td>\n",
       "      <td>80.000000</td>\n",
       "      <td>91.500000</td>\n",
       "      <td>101.500000</td>\n",
       "    </tr>\n",
       "    <tr>\n",
       "      <th>max</th>\n",
       "      <td>1.234193e+09</td>\n",
       "      <td>186.000000</td>\n",
       "      <td>95.000000</td>\n",
       "      <td>110.000000</td>\n",
       "      <td>116.000000</td>\n",
       "    </tr>\n",
       "  </tbody>\n",
       "</table>\n",
       "</div>"
      ],
      "text/plain": [
       "            Código   Estatura en cm  Peso en Kg  Circunferencia cintura en cm  \\\n",
       "count  3.500000e+01       35.000000   35.000000                     35.000000   \n",
       "mean   9.179680e+08      168.271429   71.200000                     84.500000   \n",
       "std    4.087685e+08        9.947911   12.759771                     12.420926   \n",
       "min    1.607922e+07      155.000000   46.000000                     60.000000   \n",
       "25%    1.006015e+09      158.000000   61.500000                     77.500000   \n",
       "50%    1.062336e+09      170.000000   72.000000                     87.000000   \n",
       "75%    1.143977e+09      175.000000   80.000000                     91.500000   \n",
       "max    1.234193e+09      186.000000   95.000000                    110.000000   \n",
       "\n",
       "       Circunferencia cadera cm  \n",
       "count                 35.000000  \n",
       "mean                  95.342857  \n",
       "std                   11.203841  \n",
       "min                   73.000000  \n",
       "25%                   89.500000  \n",
       "50%                   97.000000  \n",
       "75%                  101.500000  \n",
       "max                  116.000000  "
      ]
     },
     "execution_count": 40,
     "metadata": {},
     "output_type": "execute_result"
    }
   ],
   "source": [
    "dfP.describe()"
   ]
  }
 ],
 "metadata": {
  "kernelspec": {
   "display_name": "Python 3",
   "language": "python",
   "name": "python3"
  },
  "language_info": {
   "codemirror_mode": {
    "name": "ipython",
    "version": 3
   },
   "file_extension": ".py",
   "mimetype": "text/x-python",
   "name": "python",
   "nbconvert_exporter": "python",
   "pygments_lexer": "ipython3",
   "version": "3.13.2"
  }
 },
 "nbformat": 4,
 "nbformat_minor": 5
}
