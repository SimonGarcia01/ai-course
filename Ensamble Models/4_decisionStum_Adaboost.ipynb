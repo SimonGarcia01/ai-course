{
 "cells": [
  {
   "cell_type": "markdown",
   "id": "3f43b662-d0e5-4bd7-8a6f-20ede45c5f41",
   "metadata": {},
   "source": [
    "<img src=https://audiovisuales.icesi.edu.co/assets/custom/images/ICESI_logo_prin_descriptor_RGB_POSITIVO_0924.jpg width=200>\n",
    "\n",
    "*Milton Orlando Sarria Paja, PhD.*\n",
    "\n",
    "----\n",
    "\n",
    "---\n",
    "\n",
    "## **Parte 1: Decision Stump - El Modelo Más Simple**  \n",
    "\n",
    "### **1.1 ¿Qué es un Decision Stump?**  \n",
    "Un **Decision Stump** es un árbol de decisión con solo **una división binaria** (un nodo raíz y dos hojas). Es el modelo más básico en ML y se usa como \"weak learner\" (aprendiz débil) en métodos como AdaBoost.  \n",
    "\n",
    "**Hiperparámetros clave:**  \n",
    "- `max_depth=1` → Obliga a que sea un stump.  \n",
    "- `criterion=\"gini\"` o `\"entropy\"` → Métrica para la división.  \n",
    "\n",
    "**Ejemplo cotidiano:**  \n",
    "- **Problema:** Clasificar si una persona es apta para un crédito basado en **un solo criterio** (ej: \"¿Ingresos > $3000?\").  \n",
    "- **Limitación:** Es demasiado simple para problemas complejos, pero útil en ensambles.  \n",
    "\n",
    "\n",
    "### **1.2 Implementación en Python**  \n"
   ]
  },
  {
   "cell_type": "code",
   "execution_count": 1,
   "id": "021983a1-f6a6-430e-9692-72f4d09a1edf",
   "metadata": {},
   "outputs": [
    {
     "name": "stdout",
     "output_type": "stream",
     "text": [
      "['Rechazado']\n"
     ]
    }
   ],
   "source": [
    "from sklearn.tree import DecisionTreeClassifier\n",
    "\n",
    "# Datos: [Ingresos_mensuales]\n",
    "X = [[2000], [3500], [4000], [2500]]  \n",
    "y = [\"Rechazado\", \"Aprobado\", \"Aprobado\", \"Rechazado\"]  \n",
    "\n",
    "# Decision Stump (árbol con profundidad máxima = 1)\n",
    "stump = DecisionTreeClassifier(max_depth=1, criterion=\"gini\")  \n",
    "stump.fit(X, y)  \n",
    "\n",
    "# Predicción\n",
    "print(stump.predict([[3000]]))  # ¿Aprobado o rechazado?"
   ]
  },
  {
   "cell_type": "markdown",
   "id": "d6e7dbea-7bec-407c-b8f1-5972157907b7",
   "metadata": {},
   "source": [
    "\n",
    "## **Parte 2: Transición a AdaBoost**  \n",
    "\n",
    "### **2.1 ¿Por qué AdaBoost necesita Stumps?**  \n",
    "AdaBoost (**Adaptive Boosting**) mejora modelos débiles (como stumps) combinándolos secuencialmente, dando más peso a las muestras mal clasificadas.  \n",
    "\n",
    "**Fases de AdaBoost:**  \n",
    "1. Entrena un **stump** en los datos.  \n",
    "2. Asigna más peso a las muestras mal clasificadas.  \n",
    "3. Entrena un nuevo stump enfocado en esos casos difíciles.  \n",
    "4. Repite y combina todos los stumps con votación ponderada.  \n",
    "\n",
    "**Hiperparámetros clave en AdaBoost:**  \n",
    "| Parámetro          | Descripción | Valores típicos |  \n",
    "|--------------------|------------|----------------|  \n",
    "| `n_estimators`     | Número de stumps | 50-200 |  \n",
    "| `learning_rate`    | Peso de cada stump | 0.1-1.0 |  \n",
    "| `algorithm`        | \"SAMME\" (clasificación) o \"SAMME.R\" (probabilístico) | SAMME/SAMME.R |  \n",
    "\n",
    "### **2.2 Implementación de AdaBoost con Stumps**  "
   ]
  },
  {
   "cell_type": "code",
   "execution_count": 2,
   "id": "aa5e8dd5-c1d0-4c6c-964f-1a699559c9a1",
   "metadata": {},
   "outputs": [
    {
     "name": "stdout",
     "output_type": "stream",
     "text": [
      "['Rechazado']\n"
     ]
    }
   ],
   "source": [
    "from sklearn.ensemble import AdaBoostClassifier\n",
    "\n",
    "# AdaBoost con 50 stumps\n",
    "adaboost = AdaBoostClassifier(\n",
    "    estimator=DecisionTreeClassifier(max_depth=1),  # Weak learner (stump)\n",
    "    n_estimators=50,      # Número de stumps\n",
    "    learning_rate=1.0,    # Peso de cada stump\n",
    "    algorithm=\"SAMME\"     # Versión discreta de AdaBoost\n",
    ")\n",
    "adaboost.fit(X, y)\n",
    "\n",
    "# Predicción mejorada\n",
    "print(adaboost.predict([[3000]]))  "
   ]
  },
  {
   "cell_type": "code",
   "execution_count": null,
   "id": "a6b329cc-ecb9-49e6-af7c-20d46b586ea9",
   "metadata": {},
   "outputs": [],
   "source": []
  },
  {
   "cell_type": "code",
   "execution_count": 16,
   "id": "b3dd8c5c-1c1d-4548-b266-05e96264cc79",
   "metadata": {},
   "outputs": [
    {
     "name": "stdout",
     "output_type": "stream",
     "text": [
      "Mejores parámetros: {'learning_rate': 0.1, 'n_estimators': 50}\n"
     ]
    }
   ],
   "source": [
    "# Búsqueda de hiperparámetros con GridSearchCV\n",
    "from sklearn.model_selection import GridSearchCV\n",
    "# Datos: [Ingresos_mensuales]\n",
    "X = [[2000], [3500], [4000], [2500],[3100],[1000],[6000],[2400],[3700],[4200],[1600],[2000]]  \n",
    "y = [\"Rechazado\", \"Aprobado\", \"Aprobado\", \"Rechazado\",\"Aprobado\", \"Rechazado\",\"Aprobado\", \"Rechazado\",\"Aprobado\",\"Aprobado\", \"Rechazado\", \"Rechazado\"]  \n",
    "\n",
    "\n",
    "param_grid = {\n",
    "    'n_estimators': [50, 100, 200],\n",
    "    'learning_rate': [0.1, 0.5, 1.0]\n",
    "}\n",
    "\n",
    "grid_search = GridSearchCV(AdaBoostClassifier(algorithm=\"SAMME\"), param_grid, cv=5)\n",
    "grid_search.fit(X, y)\n",
    "print(\"Mejores parámetros:\", grid_search.best_params_)"
   ]
  },
  {
   "cell_type": "markdown",
   "id": "8f3bd2e1-90c3-42a9-8e5b-50aa95e23fce",
   "metadata": {},
   "source": [
    "# **Ejemplo Práctico: Decision Stump y AdaBoost en Breast Cancer Dataset**\n",
    "\n",
    "## **1. Carga y Exploración de Datos**\n"
   ]
  },
  {
   "cell_type": "code",
   "execution_count": null,
   "id": "6839e96e-aaf1-4dc1-820f-634aea715884",
   "metadata": {},
   "outputs": [],
   "source": []
  },
  {
   "cell_type": "code",
   "execution_count": 18,
   "id": "d3a61133-e146-40c0-ae36-9b0e26e70a93",
   "metadata": {},
   "outputs": [
    {
     "name": "stdout",
     "output_type": "stream",
     "text": [
      "Filas en entrenamiento: 455\n",
      "Filas en prueba: 114\n",
      "\n",
      "Primeras 5 muestras:\n",
      "\n"
     ]
    },
    {
     "data": {
      "text/html": [
       "<div>\n",
       "<style scoped>\n",
       "    .dataframe tbody tr th:only-of-type {\n",
       "        vertical-align: middle;\n",
       "    }\n",
       "\n",
       "    .dataframe tbody tr th {\n",
       "        vertical-align: top;\n",
       "    }\n",
       "\n",
       "    .dataframe thead th {\n",
       "        text-align: right;\n",
       "    }\n",
       "</style>\n",
       "<table border=\"1\" class=\"dataframe\">\n",
       "  <thead>\n",
       "    <tr style=\"text-align: right;\">\n",
       "      <th></th>\n",
       "      <th>mean radius</th>\n",
       "      <th>mean texture</th>\n",
       "      <th>mean perimeter</th>\n",
       "      <th>mean area</th>\n",
       "      <th>mean smoothness</th>\n",
       "      <th>mean compactness</th>\n",
       "      <th>mean concavity</th>\n",
       "      <th>mean concave points</th>\n",
       "      <th>mean symmetry</th>\n",
       "      <th>mean fractal dimension</th>\n",
       "      <th>...</th>\n",
       "      <th>worst radius</th>\n",
       "      <th>worst texture</th>\n",
       "      <th>worst perimeter</th>\n",
       "      <th>worst area</th>\n",
       "      <th>worst smoothness</th>\n",
       "      <th>worst compactness</th>\n",
       "      <th>worst concavity</th>\n",
       "      <th>worst concave points</th>\n",
       "      <th>worst symmetry</th>\n",
       "      <th>worst fractal dimension</th>\n",
       "    </tr>\n",
       "  </thead>\n",
       "  <tbody>\n",
       "    <tr>\n",
       "      <th>0</th>\n",
       "      <td>17.99</td>\n",
       "      <td>10.38</td>\n",
       "      <td>122.80</td>\n",
       "      <td>1001.0</td>\n",
       "      <td>0.11840</td>\n",
       "      <td>0.27760</td>\n",
       "      <td>0.3001</td>\n",
       "      <td>0.14710</td>\n",
       "      <td>0.2419</td>\n",
       "      <td>0.07871</td>\n",
       "      <td>...</td>\n",
       "      <td>25.38</td>\n",
       "      <td>17.33</td>\n",
       "      <td>184.60</td>\n",
       "      <td>2019.0</td>\n",
       "      <td>0.1622</td>\n",
       "      <td>0.6656</td>\n",
       "      <td>0.7119</td>\n",
       "      <td>0.2654</td>\n",
       "      <td>0.4601</td>\n",
       "      <td>0.11890</td>\n",
       "    </tr>\n",
       "    <tr>\n",
       "      <th>1</th>\n",
       "      <td>20.57</td>\n",
       "      <td>17.77</td>\n",
       "      <td>132.90</td>\n",
       "      <td>1326.0</td>\n",
       "      <td>0.08474</td>\n",
       "      <td>0.07864</td>\n",
       "      <td>0.0869</td>\n",
       "      <td>0.07017</td>\n",
       "      <td>0.1812</td>\n",
       "      <td>0.05667</td>\n",
       "      <td>...</td>\n",
       "      <td>24.99</td>\n",
       "      <td>23.41</td>\n",
       "      <td>158.80</td>\n",
       "      <td>1956.0</td>\n",
       "      <td>0.1238</td>\n",
       "      <td>0.1866</td>\n",
       "      <td>0.2416</td>\n",
       "      <td>0.1860</td>\n",
       "      <td>0.2750</td>\n",
       "      <td>0.08902</td>\n",
       "    </tr>\n",
       "    <tr>\n",
       "      <th>2</th>\n",
       "      <td>19.69</td>\n",
       "      <td>21.25</td>\n",
       "      <td>130.00</td>\n",
       "      <td>1203.0</td>\n",
       "      <td>0.10960</td>\n",
       "      <td>0.15990</td>\n",
       "      <td>0.1974</td>\n",
       "      <td>0.12790</td>\n",
       "      <td>0.2069</td>\n",
       "      <td>0.05999</td>\n",
       "      <td>...</td>\n",
       "      <td>23.57</td>\n",
       "      <td>25.53</td>\n",
       "      <td>152.50</td>\n",
       "      <td>1709.0</td>\n",
       "      <td>0.1444</td>\n",
       "      <td>0.4245</td>\n",
       "      <td>0.4504</td>\n",
       "      <td>0.2430</td>\n",
       "      <td>0.3613</td>\n",
       "      <td>0.08758</td>\n",
       "    </tr>\n",
       "    <tr>\n",
       "      <th>3</th>\n",
       "      <td>11.42</td>\n",
       "      <td>20.38</td>\n",
       "      <td>77.58</td>\n",
       "      <td>386.1</td>\n",
       "      <td>0.14250</td>\n",
       "      <td>0.28390</td>\n",
       "      <td>0.2414</td>\n",
       "      <td>0.10520</td>\n",
       "      <td>0.2597</td>\n",
       "      <td>0.09744</td>\n",
       "      <td>...</td>\n",
       "      <td>14.91</td>\n",
       "      <td>26.50</td>\n",
       "      <td>98.87</td>\n",
       "      <td>567.7</td>\n",
       "      <td>0.2098</td>\n",
       "      <td>0.8663</td>\n",
       "      <td>0.6869</td>\n",
       "      <td>0.2575</td>\n",
       "      <td>0.6638</td>\n",
       "      <td>0.17300</td>\n",
       "    </tr>\n",
       "    <tr>\n",
       "      <th>4</th>\n",
       "      <td>20.29</td>\n",
       "      <td>14.34</td>\n",
       "      <td>135.10</td>\n",
       "      <td>1297.0</td>\n",
       "      <td>0.10030</td>\n",
       "      <td>0.13280</td>\n",
       "      <td>0.1980</td>\n",
       "      <td>0.10430</td>\n",
       "      <td>0.1809</td>\n",
       "      <td>0.05883</td>\n",
       "      <td>...</td>\n",
       "      <td>22.54</td>\n",
       "      <td>16.67</td>\n",
       "      <td>152.20</td>\n",
       "      <td>1575.0</td>\n",
       "      <td>0.1374</td>\n",
       "      <td>0.2050</td>\n",
       "      <td>0.4000</td>\n",
       "      <td>0.1625</td>\n",
       "      <td>0.2364</td>\n",
       "      <td>0.07678</td>\n",
       "    </tr>\n",
       "  </tbody>\n",
       "</table>\n",
       "<p>5 rows × 30 columns</p>\n",
       "</div>"
      ],
      "text/plain": [
       "   mean radius  mean texture  mean perimeter  mean area  mean smoothness  \\\n",
       "0        17.99         10.38          122.80     1001.0          0.11840   \n",
       "1        20.57         17.77          132.90     1326.0          0.08474   \n",
       "2        19.69         21.25          130.00     1203.0          0.10960   \n",
       "3        11.42         20.38           77.58      386.1          0.14250   \n",
       "4        20.29         14.34          135.10     1297.0          0.10030   \n",
       "\n",
       "   mean compactness  mean concavity  mean concave points  mean symmetry  \\\n",
       "0           0.27760          0.3001              0.14710         0.2419   \n",
       "1           0.07864          0.0869              0.07017         0.1812   \n",
       "2           0.15990          0.1974              0.12790         0.2069   \n",
       "3           0.28390          0.2414              0.10520         0.2597   \n",
       "4           0.13280          0.1980              0.10430         0.1809   \n",
       "\n",
       "   mean fractal dimension  ...  worst radius  worst texture  worst perimeter  \\\n",
       "0                 0.07871  ...         25.38          17.33           184.60   \n",
       "1                 0.05667  ...         24.99          23.41           158.80   \n",
       "2                 0.05999  ...         23.57          25.53           152.50   \n",
       "3                 0.09744  ...         14.91          26.50            98.87   \n",
       "4                 0.05883  ...         22.54          16.67           152.20   \n",
       "\n",
       "   worst area  worst smoothness  worst compactness  worst concavity  \\\n",
       "0      2019.0            0.1622             0.6656           0.7119   \n",
       "1      1956.0            0.1238             0.1866           0.2416   \n",
       "2      1709.0            0.1444             0.4245           0.4504   \n",
       "3       567.7            0.2098             0.8663           0.6869   \n",
       "4      1575.0            0.1374             0.2050           0.4000   \n",
       "\n",
       "   worst concave points  worst symmetry  worst fractal dimension  \n",
       "0                0.2654          0.4601                  0.11890  \n",
       "1                0.1860          0.2750                  0.08902  \n",
       "2                0.2430          0.3613                  0.08758  \n",
       "3                0.2575          0.6638                  0.17300  \n",
       "4                0.1625          0.2364                  0.07678  \n",
       "\n",
       "[5 rows x 30 columns]"
      ]
     },
     "execution_count": 18,
     "metadata": {},
     "output_type": "execute_result"
    }
   ],
   "source": [
    "from sklearn.datasets import load_breast_cancer\n",
    "from sklearn.model_selection import train_test_split\n",
    "import pandas as pd\n",
    "\n",
    "# Cargar dataset\n",
    "data = load_breast_cancer()\n",
    "X = pd.DataFrame(data.data, columns=data.feature_names)\n",
    "y = data.target  # 0=Maligno, 1=Benigno\n",
    "\n",
    "# Dividir en train/test (80/20)\n",
    "X_train, X_test, y_train, y_test = train_test_split(X, y, test_size=0.2, random_state=42)\n",
    "\n",
    "print(f\"Filas en entrenamiento: {X_train.shape[0]}\")\n",
    "print(f\"Filas en prueba: {X_test.shape[0]}\")\n",
    "print(\"\\nPrimeras 5 muestras:\\n\")\n",
    "X.head()"
   ]
  },
  {
   "cell_type": "markdown",
   "id": "034effba-8f8a-43bf-826f-69c506246007",
   "metadata": {},
   "source": [
    "## **2. Entrenamiento de un Decision Stump (Árbol de 1 Nivel)**"
   ]
  },
  {
   "cell_type": "code",
   "execution_count": 19,
   "id": "ec29bf30-7624-4d62-88b6-0cb14b76c090",
   "metadata": {},
   "outputs": [
    {
     "name": "stdout",
     "output_type": "stream",
     "text": [
      "\n",
      "Precisión del Decision Stump: 89.47%\n",
      "Característica usada para la división: 7\n",
      "Umbral de división: 0.05127999931573868\n"
     ]
    }
   ],
   "source": [
    "from sklearn.tree import DecisionTreeClassifier\n",
    "from sklearn.metrics import accuracy_score\n",
    "\n",
    "# Crear y entrenar stump\n",
    "stump = DecisionTreeClassifier(max_depth=1, random_state=42)\n",
    "stump.fit(X_train, y_train)\n",
    "\n",
    "# Evaluar\n",
    "y_pred_stump = stump.predict(X_test)\n",
    "accuracy_stump = accuracy_score(y_test, y_pred_stump)\n",
    "\n",
    "print(f\"\\nPrecisión del Decision Stump: {accuracy_stump:.2%}\")\n",
    "print(\"Característica usada para la división:\", stump.tree_.feature[0])\n",
    "print(\"Umbral de división:\", stump.tree_.threshold[0])"
   ]
  },
  {
   "cell_type": "code",
   "execution_count": null,
   "id": "8e333b7a-e93c-4b57-8ec7-17c7664726f8",
   "metadata": {},
   "outputs": [],
   "source": []
  },
  {
   "cell_type": "markdown",
   "id": "9a79c114-2add-48c4-8dfe-6eb41efcb23f",
   "metadata": {},
   "source": [
    "## **3. Mejora con AdaBoost (Ensemble de Stumps)**"
   ]
  },
  {
   "cell_type": "code",
   "execution_count": 21,
   "id": "ab152fd8-276a-4dad-b310-c73a405f5585",
   "metadata": {},
   "outputs": [
    {
     "name": "stdout",
     "output_type": "stream",
     "text": [
      "\n",
      "Precisión de AdaBoost: 96.49%\n"
     ]
    }
   ],
   "source": [
    "from sklearn.ensemble import AdaBoostClassifier\n",
    "\n",
    "# AdaBoost con 100 stumps\n",
    "adaboost = AdaBoostClassifier(\n",
    "    estimator=DecisionTreeClassifier(max_depth=1),\n",
    "    n_estimators=100,\n",
    "    learning_rate=0.8,\n",
    "    random_state=42,\n",
    "    algorithm=\"SAMME\"\n",
    ")\n",
    "adaboost.fit(X_train, y_train)\n",
    "\n",
    "# Evaluar\n",
    "y_pred_boost = adaboost.predict(X_test)\n",
    "accuracy_boost = accuracy_score(y_test, y_pred_boost)\n",
    "\n",
    "print(f\"\\nPrecisión de AdaBoost: {accuracy_boost:.2%}\")"
   ]
  },
  {
   "cell_type": "markdown",
   "id": "b410142a-2631-400f-ad81-cee557608ed1",
   "metadata": {},
   "source": [
    "## **4. Análisis Comparativo**"
   ]
  },
  {
   "cell_type": "code",
   "execution_count": 22,
   "id": "2c684a36-25dc-46da-9dc1-c096790cf947",
   "metadata": {},
   "outputs": [
    {
     "data": {
      "image/png": "[encoded data removed]",
      "text/plain": [
       "<Figure size 640x480 with 1 Axes>"
      ]
     },
     "metadata": {},
     "output_type": "display_data"
    }
   ],
   "source": [
    "import matplotlib.pyplot as plt\n",
    "\n",
    "# Comparación visual\n",
    "models = ['Decision Stump', 'AdaBoost']\n",
    "accuracies = [accuracy_stump, accuracy_boost]\n",
    "\n",
    "plt.bar(models, accuracies, color=['skyblue', 'lightgreen'])\n",
    "plt.title('Comparación de Precisión')\n",
    "plt.ylabel('Precisión (%)')\n",
    "plt.ylim(0.7, 1.0)\n",
    "for i, v in enumerate(accuracies):\n",
    "    plt.text(i, v+0.02, f\"{v:.2%}\", ha='center')\n",
    "plt.show()"
   ]
  },
  {
   "cell_type": "markdown",
   "id": "195143fa-ac7d-4042-9da4-3e7bac169fda",
   "metadata": {},
   "source": [
    "## **5. Optimización de Hiperparámetros**"
   ]
  },
  {
   "cell_type": "code",
   "execution_count": 24,
   "id": "61e4383d-f17e-4f5a-8e59-8e8e0a4475be",
   "metadata": {},
   "outputs": [
    {
     "name": "stdout",
     "output_type": "stream",
     "text": [
      "\n",
      "Mejores parámetros encontrados:\n",
      "{'learning_rate': 1.0, 'n_estimators': 50}\n",
      "Mejor precisión: 98.02%\n"
     ]
    }
   ],
   "source": [
    "from sklearn.model_selection import GridSearchCV\n",
    "\n",
    "# Definir parámetros a probar\n",
    "param_grid = {\n",
    "    'n_estimators': [50, 100, 200],\n",
    "    'learning_rate': [0.1, 0.5, 1.0]\n",
    "}\n",
    "\n",
    "# Búsqueda grid\n",
    "grid_search = GridSearchCV(\n",
    "    AdaBoostClassifier(\n",
    "        estimator=DecisionTreeClassifier(max_depth=1),\n",
    "        random_state=42,algorithm=\"SAMME\"\n",
    "    ),\n",
    "    param_grid,\n",
    "    cv=5,\n",
    "    scoring='accuracy'\n",
    ")\n",
    "grid_search.fit(X_train, y_train)\n",
    "\n",
    "print(\"\\nMejores parámetros encontrados:\")\n",
    "print(grid_search.best_params_)\n",
    "print(f\"Mejor precisión: {grid_search.best_score_:.2%}\")"
   ]
  },
  {
   "cell_type": "markdown",
   "id": "bd118885-9ef9-4e5d-bb24-986d76d1ab2a",
   "metadata": {},
   "source": [
    "**Visualización de los primeros 3 Stumps:**"
   ]
  },
  {
   "cell_type": "code",
   "execution_count": 25,
   "id": "7400be7b-c2be-4f65-9d84-7648f253342f",
   "metadata": {},
   "outputs": [
    {
     "name": "stdout",
     "output_type": "stream",
     "text": [
      "Stump 1: Usa mean concave points con umbral 0.05\n",
      "Stump 2: Usa worst symmetry con umbral -2.00\n",
      "Stump 3: Usa worst symmetry con umbral -2.00\n"
     ]
    }
   ],
   "source": [
    "for i, (feature, threshold) in enumerate(zip(\n",
    "    adaboost.estimators_[0].tree_.feature,\n",
    "    adaboost.estimators_[0].tree_.threshold\n",
    ")):\n",
    "    if i >= 3: break\n",
    "    print(f\"Stump {i+1}: Usa {data.feature_names[feature]} con umbral {threshold:.2f}\")"
   ]
  },
  {
   "cell_type": "code",
   "execution_count": null,
   "id": "f84e2700-9f47-448f-a31c-d57ba29d7191",
   "metadata": {},
   "outputs": [],
   "source": []
  }
 ],
 "metadata": {
  "kernelspec": {
   "display_name": "Python 3 (ipykernel)",
   "language": "python",
   "name": "python3"
  },
  "language_info": {
   "codemirror_mode": {
    "name": "ipython",
    "version": 3
   },
   "file_extension": ".py",
   "mimetype": "text/x-python",
   "name": "python",
   "nbconvert_exporter": "python",
   "pygments_lexer": "ipython3",
   "version": "3.10.14"
  }
 },
 "nbformat": 4,
 "nbformat_minor": 5
}
