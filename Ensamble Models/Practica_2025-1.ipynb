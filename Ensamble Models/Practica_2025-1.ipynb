{
 "cells": [
  {
   "cell_type": "markdown",
   "metadata": {},
   "source": [
    "<img src=https://audiovisuales.icesi.edu.co/assets/custom/images/ICESI_logo_prin_descriptor_RGB_POSITIVO_0924.jpg width=200>\n",
    "\n",
    "*Milton Orlando Sarria Paja, PhD.*\n",
    "\n",
    "----\n",
    "\n",
    "# Regularización, Regresión y Clasificación\n",
    "\n",
    "\n",
    "En este ejercicio práctico se abordan los siguientes conceptos:\n",
    "- Regularización Lasso y Ridge en modelos de regresión y clasificación.\n",
    "- El parámetro C (inverso de la fuerza de regularización).\n",
    "- Clasificación.\n",
    "- Técnicas de validación cruzada (por ejemplo, stratified k-folds).\n",
    "- Métricas de clasificación: F1-score, matriz de confusión, classification report, accuracy, recall.\n",
    "\n",
    "El dataset a utilizar es el **Forest Covertypes** de scikit-learn.  \n",
    "Para más información consulta:  \n",
    "[Forest Covertypes dataset](https://scikit-learn.org/stable/datasets/real_world.html#forest-covertypes)  \n",
    "[fetch_covtype documentation](https://scikit-learn.org/stable/modules/generated/sklearn.datasets.fetch_covtype.html#sklearn.datasets.fetch_covtype)\n",
    "\n"
   ]
  },
  {
   "cell_type": "markdown",
   "metadata": {},
   "source": [
    "## Instrucciones\n",
    "\n",
    "1. **Carga y Preprocesamiento:**  \n",
    "   - Cargar el dataset Forest Covertypes utilizando `sklearn.datasets.fetch_covtype`.\n",
    "   - Realizar un análisis exploratorio y dividir el dataset en conjuntos de entrenamiento y prueba.\n",
    "   - (Opcional) Estandarizar los predictores, ya que las técnicas de regularización son sensibles a la escala.\n",
    "\n",
    "2. **Modelos de Regresión Regularizada:**  \n",
    "   - Implementa modelos de regresión Ridge y Lasso sobre un problema de regresión (puedes transformar el problema en uno binario o utilizar un subconjunto).\n",
    "   - Analiza el efecto del parámetro de regularización λ (alpha) sobre la magnitud de los coeficientes.\n",
    "\n",
    "3. **Modelo de Clasificación:**  \n",
    "   - Implementa un modelo de regresión logística regularizada (puedes utilizar L1 o L2) para clasificar el dataset original.\n",
    "   - Interpreta los coeficientes obtenidos, considerando la relación entre los predictores y la variable respuesta.\n",
    "\n",
    "4. **Validación Cruzada:**  \n",
    "   - Utiliza Stratified K-Folds (por ejemplo, 5 folds) para evaluar el desempeño del modelo de clasificación.\n",
    "   - Calcula las métricas (accuracy, recall, F1-score, matriz de confusión y classification report) tanto en validación cruzada como en el conjunto de prueba.\n",
    "\n",
    "5. **Comentarios y Explicaciones:**  \n",
    "   - Cada bloque de código debe incluir comentarios explicativos y, cuando sea necesario, fórmulas en los bloques Markdown por ejemplo, la fórmula del F1-score:  \n",
    "     $$\n",
    "     F1 = \\frac{2 \\times \\text{precision} \\times \\text{recall}}{\\text{precision} + \\text{recall}}\n",
    "     $$.\n",
    "\n",
    "----------\n",
    "\n",
    "A continuación, se muestra el código base:\n"
   ]
  },
  {
   "cell_type": "code",
   "execution_count": 1,
   "metadata": {},
   "outputs": [],
   "source": [
    "import numpy as np\n",
    "import pandas as pd\n",
    "from sklearn.datasets import fetch_covtype\n",
    "from sklearn.model_selection import train_test_split, StratifiedKFold, cross_val_score, cross_val_predict\n",
    "from sklearn.linear_model import Ridge, Lasso, LogisticRegression\n",
    "from sklearn.metrics import accuracy_score, recall_score, f1_score, confusion_matrix, classification_report"
   ]
  },
  {
   "cell_type": "markdown",
   "metadata": {},
   "source": [
    "# Cargar el dataset Forest Covertypes"
   ]
  },
  {
   "cell_type": "code",
   "execution_count": 2,
   "metadata": {},
   "outputs": [],
   "source": [
    "data = fetch_covtype()\n",
    "X = data.data\n",
    "y = data.target"
   ]
  },
  {
   "cell_type": "markdown",
   "metadata": {},
   "source": [
    "## Paso 1: Análisis Exploratorio y Preprocesamiento\n",
    "\n",
    "Realice un análisis exploratorio riguroso del dataset. Se recomienda:\n",
    "\n",
    "- Convertir el dataset a un `DataFrame` de pandas y visualizar las primeras filas usando `.head()`.\n",
    "- Revisar las dimensiones del DataFrame (número de filas y columnas) con `.shape`.\n",
    "- Verificar la tipología de las variables, determinando cuántas son numéricas y cuántas son categóricas.\n",
    "- Comprobar si existen valores nulos en cada columna.\n",
    "- Calcular y visualizar la matriz de correlación de Pearson para las variables numéricas.\n",
    "- Realizar un análisis univariado mediante histogramas, boxplots y scatterplots (comparando cada variable numérica con la variable objetivo).\n",
    "- Analizar la distribución de la variable objetivo mediante `value_counts()` y gráficos, para detectar posibles desbalances en el dataset.\n",
    "- Aplicar técnicas de normalización/estandarización (por ejemplo, Z-Score con StandardScaler y Min-Max Scaling) sobre los predictores.\n",
    "\n",
    "Este análisis exploratorio (EDA) es fundamental para entender la estructura y calidad del dataset antes de proceder con el modelado.\n"
   ]
  },
  {
   "cell_type": "markdown",
   "metadata": {},
   "source": [
    "# Preprocesamiento"
   ]
  },
  {
   "cell_type": "code",
   "execution_count": 3,
   "metadata": {},
   "outputs": [],
   "source": [
    "import matplotlib.pyplot as plt\n",
    "import seaborn as sns\n",
    "from sklearn.preprocessing import StandardScaler, MinMaxScaler"
   ]
  },
  {
   "cell_type": "markdown",
   "metadata": {},
   "source": [
    "# Convertir el dataset a DataFrame"
   ]
  },
  {
   "cell_type": "code",
   "execution_count": 4,
   "metadata": {},
   "outputs": [],
   "source": [
    "df = pd.DataFrame(X, columns=data.feature_names if hasattr(data, 'feature_names') \n",
    "                else [f\"Feature_{i}\" for i in range(X.shape[1])])\n",
    "df['target'] = y"
   ]
  },
  {
   "cell_type": "markdown",
   "metadata": {},
   "source": [
    "# Visualizar las primeras filas y dimensiones del DataFrame"
   ]
  },
  {
   "cell_type": "code",
   "execution_count": 5,
   "metadata": {},
   "outputs": [
    {
     "data": {
      "text/html": [
       "<div>\n",
       "<style scoped>\n",
       "    .dataframe tbody tr th:only-of-type {\n",
       "        vertical-align: middle;\n",
       "    }\n",
       "\n",
       "    .dataframe tbody tr th {\n",
       "        vertical-align: top;\n",
       "    }\n",
       "\n",
       "    .dataframe thead th {\n",
       "        text-align: right;\n",
       "    }\n",
       "</style>\n",
       "<table border=\"1\" class=\"dataframe\">\n",
       "  <thead>\n",
       "    <tr style=\"text-align: right;\">\n",
       "      <th></th>\n",
       "      <th>Elevation</th>\n",
       "      <th>Aspect</th>\n",
       "      <th>Slope</th>\n",
       "      <th>Horizontal_Distance_To_Hydrology</th>\n",
       "      <th>Vertical_Distance_To_Hydrology</th>\n",
       "      <th>Horizontal_Distance_To_Roadways</th>\n",
       "      <th>Hillshade_9am</th>\n",
       "      <th>Hillshade_Noon</th>\n",
       "      <th>Hillshade_3pm</th>\n",
       "      <th>Horizontal_Distance_To_Fire_Points</th>\n",
       "      <th>...</th>\n",
       "      <th>Soil_Type_31</th>\n",
       "      <th>Soil_Type_32</th>\n",
       "      <th>Soil_Type_33</th>\n",
       "      <th>Soil_Type_34</th>\n",
       "      <th>Soil_Type_35</th>\n",
       "      <th>Soil_Type_36</th>\n",
       "      <th>Soil_Type_37</th>\n",
       "      <th>Soil_Type_38</th>\n",
       "      <th>Soil_Type_39</th>\n",
       "      <th>target</th>\n",
       "    </tr>\n",
       "  </thead>\n",
       "  <tbody>\n",
       "    <tr>\n",
       "      <th>0</th>\n",
       "      <td>2596.0</td>\n",
       "      <td>51.0</td>\n",
       "      <td>3.0</td>\n",
       "      <td>258.0</td>\n",
       "      <td>0.0</td>\n",
       "      <td>510.0</td>\n",
       "      <td>221.0</td>\n",
       "      <td>232.0</td>\n",
       "      <td>148.0</td>\n",
       "      <td>6279.0</td>\n",
       "      <td>...</td>\n",
       "      <td>0.0</td>\n",
       "      <td>0.0</td>\n",
       "      <td>0.0</td>\n",
       "      <td>0.0</td>\n",
       "      <td>0.0</td>\n",
       "      <td>0.0</td>\n",
       "      <td>0.0</td>\n",
       "      <td>0.0</td>\n",
       "      <td>0.0</td>\n",
       "      <td>5</td>\n",
       "    </tr>\n",
       "    <tr>\n",
       "      <th>1</th>\n",
       "      <td>2590.0</td>\n",
       "      <td>56.0</td>\n",
       "      <td>2.0</td>\n",
       "      <td>212.0</td>\n",
       "      <td>-6.0</td>\n",
       "      <td>390.0</td>\n",
       "      <td>220.0</td>\n",
       "      <td>235.0</td>\n",
       "      <td>151.0</td>\n",
       "      <td>6225.0</td>\n",
       "      <td>...</td>\n",
       "      <td>0.0</td>\n",
       "      <td>0.0</td>\n",
       "      <td>0.0</td>\n",
       "      <td>0.0</td>\n",
       "      <td>0.0</td>\n",
       "      <td>0.0</td>\n",
       "      <td>0.0</td>\n",
       "      <td>0.0</td>\n",
       "      <td>0.0</td>\n",
       "      <td>5</td>\n",
       "    </tr>\n",
       "    <tr>\n",
       "      <th>2</th>\n",
       "      <td>2804.0</td>\n",
       "      <td>139.0</td>\n",
       "      <td>9.0</td>\n",
       "      <td>268.0</td>\n",
       "      <td>65.0</td>\n",
       "      <td>3180.0</td>\n",
       "      <td>234.0</td>\n",
       "      <td>238.0</td>\n",
       "      <td>135.0</td>\n",
       "      <td>6121.0</td>\n",
       "      <td>...</td>\n",
       "      <td>0.0</td>\n",
       "      <td>0.0</td>\n",
       "      <td>0.0</td>\n",
       "      <td>0.0</td>\n",
       "      <td>0.0</td>\n",
       "      <td>0.0</td>\n",
       "      <td>0.0</td>\n",
       "      <td>0.0</td>\n",
       "      <td>0.0</td>\n",
       "      <td>2</td>\n",
       "    </tr>\n",
       "    <tr>\n",
       "      <th>3</th>\n",
       "      <td>2785.0</td>\n",
       "      <td>155.0</td>\n",
       "      <td>18.0</td>\n",
       "      <td>242.0</td>\n",
       "      <td>118.0</td>\n",
       "      <td>3090.0</td>\n",
       "      <td>238.0</td>\n",
       "      <td>238.0</td>\n",
       "      <td>122.0</td>\n",
       "      <td>6211.0</td>\n",
       "      <td>...</td>\n",
       "      <td>0.0</td>\n",
       "      <td>0.0</td>\n",
       "      <td>0.0</td>\n",
       "      <td>0.0</td>\n",
       "      <td>0.0</td>\n",
       "      <td>0.0</td>\n",
       "      <td>0.0</td>\n",
       "      <td>0.0</td>\n",
       "      <td>0.0</td>\n",
       "      <td>2</td>\n",
       "    </tr>\n",
       "    <tr>\n",
       "      <th>4</th>\n",
       "      <td>2595.0</td>\n",
       "      <td>45.0</td>\n",
       "      <td>2.0</td>\n",
       "      <td>153.0</td>\n",
       "      <td>-1.0</td>\n",
       "      <td>391.0</td>\n",
       "      <td>220.0</td>\n",
       "      <td>234.0</td>\n",
       "      <td>150.0</td>\n",
       "      <td>6172.0</td>\n",
       "      <td>...</td>\n",
       "      <td>0.0</td>\n",
       "      <td>0.0</td>\n",
       "      <td>0.0</td>\n",
       "      <td>0.0</td>\n",
       "      <td>0.0</td>\n",
       "      <td>0.0</td>\n",
       "      <td>0.0</td>\n",
       "      <td>0.0</td>\n",
       "      <td>0.0</td>\n",
       "      <td>5</td>\n",
       "    </tr>\n",
       "  </tbody>\n",
       "</table>\n",
       "<p>5 rows × 55 columns</p>\n",
       "</div>"
      ],
      "text/plain": [
       "   Elevation  Aspect  Slope  Horizontal_Distance_To_Hydrology  \\\n",
       "0     2596.0    51.0    3.0                             258.0   \n",
       "1     2590.0    56.0    2.0                             212.0   \n",
       "2     2804.0   139.0    9.0                             268.0   \n",
       "3     2785.0   155.0   18.0                             242.0   \n",
       "4     2595.0    45.0    2.0                             153.0   \n",
       "\n",
       "   Vertical_Distance_To_Hydrology  Horizontal_Distance_To_Roadways  \\\n",
       "0                             0.0                            510.0   \n",
       "1                            -6.0                            390.0   \n",
       "2                            65.0                           3180.0   \n",
       "3                           118.0                           3090.0   \n",
       "4                            -1.0                            391.0   \n",
       "\n",
       "   Hillshade_9am  Hillshade_Noon  Hillshade_3pm  \\\n",
       "0          221.0           232.0          148.0   \n",
       "1          220.0           235.0          151.0   \n",
       "2          234.0           238.0          135.0   \n",
       "3          238.0           238.0          122.0   \n",
       "4          220.0           234.0          150.0   \n",
       "\n",
       "   Horizontal_Distance_To_Fire_Points  ...  Soil_Type_31  Soil_Type_32  \\\n",
       "0                              6279.0  ...           0.0           0.0   \n",
       "1                              6225.0  ...           0.0           0.0   \n",
       "2                              6121.0  ...           0.0           0.0   \n",
       "3                              6211.0  ...           0.0           0.0   \n",
       "4                              6172.0  ...           0.0           0.0   \n",
       "\n",
       "   Soil_Type_33  Soil_Type_34  Soil_Type_35  Soil_Type_36  Soil_Type_37  \\\n",
       "0           0.0           0.0           0.0           0.0           0.0   \n",
       "1           0.0           0.0           0.0           0.0           0.0   \n",
       "2           0.0           0.0           0.0           0.0           0.0   \n",
       "3           0.0           0.0           0.0           0.0           0.0   \n",
       "4           0.0           0.0           0.0           0.0           0.0   \n",
       "\n",
       "   Soil_Type_38  Soil_Type_39  target  \n",
       "0           0.0           0.0       5  \n",
       "1           0.0           0.0       5  \n",
       "2           0.0           0.0       2  \n",
       "3           0.0           0.0       2  \n",
       "4           0.0           0.0       5  \n",
       "\n",
       "[5 rows x 55 columns]"
      ]
     },
     "execution_count": 5,
     "metadata": {},
     "output_type": "execute_result"
    }
   ],
   "source": [
    "df.head()"
   ]
  },
  {
   "cell_type": "code",
   "execution_count": 6,
   "metadata": {},
   "outputs": [
    {
     "data": {
      "text/plain": [
       "(581012, 55)"
      ]
     },
     "execution_count": 6,
     "metadata": {},
     "output_type": "execute_result"
    }
   ],
   "source": [
    "df.shape"
   ]
  },
  {
   "cell_type": "markdown",
   "metadata": {},
   "source": [
    "# Revisar la tipología de variables"
   ]
  },
  {
   "cell_type": "code",
   "execution_count": 7,
   "metadata": {},
   "outputs": [
    {
     "name": "stdout",
     "output_type": "stream",
     "text": [
      "<class 'pandas.core.frame.DataFrame'>\n",
      "RangeIndex: 581012 entries, 0 to 581011\n",
      "Data columns (total 55 columns):\n",
      " #   Column                              Non-Null Count   Dtype  \n",
      "---  ------                              --------------   -----  \n",
      " 0   Elevation                           581012 non-null  float64\n",
      " 1   Aspect                              581012 non-null  float64\n",
      " 2   Slope                               581012 non-null  float64\n",
      " 3   Horizontal_Distance_To_Hydrology    581012 non-null  float64\n",
      " 4   Vertical_Distance_To_Hydrology      581012 non-null  float64\n",
      " 5   Horizontal_Distance_To_Roadways     581012 non-null  float64\n",
      " 6   Hillshade_9am                       581012 non-null  float64\n",
      " 7   Hillshade_Noon                      581012 non-null  float64\n",
      " 8   Hillshade_3pm                       581012 non-null  float64\n",
      " 9   Horizontal_Distance_To_Fire_Points  581012 non-null  float64\n",
      " 10  Wilderness_Area_0                   581012 non-null  float64\n",
      " 11  Wilderness_Area_1                   581012 non-null  float64\n",
      " 12  Wilderness_Area_2                   581012 non-null  float64\n",
      " 13  Wilderness_Area_3                   581012 non-null  float64\n",
      " 14  Soil_Type_0                         581012 non-null  float64\n",
      " 15  Soil_Type_1                         581012 non-null  float64\n",
      " 16  Soil_Type_2                         581012 non-null  float64\n",
      " 17  Soil_Type_3                         581012 non-null  float64\n",
      " 18  Soil_Type_4                         581012 non-null  float64\n",
      " 19  Soil_Type_5                         581012 non-null  float64\n",
      " 20  Soil_Type_6                         581012 non-null  float64\n",
      " 21  Soil_Type_7                         581012 non-null  float64\n",
      " 22  Soil_Type_8                         581012 non-null  float64\n",
      " 23  Soil_Type_9                         581012 non-null  float64\n",
      " 24  Soil_Type_10                        581012 non-null  float64\n",
      " 25  Soil_Type_11                        581012 non-null  float64\n",
      " 26  Soil_Type_12                        581012 non-null  float64\n",
      " 27  Soil_Type_13                        581012 non-null  float64\n",
      " 28  Soil_Type_14                        581012 non-null  float64\n",
      " 29  Soil_Type_15                        581012 non-null  float64\n",
      " 30  Soil_Type_16                        581012 non-null  float64\n",
      " 31  Soil_Type_17                        581012 non-null  float64\n",
      " 32  Soil_Type_18                        581012 non-null  float64\n",
      " 33  Soil_Type_19                        581012 non-null  float64\n",
      " 34  Soil_Type_20                        581012 non-null  float64\n",
      " 35  Soil_Type_21                        581012 non-null  float64\n",
      " 36  Soil_Type_22                        581012 non-null  float64\n",
      " 37  Soil_Type_23                        581012 non-null  float64\n",
      " 38  Soil_Type_24                        581012 non-null  float64\n",
      " 39  Soil_Type_25                        581012 non-null  float64\n",
      " 40  Soil_Type_26                        581012 non-null  float64\n",
      " 41  Soil_Type_27                        581012 non-null  float64\n",
      " 42  Soil_Type_28                        581012 non-null  float64\n",
      " 43  Soil_Type_29                        581012 non-null  float64\n",
      " 44  Soil_Type_30                        581012 non-null  float64\n",
      " 45  Soil_Type_31                        581012 non-null  float64\n",
      " 46  Soil_Type_32                        581012 non-null  float64\n",
      " 47  Soil_Type_33                        581012 non-null  float64\n",
      " 48  Soil_Type_34                        581012 non-null  float64\n",
      " 49  Soil_Type_35                        581012 non-null  float64\n",
      " 50  Soil_Type_36                        581012 non-null  float64\n",
      " 51  Soil_Type_37                        581012 non-null  float64\n",
      " 52  Soil_Type_38                        581012 non-null  float64\n",
      " 53  Soil_Type_39                        581012 non-null  float64\n",
      " 54  target                              581012 non-null  int32  \n",
      "dtypes: float64(54), int32(1)\n",
      "memory usage: 241.6 MB\n"
     ]
    }
   ],
   "source": [
    "df.info()"
   ]
  },
  {
   "cell_type": "markdown",
   "metadata": {},
   "source": [
    "# Verificar valores nulos en el DataFrame\n"
   ]
  },
  {
   "cell_type": "code",
   "execution_count": 8,
   "metadata": {},
   "outputs": [
    {
     "data": {
      "text/plain": [
       "Elevation                             0\n",
       "Aspect                                0\n",
       "Slope                                 0\n",
       "Horizontal_Distance_To_Hydrology      0\n",
       "Vertical_Distance_To_Hydrology        0\n",
       "Horizontal_Distance_To_Roadways       0\n",
       "Hillshade_9am                         0\n",
       "Hillshade_Noon                        0\n",
       "Hillshade_3pm                         0\n",
       "Horizontal_Distance_To_Fire_Points    0\n",
       "Wilderness_Area_0                     0\n",
       "Wilderness_Area_1                     0\n",
       "Wilderness_Area_2                     0\n",
       "Wilderness_Area_3                     0\n",
       "Soil_Type_0                           0\n",
       "Soil_Type_1                           0\n",
       "Soil_Type_2                           0\n",
       "Soil_Type_3                           0\n",
       "Soil_Type_4                           0\n",
       "Soil_Type_5                           0\n",
       "Soil_Type_6                           0\n",
       "Soil_Type_7                           0\n",
       "Soil_Type_8                           0\n",
       "Soil_Type_9                           0\n",
       "Soil_Type_10                          0\n",
       "Soil_Type_11                          0\n",
       "Soil_Type_12                          0\n",
       "Soil_Type_13                          0\n",
       "Soil_Type_14                          0\n",
       "Soil_Type_15                          0\n",
       "Soil_Type_16                          0\n",
       "Soil_Type_17                          0\n",
       "Soil_Type_18                          0\n",
       "Soil_Type_19                          0\n",
       "Soil_Type_20                          0\n",
       "Soil_Type_21                          0\n",
       "Soil_Type_22                          0\n",
       "Soil_Type_23                          0\n",
       "Soil_Type_24                          0\n",
       "Soil_Type_25                          0\n",
       "Soil_Type_26                          0\n",
       "Soil_Type_27                          0\n",
       "Soil_Type_28                          0\n",
       "Soil_Type_29                          0\n",
       "Soil_Type_30                          0\n",
       "Soil_Type_31                          0\n",
       "Soil_Type_32                          0\n",
       "Soil_Type_33                          0\n",
       "Soil_Type_34                          0\n",
       "Soil_Type_35                          0\n",
       "Soil_Type_36                          0\n",
       "Soil_Type_37                          0\n",
       "Soil_Type_38                          0\n",
       "Soil_Type_39                          0\n",
       "target                                0\n",
       "dtype: int64"
      ]
     },
     "execution_count": 8,
     "metadata": {},
     "output_type": "execute_result"
    }
   ],
   "source": [
    "df.isnull().sum()"
   ]
  },
  {
   "cell_type": "markdown",
   "metadata": {},
   "source": [
    "# Calcular y visualizar la matriz de correlación de Pearson para las variables numéricas"
   ]
  },
  {
   "cell_type": "code",
   "execution_count": 9,
   "metadata": {},
   "outputs": [],
   "source": [
    "num_vars = df.select_dtypes(include=\"number\")"
   ]
  },
  {
   "cell_type": "code",
   "execution_count": 10,
   "metadata": {},
   "outputs": [
    {
     "data": {
      "image/png": "[encoded data removed]",
      "text/plain": [
       "<Figure size 1200x1000 with 2 Axes>"
      ]
     },
     "metadata": {},
     "output_type": "display_data"
    }
   ],
   "source": [
    "corr_matrix = num_vars.corr(method='pearson')\n",
    "plt.figure(figsize=(12,10))\n",
    "sns.heatmap(corr_matrix, cmap='coolwarm')\n",
    "plt.title(\"Matriz de Correlación de Pearson\")\n",
    "plt.show()"
   ]
  },
  {
   "cell_type": "markdown",
   "metadata": {},
   "source": [
    "# Que podemos decir de esta matriz de correlación?"
   ]
  },
  {
   "cell_type": "code",
   "execution_count": null,
   "metadata": {},
   "outputs": [],
   "source": [
    "#It can be seen that in general the correlation between the varibales are not strong, and that most tend to be very close to 0 or negative correlations.\n",
    "#Taking into account the target variable (target), the correlation is still low with the rest of the variables."
   ]
  },
  {
   "cell_type": "markdown",
   "metadata": {},
   "source": [
    "# Análisis bivariado respecto a la variable objetivo\n",
    "\n",
    "verifica la distribución de las clases\n",
    "\n",
    "Es un problema balanceado?"
   ]
  },
  {
   "cell_type": "code",
   "execution_count": 11,
   "metadata": {},
   "outputs": [],
   "source": [
    "#Separating the variables\n",
    "y = df['target']\n",
    "X = df.drop(columns =['target'])"
   ]
  },
  {
   "cell_type": "code",
   "execution_count": 12,
   "metadata": {},
   "outputs": [
    {
     "data": {
      "text/plain": [
       "target\n",
       "2    283301\n",
       "1    211840\n",
       "3     35754\n",
       "7     20510\n",
       "6     17367\n",
       "5      9493\n",
       "4      2747\n",
       "Name: count, dtype: int64"
      ]
     },
     "execution_count": 12,
     "metadata": {},
     "output_type": "execute_result"
    }
   ],
   "source": [
    "#The dataset is unbalanced, there are cases with 280 k samples while there is another class with only 2000 samples.\n",
    "y.value_counts()"
   ]
  },
  {
   "cell_type": "code",
   "execution_count": 13,
   "metadata": {},
   "outputs": [
    {
     "data": {
      "text/plain": [
       "target\n",
       "2    0.487599\n",
       "1    0.364605\n",
       "3    0.061537\n",
       "7    0.035300\n",
       "6    0.029891\n",
       "5    0.016339\n",
       "4    0.004728\n",
       "Name: proportion, dtype: float64"
      ]
     },
     "execution_count": 13,
     "metadata": {},
     "output_type": "execute_result"
    }
   ],
   "source": [
    "#It can be seen that class 1 and 2 hold more than 80% of the data.\n",
    "y.value_counts(normalize=True) #this shows the proportion of each class"
   ]
  },
  {
   "cell_type": "markdown",
   "metadata": {},
   "source": [
    "# Dividir el DataFrame en conjuntos de entrenamiento y prueba (70%-30%) manteniendo la estratificación"
   ]
  },
  {
   "cell_type": "code",
   "execution_count": 14,
   "metadata": {},
   "outputs": [
    {
     "name": "stdout",
     "output_type": "stream",
     "text": [
      "(406708, 54) (174304, 54)\n"
     ]
    }
   ],
   "source": [
    "X_train, X_test, y_train, y_test = train_test_split(X, y, train_size=0.70, random_state=30, stratify=y)\n",
    "print(X_train.shape, X_test.shape)"
   ]
  },
  {
   "cell_type": "markdown",
   "metadata": {},
   "source": [
    "# Aplicar normalización: StandardScaler (Z-Score) y Min-Max Scaling\n",
    "\n",
    "Ajustar y transformar el conjunto de entrenamiento"
   ]
  },
  {
   "cell_type": "code",
   "execution_count": 15,
   "metadata": {},
   "outputs": [],
   "source": [
    "scaler_std = StandardScaler()\n",
    "scaler_mm = MinMaxScaler()\n",
    "\n",
    "X_train_std = scaler_std.fit_transform(X_train)\n",
    "X_train_mm = scaler_mm.fit_transform(X_train)\n"
   ]
  },
  {
   "cell_type": "markdown",
   "metadata": {},
   "source": [
    "# Transformar el conjunto de prueba"
   ]
  },
  {
   "cell_type": "code",
   "execution_count": 16,
   "metadata": {},
   "outputs": [],
   "source": [
    "X_test_std = scaler_std.transform(X_test)\n",
    "X_test_mm = scaler_mm.transform(X_test)"
   ]
  },
  {
   "cell_type": "markdown",
   "metadata": {},
   "source": [
    "## Paso 2: Modelos de Regresión Regularizada\n",
    "\n",
    "Ahora que se ha realizado un análisis exploratorio completo y se han generado conjuntos de entrenamiento y prueba con datos escalados, en este paso implementaremos modelos de regresión regularizada (Ridge y Lasso) sobre un problema simplificado.\n",
    "\n",
    "**Objetivo:**  \n",
    "- Seleccionar un subconjunto de predictores (por ejemplo, las primeras 5 columnas) y transformar la variable objetivo en un problema binario.  \n",
    "- Utilizar los datos escalados (por ejemplo, el conjunto obtenido con StandardScaler) para ajustar modelos Ridge y Lasso.  \n",
    "- Comparar el efecto del parámetro de regularización (alpha) sobre los coeficientes.\n",
    "\n",
    "*Pistas:*  \n",
    "- Transforme la variable target a binario, por ejemplo: asignar 1 si el valor es mayor que un umbral (p. ej., 2) y 0 en caso contrario.  \n",
    "- Observe cómo varían los coeficientes al modificar el parámetro alpha.\n",
    "  \n",
    "_Función objetivo de Ridge:_  \n",
    "$$\n",
    "\\text{Objetivo: } RSS + \\lambda \\sum_{j=1}^{p} \\beta_j^2\n",
    "$$\n",
    "_Función objetivo de Lasso:_  \n",
    "$$\n",
    "\\text{Objetivo: } RSS + \\lambda \\sum_{j=1}^{p} |\\beta_j|\n",
    "$$\n"
   ]
  },
  {
   "cell_type": "code",
   "execution_count": 25,
   "metadata": {},
   "outputs": [
    {
     "name": "stdout",
     "output_type": "stream",
     "text": [
      "[[-0.99087239 -1.24875725 -0.013146    0.12057304  0.0276574 ]\n",
      " [ 0.96041436  0.2884478  -1.61656009  1.4429944   0.67960914]\n",
      " [ 0.2242146  -1.29344344 -1.21570657 -1.12655031 -0.77870398]\n",
      " ...\n",
      " [ 0.2706738   1.02130138 -1.08208872  0.06409953 -0.29831848]\n",
      " [ 0.31713301  0.333134   -1.21570657 -0.98536653 -0.88164373]\n",
      " [-2.62051847  1.32516749  1.18941456  0.34176095  1.31440427]]\n"
     ]
    }
   ],
   "source": [
    "# Seleccionar las primeras 5 variables del conjunto escalado y transformar la variable target\n",
    "#debes convertir la variable objetivo a una variable binaria\n",
    "#si es mayor que 2        => 1\n",
    "# si es menor o igual a 2 = > 0\n",
    "X_train_std_5 = X_train_std[:, 0:5]\n",
    "print(X_train_std_5)"
   ]
  },
  {
   "cell_type": "code",
   "execution_count": 21,
   "metadata": {},
   "outputs": [
    {
     "name": "stdout",
     "output_type": "stream",
     "text": [
      "[1 1 1 ... 1 1 0]\n"
     ]
    }
   ],
   "source": [
    "y_train_bin = np.where(y_train > 2, 0, 1)\n",
    "print(y_train_bin)"
   ]
  },
  {
   "cell_type": "code",
   "execution_count": 35,
   "metadata": {},
   "outputs": [
    {
     "name": "stdout",
     "output_type": "stream",
     "text": [
      "[1 1 1 ... 1 1 1]\n"
     ]
    }
   ],
   "source": [
    "y_test_bin = np.where(y_test > 2, 0, 1)\n",
    "print(y_test_bin)"
   ]
  },
  {
   "cell_type": "markdown",
   "metadata": {},
   "source": [
    "# Modelo Ridge"
   ]
  },
  {
   "cell_type": "code",
   "execution_count": 30,
   "metadata": {},
   "outputs": [
    {
     "data": {
      "text/plain": [
       "array([ 0.14718129, -0.01092101, -0.03757801,  0.00190071, -0.03476904])"
      ]
     },
     "execution_count": 30,
     "metadata": {},
     "output_type": "execute_result"
    }
   ],
   "source": [
    "alphaVar = 0.1\n",
    "\n",
    "ridgeModel = Ridge(alpha = alphaVar, random_state = 42)\n",
    "ridgeModel.fit(X_train_std_5, y_train_bin)\n",
    "ridgeModel.coef_"
   ]
  },
  {
   "cell_type": "code",
   "execution_count": 17,
   "metadata": {},
   "outputs": [
    {
     "name": "stdout",
     "output_type": "stream",
     "text": [
      "Coeficientes Ridge: [-0.14749998  0.01096182  0.03756682 -0.00143453  0.03491748]\n"
     ]
    }
   ],
   "source": [
    "ridge_model = Ridge(alpha=1.0)  # Ajuste con alpha = 1.0 (puede variar este parámetro)\n",
    "#TU CODIGO VA AQUI\n",
    "\n",
    "#tome nora de sus observaciones"
   ]
  },
  {
   "cell_type": "markdown",
   "metadata": {},
   "source": [
    "# Modelo Lasso"
   ]
  },
  {
   "cell_type": "code",
   "execution_count": 31,
   "metadata": {},
   "outputs": [
    {
     "data": {
      "text/plain": [
       "array([ 0.05346258, -0.        , -0.        ,  0.        , -0.        ])"
      ]
     },
     "execution_count": 31,
     "metadata": {},
     "output_type": "execute_result"
    }
   ],
   "source": [
    "lassoModel = Lasso(alpha = alphaVar, random_state=42)\n",
    "lassoModel.fit(X_train_std_5, y_train_bin)\n",
    "lassoModel.coef_"
   ]
  },
  {
   "cell_type": "code",
   "execution_count": 18,
   "metadata": {},
   "outputs": [
    {
     "name": "stdout",
     "output_type": "stream",
     "text": [
      "Coeficientes Lasso: [-0.05356982  0.          0.         -0.          0.        ]\n"
     ]
    }
   ],
   "source": [
    "lasso_model = Lasso(alpha=0.1)  # Ajuste con alpha = 0.1 (puede variar este parámetro)\n",
    "#TU CODIGO VA AQUI\n",
    "\n",
    "#tome nora de sus observaciones"
   ]
  },
  {
   "cell_type": "markdown",
   "metadata": {},
   "source": [
    "## Paso 3: Modelo de Clasificación - Regresión Logística Regularizada\n",
    "\n",
    "En este paso se construirá un modelo de clasificación utilizando regresión logística regularizada. Aproveche los datos escalados obtenidos en el Paso 1.\n",
    "\n",
    "**Objetivo:**  \n",
    "- Ajustar un modelo de regresión logística (utilizando penalización L2 o L1) con el conjunto de entrenamiento completo.  \n",
    "- Interpretar los coeficientes obtenidos, considerando que el parámetro C (inverso de la fuerza de regularización) controla la penalización: valores pequeños de C implican penalización fuerte, mientras que valores mayores permiten mayor flexibilidad.\n",
    "\n",
    "*Pista:*  \n",
    "- Use la versión estandarizada del conjunto de entrenamiento (X_train_std) para asegurar que la regularización actúe de manera equitativa en todos los predictores.\n"
   ]
  },
  {
   "cell_type": "code",
   "execution_count": 32,
   "metadata": {},
   "outputs": [
    {
     "data": {
      "text/plain": [
       "array([[ 0.80385463, -0.17456085,  0.10600688,  0.17879269, -0.19225701,\n",
       "         0.2377576 ,  0.12687799, -0.0109662 ,  0.47669209, -0.07970111,\n",
       "         0.71280395,  0.1530986 , -0.44230762, -0.69231396, -0.59541104,\n",
       "        -0.33123775, -0.11648208, -0.32460268, -0.43082515, -0.03874787,\n",
       "         0.06485708,  0.0841234 ,  0.29347645, -0.1244057 ,  0.00696988,\n",
       "         1.29938473,  0.02072106, -0.31724636, -0.02142764, -0.05353279,\n",
       "        -0.12504258, -0.05041939,  0.0161915 ,  0.07198738,  0.05111545,\n",
       "         0.37427333,  0.07354587,  0.25444512,  0.16464098,  0.04884902,\n",
       "         0.02445161,  0.1224739 , -0.21221008, -0.37442956,  0.27470337,\n",
       "         0.22053003,  0.2918431 ,  0.02537321, -0.27375722, -0.05812094,\n",
       "        -0.34621068, -0.70492429, -0.6115419 , -0.57539803]])"
      ]
     },
     "execution_count": 32,
     "metadata": {},
     "output_type": "execute_result"
    }
   ],
   "source": [
    "log_reg = LogisticRegression(penalty='l2', C=1.0, solver='liblinear', random_state=42)\n",
    "log_reg.fit(X_train_std, y_train_bin)\n",
    "log_reg.coef_\n",
    "#tome nora de sus observaciones"
   ]
  },
  {
   "cell_type": "markdown",
   "metadata": {},
   "source": [
    "## Paso 4: Validación Cruzada\n",
    "\n",
    "Utilice la técnica de validación cruzada con Stratified K-Folds para evaluar el desempeño del modelo de clasificación ajustado.\n",
    "\n",
    "**Objetivo:**  \n",
    "- Configurar una validación cruzada con 5 folds, que preserve la distribución de la variable objetivo.  \n",
    "- Obtener predicciones a través de `cross_val_predict` y calcular las métricas: accuracy, recall, F1-score, matriz de confusión y classification report.\n",
    "\n",
    "*Pista:*  \n",
    "- Asegúrese de utilizar el conjunto de entrenamiento estandarizado (X_train_std) y la variable objetivo (y_train)."
   ]
  },
  {
   "cell_type": "code",
   "execution_count": 33,
   "metadata": {},
   "outputs": [
    {
     "name": "stdout",
     "output_type": "stream",
     "text": [
      "0.9323667102687924\n",
      "0.9732918251115125\n",
      "0.9608267859507911\n",
      "[[ 41860  18250]\n",
      " [  9257 337341]]\n",
      "              precision    recall  f1-score   support\n",
      "\n",
      "           0       0.82      0.70      0.75     60110\n",
      "           1       0.95      0.97      0.96    346598\n",
      "\n",
      "    accuracy                           0.93    406708\n",
      "   macro avg       0.88      0.83      0.86    406708\n",
      "weighted avg       0.93      0.93      0.93    406708\n",
      "\n"
     ]
    }
   ],
   "source": [
    "skf = StratifiedKFold(n_splits=5, shuffle=True, random_state=42)\n",
    "\n",
    "y_train_pred = cross_val_predict(log_reg, X_train_std, y_train_bin, cv=skf)\n",
    "\n",
    "print(accuracy_score(y_train_bin, y_train_pred))\n",
    "print(recall_score(y_train_bin, y_train_pred))\n",
    "print(f1_score(y_train_bin, y_train_pred))\n",
    "print(confusion_matrix(y_train_bin, y_train_pred))\n",
    "print(classification_report(y_train_bin, y_train_pred))"
   ]
  },
  {
   "cell_type": "markdown",
   "metadata": {},
   "source": [
    "# Validación Cruzada con StratifiedKFold (opcional Toma tiempo)"
   ]
  },
  {
   "cell_type": "code",
   "execution_count": null,
   "metadata": {},
   "outputs": [],
   "source": [
    "skf = StratifiedKFold(n_splits=5, shuffle=True, random_state=42)\n",
    "log_reg = LogisticRegression(penalty='l2', C=1.0, solver='liblinear', random_state=42)\n",
    "#TU CODIGO VA AQUI\n",
    "\n",
    "\n",
    "\n",
    "#CUAL ES EL RENDIMIENTO ESPERADO EN EL CONJUNTO DE PRUEBA??\n"
   ]
  },
  {
   "cell_type": "markdown",
   "metadata": {},
   "source": [
    "## Paso 5: Evaluación del Modelo en el Conjunto de Prueba\n",
    "\n",
    "Utilice el modelo de regresión logística entrenado en el Paso 3 para verificar su estimación y realizar predicciones sobre el conjunto de prueba escalado.\n",
    "\n",
    "**Objetivo:**  \n",
    "- Calcular y visualizar las métricas de evaluación: accuracy, recall (macro), F1-score (macro), matriz de confusión y classification report.\n",
    "- Compare los resultados obtenidos en el conjunto de prueba con los de la validación cruzada.\n",
    "\n",
    "*Pista:*  \n",
    "- Emplee las funciones `accuracy_score`, `recall_score`, `f1_score`, `confusion_matrix` y `classification_report` de scikit-learn."
   ]
  },
  {
   "cell_type": "code",
   "execution_count": 34,
   "metadata": {},
   "outputs": [
    {
     "name": "stdout",
     "output_type": "stream",
     "text": [
      "0.9323544164363622\n",
      "0.9733120214196274\n",
      "0.9608207254830478\n",
      "[[ 41848  18262]\n",
      " [  9250 337348]]\n",
      "              precision    recall  f1-score   support\n",
      "\n",
      "           0       0.82      0.70      0.75     60110\n",
      "           1       0.95      0.97      0.96    346598\n",
      "\n",
      "    accuracy                           0.93    406708\n",
      "   macro avg       0.88      0.83      0.86    406708\n",
      "weighted avg       0.93      0.93      0.93    406708\n",
      "\n"
     ]
    }
   ],
   "source": [
    "y_train_pred = log_reg.predict(X_train_std)\n",
    "\n",
    "print(accuracy_score(y_train_bin, y_train_pred))\n",
    "print(recall_score(y_train_bin, y_train_pred))\n",
    "print(f1_score(y_train_bin, y_train_pred))\n",
    "print(confusion_matrix(y_train_bin, y_train_pred))\n",
    "print(classification_report(y_train_bin, y_train_pred))"
   ]
  },
  {
   "cell_type": "markdown",
   "metadata": {},
   "source": [
    "# Evaluación en el conjunto de prueba"
   ]
  },
  {
   "cell_type": "code",
   "execution_count": 36,
   "metadata": {},
   "outputs": [
    {
     "name": "stdout",
     "output_type": "stream",
     "text": [
      "0.932950477326969\n",
      "0.9746470718916408\n",
      "0.9612038201971179\n",
      "[[ 17840   7921]\n",
      " [  3766 144777]]\n",
      "              precision    recall  f1-score   support\n",
      "\n",
      "           0       0.83      0.69      0.75     25761\n",
      "           1       0.95      0.97      0.96    148543\n",
      "\n",
      "    accuracy                           0.93    174304\n",
      "   macro avg       0.89      0.83      0.86    174304\n",
      "weighted avg       0.93      0.93      0.93    174304\n",
      "\n"
     ]
    }
   ],
   "source": [
    "y_test_pred = log_reg.predict(X_test_std)\n",
    "\n",
    "print(accuracy_score(y_test_bin, y_test_pred))\n",
    "print(recall_score(y_test_bin, y_test_pred))\n",
    "print(f1_score(y_test_bin, y_test_pred))\n",
    "print(confusion_matrix(y_test_bin, y_test_pred))\n",
    "print(classification_report(y_test_bin, y_test_pred))"
   ]
  },
  {
   "cell_type": "markdown",
   "metadata": {},
   "source": [
    "# Compara  con otros modelos\n",
    "\n",
    "utiliza random forest y XGBoost para seleccion de caracteristicas, y realiza un reporte comparando el rendimiento de diferenes clasificadores empleando los subconjuntos de carácteristicas seleccionados por estos modelos:\n"
   ]
  },
  {
   "cell_type": "code",
   "execution_count": null,
   "metadata": {},
   "outputs": [
    {
     "name": "stdout",
     "output_type": "stream",
     "text": [
      "Collecting xgboost\n",
      "  Downloading xgboost-3.0.0-py3-none-win_amd64.whl.metadata (2.1 kB)\n",
      "Requirement already satisfied: numpy in c:\\users\\diana\\appdata\\local\\programs\\python\\python313\\lib\\site-packages (from xgboost) (2.2.2)\n",
      "Requirement already satisfied: scipy in c:\\users\\diana\\appdata\\local\\programs\\python\\python313\\lib\\site-packages (from xgboost) (1.15.1)\n",
      "Downloading xgboost-3.0.0-py3-none-win_amd64.whl (150.0 MB)\n",
      "   ---------------------------------------- 0.0/150.0 MB ? eta -:--:--\n",
      "   ---------------------------------------- 1.6/150.0 MB 18.0 MB/s eta 0:00:09\n",
      "   - -------------------------------------- 4.2/150.0 MB 13.2 MB/s eta 0:00:12\n",
      "   - -------------------------------------- 5.8/150.0 MB 10.7 MB/s eta 0:00:14\n",
      "   --- ------------------------------------ 11.3/150.0 MB 15.5 MB/s eta 0:00:09\n",
      "   ---- ----------------------------------- 16.8/150.0 MB 17.6 MB/s eta 0:00:08\n",
      "   ----- ---------------------------------- 22.0/150.0 MB 19.0 MB/s eta 0:00:07\n",
      "   ------- -------------------------------- 27.8/150.0 MB 20.4 MB/s eta 0:00:06\n",
      "   -------- ------------------------------- 33.3/150.0 MB 21.2 MB/s eta 0:00:06\n",
      "   ---------- ----------------------------- 38.8/150.0 MB 21.8 MB/s eta 0:00:06\n",
      "   ----------- ---------------------------- 43.5/150.0 MB 21.9 MB/s eta 0:00:05\n",
      "   ------------ --------------------------- 48.5/150.0 MB 22.2 MB/s eta 0:00:05\n",
      "   -------------- ------------------------- 53.5/150.0 MB 22.4 MB/s eta 0:00:05\n",
      "   --------------- ------------------------ 59.0/150.0 MB 22.7 MB/s eta 0:00:05\n",
      "   ---------------- ----------------------- 63.7/150.0 MB 22.7 MB/s eta 0:00:04\n",
      "   ------------------ --------------------- 67.6/150.0 MB 22.3 MB/s eta 0:00:04\n",
      "   ------------------- -------------------- 72.4/150.0 MB 22.4 MB/s eta 0:00:04\n",
      "   -------------------- ------------------- 76.5/150.0 MB 22.4 MB/s eta 0:00:04\n",
      "   --------------------- ------------------ 80.7/150.0 MB 22.2 MB/s eta 0:00:04\n",
      "   ---------------------- ----------------- 84.4/150.0 MB 22.0 MB/s eta 0:00:03\n",
      "   ----------------------- ---------------- 88.1/150.0 MB 21.8 MB/s eta 0:00:03\n",
      "   ------------------------ --------------- 93.3/150.0 MB 21.9 MB/s eta 0:00:03\n",
      "   -------------------------- ------------- 97.8/150.0 MB 21.9 MB/s eta 0:00:03\n",
      "   -------------------------- ------------ 102.5/150.0 MB 22.0 MB/s eta 0:00:03\n",
      "   ---------------------------- ---------- 107.7/150.0 MB 22.1 MB/s eta 0:00:02\n",
      "   ----------------------------- --------- 112.5/150.0 MB 22.2 MB/s eta 0:00:02\n",
      "   ------------------------------ -------- 117.4/150.0 MB 22.3 MB/s eta 0:00:02\n",
      "   ------------------------------- ------- 122.7/150.0 MB 22.3 MB/s eta 0:00:02\n",
      "   --------------------------------- ----- 127.4/150.0 MB 22.3 MB/s eta 0:00:02\n",
      "   ---------------------------------- ---- 130.8/150.0 MB 22.2 MB/s eta 0:00:01\n",
      "   ---------------------------------- ---- 132.9/150.0 MB 21.7 MB/s eta 0:00:01\n",
      "   ----------------------------------- --- 135.5/150.0 MB 21.5 MB/s eta 0:00:01\n",
      "   ----------------------------------- --- 138.1/150.0 MB 21.2 MB/s eta 0:00:01\n",
      "   ------------------------------------ -- 140.8/150.0 MB 20.9 MB/s eta 0:00:01\n",
      "   ------------------------------------- - 143.4/150.0 MB 20.7 MB/s eta 0:00:01\n",
      "   --------------------------------------  146.5/150.0 MB 20.5 MB/s eta 0:00:01\n",
      "   --------------------------------------  149.9/150.0 MB 20.5 MB/s eta 0:00:01\n",
      "   --------------------------------------  149.9/150.0 MB 20.5 MB/s eta 0:00:01\n",
      "   --------------------------------------- 150.0/150.0 MB 19.5 MB/s eta 0:00:00\n",
      "Installing collected packages: xgboost\n",
      "Successfully installed xgboost-3.0.0\n"
     ]
    },
    {
     "name": "stderr",
     "output_type": "stream",
     "text": [
      "\n",
      "[notice] A new release of pip is available: 25.0 -> 25.0.1\n",
      "[notice] To update, run: python.exe -m pip install --upgrade pip\n"
     ]
    }
   ],
   "source": [
    "#! pip install xgboost"
   ]
  },
  {
   "cell_type": "code",
   "execution_count": 39,
   "metadata": {},
   "outputs": [
    {
     "name": "stdout",
     "output_type": "stream",
     "text": [
      "Primeras filas del dataset generado:\n",
      "       edad  horas_entrenamiento  nivel_tecnico  experiencia_competencia  \\\n",
      "0 -1.023683            -0.338038       0.095223                 0.909996   \n",
      "1 -0.072434            -1.343255      -1.573744                -0.503298   \n",
      "2  0.652927             0.952030      -0.651159                 0.649276   \n",
      "3 -0.090342             0.416601      -2.554622                -1.223006   \n",
      "4 -0.928448             0.633686      -2.860930                -0.621349   \n",
      "\n",
      "   color_uniforme  dia_nacimiento  mes_nacimiento  ganador_medalla  \n",
      "0       -0.575858       -0.393553       -0.741334                0  \n",
      "1       -2.479424       -0.850589        0.355713                0  \n",
      "2        1.016390        2.349099       -0.390819                1  \n",
      "3       -1.544572       -0.771141       -0.827738                0  \n",
      "4       -2.183616       -1.454789        0.069261                0  \n"
     ]
    },
    {
     "data": {
      "image/png": "[encoded data removed]",
      "text/plain": [
       "<Figure size 1000x600 with 1 Axes>"
      ]
     },
     "metadata": {},
     "output_type": "display_data"
    },
    {
     "name": "stderr",
     "output_type": "stream",
     "text": [
      "c:\\Users\\diana\\AppData\\Local\\Programs\\Python\\Python313\\Lib\\site-packages\\xgboost\\training.py:183: UserWarning: [16:32:57] WARNING: C:\\actions-runner\\_work\\xgboost\\xgboost\\src\\learner.cc:738: \n",
      "Parameters: { \"use_label_encoder\" } are not used.\n",
      "\n",
      "  bst.update(dtrain, iteration=i, fobj=obj)\n"
     ]
    },
    {
     "data": {
      "image/png": "[encoded data removed]",
      "text/plain": [
       "<Figure size 1000x600 with 1 Axes>"
      ]
     },
     "metadata": {},
     "output_type": "display_data"
    },
    {
     "name": "stdout",
     "output_type": "stream",
     "text": [
      "\n",
      "Comparación de importancia de características:\n",
      "            Característica  Importancia RF  Importancia XGB  \\\n",
      "4           color_uniforme        0.240804         0.265104   \n",
      "6           mes_nacimiento        0.209479         0.240367   \n",
      "0                     edad        0.192915         0.179892   \n",
      "2            nivel_tecnico        0.162824         0.164180   \n",
      "5           dia_nacimiento        0.066371         0.070475   \n",
      "1      horas_entrenamiento        0.069280         0.045821   \n",
      "3  experiencia_competencia        0.058326         0.034161   \n",
      "\n",
      "   Importancia_promedio  \n",
      "4              0.252954  \n",
      "6              0.224923  \n",
      "0              0.186404  \n",
      "2              0.163502  \n",
      "5              0.068423  \n",
      "1              0.057550  \n",
      "3              0.046244  \n",
      "\n",
      "Accuracy con 7 características (Random Forest (todas)): 0.9433\n",
      "Características usadas: ['edad', 'horas_entrenamiento', 'nivel_tecnico', 'experiencia_competencia', 'color_uniforme', 'dia_nacimiento', 'mes_nacimiento']\n",
      "\n",
      "Accuracy con 7 características (XGBoost (todas)): 0.9467\n",
      "Características usadas: ['edad', 'horas_entrenamiento', 'nivel_tecnico', 'experiencia_competencia', 'color_uniforme', 'dia_nacimiento', 'mes_nacimiento']\n"
     ]
    },
    {
     "name": "stderr",
     "output_type": "stream",
     "text": [
      "c:\\Users\\diana\\AppData\\Local\\Programs\\Python\\Python313\\Lib\\site-packages\\xgboost\\training.py:183: UserWarning: [16:32:57] WARNING: C:\\actions-runner\\_work\\xgboost\\xgboost\\src\\learner.cc:738: \n",
      "Parameters: { \"use_label_encoder\" } are not used.\n",
      "\n",
      "  bst.update(dtrain, iteration=i, fobj=obj)\n"
     ]
    },
    {
     "name": "stdout",
     "output_type": "stream",
     "text": [
      "\n",
      "Accuracy con 4 características (Random Forest (solo relevantes)): 0.8667\n",
      "Características usadas: ['edad', 'horas_entrenamiento', 'nivel_tecnico', 'experiencia_competencia']\n",
      "\n",
      "Accuracy con 4 características (XGBoost (solo relevantes)): 0.8300\n",
      "Características usadas: ['edad', 'horas_entrenamiento', 'nivel_tecnico', 'experiencia_competencia']\n"
     ]
    },
    {
     "name": "stderr",
     "output_type": "stream",
     "text": [
      "c:\\Users\\diana\\AppData\\Local\\Programs\\Python\\Python313\\Lib\\site-packages\\xgboost\\training.py:183: UserWarning: [16:32:58] WARNING: C:\\actions-runner\\_work\\xgboost\\xgboost\\src\\learner.cc:738: \n",
      "Parameters: { \"use_label_encoder\" } are not used.\n",
      "\n",
      "  bst.update(dtrain, iteration=i, fobj=obj)\n"
     ]
    },
    {
     "name": "stdout",
     "output_type": "stream",
     "text": [
      "\n",
      "Accuracy con 4 características (Random Forest (top 4 RF)): 0.9500\n",
      "Características usadas: ['color_uniforme', 'mes_nacimiento', 'edad', 'nivel_tecnico']\n",
      "\n",
      "Accuracy con 4 características (XGBoost (top 4 XGB)): 0.9500\n",
      "Características usadas: ['color_uniforme', 'mes_nacimiento', 'edad', 'nivel_tecnico']\n"
     ]
    },
    {
     "name": "stderr",
     "output_type": "stream",
     "text": [
      "c:\\Users\\diana\\AppData\\Local\\Programs\\Python\\Python313\\Lib\\site-packages\\xgboost\\training.py:183: UserWarning: [16:32:58] WARNING: C:\\actions-runner\\_work\\xgboost\\xgboost\\src\\learner.cc:738: \n",
      "Parameters: { \"use_label_encoder\" } are not used.\n",
      "\n",
      "  bst.update(dtrain, iteration=i, fobj=obj)\n"
     ]
    }
   ],
   "source": [
    "import numpy as np\n",
    "import pandas as pd\n",
    "from sklearn.ensemble import RandomForestClassifier\n",
    "from xgboost import XGBClassifier\n",
    "from sklearn.model_selection import train_test_split\n",
    "from sklearn.metrics import accuracy_score\n",
    "import matplotlib.pyplot as plt\n",
    "from sklearn.datasets import make_classification\n",
    "\n",
    "# 1. Generación del dataset artificial\n",
    "np.random.seed(42)\n",
    "\n",
    "# Crear dataset con 4 características relevantes y 3 irrelevantes\n",
    "X, y = make_classification(\n",
    "    n_samples=1000,\n",
    "    n_features=7,  # 4 relevantes + 3 irrelevantes\n",
    "    n_informative=4,  # Características relevantes\n",
    "    n_redundant=0,\n",
    "    n_repeated=0,\n",
    "    n_classes=2,\n",
    "    weights=[0.8, 0.2],  # 80% clase 0, 20% clase 1\n",
    "    random_state=42\n",
    ")\n",
    "\n",
    "# Crear DataFrame con nombres descriptivos\n",
    "feature_names = [\n",
    "    'edad',  # Relevante 1\n",
    "    'horas_entrenamiento',  # Relevante 2\n",
    "    'nivel_tecnico',  # Relevante 3\n",
    "    'experiencia_competencia',  # Relevante 4\n",
    "    'color_uniforme',  # Irrelevante 1\n",
    "    'dia_nacimiento',  # Irrelevante 2\n",
    "    'mes_nacimiento'  # Irrelevante 3\n",
    "]\n",
    "\n",
    "df = pd.DataFrame(X, columns=feature_names)\n",
    "df['ganador_medalla'] = y  # Variable objetivo (1=ganó medalla, 0=no ganó)\n",
    "\n",
    "# Ver las primeras filas del dataset\n",
    "print(\"Primeras filas del dataset generado:\")\n",
    "print(df.head())\n",
    "\n",
    "# 2. Análisis de importancia con Random Forest\n",
    "\n",
    "# Dividir datos\n",
    "X = df.drop('ganador_medalla', axis=1)\n",
    "y = df['ganador_medalla']\n",
    "X_train, X_test, y_train, y_test = train_test_split(X, y, test_size=0.3, random_state=42)\n",
    "\n",
    "# Entrenar Random Forest\n",
    "rf = RandomForestClassifier(n_estimators=100, random_state=42)\n",
    "rf.fit(X_train, y_train)\n",
    "\n",
    "# Obtener importancia de características\n",
    "importancias_rf = rf.feature_importances_\n",
    "indices_rf = np.argsort(importancias_rf)[::-1]\n",
    "\n",
    "# Visualizar\n",
    "plt.figure(figsize=(10, 6))\n",
    "plt.title(\"Importancia de Características - Random Forest\")\n",
    "plt.bar(range(X.shape[1]), importancias_rf[indices_rf], color='b', align=\"center\")\n",
    "plt.xticks(range(X.shape[1]), [feature_names[i] for i in indices_rf], rotation=45)\n",
    "plt.xlim([-1, X.shape[1]])\n",
    "plt.ylabel(\"Importancia\")\n",
    "plt.tight_layout()\n",
    "plt.show()\n",
    "\n",
    "# 3. Análisis de importancia con XGBoost\n",
    "\n",
    "# Entrenar XGBoost\n",
    "xgb = XGBClassifier(n_estimators=100, random_state=42, use_label_encoder=False, eval_metric='logloss')\n",
    "xgb.fit(X_train, y_train)\n",
    "\n",
    "# Obtener importancia de características\n",
    "importancias_xgb = xgb.feature_importances_\n",
    "indices_xgb = np.argsort(importancias_xgb)[::-1]\n",
    "\n",
    "# Visualizar\n",
    "plt.figure(figsize=(10, 6))\n",
    "plt.title(\"Importancia de Características - XGBoost\")\n",
    "plt.bar(range(X.shape[1]), importancias_xgb[indices_xgb], color='g', align=\"center\")\n",
    "plt.xticks(range(X.shape[1]), [feature_names[i] for i in indices_xgb], rotation=45)\n",
    "plt.xlim([-1, X.shape[1]])\n",
    "plt.ylabel(\"Importancia\")\n",
    "plt.tight_layout()\n",
    "plt.show()\n",
    "\n",
    "# 4. Comparación de resultados\n",
    "\n",
    "# Crear DataFrame comparativo\n",
    "resultados = pd.DataFrame({\n",
    "    'Característica': feature_names,\n",
    "    'Importancia RF': importancias_rf,\n",
    "    'Importancia XGB': importancias_xgb\n",
    "})\n",
    "\n",
    "# Ordenar por importancia promedio\n",
    "resultados['Importancia_promedio'] = (resultados['Importancia RF'] + resultados['Importancia XGB']) / 2\n",
    "resultados = resultados.sort_values('Importancia_promedio', ascending=False)\n",
    "\n",
    "print(\"\\nComparación de importancia de características:\")\n",
    "print(resultados[['Característica', 'Importancia RF', 'Importancia XGB', 'Importancia_promedio']])\n",
    "\n",
    "# 5. Evaluación con subconjuntos de características\n",
    "\n",
    "def evaluar_modelo(caracteristicas, modelo, modelo_nombre):\n",
    "    X_train_sub = X_train[caracteristicas]\n",
    "    X_test_sub = X_test[caracteristicas]\n",
    "    \n",
    "    modelo.fit(X_train_sub, y_train)\n",
    "    pred = modelo.predict(X_test_sub)\n",
    "    accuracy = accuracy_score(y_test, pred)\n",
    "    \n",
    "    print(f\"\\nAccuracy con {len(caracteristicas)} características ({modelo_nombre}): {accuracy:.4f}\")\n",
    "    print(\"Características usadas:\", caracteristicas)\n",
    "\n",
    "# Evaluar con todas las características\n",
    "evaluar_modelo(feature_names, rf, \"Random Forest (todas)\")\n",
    "evaluar_modelo(feature_names, xgb, \"XGBoost (todas)\")\n",
    "\n",
    "# Evaluar solo con características relevantes (las 4 primeras según nuestro diseño)\n",
    "caracteristicas_relevantes = feature_names[:4]\n",
    "evaluar_modelo(caracteristicas_relevantes, rf, \"Random Forest (solo relevantes)\")\n",
    "evaluar_modelo(caracteristicas_relevantes, xgb, \"XGBoost (solo relevantes)\")\n",
    "\n",
    "# Evaluar con características seleccionadas por importancia (top 4)\n",
    "top_4_rf = [feature_names[i] for i in indices_rf[:4]]\n",
    "top_4_xgb = [feature_names[i] for i in indices_xgb[:4]]\n",
    "\n",
    "evaluar_modelo(top_4_rf, rf, \"Random Forest (top 4 RF)\")\n",
    "evaluar_modelo(top_4_xgb, xgb, \"XGBoost (top 4 XGB)\")"
   ]
  },
  {
   "cell_type": "markdown",
   "metadata": {},
   "source": [
    "# Conclusiones\n",
    "\n",
    "Agrega las conclusiones más relevantes del análisis realizado y los resultados obtenidos.\n",
    "\n",
    "- Conclusión 1\n",
    "- Conclusión 2\n",
    "- Conclusión 3\n"
   ]
  }
 ],
 "metadata": {
  "kernelspec": {
   "display_name": "Python 3",
   "language": "python",
   "name": "python3"
  },
  "language_info": {
   "codemirror_mode": {
    "name": "ipython",
    "version": 3
   },
   "file_extension": ".py",
   "mimetype": "text/x-python",
   "name": "python",
   "nbconvert_exporter": "python",
   "pygments_lexer": "ipython3",
   "version": "3.13.2"
  }
 },
 "nbformat": 4,
 "nbformat_minor": 4
}
