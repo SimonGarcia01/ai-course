{
 "cells": [
  {
   "cell_type": "markdown",
   "id": "0b36342e-0702-4925-9a97-9c91266c7f24",
   "metadata": {},
   "source": [
    "You can use “VotingClassifier” module in sklearn as follows:"
   ]
  },
  {
   "cell_type": "code",
   "execution_count": 1,
   "id": "a92cdacf-799b-468a-8f6b-2bb5d286abae",
   "metadata": {},
   "outputs": [],
   "source": [
    "from sklearn.ensemble import VotingClassifier\n",
    "from sklearn.datasets import load_iris\n",
    "from sklearn.model_selection import train_test_split, GridSearchCV\n",
    "from sklearn.metrics import accuracy_score\n",
    "from sklearn.linear_model import LogisticRegression\n",
    "from sklearn.tree import DecisionTreeClassifier\n",
    "from sklearn.neighbors import KNeighborsClassifier\n",
    "# Cargar el conjunto de datos Iris\n",
    "iris = load_iris()\n",
    "X, y = iris.data, iris.target\n",
    "\n",
    "# Dividir en conjuntos de entrenamiento y prueba\n",
    "x_train, x_test, y_train, y_test = train_test_split(X, y, test_size=0.2, random_state=42)\n"
   ]
  },
  {
   "cell_type": "code",
   "execution_count": 2,
   "id": "0edd0053-1719-4334-8379-913b6febf54c",
   "metadata": {},
   "outputs": [
    {
     "data": {
      "text/plain": [
       "1.0"
      ]
     },
     "execution_count": 2,
     "metadata": {},
     "output_type": "execute_result"
    }
   ],
   "source": [
    "\n",
    "model1 = LogisticRegression(random_state=1)\n",
    "model2 = DecisionTreeClassifier(random_state=1)\n",
    "model = VotingClassifier(estimators=[('lr', model1), ('dt', model2)], voting='hard')\n",
    "model.fit(x_train,y_train)\n",
    "model.score(x_test,y_test)"
   ]
  },
  {
   "cell_type": "markdown",
   "id": "11923469-46e6-47d2-854f-f0db4e71dd8c",
   "metadata": {},
   "source": [
    "Similar to the max voting technique, multiple predictions are made for each data point in averaging. In this method, we take an average of predictions from all the models and use it to make the final prediction."
   ]
  },
  {
   "cell_type": "code",
   "execution_count": 3,
   "id": "226fb117-5170-4dc5-8670-767b8b239537",
   "metadata": {},
   "outputs": [
    {
     "data": {
      "text/plain": [
       "array([[1.26797583e-03, 9.42579888e-01, 5.61521363e-02],\n",
       "       [9.82324338e-01, 1.76755953e-02, 6.62553491e-08],\n",
       "       [2.95387167e-09, 5.16184400e-04, 9.99483813e-01],\n",
       "       [2.16196874e-03, 9.30742779e-01, 6.70952525e-02],\n",
       "       [4.85938853e-04, 9.24709422e-01, 7.48046388e-02],\n",
       "       [9.85300385e-01, 1.46995560e-02, 5.86807397e-08],\n",
       "       [2.60062897e-02, 9.69232705e-01, 4.76100505e-03],\n",
       "       [5.46298417e-05, 5.15184806e-02, 9.48426890e-01],\n",
       "       [7.41347624e-04, 7.87617299e-01, 2.11641353e-01],\n",
       "       [9.48022205e-03, 9.81911540e-01, 8.60823821e-03],\n",
       "       [1.48510453e-04, 1.47519137e-01, 8.52332352e-01],\n",
       "       [9.89374892e-01, 1.06250824e-02, 2.59849037e-08],\n",
       "       [9.91002140e-01, 8.99784938e-03, 1.10604416e-08],\n",
       "       [9.87302031e-01, 1.26979319e-02, 3.69004893e-08],\n",
       "       [9.93095417e-01, 6.90456199e-03, 2.14844622e-08],\n",
       "       [1.53176240e-03, 9.04124069e-01, 9.43441689e-02],\n",
       "       [2.43912299e-06, 8.04585545e-03, 9.91951705e-01],\n",
       "       [9.12084405e-03, 9.82588773e-01, 8.29038252e-03],\n",
       "       [2.75396445e-03, 9.43891199e-01, 5.33548367e-02],\n",
       "       [4.78758880e-06, 1.19460769e-02, 9.88049136e-01],\n",
       "       [9.88056425e-01, 1.19435104e-02, 6.41682231e-08],\n",
       "       [4.42514150e-04, 1.99638109e-01, 7.99919377e-01],\n",
       "       [9.87202723e-01, 1.27971898e-02, 8.67472197e-08],\n",
       "       [6.25255003e-06, 1.52574145e-02, 9.84736333e-01],\n",
       "       [5.56007579e-07, 8.56755113e-03, 9.91431893e-01],\n",
       "       [3.15209716e-05, 3.47987481e-02, 9.65169731e-01],\n",
       "       [2.92837161e-06, 1.94493944e-02, 9.80547677e-01],\n",
       "       [1.45351532e-06, 6.25331907e-03, 9.93745227e-01],\n",
       "       [9.88906400e-01, 1.10935552e-02, 4.51825452e-08],\n",
       "       [9.85360925e-01, 1.46389978e-02, 7.73201423e-08]])"
      ]
     },
     "execution_count": 3,
     "metadata": {},
     "output_type": "execute_result"
    }
   ],
   "source": [
    "model1 = DecisionTreeClassifier()\n",
    "model2 = KNeighborsClassifier()\n",
    "model3= LogisticRegression()\n",
    "\n",
    "model1.fit(x_train,y_train)\n",
    "model2.fit(x_train,y_train)\n",
    "model3.fit(x_train,y_train)\n",
    "\n",
    "pred1=model1.predict_proba(x_test)\n",
    "pred2=model2.predict_proba(x_test)\n",
    "pred3=model3.predict_proba(x_test)\n",
    "\n",
    "finalpred=(pred1+pred2+pred3)/3\n",
    "finalpred"
   ]
  },
  {
   "cell_type": "markdown",
   "id": "c2f62712-82d4-468f-97ef-7cc194e2039b",
   "metadata": {},
   "source": [
    "Weighted Average:\n",
    "\n",
    "\n",
    "This is an extension of the averaging method. All models are assigned different weights defining the importance of each model for prediction. "
   ]
  },
  {
   "cell_type": "code",
   "execution_count": 4,
   "id": "9a32390d-6cd1-49e5-91ae-6cb4b943f40a",
   "metadata": {},
   "outputs": [
    {
     "data": {
      "text/plain": [
       "array([[1.52157100e-03, 9.31095865e-01, 6.73825635e-02],\n",
       "       [9.78789206e-01, 2.12107143e-02, 7.95064189e-08],\n",
       "       [3.54464600e-09, 6.19421280e-04, 9.99380575e-01],\n",
       "       [2.59436248e-03, 9.16891335e-01, 8.05143030e-02],\n",
       "       [5.83126624e-04, 9.09651307e-01, 8.97655665e-02],\n",
       "       [9.82360462e-01, 1.76394672e-02, 7.04168876e-08],\n",
       "       [3.12075476e-02, 9.63079246e-01, 5.71320606e-03],\n",
       "       [6.55558100e-05, 6.18221767e-02, 9.38112267e-01],\n",
       "       [8.89617149e-04, 7.85140759e-01, 2.13969624e-01],\n",
       "       [1.13762665e-02, 9.78293848e-01, 1.03298859e-02],\n",
       "       [1.78212544e-04, 1.57022964e-01, 8.42798823e-01],\n",
       "       [9.87249870e-01, 1.27500989e-02, 3.11818845e-08],\n",
       "       [9.89202567e-01, 1.07974193e-02, 1.32725299e-08],\n",
       "       [9.84762437e-01, 1.52375183e-02, 4.42805872e-08],\n",
       "       [9.91714500e-01, 8.28547439e-03, 2.57813546e-08],\n",
       "       [1.83811488e-03, 8.84948882e-01, 1.13213003e-01],\n",
       "       [2.92694759e-06, 9.65502654e-03, 9.90342047e-01],\n",
       "       [1.09450129e-02, 9.79106528e-01, 9.94845902e-03],\n",
       "       [3.30475733e-03, 9.32669439e-01, 6.40258040e-02],\n",
       "       [5.74510656e-06, 1.43352922e-02, 9.85658963e-01],\n",
       "       [9.85667711e-01, 1.43322124e-02, 7.70018678e-08],\n",
       "       [5.31016980e-04, 2.19565731e-01, 7.79903252e-01],\n",
       "       [9.84643268e-01, 1.53566278e-02, 1.04096664e-07],\n",
       "       [7.50306004e-06, 1.83088974e-02, 9.81683599e-01],\n",
       "       [6.67209095e-07, 1.02810614e-02, 9.89718271e-01],\n",
       "       [3.78251660e-05, 4.17584978e-02, 9.58203677e-01],\n",
       "       [3.51404593e-06, 2.33392733e-02, 9.76657213e-01],\n",
       "       [1.74421839e-06, 7.50398288e-03, 9.92494273e-01],\n",
       "       [9.86687680e-01, 1.33122662e-02, 5.42190543e-08],\n",
       "       [9.82433110e-01, 1.75667974e-02, 9.27841708e-08]])"
      ]
     },
     "execution_count": 4,
     "metadata": {},
     "output_type": "execute_result"
    }
   ],
   "source": [
    "model1 = DecisionTreeClassifier()\n",
    "model2 = KNeighborsClassifier()\n",
    "model3= LogisticRegression()\n",
    "\n",
    "model1.fit(x_train,y_train)\n",
    "model2.fit(x_train,y_train)\n",
    "model3.fit(x_train,y_train)\n",
    "\n",
    "pred1=model1.predict_proba(x_test)\n",
    "pred2=model2.predict_proba(x_test)\n",
    "pred3=model3.predict_proba(x_test)\n",
    "\n",
    "finalpred=(pred1*0.3+pred2*0.3+pred3*0.4)\n",
    "finalpred"
   ]
  },
  {
   "cell_type": "markdown",
   "id": "8371d2c2-8369-4b10-8c40-62a1d18fb68a",
   "metadata": {},
   "source": [
    "Stacking is an ensemble learning technique that uses predictions from multiple models (for example decision tree, knn or svm) to build a new model. \n",
    "\n",
    "We first define a function to make predictions on n-folds of train and test dataset. This function returns the predictions for train and test for each model."
   ]
  },
  {
   "cell_type": "code",
   "execution_count": 12,
   "id": "8c698c3d",
   "metadata": {},
   "outputs": [],
   "source": [
    "import numpy as np\n",
    "from sklearn.model_selection import StratifiedKFold\n",
    "import pandas as pd"
   ]
  },
  {
   "cell_type": "code",
   "execution_count": 11,
   "id": "ca706975-8b50-45f4-a563-c53fda75d2a9",
   "metadata": {},
   "outputs": [],
   "source": [
    "def Stacking(model,train,y,test,n_fold):\n",
    "   folds=StratifiedKFold(n_splits=n_fold,random_state=1)\n",
    "   test_pred=np.empty((test.shape[0],1),float)\n",
    "   train_pred=np.empty((0,1),float)\n",
    "   for train_indices,val_indices in folds.split(train,y.values):\n",
    "      x_train,x_val=train.iloc[train_indices],train.iloc[val_indices]\n",
    "      y_train,y_val=y.iloc[train_indices],y.iloc[val_indices]\n",
    "\n",
    "      model.fit(X=x_train,y=y_train)\n",
    "      train_pred=np.append(train_pred,model.predict(x_val))\n",
    "      test_pred=np.append(test_pred,model.predict(test))\n",
    "   return test_pred.reshape(-1,1),train_pred\n"
   ]
  },
  {
   "cell_type": "markdown",
   "id": "921e6960-5786-47b9-98a5-dc7775b50fbc",
   "metadata": {},
   "source": [
    "Now we’ll create two base models – decision tree and knn."
   ]
  },
  {
   "cell_type": "code",
   "execution_count": null,
   "id": "1f4a3a68-6c8d-4426-a2d7-66348186e37b",
   "metadata": {},
   "outputs": [],
   "source": [
    "model1 = tree.DecisionTreeClassifier(random_state=1)\n",
    "\n",
    "test_pred1 ,train_pred1=Stacking(model=model1,n_fold=10, train=x_train,test=x_test,y=y_train)\n",
    "\n",
    "train_pred1=pd.DataFrame(train_pred1)\n",
    "test_pred1=pd.DataFrame(test_pred1)"
   ]
  },
  {
   "cell_type": "code",
   "execution_count": null,
   "id": "625d1a52-9bdc-47e2-886a-717b6288de5f",
   "metadata": {},
   "outputs": [],
   "source": [
    "model2 = KNeighborsClassifier()\n",
    "\n",
    "test_pred2 ,train_pred2=Stacking(model=model2,n_fold=10,train=x_train,test=x_test,y=y_train)\n",
    "\n",
    "train_pred2=pd.DataFrame(train_pred2)\n",
    "test_pred2=pd.DataFrame(test_pred2)"
   ]
  },
  {
   "cell_type": "markdown",
   "id": "7d0c7bcf-1997-4450-879b-cb674ecfd61b",
   "metadata": {},
   "source": [
    "Create a third model, logistic regression, on the predictions of the decision tree and knn models."
   ]
  },
  {
   "cell_type": "code",
   "execution_count": null,
   "id": "45d41464-ac39-449c-88db-f804bc4dec8c",
   "metadata": {},
   "outputs": [],
   "source": [
    "df = pd.concat([train_pred1, train_pred2], axis=1)\n",
    "df_test = pd.concat([test_pred1, test_pred2], axis=1)\n",
    "\n",
    "model = LogisticRegression(random_state=1)\n",
    "model.fit(df,y_train)\n",
    "model.score(df_test, y_test)"
   ]
  },
  {
   "cell_type": "markdown",
   "id": "b58ba1a2-ac45-4ad9-a2c7-696680295112",
   "metadata": {},
   "source": [
    "Bagging\n",
    "\n",
    "The idea behind bagging is combining the results of multiple models (for instance, all decision trees) to get a generalized result."
   ]
  },
  {
   "cell_type": "markdown",
   "id": "c50770b7-2181-4788-a025-dfbd6576da98",
   "metadata": {},
   "source": [
    "Loan Prediction"
   ]
  },
  {
   "cell_type": "code",
   "execution_count": null,
   "id": "fdb8e5fc-07cf-41af-b827-01b502be9a41",
   "metadata": {},
   "outputs": [],
   "source": [
    "#importing important packages\n",
    "import pandas as pd\n",
    "import numpy as np\n",
    "\n",
    "#reading the dataset\n",
    "df=pd.read_csv(\"....../train.csv\")\n",
    "\n",
    "#filling missing values\n",
    "df['Gender'].fillna('Male', inplace=True)"
   ]
  },
  {
   "cell_type": "code",
   "execution_count": null,
   "id": "b39f7df3-046c-44f8-9cd3-251c8258c71c",
   "metadata": {},
   "outputs": [],
   "source": [
    "#split dataset into train and test\n",
    "\n",
    "from sklearn.model_selection import train_test_split\n",
    "train, test = train_test_split(df, test_size=0.3, random_state=0)\n",
    "\n",
    "x_train=train.drop('Loan_Status',axis=1)\n",
    "y_train=train['Loan_Status']\n",
    "\n",
    "x_test=test.drop('Loan_Status',axis=1)\n",
    "y_test=test['Loan_Status']\n",
    "\n",
    "#create dummies\n",
    "x_train=pd.get_dummies(x_train)\n",
    "x_test=pd.get_dummies(x_test)"
   ]
  },
  {
   "cell_type": "code",
   "execution_count": null,
   "id": "c3ae30ec-2245-42e1-819a-c5ee0d4748fb",
   "metadata": {},
   "outputs": [],
   "source": [
    "from sklearn.ensemble import BaggingClassifier\n",
    "from sklearn import tree\n",
    "model = BaggingClassifier(tree.DecisionTreeClassifier(random_state=1))\n",
    "model.fit(x_train, y_train)\n",
    "model.score(x_test,y_test)\n",
    "#0.75135135135135134"
   ]
  },
  {
   "cell_type": "code",
   "execution_count": null,
   "id": "7f04df9b-8421-4cad-8803-4b95da0786bf",
   "metadata": {},
   "outputs": [],
   "source": [
    "from sklearn.ensemble import BaggingRegressor\n",
    "model = BaggingRegressor(tree.DecisionTreeRegressor(random_state=1))\n",
    "model.fit(x_train, y_train)\n",
    "model.score(x_test,y_test)"
   ]
  },
  {
   "cell_type": "code",
   "execution_count": null,
   "id": "0ec4814a-2839-4e16-a88f-759ecd6f4097",
   "metadata": {},
   "outputs": [],
   "source": [
    "from sklearn.ensemble import AdaBoostClassifier\n",
    "model = AdaBoostClassifier(random_state=1)\n",
    "model.fit(x_train, y_train)\n",
    "model.score(x_test,y_test)\n",
    "#0.81081081081081086"
   ]
  },
  {
   "cell_type": "code",
   "execution_count": null,
   "id": "467ae533-a32b-4514-a142-570a0984bfe0",
   "metadata": {},
   "outputs": [],
   "source": [
    "from sklearn.ensemble import GradientBoostingClassifier\n",
    "model= GradientBoostingClassifier(learning_rate=0.01,random_state=1)\n",
    "model.fit(x_train, y_train)\n",
    "model.score(x_test,y_test)\n",
    "#0.81621621621621621"
   ]
  },
  {
   "cell_type": "code",
   "execution_count": null,
   "id": "62723ad3-e924-4c02-9d51-e08a5b401b4f",
   "metadata": {},
   "outputs": [],
   "source": [
    "import xgboost as xgb\n",
    "model=xgb.XGBClassifier(random_state=1,learning_rate=0.01)\n",
    "model.fit(x_train, y_train)\n",
    "model.score(x_test,y_test)\n",
    "#0.82702702702702702"
   ]
  }
 ],
 "metadata": {
  "kernelspec": {
   "display_name": "Python 3",
   "language": "python",
   "name": "python3"
  },
  "language_info": {
   "codemirror_mode": {
    "name": "ipython",
    "version": 3
   },
   "file_extension": ".py",
   "mimetype": "text/x-python",
   "name": "python",
   "nbconvert_exporter": "python",
   "pygments_lexer": "ipython3",
   "version": "3.10.12"
  }
 },
 "nbformat": 4,
 "nbformat_minor": 5
}
