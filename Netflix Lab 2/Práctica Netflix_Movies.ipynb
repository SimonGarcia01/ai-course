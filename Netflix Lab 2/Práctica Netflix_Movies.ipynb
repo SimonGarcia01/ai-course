{
 "cells": [
  {
   "cell_type": "markdown",
   "id": "n9C6fNtvvrYV",
   "metadata": {
    "id": "n9C6fNtvvrYV"
   },
   "source": [
    "# **Investigación sobre la Duración de las Películas en Netflix**\n",
    "\n",
    "En este proyecto, tendrás la oportunidad de aplicar tus conocimientos de programación en Python para abordar un problema real relacionado con el análisis de datos. El **objetivo** es **determinar si la duración de las películas en Netflix se ha reducido con el tiempo**. Para lograr esto, utilizarás listas y bucles de Python, así como las bibliotecas pandas y matplotlib para la creación de gráficos.\n",
    "\n",
    "Podrás desarrollar una habilidad fundamental en el análisis de datos: el análisis exploratorio de datos (EDA). A través de esta tarea, podrás trabajar con datos crudos y descubrir patrones y tendencias que te permitan obtener conclusiones relevantes a partir de la visualización que crees con los datos.\n",
    "\n"
   ]
  },
  {
   "cell_type": "markdown",
   "id": "937acf3c-c077-4ca6-8d90-8f6dd4d13c54",
   "metadata": {
    "id": "937acf3c-c077-4ca6-8d90-8f6dd4d13c54"
   },
   "source": [
    "![](https://es.t-mobile.com/sdscene7/is/image/Tmusprod/V2-4561136_netflix-hero_PHX-BG:HERO-tablet?fmt=png&qlt=85,0&resMode=sharp2&op_usm=1.75,0.3,2,0)"
   ]
  },
  {
   "cell_type": "markdown",
   "id": "5962b2cd-17bb-4ec9-b2d5-68537ca26860",
   "metadata": {
    "id": "5962b2cd-17bb-4ec9-b2d5-68537ca26860"
   },
   "source": [
    "## **Sobre el dataset**\n",
    "### **netflix_data.csv**\n",
    "Un analista ha estado repasando sus habilidades en Python y ha dado el primer paso con un archivo CSV en el que ha estado recolectando datos de Netflix. Él cree que la duración promedio de las películas ha estado disminuyendo, por lo que a partir de la exploración de dichos datos, tu tarea será determinar si su afirmación es cierta.\n",
    "\n",
    "En la siguiente tabla encontrarás de forma detallada los nombres y descripciones correspondientes a cada una de las columnas del dataset:\n",
    "\n",
    "\n",
    "| Columna | Descripción |\n",
    "|--------|-------------|\n",
    "| `show_id` | El ID del show, consiste de la letra s seguida de un número entero |\n",
    "| `type` | Tipo de show (Movie, TV show, etc.) |\n",
    "| `title` | Título del show |\n",
    "| `director` | Director del show |\n",
    "| `cast` | Casting del show (nombres de los actores separados por comas) |\n",
    "| `country` | País de Origen |\n",
    "| `date_added` | Fecha en que se agregó a Netflix (mes día, año) |\n",
    "| `release_year` | Año del Lanzamiento en Netflix |\n",
    "| `duration` | Duración del Show en minutos u horas|\n",
    "| `description` | Descripción del Show|\n",
    "| `genre` | Género del Show (International TV, Dramas, Horror Movies, Action, Crime TV, Documentaries, independent Movies, Sports Movies, Anime Series, etc.)|"
   ]
  },
  {
   "cell_type": "markdown",
   "id": "Yd9EnVyu0buv",
   "metadata": {
    "id": "Yd9EnVyu0buv"
   },
   "source": [
    "## **Ejercicios a realizar**\n",
    "Dentro de tu análisis deberás:\n",
    "\n",
    "\n",
    "1.   Investigar y filtrar los datos de Netflix por tipo de `\"Movie\"`, manteniendo solo las columnas `\"title\"`, `\"country\"`, `\"genre\"`, `\"release_year\"` y `\"duration\"`, guardando esto en un nuevo DataFrame llamado `\"netflix_movies\"`.\n",
    "2.   Filtrar `\"netflix_movies\" `para encontrar las películas que duren menos de 60 minutos e inspeccionar los resultados para encontrar posibles factores contribuyentes.\n",
    "3. Utilizar un bucle `\"for\"`, asignando colores de tu elección\n",
    "a cuatro grupos de géneros de `\"netflix_movies\" `(\"Children\", \"Documentaries\", \"Stand-Up\" y \"Other\") para guardarlos en una lista de colores. Utiliza esta lista para inicializar un objeto de figura y crear un gráfico de dispersión para la duración de la película por año de lanzamiento, usando las etiquetas \"Año de lanzamiento\" para el eje x, \"Duración (min)\" para el eje y y el título \"Duración de la película por año de lanzamiento\".\n",
    "\n",
    "4. Después de inspeccionar el gráfico, responde a la pregunta \"¿Podemos estar seguros de que las películas son cada vez más cortas?\"\n",
    "\n",
    "No te preocupes, esta guía esta diseñada paso a paso para resolver cada pregunta, sin embargo, algunas veces deberás investigar por tu cuenta. 😀"
   ]
  },
  {
   "cell_type": "markdown",
   "id": "SoQaXQ_NWCm-",
   "metadata": {
    "id": "SoQaXQ_NWCm-"
   },
   "source": [
    "# **¡Manos a la obra!**"
   ]
  },
  {
   "cell_type": "markdown",
   "id": "HiHPra8XTBaI",
   "metadata": {
    "id": "HiHPra8XTBaI"
   },
   "source": [
    "## **Importa las librerías necesarias**"
   ]
  },
  {
   "cell_type": "code",
   "execution_count": 2,
   "id": "320a3abc-8a36-4b2b-baaf-473325363a4d",
   "metadata": {
    "executionTime": 40,
    "id": "320a3abc-8a36-4b2b-baaf-473325363a4d",
    "lastSuccessfullyExecutedCode": "# Importing pandas and matplotlib\nimport pandas as pd\nimport matplotlib.pyplot as plt\n\n# Start coding!"
   },
   "outputs": [],
   "source": [
    "# Escribe el código necesario para importar pandas, matplotlib y numpy. Además, agrega los alias de pd, plt, y np, respectivamente.\n",
    "import pandas as pd\n",
    "import matplotlib.pyplot as plt\n",
    "import numpy as np"
   ]
  },
  {
   "cell_type": "markdown",
   "id": "FAyn8Npn4yXL",
   "metadata": {
    "id": "FAyn8Npn4yXL"
   },
   "source": [
    "## **Cargemos el dataset**\n",
    "\n",
    "Vamos a crear un DataFrame llamado `netflix_df`, a partir del archivo CSV llamado `\"netflix_data.csv\"`. Ejecuta las celdas correspondientes dependiendo del ambiente en donde estes trabajando este notebook."
   ]
  },
  {
   "cell_type": "markdown",
   "id": "-6j-rqqQZHyK",
   "metadata": {
    "id": "-6j-rqqQZHyK"
   },
   "source": [
    "### **Si estas en Google Colab**"
   ]
  },
  {
   "cell_type": "code",
   "execution_count": null,
   "id": "GTfK4iUeZW4Z",
   "metadata": {
    "colab": {
     "base_uri": "https://localhost:8080/"
    },
    "executionInfo": {
     "elapsed": 1527,
     "status": "ok",
     "timestamp": 1707094144692,
     "user": {
      "displayName": "Keren López",
      "userId": "03865911594915172759"
     },
     "user_tz": 300
    },
    "id": "GTfK4iUeZW4Z",
    "outputId": "8f7eb422-0c3d-4244-b6a3-3d7b6fbd95e3"
   },
   "outputs": [
    {
     "name": "stdout",
     "output_type": "stream",
     "text": [
      "Drive already mounted at /gdrive; to attempt to forcibly remount, call drive.mount(\"/gdrive\", force_remount=True).\n"
     ]
    }
   ],
   "source": [
    "#Con la ejecución de esta celda, podrás acceder y manipular los archivos de tu Google Drive desde este notebook de Colab.\n",
    "#Selecciona \"continuar\" hasta el final\n",
    "from google.colab import drive\n",
    "drive.mount('/gdrive')"
   ]
  },
  {
   "cell_type": "code",
   "execution_count": null,
   "id": "c4knLR23aShV",
   "metadata": {
    "id": "c4knLR23aShV"
   },
   "outputs": [],
   "source": [
    "# Creación del dataframe usando pandas.\n",
    "netflix_df = pd.read_csv('/gdrive/MyDrive/AI/MONITORIA 2024/Análisis exploratorio/netflix_data.csv',    # Completa la ruta después de /gdrive/MyDrive/ según donde hayas ubicado el archivo CSV.\n",
    "                 na_values=[' ', ''])              # Como el archivo contiene algunos caracteres vacíos, con este comando pandas los interpreta como na (valores faltantes).\n"
   ]
  },
  {
   "cell_type": "markdown",
   "id": "tlY0LAgXcCHJ",
   "metadata": {
    "id": "tlY0LAgXcCHJ"
   },
   "source": [
    "### **Si estas en Jupyter Notebook**"
   ]
  },
  {
   "cell_type": "code",
   "execution_count": 3,
   "id": "3hfP7tL6cOI2",
   "metadata": {
    "id": "3hfP7tL6cOI2"
   },
   "outputs": [],
   "source": [
    "#Bastará con que el archivo CSV se encuentre en la misma carpeta en donde esta ubicado este notebook, es por esto que solo colocamos su nombre.\n",
    "netflix_df = pd.read_csv('netflix_data.csv', na_values=[' ', '']) # Como el archivo contiene algunos caracteres vacíos, con este comando pandas los interpreta como na (valores faltantes)."
   ]
  },
  {
   "cell_type": "markdown",
   "id": "Fw8TJeDz4F-O",
   "metadata": {
    "id": "Fw8TJeDz4F-O"
   },
   "source": [
    "## **Análisis Exploratorio de los Datos**"
   ]
  },
  {
   "cell_type": "code",
   "execution_count": 4,
   "id": "epJt_Fu14PhA",
   "metadata": {
    "colab": {
     "base_uri": "https://localhost:8080/"
    },
    "executionInfo": {
     "elapsed": 194,
     "status": "ok",
     "timestamp": 1707094155988,
     "user": {
      "displayName": "Keren López",
      "userId": "03865911594915172759"
     },
     "user_tz": 300
    },
    "id": "epJt_Fu14PhA",
    "outputId": "2595fe25-20d2-462b-cfc3-0498706616c1"
   },
   "outputs": [
    {
     "data": {
      "text/plain": [
       "(7787, 11)"
      ]
     },
     "execution_count": 4,
     "metadata": {},
     "output_type": "execute_result"
    }
   ],
   "source": [
    "#Averiguemos el tamaño del dataset.\n",
    "netflix_df.shape"
   ]
  },
  {
   "cell_type": "markdown",
   "id": "3v_U1O505R7g",
   "metadata": {
    "id": "3v_U1O505R7g"
   },
   "source": [
    "👉 Responde: ¿Qué indican el primer y segundo número arrojados?\n",
    "El primer número hace referencia al número de filas (registros) y el segundo es el número de columnas,"
   ]
  },
  {
   "cell_type": "code",
   "execution_count": 5,
   "id": "8kiiwZRc4bls",
   "metadata": {
    "colab": {
     "base_uri": "https://localhost:8080/"
    },
    "executionInfo": {
     "elapsed": 203,
     "status": "ok",
     "timestamp": 1707094158871,
     "user": {
      "displayName": "Keren López",
      "userId": "03865911594915172759"
     },
     "user_tz": 300
    },
    "id": "8kiiwZRc4bls",
    "outputId": "a52afdc1-793d-40d9-dc00-4229c70655cb"
   },
   "outputs": [
    {
     "name": "stdout",
     "output_type": "stream",
     "text": [
      "<class 'pandas.core.frame.DataFrame'>\n",
      "RangeIndex: 7787 entries, 0 to 7786\n",
      "Data columns (total 11 columns):\n",
      " #   Column        Non-Null Count  Dtype \n",
      "---  ------        --------------  ----- \n",
      " 0   show_id       7787 non-null   object\n",
      " 1   type          7787 non-null   object\n",
      " 2   title         7787 non-null   object\n",
      " 3   director      5398 non-null   object\n",
      " 4   cast          7069 non-null   object\n",
      " 5   country       7280 non-null   object\n",
      " 6   date_added    7777 non-null   object\n",
      " 7   release_year  7787 non-null   int64 \n",
      " 8   duration      7787 non-null   int64 \n",
      " 9   description   7787 non-null   object\n",
      " 10  genre         7787 non-null   object\n",
      "dtypes: int64(2), object(9)\n",
      "memory usage: 669.3+ KB\n"
     ]
    }
   ],
   "source": [
    "#Usa la función info() de pandas y revisa los tipos de datos y la cantidad de valores no nulos para cada columna.\n",
    "netflix_df.info()"
   ]
  },
  {
   "cell_type": "markdown",
   "id": "62Ay-S3m52Fp",
   "metadata": {
    "id": "62Ay-S3m52Fp"
   },
   "source": [
    "### **Vista preliminar del dataset**"
   ]
  },
  {
   "cell_type": "code",
   "execution_count": 6,
   "id": "PQcBE8uY6Efq",
   "metadata": {
    "colab": {
     "base_uri": "https://localhost:8080/",
     "height": 310
    },
    "executionInfo": {
     "elapsed": 218,
     "status": "ok",
     "timestamp": 1707094162580,
     "user": {
      "displayName": "Keren López",
      "userId": "03865911594915172759"
     },
     "user_tz": 300
    },
    "id": "PQcBE8uY6Efq",
    "outputId": "886e3bf8-7840-4bd1-d5fa-fe3412dce086"
   },
   "outputs": [
    {
     "data": {
      "text/html": [
       "<div>\n",
       "<style scoped>\n",
       "    .dataframe tbody tr th:only-of-type {\n",
       "        vertical-align: middle;\n",
       "    }\n",
       "\n",
       "    .dataframe tbody tr th {\n",
       "        vertical-align: top;\n",
       "    }\n",
       "\n",
       "    .dataframe thead th {\n",
       "        text-align: right;\n",
       "    }\n",
       "</style>\n",
       "<table border=\"1\" class=\"dataframe\">\n",
       "  <thead>\n",
       "    <tr style=\"text-align: right;\">\n",
       "      <th></th>\n",
       "      <th>show_id</th>\n",
       "      <th>type</th>\n",
       "      <th>title</th>\n",
       "      <th>director</th>\n",
       "      <th>cast</th>\n",
       "      <th>country</th>\n",
       "      <th>date_added</th>\n",
       "      <th>release_year</th>\n",
       "      <th>duration</th>\n",
       "      <th>description</th>\n",
       "      <th>genre</th>\n",
       "    </tr>\n",
       "  </thead>\n",
       "  <tbody>\n",
       "    <tr>\n",
       "      <th>0</th>\n",
       "      <td>s1</td>\n",
       "      <td>TV Show</td>\n",
       "      <td>3%</td>\n",
       "      <td>NaN</td>\n",
       "      <td>João Miguel, Bianca Comparato, Michel Gomes, R...</td>\n",
       "      <td>Brazil</td>\n",
       "      <td>August 14, 2020</td>\n",
       "      <td>2020</td>\n",
       "      <td>4</td>\n",
       "      <td>In a future where the elite inhabit an island ...</td>\n",
       "      <td>International TV</td>\n",
       "    </tr>\n",
       "    <tr>\n",
       "      <th>1</th>\n",
       "      <td>s2</td>\n",
       "      <td>Movie</td>\n",
       "      <td>7:19</td>\n",
       "      <td>Jorge Michel Grau</td>\n",
       "      <td>Demián Bichir, Héctor Bonilla, Oscar Serrano, ...</td>\n",
       "      <td>Mexico</td>\n",
       "      <td>December 23, 2016</td>\n",
       "      <td>2016</td>\n",
       "      <td>93</td>\n",
       "      <td>After a devastating earthquake hits Mexico Cit...</td>\n",
       "      <td>Dramas</td>\n",
       "    </tr>\n",
       "    <tr>\n",
       "      <th>2</th>\n",
       "      <td>s3</td>\n",
       "      <td>Movie</td>\n",
       "      <td>23:59</td>\n",
       "      <td>Gilbert Chan</td>\n",
       "      <td>Tedd Chan, Stella Chung, Henley Hii, Lawrence ...</td>\n",
       "      <td>Singapore</td>\n",
       "      <td>December 20, 2018</td>\n",
       "      <td>2011</td>\n",
       "      <td>78</td>\n",
       "      <td>When an army recruit is found dead, his fellow...</td>\n",
       "      <td>Horror Movies</td>\n",
       "    </tr>\n",
       "    <tr>\n",
       "      <th>3</th>\n",
       "      <td>s4</td>\n",
       "      <td>Movie</td>\n",
       "      <td>9</td>\n",
       "      <td>Shane Acker</td>\n",
       "      <td>Elijah Wood, John C. Reilly, Jennifer Connelly...</td>\n",
       "      <td>United States</td>\n",
       "      <td>November 16, 2017</td>\n",
       "      <td>2009</td>\n",
       "      <td>80</td>\n",
       "      <td>In a postapocalyptic world, rag-doll robots hi...</td>\n",
       "      <td>Action</td>\n",
       "    </tr>\n",
       "    <tr>\n",
       "      <th>4</th>\n",
       "      <td>s5</td>\n",
       "      <td>Movie</td>\n",
       "      <td>21</td>\n",
       "      <td>Robert Luketic</td>\n",
       "      <td>Jim Sturgess, Kevin Spacey, Kate Bosworth, Aar...</td>\n",
       "      <td>United States</td>\n",
       "      <td>January 1, 2020</td>\n",
       "      <td>2008</td>\n",
       "      <td>123</td>\n",
       "      <td>A brilliant group of students become card-coun...</td>\n",
       "      <td>Dramas</td>\n",
       "    </tr>\n",
       "  </tbody>\n",
       "</table>\n",
       "</div>"
      ],
      "text/plain": [
       "  show_id     type  title           director  \\\n",
       "0      s1  TV Show     3%                NaN   \n",
       "1      s2    Movie   7:19  Jorge Michel Grau   \n",
       "2      s3    Movie  23:59       Gilbert Chan   \n",
       "3      s4    Movie      9        Shane Acker   \n",
       "4      s5    Movie     21     Robert Luketic   \n",
       "\n",
       "                                                cast        country  \\\n",
       "0  João Miguel, Bianca Comparato, Michel Gomes, R...         Brazil   \n",
       "1  Demián Bichir, Héctor Bonilla, Oscar Serrano, ...         Mexico   \n",
       "2  Tedd Chan, Stella Chung, Henley Hii, Lawrence ...      Singapore   \n",
       "3  Elijah Wood, John C. Reilly, Jennifer Connelly...  United States   \n",
       "4  Jim Sturgess, Kevin Spacey, Kate Bosworth, Aar...  United States   \n",
       "\n",
       "          date_added  release_year  duration  \\\n",
       "0    August 14, 2020          2020         4   \n",
       "1  December 23, 2016          2016        93   \n",
       "2  December 20, 2018          2011        78   \n",
       "3  November 16, 2017          2009        80   \n",
       "4    January 1, 2020          2008       123   \n",
       "\n",
       "                                         description             genre  \n",
       "0  In a future where the elite inhabit an island ...  International TV  \n",
       "1  After a devastating earthquake hits Mexico Cit...            Dramas  \n",
       "2  When an army recruit is found dead, his fellow...     Horror Movies  \n",
       "3  In a postapocalyptic world, rag-doll robots hi...            Action  \n",
       "4  A brilliant group of students become card-coun...            Dramas  "
      ]
     },
     "execution_count": 6,
     "metadata": {},
     "output_type": "execute_result"
    }
   ],
   "source": [
    "#Implementa la función head()\n",
    "netflix_df.head()"
   ]
  },
  {
   "cell_type": "code",
   "execution_count": 7,
   "id": "QJtFGScddM-U",
   "metadata": {
    "colab": {
     "base_uri": "https://localhost:8080/",
     "height": 380
    },
    "executionInfo": {
     "elapsed": 340,
     "status": "ok",
     "timestamp": 1707094165643,
     "user": {
      "displayName": "Keren López",
      "userId": "03865911594915172759"
     },
     "user_tz": 300
    },
    "id": "QJtFGScddM-U",
    "outputId": "89d7cc34-4f0a-48c6-8971-f56dcf5011b9"
   },
   "outputs": [
    {
     "data": {
      "text/html": [
       "<div>\n",
       "<style scoped>\n",
       "    .dataframe tbody tr th:only-of-type {\n",
       "        vertical-align: middle;\n",
       "    }\n",
       "\n",
       "    .dataframe tbody tr th {\n",
       "        vertical-align: top;\n",
       "    }\n",
       "\n",
       "    .dataframe thead th {\n",
       "        text-align: right;\n",
       "    }\n",
       "</style>\n",
       "<table border=\"1\" class=\"dataframe\">\n",
       "  <thead>\n",
       "    <tr style=\"text-align: right;\">\n",
       "      <th></th>\n",
       "      <th>show_id</th>\n",
       "      <th>type</th>\n",
       "      <th>title</th>\n",
       "      <th>director</th>\n",
       "      <th>cast</th>\n",
       "      <th>country</th>\n",
       "      <th>date_added</th>\n",
       "      <th>release_year</th>\n",
       "      <th>duration</th>\n",
       "      <th>description</th>\n",
       "      <th>genre</th>\n",
       "    </tr>\n",
       "  </thead>\n",
       "  <tbody>\n",
       "    <tr>\n",
       "      <th>7782</th>\n",
       "      <td>s7783</td>\n",
       "      <td>Movie</td>\n",
       "      <td>Zozo</td>\n",
       "      <td>Josef Fares</td>\n",
       "      <td>Imad Creidi, Antoinette Turk, Elias Gergi, Car...</td>\n",
       "      <td>Sweden</td>\n",
       "      <td>October 19, 2020</td>\n",
       "      <td>2005</td>\n",
       "      <td>99</td>\n",
       "      <td>When Lebanon's Civil War deprives Zozo of his ...</td>\n",
       "      <td>Dramas</td>\n",
       "    </tr>\n",
       "    <tr>\n",
       "      <th>7783</th>\n",
       "      <td>s7784</td>\n",
       "      <td>Movie</td>\n",
       "      <td>Zubaan</td>\n",
       "      <td>Mozez Singh</td>\n",
       "      <td>Vicky Kaushal, Sarah-Jane Dias, Raaghav Chanan...</td>\n",
       "      <td>India</td>\n",
       "      <td>March 2, 2019</td>\n",
       "      <td>2015</td>\n",
       "      <td>111</td>\n",
       "      <td>A scrappy but poor boy worms his way into a ty...</td>\n",
       "      <td>Dramas</td>\n",
       "    </tr>\n",
       "    <tr>\n",
       "      <th>7784</th>\n",
       "      <td>s7785</td>\n",
       "      <td>Movie</td>\n",
       "      <td>Zulu Man in Japan</td>\n",
       "      <td>NaN</td>\n",
       "      <td>Nasty C</td>\n",
       "      <td>NaN</td>\n",
       "      <td>September 25, 2020</td>\n",
       "      <td>2019</td>\n",
       "      <td>44</td>\n",
       "      <td>In this documentary, South African rapper Nast...</td>\n",
       "      <td>Documentaries</td>\n",
       "    </tr>\n",
       "    <tr>\n",
       "      <th>7785</th>\n",
       "      <td>s7786</td>\n",
       "      <td>TV Show</td>\n",
       "      <td>Zumbo's Just Desserts</td>\n",
       "      <td>NaN</td>\n",
       "      <td>Adriano Zumbo, Rachel Khoo</td>\n",
       "      <td>Australia</td>\n",
       "      <td>October 31, 2020</td>\n",
       "      <td>2019</td>\n",
       "      <td>1</td>\n",
       "      <td>Dessert wizard Adriano Zumbo looks for the nex...</td>\n",
       "      <td>International TV</td>\n",
       "    </tr>\n",
       "    <tr>\n",
       "      <th>7786</th>\n",
       "      <td>s7787</td>\n",
       "      <td>Movie</td>\n",
       "      <td>ZZ TOP: THAT LITTLE OL' BAND FROM TEXAS</td>\n",
       "      <td>Sam Dunn</td>\n",
       "      <td>NaN</td>\n",
       "      <td>United Kingdom</td>\n",
       "      <td>March 1, 2020</td>\n",
       "      <td>2019</td>\n",
       "      <td>90</td>\n",
       "      <td>This documentary delves into the mystique behi...</td>\n",
       "      <td>Documentaries</td>\n",
       "    </tr>\n",
       "  </tbody>\n",
       "</table>\n",
       "</div>"
      ],
      "text/plain": [
       "     show_id     type                                    title     director  \\\n",
       "7782   s7783    Movie                                     Zozo  Josef Fares   \n",
       "7783   s7784    Movie                                   Zubaan  Mozez Singh   \n",
       "7784   s7785    Movie                        Zulu Man in Japan          NaN   \n",
       "7785   s7786  TV Show                    Zumbo's Just Desserts          NaN   \n",
       "7786   s7787    Movie  ZZ TOP: THAT LITTLE OL' BAND FROM TEXAS     Sam Dunn   \n",
       "\n",
       "                                                   cast         country  \\\n",
       "7782  Imad Creidi, Antoinette Turk, Elias Gergi, Car...          Sweden   \n",
       "7783  Vicky Kaushal, Sarah-Jane Dias, Raaghav Chanan...           India   \n",
       "7784                                            Nasty C             NaN   \n",
       "7785                         Adriano Zumbo, Rachel Khoo       Australia   \n",
       "7786                                                NaN  United Kingdom   \n",
       "\n",
       "              date_added  release_year  duration  \\\n",
       "7782    October 19, 2020          2005        99   \n",
       "7783       March 2, 2019          2015       111   \n",
       "7784  September 25, 2020          2019        44   \n",
       "7785    October 31, 2020          2019         1   \n",
       "7786       March 1, 2020          2019        90   \n",
       "\n",
       "                                            description             genre  \n",
       "7782  When Lebanon's Civil War deprives Zozo of his ...            Dramas  \n",
       "7783  A scrappy but poor boy worms his way into a ty...            Dramas  \n",
       "7784  In this documentary, South African rapper Nast...     Documentaries  \n",
       "7785  Dessert wizard Adriano Zumbo looks for the nex...  International TV  \n",
       "7786  This documentary delves into the mystique behi...     Documentaries  "
      ]
     },
     "execution_count": 7,
     "metadata": {},
     "output_type": "execute_result"
    }
   ],
   "source": [
    " #Implementa la función tail()\n",
    "netflix_df.tail()"
   ]
  },
  {
   "cell_type": "markdown",
   "id": "1amxoJO061Nz",
   "metadata": {
    "id": "1amxoJO061Nz"
   },
   "source": [
    "👉 Responde: ¿En qué se diferencian?\n",
    "Head() por default muestra los primeros 5 registros mientras que tail() por deafault muestra los últimos 5"
   ]
  },
  {
   "cell_type": "markdown",
   "id": "WdWd0PfB7X_j",
   "metadata": {
    "id": "WdWd0PfB7X_j"
   },
   "source": [
    "Hay varias maneras de imprimir un número limitado de filas en un DataFrame.\n",
    "Aplica el método de slicing en el dataset (ej: df[0:10]), además de la indexación con .iloc[] y .loc[]"
   ]
  },
  {
   "cell_type": "code",
   "execution_count": 8,
   "id": "csxwz_2i678C",
   "metadata": {
    "id": "csxwz_2i678C"
   },
   "outputs": [
    {
     "data": {
      "text/html": [
       "<div>\n",
       "<style scoped>\n",
       "    .dataframe tbody tr th:only-of-type {\n",
       "        vertical-align: middle;\n",
       "    }\n",
       "\n",
       "    .dataframe tbody tr th {\n",
       "        vertical-align: top;\n",
       "    }\n",
       "\n",
       "    .dataframe thead th {\n",
       "        text-align: right;\n",
       "    }\n",
       "</style>\n",
       "<table border=\"1\" class=\"dataframe\">\n",
       "  <thead>\n",
       "    <tr style=\"text-align: right;\">\n",
       "      <th></th>\n",
       "      <th>show_id</th>\n",
       "      <th>type</th>\n",
       "      <th>title</th>\n",
       "      <th>director</th>\n",
       "      <th>cast</th>\n",
       "      <th>country</th>\n",
       "      <th>date_added</th>\n",
       "      <th>release_year</th>\n",
       "      <th>duration</th>\n",
       "      <th>description</th>\n",
       "      <th>genre</th>\n",
       "    </tr>\n",
       "  </thead>\n",
       "  <tbody>\n",
       "    <tr>\n",
       "      <th>0</th>\n",
       "      <td>s1</td>\n",
       "      <td>TV Show</td>\n",
       "      <td>3%</td>\n",
       "      <td>NaN</td>\n",
       "      <td>João Miguel, Bianca Comparato, Michel Gomes, R...</td>\n",
       "      <td>Brazil</td>\n",
       "      <td>August 14, 2020</td>\n",
       "      <td>2020</td>\n",
       "      <td>4</td>\n",
       "      <td>In a future where the elite inhabit an island ...</td>\n",
       "      <td>International TV</td>\n",
       "    </tr>\n",
       "    <tr>\n",
       "      <th>1</th>\n",
       "      <td>s2</td>\n",
       "      <td>Movie</td>\n",
       "      <td>7:19</td>\n",
       "      <td>Jorge Michel Grau</td>\n",
       "      <td>Demián Bichir, Héctor Bonilla, Oscar Serrano, ...</td>\n",
       "      <td>Mexico</td>\n",
       "      <td>December 23, 2016</td>\n",
       "      <td>2016</td>\n",
       "      <td>93</td>\n",
       "      <td>After a devastating earthquake hits Mexico Cit...</td>\n",
       "      <td>Dramas</td>\n",
       "    </tr>\n",
       "    <tr>\n",
       "      <th>2</th>\n",
       "      <td>s3</td>\n",
       "      <td>Movie</td>\n",
       "      <td>23:59</td>\n",
       "      <td>Gilbert Chan</td>\n",
       "      <td>Tedd Chan, Stella Chung, Henley Hii, Lawrence ...</td>\n",
       "      <td>Singapore</td>\n",
       "      <td>December 20, 2018</td>\n",
       "      <td>2011</td>\n",
       "      <td>78</td>\n",
       "      <td>When an army recruit is found dead, his fellow...</td>\n",
       "      <td>Horror Movies</td>\n",
       "    </tr>\n",
       "    <tr>\n",
       "      <th>3</th>\n",
       "      <td>s4</td>\n",
       "      <td>Movie</td>\n",
       "      <td>9</td>\n",
       "      <td>Shane Acker</td>\n",
       "      <td>Elijah Wood, John C. Reilly, Jennifer Connelly...</td>\n",
       "      <td>United States</td>\n",
       "      <td>November 16, 2017</td>\n",
       "      <td>2009</td>\n",
       "      <td>80</td>\n",
       "      <td>In a postapocalyptic world, rag-doll robots hi...</td>\n",
       "      <td>Action</td>\n",
       "    </tr>\n",
       "    <tr>\n",
       "      <th>4</th>\n",
       "      <td>s5</td>\n",
       "      <td>Movie</td>\n",
       "      <td>21</td>\n",
       "      <td>Robert Luketic</td>\n",
       "      <td>Jim Sturgess, Kevin Spacey, Kate Bosworth, Aar...</td>\n",
       "      <td>United States</td>\n",
       "      <td>January 1, 2020</td>\n",
       "      <td>2008</td>\n",
       "      <td>123</td>\n",
       "      <td>A brilliant group of students become card-coun...</td>\n",
       "      <td>Dramas</td>\n",
       "    </tr>\n",
       "    <tr>\n",
       "      <th>5</th>\n",
       "      <td>s6</td>\n",
       "      <td>TV Show</td>\n",
       "      <td>46</td>\n",
       "      <td>Serdar Akar</td>\n",
       "      <td>Erdal Beşikçioğlu, Yasemin Allen, Melis Birkan...</td>\n",
       "      <td>Turkey</td>\n",
       "      <td>July 1, 2017</td>\n",
       "      <td>2016</td>\n",
       "      <td>1</td>\n",
       "      <td>A genetics professor experiments with a treatm...</td>\n",
       "      <td>International TV</td>\n",
       "    </tr>\n",
       "  </tbody>\n",
       "</table>\n",
       "</div>"
      ],
      "text/plain": [
       "  show_id     type  title           director  \\\n",
       "0      s1  TV Show     3%                NaN   \n",
       "1      s2    Movie   7:19  Jorge Michel Grau   \n",
       "2      s3    Movie  23:59       Gilbert Chan   \n",
       "3      s4    Movie      9        Shane Acker   \n",
       "4      s5    Movie     21     Robert Luketic   \n",
       "5      s6  TV Show     46        Serdar Akar   \n",
       "\n",
       "                                                cast        country  \\\n",
       "0  João Miguel, Bianca Comparato, Michel Gomes, R...         Brazil   \n",
       "1  Demián Bichir, Héctor Bonilla, Oscar Serrano, ...         Mexico   \n",
       "2  Tedd Chan, Stella Chung, Henley Hii, Lawrence ...      Singapore   \n",
       "3  Elijah Wood, John C. Reilly, Jennifer Connelly...  United States   \n",
       "4  Jim Sturgess, Kevin Spacey, Kate Bosworth, Aar...  United States   \n",
       "5  Erdal Beşikçioğlu, Yasemin Allen, Melis Birkan...         Turkey   \n",
       "\n",
       "          date_added  release_year  duration  \\\n",
       "0    August 14, 2020          2020         4   \n",
       "1  December 23, 2016          2016        93   \n",
       "2  December 20, 2018          2011        78   \n",
       "3  November 16, 2017          2009        80   \n",
       "4    January 1, 2020          2008       123   \n",
       "5       July 1, 2017          2016         1   \n",
       "\n",
       "                                         description             genre  \n",
       "0  In a future where the elite inhabit an island ...  International TV  \n",
       "1  After a devastating earthquake hits Mexico Cit...            Dramas  \n",
       "2  When an army recruit is found dead, his fellow...     Horror Movies  \n",
       "3  In a postapocalyptic world, rag-doll robots hi...            Action  \n",
       "4  A brilliant group of students become card-coun...            Dramas  \n",
       "5  A genetics professor experiments with a treatm...  International TV  "
      ]
     },
     "execution_count": 8,
     "metadata": {},
     "output_type": "execute_result"
    }
   ],
   "source": [
    "#Escribe aquí un ejemplo de slicing\n",
    "netflix_df[0:6]"
   ]
  },
  {
   "cell_type": "code",
   "execution_count": 13,
   "id": "q1Hzjrj-7_VW",
   "metadata": {
    "id": "q1Hzjrj-7_VW"
   },
   "outputs": [
    {
     "data": {
      "text/html": [
       "<div>\n",
       "<style scoped>\n",
       "    .dataframe tbody tr th:only-of-type {\n",
       "        vertical-align: middle;\n",
       "    }\n",
       "\n",
       "    .dataframe tbody tr th {\n",
       "        vertical-align: top;\n",
       "    }\n",
       "\n",
       "    .dataframe thead th {\n",
       "        text-align: right;\n",
       "    }\n",
       "</style>\n",
       "<table border=\"1\" class=\"dataframe\">\n",
       "  <thead>\n",
       "    <tr style=\"text-align: right;\">\n",
       "      <th></th>\n",
       "      <th>show_id</th>\n",
       "      <th>type</th>\n",
       "      <th>title</th>\n",
       "      <th>director</th>\n",
       "      <th>cast</th>\n",
       "      <th>country</th>\n",
       "      <th>date_added</th>\n",
       "      <th>release_year</th>\n",
       "      <th>duration</th>\n",
       "      <th>description</th>\n",
       "      <th>genre</th>\n",
       "    </tr>\n",
       "  </thead>\n",
       "  <tbody>\n",
       "    <tr>\n",
       "      <th>0</th>\n",
       "      <td>s1</td>\n",
       "      <td>TV Show</td>\n",
       "      <td>3%</td>\n",
       "      <td>NaN</td>\n",
       "      <td>João Miguel, Bianca Comparato, Michel Gomes, R...</td>\n",
       "      <td>Brazil</td>\n",
       "      <td>August 14, 2020</td>\n",
       "      <td>2020</td>\n",
       "      <td>4</td>\n",
       "      <td>In a future where the elite inhabit an island ...</td>\n",
       "      <td>International TV</td>\n",
       "    </tr>\n",
       "    <tr>\n",
       "      <th>1</th>\n",
       "      <td>s2</td>\n",
       "      <td>Movie</td>\n",
       "      <td>7:19</td>\n",
       "      <td>Jorge Michel Grau</td>\n",
       "      <td>Demián Bichir, Héctor Bonilla, Oscar Serrano, ...</td>\n",
       "      <td>Mexico</td>\n",
       "      <td>December 23, 2016</td>\n",
       "      <td>2016</td>\n",
       "      <td>93</td>\n",
       "      <td>After a devastating earthquake hits Mexico Cit...</td>\n",
       "      <td>Dramas</td>\n",
       "    </tr>\n",
       "    <tr>\n",
       "      <th>2</th>\n",
       "      <td>s3</td>\n",
       "      <td>Movie</td>\n",
       "      <td>23:59</td>\n",
       "      <td>Gilbert Chan</td>\n",
       "      <td>Tedd Chan, Stella Chung, Henley Hii, Lawrence ...</td>\n",
       "      <td>Singapore</td>\n",
       "      <td>December 20, 2018</td>\n",
       "      <td>2011</td>\n",
       "      <td>78</td>\n",
       "      <td>When an army recruit is found dead, his fellow...</td>\n",
       "      <td>Horror Movies</td>\n",
       "    </tr>\n",
       "    <tr>\n",
       "      <th>3</th>\n",
       "      <td>s4</td>\n",
       "      <td>Movie</td>\n",
       "      <td>9</td>\n",
       "      <td>Shane Acker</td>\n",
       "      <td>Elijah Wood, John C. Reilly, Jennifer Connelly...</td>\n",
       "      <td>United States</td>\n",
       "      <td>November 16, 2017</td>\n",
       "      <td>2009</td>\n",
       "      <td>80</td>\n",
       "      <td>In a postapocalyptic world, rag-doll robots hi...</td>\n",
       "      <td>Action</td>\n",
       "    </tr>\n",
       "    <tr>\n",
       "      <th>4</th>\n",
       "      <td>s5</td>\n",
       "      <td>Movie</td>\n",
       "      <td>21</td>\n",
       "      <td>Robert Luketic</td>\n",
       "      <td>Jim Sturgess, Kevin Spacey, Kate Bosworth, Aar...</td>\n",
       "      <td>United States</td>\n",
       "      <td>January 1, 2020</td>\n",
       "      <td>2008</td>\n",
       "      <td>123</td>\n",
       "      <td>A brilliant group of students become card-coun...</td>\n",
       "      <td>Dramas</td>\n",
       "    </tr>\n",
       "    <tr>\n",
       "      <th>5</th>\n",
       "      <td>s6</td>\n",
       "      <td>TV Show</td>\n",
       "      <td>46</td>\n",
       "      <td>Serdar Akar</td>\n",
       "      <td>Erdal Beşikçioğlu, Yasemin Allen, Melis Birkan...</td>\n",
       "      <td>Turkey</td>\n",
       "      <td>July 1, 2017</td>\n",
       "      <td>2016</td>\n",
       "      <td>1</td>\n",
       "      <td>A genetics professor experiments with a treatm...</td>\n",
       "      <td>International TV</td>\n",
       "    </tr>\n",
       "  </tbody>\n",
       "</table>\n",
       "</div>"
      ],
      "text/plain": [
       "  show_id     type  title           director  \\\n",
       "0      s1  TV Show     3%                NaN   \n",
       "1      s2    Movie   7:19  Jorge Michel Grau   \n",
       "2      s3    Movie  23:59       Gilbert Chan   \n",
       "3      s4    Movie      9        Shane Acker   \n",
       "4      s5    Movie     21     Robert Luketic   \n",
       "5      s6  TV Show     46        Serdar Akar   \n",
       "\n",
       "                                                cast        country  \\\n",
       "0  João Miguel, Bianca Comparato, Michel Gomes, R...         Brazil   \n",
       "1  Demián Bichir, Héctor Bonilla, Oscar Serrano, ...         Mexico   \n",
       "2  Tedd Chan, Stella Chung, Henley Hii, Lawrence ...      Singapore   \n",
       "3  Elijah Wood, John C. Reilly, Jennifer Connelly...  United States   \n",
       "4  Jim Sturgess, Kevin Spacey, Kate Bosworth, Aar...  United States   \n",
       "5  Erdal Beşikçioğlu, Yasemin Allen, Melis Birkan...         Turkey   \n",
       "\n",
       "          date_added  release_year  duration  \\\n",
       "0    August 14, 2020          2020         4   \n",
       "1  December 23, 2016          2016        93   \n",
       "2  December 20, 2018          2011        78   \n",
       "3  November 16, 2017          2009        80   \n",
       "4    January 1, 2020          2008       123   \n",
       "5       July 1, 2017          2016         1   \n",
       "\n",
       "                                         description             genre  \n",
       "0  In a future where the elite inhabit an island ...  International TV  \n",
       "1  After a devastating earthquake hits Mexico Cit...            Dramas  \n",
       "2  When an army recruit is found dead, his fellow...     Horror Movies  \n",
       "3  In a postapocalyptic world, rag-doll robots hi...            Action  \n",
       "4  A brilliant group of students become card-coun...            Dramas  \n",
       "5  A genetics professor experiments with a treatm...  International TV  "
      ]
     },
     "execution_count": 13,
     "metadata": {},
     "output_type": "execute_result"
    }
   ],
   "source": [
    "#Escribe aquí un ejemplo usando .iloc[]\n",
    "netflix_df.iloc[0:6]"
   ]
  },
  {
   "cell_type": "code",
   "execution_count": 19,
   "id": "dhjw4MSn8iKa",
   "metadata": {
    "id": "dhjw4MSn8iKa"
   },
   "outputs": [
    {
     "data": {
      "text/html": [
       "<div>\n",
       "<style scoped>\n",
       "    .dataframe tbody tr th:only-of-type {\n",
       "        vertical-align: middle;\n",
       "    }\n",
       "\n",
       "    .dataframe tbody tr th {\n",
       "        vertical-align: top;\n",
       "    }\n",
       "\n",
       "    .dataframe thead th {\n",
       "        text-align: right;\n",
       "    }\n",
       "</style>\n",
       "<table border=\"1\" class=\"dataframe\">\n",
       "  <thead>\n",
       "    <tr style=\"text-align: right;\">\n",
       "      <th></th>\n",
       "      <th>show_id</th>\n",
       "      <th>type</th>\n",
       "      <th>title</th>\n",
       "      <th>director</th>\n",
       "      <th>cast</th>\n",
       "      <th>country</th>\n",
       "      <th>date_added</th>\n",
       "      <th>release_year</th>\n",
       "      <th>duration</th>\n",
       "      <th>description</th>\n",
       "      <th>genre</th>\n",
       "    </tr>\n",
       "  </thead>\n",
       "  <tbody>\n",
       "    <tr>\n",
       "      <th>0</th>\n",
       "      <td>s1</td>\n",
       "      <td>TV Show</td>\n",
       "      <td>3%</td>\n",
       "      <td>NaN</td>\n",
       "      <td>João Miguel, Bianca Comparato, Michel Gomes, R...</td>\n",
       "      <td>Brazil</td>\n",
       "      <td>August 14, 2020</td>\n",
       "      <td>2020</td>\n",
       "      <td>4</td>\n",
       "      <td>In a future where the elite inhabit an island ...</td>\n",
       "      <td>International TV</td>\n",
       "    </tr>\n",
       "    <tr>\n",
       "      <th>1</th>\n",
       "      <td>s2</td>\n",
       "      <td>Movie</td>\n",
       "      <td>7:19</td>\n",
       "      <td>Jorge Michel Grau</td>\n",
       "      <td>Demián Bichir, Héctor Bonilla, Oscar Serrano, ...</td>\n",
       "      <td>Mexico</td>\n",
       "      <td>December 23, 2016</td>\n",
       "      <td>2016</td>\n",
       "      <td>93</td>\n",
       "      <td>After a devastating earthquake hits Mexico Cit...</td>\n",
       "      <td>Dramas</td>\n",
       "    </tr>\n",
       "    <tr>\n",
       "      <th>2</th>\n",
       "      <td>s3</td>\n",
       "      <td>Movie</td>\n",
       "      <td>23:59</td>\n",
       "      <td>Gilbert Chan</td>\n",
       "      <td>Tedd Chan, Stella Chung, Henley Hii, Lawrence ...</td>\n",
       "      <td>Singapore</td>\n",
       "      <td>December 20, 2018</td>\n",
       "      <td>2011</td>\n",
       "      <td>78</td>\n",
       "      <td>When an army recruit is found dead, his fellow...</td>\n",
       "      <td>Horror Movies</td>\n",
       "    </tr>\n",
       "    <tr>\n",
       "      <th>3</th>\n",
       "      <td>s4</td>\n",
       "      <td>Movie</td>\n",
       "      <td>9</td>\n",
       "      <td>Shane Acker</td>\n",
       "      <td>Elijah Wood, John C. Reilly, Jennifer Connelly...</td>\n",
       "      <td>United States</td>\n",
       "      <td>November 16, 2017</td>\n",
       "      <td>2009</td>\n",
       "      <td>80</td>\n",
       "      <td>In a postapocalyptic world, rag-doll robots hi...</td>\n",
       "      <td>Action</td>\n",
       "    </tr>\n",
       "    <tr>\n",
       "      <th>4</th>\n",
       "      <td>s5</td>\n",
       "      <td>Movie</td>\n",
       "      <td>21</td>\n",
       "      <td>Robert Luketic</td>\n",
       "      <td>Jim Sturgess, Kevin Spacey, Kate Bosworth, Aar...</td>\n",
       "      <td>United States</td>\n",
       "      <td>January 1, 2020</td>\n",
       "      <td>2008</td>\n",
       "      <td>123</td>\n",
       "      <td>A brilliant group of students become card-coun...</td>\n",
       "      <td>Dramas</td>\n",
       "    </tr>\n",
       "    <tr>\n",
       "      <th>5</th>\n",
       "      <td>s6</td>\n",
       "      <td>TV Show</td>\n",
       "      <td>46</td>\n",
       "      <td>Serdar Akar</td>\n",
       "      <td>Erdal Beşikçioğlu, Yasemin Allen, Melis Birkan...</td>\n",
       "      <td>Turkey</td>\n",
       "      <td>July 1, 2017</td>\n",
       "      <td>2016</td>\n",
       "      <td>1</td>\n",
       "      <td>A genetics professor experiments with a treatm...</td>\n",
       "      <td>International TV</td>\n",
       "    </tr>\n",
       "    <tr>\n",
       "      <th>6</th>\n",
       "      <td>s7</td>\n",
       "      <td>Movie</td>\n",
       "      <td>122</td>\n",
       "      <td>Yasir Al Yasiri</td>\n",
       "      <td>Amina Khalil, Ahmed Dawood, Tarek Lotfy, Ahmed...</td>\n",
       "      <td>Egypt</td>\n",
       "      <td>June 1, 2020</td>\n",
       "      <td>2019</td>\n",
       "      <td>95</td>\n",
       "      <td>After an awful accident, a couple admitted to ...</td>\n",
       "      <td>Horror Movies</td>\n",
       "    </tr>\n",
       "  </tbody>\n",
       "</table>\n",
       "</div>"
      ],
      "text/plain": [
       "  show_id     type  title           director  \\\n",
       "0      s1  TV Show     3%                NaN   \n",
       "1      s2    Movie   7:19  Jorge Michel Grau   \n",
       "2      s3    Movie  23:59       Gilbert Chan   \n",
       "3      s4    Movie      9        Shane Acker   \n",
       "4      s5    Movie     21     Robert Luketic   \n",
       "5      s6  TV Show     46        Serdar Akar   \n",
       "6      s7    Movie    122    Yasir Al Yasiri   \n",
       "\n",
       "                                                cast        country  \\\n",
       "0  João Miguel, Bianca Comparato, Michel Gomes, R...         Brazil   \n",
       "1  Demián Bichir, Héctor Bonilla, Oscar Serrano, ...         Mexico   \n",
       "2  Tedd Chan, Stella Chung, Henley Hii, Lawrence ...      Singapore   \n",
       "3  Elijah Wood, John C. Reilly, Jennifer Connelly...  United States   \n",
       "4  Jim Sturgess, Kevin Spacey, Kate Bosworth, Aar...  United States   \n",
       "5  Erdal Beşikçioğlu, Yasemin Allen, Melis Birkan...         Turkey   \n",
       "6  Amina Khalil, Ahmed Dawood, Tarek Lotfy, Ahmed...          Egypt   \n",
       "\n",
       "          date_added  release_year  duration  \\\n",
       "0    August 14, 2020          2020         4   \n",
       "1  December 23, 2016          2016        93   \n",
       "2  December 20, 2018          2011        78   \n",
       "3  November 16, 2017          2009        80   \n",
       "4    January 1, 2020          2008       123   \n",
       "5       July 1, 2017          2016         1   \n",
       "6       June 1, 2020          2019        95   \n",
       "\n",
       "                                         description             genre  \n",
       "0  In a future where the elite inhabit an island ...  International TV  \n",
       "1  After a devastating earthquake hits Mexico Cit...            Dramas  \n",
       "2  When an army recruit is found dead, his fellow...     Horror Movies  \n",
       "3  In a postapocalyptic world, rag-doll robots hi...            Action  \n",
       "4  A brilliant group of students become card-coun...            Dramas  \n",
       "5  A genetics professor experiments with a treatm...  International TV  \n",
       "6  After an awful accident, a couple admitted to ...     Horror Movies  "
      ]
     },
     "execution_count": 19,
     "metadata": {},
     "output_type": "execute_result"
    }
   ],
   "source": [
    "#Escribe aquí un ejemplo usando .loc[]\n",
    "netflix_df.loc[0:6]"
   ]
  },
  {
   "cell_type": "markdown",
   "id": "opPN6fbS8xck",
   "metadata": {
    "id": "opPN6fbS8xck"
   },
   "source": [
    "❓ Verdadero o falso: `.iloc[]` se utiliza para la selección basada en posición, mientras que `.loc[]` se utiliza para la selección basada en etiquetas.\n",
    "Verdadero. En el caso anterior no hay etiquetas especificas entonces iloc y loc harian lo mismo."
   ]
  },
  {
   "cell_type": "markdown",
   "id": "WDQAwQf--n5B",
   "metadata": {
    "id": "WDQAwQf--n5B"
   },
   "source": [
    "### **Análisis Univariado**\n",
    "Consiste en tomar las columnas numéricas del dataset y encontrar:\n",
    "+ Medidas de tendencia central: media, mediana, moda.\n",
    "+ Medidas de dispersión: rango, variance, valor máximo y mínimo, cuartiles (incluyendo rango intercuartil) y desviación estándar.\n",
    "\n",
    "Aquí también podemos apoyarnos de gráficos como:\n",
    "+ Histogramas.\n",
    "+ Gráficos de barras.\n",
    "+ Gráficos circulares."
   ]
  },
  {
   "cell_type": "code",
   "execution_count": 24,
   "id": "X1dJ_iu__Qf3",
   "metadata": {
    "colab": {
     "base_uri": "https://localhost:8080/",
     "height": 300
    },
    "executionInfo": {
     "elapsed": 262,
     "status": "ok",
     "timestamp": 1707094190289,
     "user": {
      "displayName": "Keren López",
      "userId": "03865911594915172759"
     },
     "user_tz": 300
    },
    "id": "X1dJ_iu__Qf3",
    "outputId": "258b8217-2eaf-4dc2-abff-bd6c2e729fc1"
   },
   "outputs": [
    {
     "data": {
      "text/html": [
       "<div>\n",
       "<style scoped>\n",
       "    .dataframe tbody tr th:only-of-type {\n",
       "        vertical-align: middle;\n",
       "    }\n",
       "\n",
       "    .dataframe tbody tr th {\n",
       "        vertical-align: top;\n",
       "    }\n",
       "\n",
       "    .dataframe thead th {\n",
       "        text-align: right;\n",
       "    }\n",
       "</style>\n",
       "<table border=\"1\" class=\"dataframe\">\n",
       "  <thead>\n",
       "    <tr style=\"text-align: right;\">\n",
       "      <th></th>\n",
       "      <th>release_year</th>\n",
       "      <th>duration</th>\n",
       "    </tr>\n",
       "  </thead>\n",
       "  <tbody>\n",
       "    <tr>\n",
       "      <th>count</th>\n",
       "      <td>7787.000000</td>\n",
       "      <td>7787.000000</td>\n",
       "    </tr>\n",
       "    <tr>\n",
       "      <th>mean</th>\n",
       "      <td>2013.932580</td>\n",
       "      <td>69.122769</td>\n",
       "    </tr>\n",
       "    <tr>\n",
       "      <th>std</th>\n",
       "      <td>8.757395</td>\n",
       "      <td>50.950743</td>\n",
       "    </tr>\n",
       "    <tr>\n",
       "      <th>min</th>\n",
       "      <td>1925.000000</td>\n",
       "      <td>1.000000</td>\n",
       "    </tr>\n",
       "    <tr>\n",
       "      <th>25%</th>\n",
       "      <td>2013.000000</td>\n",
       "      <td>2.000000</td>\n",
       "    </tr>\n",
       "    <tr>\n",
       "      <th>50%</th>\n",
       "      <td>2017.000000</td>\n",
       "      <td>88.000000</td>\n",
       "    </tr>\n",
       "    <tr>\n",
       "      <th>75%</th>\n",
       "      <td>2018.000000</td>\n",
       "      <td>106.000000</td>\n",
       "    </tr>\n",
       "    <tr>\n",
       "      <th>max</th>\n",
       "      <td>2021.000000</td>\n",
       "      <td>312.000000</td>\n",
       "    </tr>\n",
       "  </tbody>\n",
       "</table>\n",
       "</div>"
      ],
      "text/plain": [
       "       release_year     duration\n",
       "count   7787.000000  7787.000000\n",
       "mean    2013.932580    69.122769\n",
       "std        8.757395    50.950743\n",
       "min     1925.000000     1.000000\n",
       "25%     2013.000000     2.000000\n",
       "50%     2017.000000    88.000000\n",
       "75%     2018.000000   106.000000\n",
       "max     2021.000000   312.000000"
      ]
     },
     "execution_count": 24,
     "metadata": {},
     "output_type": "execute_result"
    }
   ],
   "source": [
    "# Usa la función .describe() de pandas para obtener algunas estadísticas básicas de tendencia central de las columnas numéricas\n",
    "dfNumeric = netflix_df.select_dtypes(include='number')\n",
    "dfNumeric.describe()"
   ]
  },
  {
   "cell_type": "markdown",
   "id": "n-3pnkUqAPjk",
   "metadata": {
    "id": "n-3pnkUqAPjk"
   },
   "source": [
    "#### **Histogramas**\n",
    "Pueden ser útiles para identificar visualmente la forma como se distribuyen los valores de un atributo."
   ]
  },
  {
   "cell_type": "code",
   "execution_count": 25,
   "id": "QJTRB92BAgVS",
   "metadata": {
    "colab": {
     "base_uri": "https://localhost:8080/",
     "height": 485
    },
    "executionInfo": {
     "elapsed": 633,
     "status": "ok",
     "timestamp": 1707094195535,
     "user": {
      "displayName": "Keren López",
      "userId": "03865911594915172759"
     },
     "user_tz": 300
    },
    "id": "QJTRB92BAgVS",
    "outputId": "62c78982-8c26-4824-d1e7-872f3fb4a937"
   },
   "outputs": [
    {
     "data": {
      "text/plain": [
       "array([[<Axes: title={'center': 'duration'}>]], dtype=object)"
      ]
     },
     "execution_count": 25,
     "metadata": {},
     "output_type": "execute_result"
    },
    {
     "data": {
      "image/png": "[encoded data removed]",
      "text/plain": [
       "<Figure size 500x500 with 1 Axes>"
      ]
     },
     "metadata": {},
     "output_type": "display_data"
    }
   ],
   "source": [
    "atr = 'duration'\n",
    "num_bins = 30 #Cantidad de intervalos del histograma\n",
    "netflix_df.hist(column=atr, bins=num_bins, figsize=(5,5))  #Uso del método .hist() de pandas."
   ]
  },
  {
   "cell_type": "code",
   "execution_count": 23,
   "id": "ZDFTYfSdCpD3",
   "metadata": {
    "colab": {
     "base_uri": "https://localhost:8080/",
     "height": 472
    },
    "executionInfo": {
     "elapsed": 503,
     "status": "ok",
     "timestamp": 1707094198781,
     "user": {
      "displayName": "Keren López",
      "userId": "03865911594915172759"
     },
     "user_tz": 300
    },
    "id": "ZDFTYfSdCpD3",
    "outputId": "ac3aad23-0274-4279-d6c6-ed2a2d565082"
   },
   "outputs": [
    {
     "data": {
      "image/png": "[encoded data removed]",
      "text/plain": [
       "<Figure size 640x480 with 1 Axes>"
      ]
     },
     "metadata": {},
     "output_type": "display_data"
    }
   ],
   "source": [
    "#Ahora generemos el histograma usando la librería matplotlib sobre la cual tenemos un poco más de control en los parámetros de la gráfica.\n",
    "\n",
    "valores = netflix_df[atr].values        #Extraemos el ndarray correspondiente de la columna duration.\n",
    "num_bins = 30                               #Número de divisiones que vamos a usar para el histograma.\n",
    "n, bins, patches = plt.hist(valores, num_bins, density=False, facecolor='green')\n",
    "plt.xlabel(atr)          #Texto en el eje x.\n",
    "plt.ylabel('Cuentas')    #Texto en el eje y.\n",
    "plt.title('Histograma de duration')    #Título del gráfico.\n",
    "plt.grid(True)           #Activamos la cuadrícula.\n",
    "plt.show()               #Mostramos el gráfico."
   ]
  },
  {
   "cell_type": "markdown",
   "id": "sZfq93_2FCJX",
   "metadata": {
    "id": "sZfq93_2FCJX"
   },
   "source": [
    "## **Limpieza del dataset**\n"
   ]
  },
  {
   "cell_type": "code",
   "execution_count": 33,
   "id": "aHrcNIaKFqU8",
   "metadata": {
    "id": "aHrcNIaKFqU8"
   },
   "outputs": [],
   "source": [
    "# Es recomendable hacer una copia (profunda) del dataframe original antes de modificarlo.\n",
    "df_clean = netflix_df.copy()"
   ]
  },
  {
   "cell_type": "markdown",
   "id": "oput-plKFwDJ",
   "metadata": {
    "id": "oput-plKFwDJ"
   },
   "source": [
    "### **1. Eliminar datos repetidos**"
   ]
  },
  {
   "cell_type": "code",
   "execution_count": 34,
   "id": "yo6j83pBF2G6",
   "metadata": {
    "colab": {
     "base_uri": "https://localhost:8080/"
    },
    "executionInfo": {
     "elapsed": 224,
     "status": "ok",
     "timestamp": 1707094206221,
     "user": {
      "displayName": "Keren López",
      "userId": "03865911594915172759"
     },
     "user_tz": 300
    },
    "id": "yo6j83pBF2G6",
    "outputId": "ab8c9f74-c190-44aa-8b12-45774a667b48"
   },
   "outputs": [
    {
     "data": {
      "text/plain": [
       "np.int64(0)"
      ]
     },
     "execution_count": 34,
     "metadata": {},
     "output_type": "execute_result"
    }
   ],
   "source": [
    "#Determinar el número de filas duplicadas del dataframe.\n",
    "df_clean.duplicated().sum()"
   ]
  },
  {
   "cell_type": "markdown",
   "id": "Qn1XYdbIJ3ox",
   "metadata": {
    "id": "Qn1XYdbIJ3ox"
   },
   "source": [
    "💡Reto: Encuentra la cantidad de valores faltantes o nulos por cada variable del dataframe"
   ]
  },
  {
   "cell_type": "code",
   "execution_count": 35,
   "id": "iwQUKmXzIXM9",
   "metadata": {
    "colab": {
     "base_uri": "https://localhost:8080/"
    },
    "executionInfo": {
     "elapsed": 206,
     "status": "ok",
     "timestamp": 1707094209069,
     "user": {
      "displayName": "Keren López",
      "userId": "03865911594915172759"
     },
     "user_tz": 300
    },
    "id": "iwQUKmXzIXM9",
    "outputId": "4d20dafe-4d50-4d6c-f86a-4f2fd1ee0b51"
   },
   "outputs": [
    {
     "data": {
      "text/plain": [
       "show_id            0\n",
       "type               0\n",
       "title              0\n",
       "director        2389\n",
       "cast             718\n",
       "country          507\n",
       "date_added        10\n",
       "release_year       0\n",
       "duration           0\n",
       "description        0\n",
       "genre              0\n",
       "dtype: int64"
      ]
     },
     "execution_count": 35,
     "metadata": {},
     "output_type": "execute_result"
    }
   ],
   "source": [
    "##Escribe aquí tu código\n",
    "df_clean.isnull().sum()"
   ]
  },
  {
   "cell_type": "markdown",
   "id": "MHuV53WVKBeI",
   "metadata": {
    "id": "MHuV53WVKBeI"
   },
   "source": [
    "<details>\n",
    "  <summary>No hagas clic aquí sin haberlo intentado 👀</summary>\n",
    "  \n",
    "  Para contar los valores perdidos que hay en cada atributo, se puede utilizar la función .sum() después de cualquiera de las funciones para detectar valores perdidos en el data frame (.isnull(), .notnull(), y .isna()). Así sumaras todos los valores True, se proporcionará un resumen y no tendrás necesidad de utilizar un bucle.\n",
    "</details>"
   ]
  },
  {
   "cell_type": "markdown",
   "id": "OHXPVmsNK9KF",
   "metadata": {
    "id": "OHXPVmsNK9KF"
   },
   "source": [
    "### *2. Lidiar con datos faltantes o nulos**\n",
    "\n",
    "Los datos faltantes, también conocidos como valores nulos o NaN (Not a Number), son un problema común en conjuntos de datos del mundo real. Los datos pueden faltar por diversas razones, como errores de entrada, mediciones incompletas, fallos en el sistema o simplemente porque ciertos valores no se recopilaron. Lidiar con los datos faltantes es esencial para realizar un análisis de datos preciso y construir modelos de aprendizaje automático confiables.\n",
    "\n",
    "#### **Opciones para manejar Datos faltantes**\n",
    "\n",
    "Existen varias estrategias para manejar los datos faltantes, y la elección depende del contexto del problema y de la cantidad de datos faltantes. Algunas opciones comunes son:\n",
    "\n",
    "1. **Eliminación de Filas o Columnas:** Si la cantidad de datos faltantes es pequeña, es posible eliminar filas o columnas con valores nulos. Sin embargo, esto puede reducir el tamaño del conjunto de datos.\n",
    "\n",
    "2. **Imputación:** Consiste en reemplazar los valores faltantes por valores estimados. Una estrategia común es reemplazar los valores faltantes con la media, mediana o moda de la columna correspondiente.\n",
    "\n",
    "3. **Métodos Avanzados de Imputación:** En lugar de simplemente usar estadísticas descriptivas, se pueden utilizar métodos más complejos, como la regresión, para estimar los valores faltantes.\n",
    "\n",
    "#### **Ahora bien, ¿Qué hacemos con nuestro dataset?**\n",
    "\n",
    "En nuestro conjunto de datos, ninguna de las columnas está lo suficientemente vacía como para eliminarla por completo, así que no podremos aplicar esta estrategia. Sin embargo, se puede observar que existen 10 registros o filas que no contienen un valor en date_added, vamos a eliminarlas."
   ]
  },
  {
   "cell_type": "code",
   "execution_count": 36,
   "id": "zh7p9jGxaqMa",
   "metadata": {
    "id": "zh7p9jGxaqMa"
   },
   "outputs": [],
   "source": [
    "#Usa el método .dropna() indicándole la columna date_added\n",
    "df_clean.dropna(subset='date_added', inplace=True)"
   ]
  },
  {
   "cell_type": "code",
   "execution_count": 37,
   "id": "KIXTlQ4KcCAZ",
   "metadata": {
    "id": "KIXTlQ4KcCAZ"
   },
   "outputs": [],
   "source": [
    "# Después de realizar operaciones que modifiquen el dataframe se debe organizar nuevamente el índice.\n",
    "df_clean = df_clean.reset_index(drop=True)"
   ]
  },
  {
   "cell_type": "code",
   "execution_count": 39,
   "id": "VFbuOk2ecZI_",
   "metadata": {
    "colab": {
     "base_uri": "https://localhost:8080/"
    },
    "executionInfo": {
     "elapsed": 220,
     "status": "ok",
     "timestamp": 1707094237670,
     "user": {
      "displayName": "Keren López",
      "userId": "03865911594915172759"
     },
     "user_tz": 300
    },
    "id": "VFbuOk2ecZI_",
    "outputId": "fbe20873-4900-4710-a712-3e3ac3042c0d"
   },
   "outputs": [
    {
     "data": {
      "text/plain": [
       "np.int64(0)"
      ]
     },
     "execution_count": 39,
     "metadata": {},
     "output_type": "execute_result"
    }
   ],
   "source": [
    "#Verifica de nuevo el número de registros nulos para la variable date_added\n",
    "df_clean['date_added'].isnull().sum()"
   ]
  },
  {
   "cell_type": "markdown",
   "id": "zvOHmFyTer_Q",
   "metadata": {
    "id": "zvOHmFyTer_Q"
   },
   "source": [
    "Dado que las columnas director, cast y country, son de tipo object (cadenas de texto), teniendo en cuenta su significado, no tiene sentido reemplazar aquellas variables por imputación. Además, recordemos que el objetivo de este proyecto esta relacionado con la duración de las películas y dichas columnas no serían relevantes, por lo que podríamos dejarlas vacías o reemplazarlas con el valor de \"desconocido\". Ejecutemos la última opción."
   ]
  },
  {
   "cell_type": "code",
   "execution_count": 40,
   "id": "0CxYoXqCjWqW",
   "metadata": {
    "id": "0CxYoXqCjWqW"
   },
   "outputs": [
    {
     "name": "stderr",
     "output_type": "stream",
     "text": [
      "/tmp/ipykernel_47066/2758331971.py:2: FutureWarning: A value is trying to be set on a copy of a DataFrame or Series through chained assignment using an inplace method.\n",
      "The behavior will change in pandas 3.0. This inplace method will never work because the intermediate object on which we are setting values always behaves as a copy.\n",
      "\n",
      "For example, when doing 'df[col].method(value, inplace=True)', try using 'df.method({col: value}, inplace=True)' or df[col] = df[col].method(value) instead, to perform the operation inplace on the original object.\n",
      "\n",
      "\n",
      "  df_clean[\"director\"].replace(np.nan, \"Desconocido\", inplace=True)\n"
     ]
    }
   ],
   "source": [
    "# Reemplazar los valores perdidos de 'director' por \"Desconocido\"\n",
    "df_clean[\"director\"].replace(np.nan, \"Desconocido\", inplace=True)"
   ]
  },
  {
   "cell_type": "code",
   "execution_count": 44,
   "id": "-B_ishK5kQjm",
   "metadata": {
    "colab": {
     "base_uri": "https://localhost:8080/"
    },
    "executionInfo": {
     "elapsed": 222,
     "status": "ok",
     "timestamp": 1707094242870,
     "user": {
      "displayName": "Keren López",
      "userId": "03865911594915172759"
     },
     "user_tz": 300
    },
    "id": "-B_ishK5kQjm",
    "outputId": "bd237d5e-117c-4682-fd06-ab7290bc857f"
   },
   "outputs": [
    {
     "data": {
      "text/plain": [
       "np.int64(0)"
      ]
     },
     "execution_count": 44,
     "metadata": {},
     "output_type": "execute_result"
    }
   ],
   "source": [
    "#Verifica de nuevo el número de registros nulos para la variable 'director'\n",
    "df_clean['director'].isna().sum()"
   ]
  },
  {
   "cell_type": "markdown",
   "id": "kyv7pQBTkb2v",
   "metadata": {
    "id": "kyv7pQBTkb2v"
   },
   "source": [
    "👉 Ahora te toca a ti: realiza la misma operación para las variables cast y country"
   ]
  },
  {
   "cell_type": "code",
   "execution_count": 46,
   "id": "7izlLZ8JkRXR",
   "metadata": {
    "id": "7izlLZ8JkRXR"
   },
   "outputs": [
    {
     "name": "stderr",
     "output_type": "stream",
     "text": [
      "/tmp/ipykernel_47066/462895922.py:2: FutureWarning: A value is trying to be set on a copy of a DataFrame or Series through chained assignment using an inplace method.\n",
      "The behavior will change in pandas 3.0. This inplace method will never work because the intermediate object on which we are setting values always behaves as a copy.\n",
      "\n",
      "For example, when doing 'df[col].method(value, inplace=True)', try using 'df.method({col: value}, inplace=True)' or df[col] = df[col].method(value) instead, to perform the operation inplace on the original object.\n",
      "\n",
      "\n",
      "  df_clean['cast'].replace(np.nan, \"Desconocido\", inplace=True)\n"
     ]
    }
   ],
   "source": [
    "# Reemplazar los valores perdidos de 'cast' por \"Desconocido\"\n",
    "df_clean['cast'].replace(np.nan, \"Desconocido\", inplace=True)"
   ]
  },
  {
   "cell_type": "code",
   "execution_count": 47,
   "id": "CIJOFrN4ksMM",
   "metadata": {
    "colab": {
     "base_uri": "https://localhost:8080/"
    },
    "executionInfo": {
     "elapsed": 251,
     "status": "ok",
     "timestamp": 1707094247499,
     "user": {
      "displayName": "Keren López",
      "userId": "03865911594915172759"
     },
     "user_tz": 300
    },
    "id": "CIJOFrN4ksMM",
    "outputId": "762e980b-93c0-4c2d-d17d-5d95f94e226b"
   },
   "outputs": [
    {
     "data": {
      "text/plain": [
       "np.int64(0)"
      ]
     },
     "execution_count": 47,
     "metadata": {},
     "output_type": "execute_result"
    }
   ],
   "source": [
    "#Verifica de nuevo el número de registros nulos para la variable 'cast'\n",
    "df_clean['cast'].isnull().sum()"
   ]
  },
  {
   "cell_type": "code",
   "execution_count": 48,
   "id": "IH3L9qahkxmF",
   "metadata": {
    "id": "IH3L9qahkxmF"
   },
   "outputs": [
    {
     "name": "stderr",
     "output_type": "stream",
     "text": [
      "/tmp/ipykernel_47066/304122811.py:2: FutureWarning: A value is trying to be set on a copy of a DataFrame or Series through chained assignment using an inplace method.\n",
      "The behavior will change in pandas 3.0. This inplace method will never work because the intermediate object on which we are setting values always behaves as a copy.\n",
      "\n",
      "For example, when doing 'df[col].method(value, inplace=True)', try using 'df.method({col: value}, inplace=True)' or df[col] = df[col].method(value) instead, to perform the operation inplace on the original object.\n",
      "\n",
      "\n",
      "  df_clean['country'].replace(np.nan, \"Desconocido\", inplace=True)\n"
     ]
    }
   ],
   "source": [
    "# Reemplazar los valores perdidos de 'country' por \"Desconocido\"\n",
    "df_clean['country'].replace(np.nan, \"Desconocido\", inplace=True)"
   ]
  },
  {
   "cell_type": "code",
   "execution_count": 49,
   "id": "2IFjCAL0ku5l",
   "metadata": {
    "colab": {
     "base_uri": "https://localhost:8080/"
    },
    "executionInfo": {
     "elapsed": 309,
     "status": "ok",
     "timestamp": 1707094251667,
     "user": {
      "displayName": "Keren López",
      "userId": "03865911594915172759"
     },
     "user_tz": 300
    },
    "id": "2IFjCAL0ku5l",
    "outputId": "4ec03167-4821-42a4-8e6e-f1654b1f1c51"
   },
   "outputs": [
    {
     "data": {
      "text/plain": [
       "np.int64(0)"
      ]
     },
     "execution_count": 49,
     "metadata": {},
     "output_type": "execute_result"
    }
   ],
   "source": [
    "#Verifica de nuevo el número de registros nulos para la variable 'country'\n",
    "df_clean['country'].isnull().sum()"
   ]
  },
  {
   "cell_type": "markdown",
   "id": "0y5E6vVBnrNB",
   "metadata": {
    "id": "0y5E6vVBnrNB"
   },
   "source": [
    "## **Solución de los ejercicios propuestos**⚡🤖"
   ]
  },
  {
   "cell_type": "markdown",
   "id": "VSS8Ey7i6pUT",
   "metadata": {
    "id": "VSS8Ey7i6pUT"
   },
   "source": [
    "### **Filtra las Películas del Dataframe**\n",
    "\n",
    "Filtra el DataFrame `df_clean` para incluir solamente las filas donde el tipo sea `'Movie`'. Asigna el resultado a `netflix_subset`."
   ]
  },
  {
   "cell_type": "code",
   "execution_count": 72,
   "id": "-mWTrMWWo7jU",
   "metadata": {
    "colab": {
     "base_uri": "https://localhost:8080/",
     "height": 293
    },
    "executionInfo": {
     "elapsed": 244,
     "status": "ok",
     "timestamp": 1707094256209,
     "user": {
      "displayName": "Keren López",
      "userId": "03865911594915172759"
     },
     "user_tz": 300
    },
    "id": "-mWTrMWWo7jU",
    "outputId": "3f0e685e-1f2f-4cbc-a9c2-5a421a099573"
   },
   "outputs": [],
   "source": [
    "#Escribe aquí tu código\n",
    "netflix_subset = df_clean[df_clean['type'] == 'Movie']\n",
    "#df_clean.loc[df_clean['type'].isin(['Movie'])]"
   ]
  },
  {
   "cell_type": "markdown",
   "id": "ZmI2kG9b-kW6",
   "metadata": {
    "id": "ZmI2kG9b-kW6"
   },
   "source": [
    "<details>\n",
    "  <summary>Click Aquí para Tips</summary>\n",
    "  \n",
    "  Una manera de filtrar un DataFrame es usando corchetes cuadrados, pasando una condición. Por ejemplo, si quisieras filtrar un DataFrame `music_df` para las filas donde la columna género es `\"metal\"`, podrías usar lo siguiente:\n",
    "`music_df[music_df[\"genre\"] == \"metal\"]`\n",
    "</details>\n",
    "\n"
   ]
  },
  {
   "cell_type": "markdown",
   "id": "cjSM0R8c_rCZ",
   "metadata": {
    "id": "cjSM0R8c_rCZ"
   },
   "source": [
    "### **Filtrar algunas columnas del nuevo DataFrame**\n",
    "\n",
    "Filtrar el DataFrame `netflix_subset` para mantener solo las columnas `\"title\"`, `\"country\"`, `\"genre\"`, `\"release_year\"` y `\"duration`\" y guardar el resultado como un nuevo DataFrame llamado `netflix_movies`. **Siempre puedes usar `.head()` para explorar los dataframes creados.**"
   ]
  },
  {
   "cell_type": "code",
   "execution_count": 82,
   "id": "1e6cd32a-be64-4b67-ab23-8ccf8be595b2",
   "metadata": {
    "colab": {
     "base_uri": "https://localhost:8080/",
     "height": 206
    },
    "executionInfo": {
     "elapsed": 225,
     "status": "ok",
     "timestamp": 1707094260932,
     "user": {
      "displayName": "Keren López",
      "userId": "03865911594915172759"
     },
     "user_tz": 300
    },
    "executionTime": 25,
    "id": "1e6cd32a-be64-4b67-ab23-8ccf8be595b2",
    "lastSuccessfullyExecutedCode": "netflix_movies=netflix_subset[[\"title\", \"country\", \"genre\", \"release_year\", \"duration\"]]\nnetflix_movies.head()",
    "outputId": "5c19e9ae-cf06-44db-e1c2-7d4bd94c9364"
   },
   "outputs": [
    {
     "data": {
      "text/html": [
       "<div>\n",
       "<style scoped>\n",
       "    .dataframe tbody tr th:only-of-type {\n",
       "        vertical-align: middle;\n",
       "    }\n",
       "\n",
       "    .dataframe tbody tr th {\n",
       "        vertical-align: top;\n",
       "    }\n",
       "\n",
       "    .dataframe thead th {\n",
       "        text-align: right;\n",
       "    }\n",
       "</style>\n",
       "<table border=\"1\" class=\"dataframe\">\n",
       "  <thead>\n",
       "    <tr style=\"text-align: right;\">\n",
       "      <th></th>\n",
       "      <th>title</th>\n",
       "      <th>country</th>\n",
       "      <th>genre</th>\n",
       "      <th>release_year</th>\n",
       "      <th>duration</th>\n",
       "    </tr>\n",
       "  </thead>\n",
       "  <tbody>\n",
       "    <tr>\n",
       "      <th>1</th>\n",
       "      <td>7:19</td>\n",
       "      <td>Mexico</td>\n",
       "      <td>Dramas</td>\n",
       "      <td>2016</td>\n",
       "      <td>93</td>\n",
       "    </tr>\n",
       "    <tr>\n",
       "      <th>2</th>\n",
       "      <td>23:59</td>\n",
       "      <td>Singapore</td>\n",
       "      <td>Horror Movies</td>\n",
       "      <td>2011</td>\n",
       "      <td>78</td>\n",
       "    </tr>\n",
       "    <tr>\n",
       "      <th>3</th>\n",
       "      <td>9</td>\n",
       "      <td>United States</td>\n",
       "      <td>Action</td>\n",
       "      <td>2009</td>\n",
       "      <td>80</td>\n",
       "    </tr>\n",
       "    <tr>\n",
       "      <th>4</th>\n",
       "      <td>21</td>\n",
       "      <td>United States</td>\n",
       "      <td>Dramas</td>\n",
       "      <td>2008</td>\n",
       "      <td>123</td>\n",
       "    </tr>\n",
       "    <tr>\n",
       "      <th>6</th>\n",
       "      <td>122</td>\n",
       "      <td>Egypt</td>\n",
       "      <td>Horror Movies</td>\n",
       "      <td>2019</td>\n",
       "      <td>95</td>\n",
       "    </tr>\n",
       "  </tbody>\n",
       "</table>\n",
       "</div>"
      ],
      "text/plain": [
       "   title        country          genre  release_year  duration\n",
       "1   7:19         Mexico         Dramas          2016        93\n",
       "2  23:59      Singapore  Horror Movies          2011        78\n",
       "3      9  United States         Action          2009        80\n",
       "4     21  United States         Dramas          2008       123\n",
       "6    122          Egypt  Horror Movies          2019        95"
      ]
     },
     "execution_count": 82,
     "metadata": {},
     "output_type": "execute_result"
    }
   ],
   "source": [
    "# Escribe aquí tu código\n",
    "netflix_movies = netflix_subset[['title', 'country', 'genre', 'release_year', 'duration']]\n",
    "netflix_movies.head()"
   ]
  },
  {
   "cell_type": "code",
   "execution_count": null,
   "id": "a5293b15",
   "metadata": {},
   "outputs": [],
   "source": []
  },
  {
   "cell_type": "markdown",
   "id": "x9vFDN81AVSe",
   "metadata": {
    "id": "x9vFDN81AVSe"
   },
   "source": [
    "<details>\n",
    "  <summary>Click Aquí para Tips</summary>\n",
    "  \n",
    "  Para filtrar el DataFrame `music_df` descrito anteriormente para algunas columnas específicas, como: `album_title`, `artist` y `album_length`, puedes pasar una lista con los nombres de las columnas dentro de corchetes, como se muestra a continuación:\n",
    "   \n",
    "  `music_df[['album_title', 'artist', 'album_length']]`\n",
    "</details>"
   ]
  },
  {
   "cell_type": "markdown",
   "id": "mec5oAl9BL6Q",
   "metadata": {
    "id": "mec5oAl9BL6Q"
   },
   "source": [
    "### **Filtrar el Dataframe para obtener las Películas con Duración menor a 1 Hora**\n",
    "\n",
    "Filtrar el dataframe `netflix_movies` para ver las películas que tienen una duración menor a 60 minutos e imprimir las primeras 20 filas para inspeccionar los datos. Guarda el resultado en un nuevo dataframe llamado `netflix_movies_less_60`."
   ]
  },
  {
   "cell_type": "code",
   "execution_count": 83,
   "id": "0ff7bb40-bb0c-4ee4-9141-63547e5569ab",
   "metadata": {
    "colab": {
     "base_uri": "https://localhost:8080/",
     "height": 677
    },
    "executionInfo": {
     "elapsed": 193,
     "status": "ok",
     "timestamp": 1707094264937,
     "user": {
      "displayName": "Keren López",
      "userId": "03865911594915172759"
     },
     "user_tz": 300
    },
    "executionTime": 49,
    "id": "0ff7bb40-bb0c-4ee4-9141-63547e5569ab",
    "lastSuccessfullyExecutedCode": "netflix_movies = netflix_movies[netflix_movies[\"duration\"] < 60]\nnetflix_movies.head(20)",
    "outputId": "abd0e36e-3c6a-496a-99e8-0ab04c5cab71"
   },
   "outputs": [
    {
     "data": {
      "text/html": [
       "<div>\n",
       "<style scoped>\n",
       "    .dataframe tbody tr th:only-of-type {\n",
       "        vertical-align: middle;\n",
       "    }\n",
       "\n",
       "    .dataframe tbody tr th {\n",
       "        vertical-align: top;\n",
       "    }\n",
       "\n",
       "    .dataframe thead th {\n",
       "        text-align: right;\n",
       "    }\n",
       "</style>\n",
       "<table border=\"1\" class=\"dataframe\">\n",
       "  <thead>\n",
       "    <tr style=\"text-align: right;\">\n",
       "      <th></th>\n",
       "      <th>title</th>\n",
       "      <th>country</th>\n",
       "      <th>genre</th>\n",
       "      <th>release_year</th>\n",
       "      <th>duration</th>\n",
       "    </tr>\n",
       "  </thead>\n",
       "  <tbody>\n",
       "    <tr>\n",
       "      <th>35</th>\n",
       "      <td>#Rucker50</td>\n",
       "      <td>United States</td>\n",
       "      <td>Documentaries</td>\n",
       "      <td>2016</td>\n",
       "      <td>56</td>\n",
       "    </tr>\n",
       "    <tr>\n",
       "      <th>55</th>\n",
       "      <td>100 Things to do Before High School</td>\n",
       "      <td>United States</td>\n",
       "      <td>Uncategorized</td>\n",
       "      <td>2014</td>\n",
       "      <td>44</td>\n",
       "    </tr>\n",
       "    <tr>\n",
       "      <th>67</th>\n",
       "      <td>13TH: A Conversation with Oprah Winfrey &amp; Ava ...</td>\n",
       "      <td>Desconocido</td>\n",
       "      <td>Uncategorized</td>\n",
       "      <td>2017</td>\n",
       "      <td>37</td>\n",
       "    </tr>\n",
       "    <tr>\n",
       "      <th>101</th>\n",
       "      <td>3 Seconds Divorce</td>\n",
       "      <td>Canada</td>\n",
       "      <td>Documentaries</td>\n",
       "      <td>2018</td>\n",
       "      <td>53</td>\n",
       "    </tr>\n",
       "    <tr>\n",
       "      <th>146</th>\n",
       "      <td>A 3 Minute Hug</td>\n",
       "      <td>Mexico</td>\n",
       "      <td>Documentaries</td>\n",
       "      <td>2019</td>\n",
       "      <td>28</td>\n",
       "    </tr>\n",
       "    <tr>\n",
       "      <th>162</th>\n",
       "      <td>A Christmas Special: Miraculous: Tales of Lady...</td>\n",
       "      <td>France</td>\n",
       "      <td>Uncategorized</td>\n",
       "      <td>2016</td>\n",
       "      <td>22</td>\n",
       "    </tr>\n",
       "    <tr>\n",
       "      <th>171</th>\n",
       "      <td>A Family Reunion Christmas</td>\n",
       "      <td>United States</td>\n",
       "      <td>Uncategorized</td>\n",
       "      <td>2019</td>\n",
       "      <td>29</td>\n",
       "    </tr>\n",
       "    <tr>\n",
       "      <th>177</th>\n",
       "      <td>A Go! Go! Cory Carson Christmas</td>\n",
       "      <td>United States</td>\n",
       "      <td>Children</td>\n",
       "      <td>2020</td>\n",
       "      <td>22</td>\n",
       "    </tr>\n",
       "    <tr>\n",
       "      <th>178</th>\n",
       "      <td>A Go! Go! Cory Carson Halloween</td>\n",
       "      <td>Desconocido</td>\n",
       "      <td>Children</td>\n",
       "      <td>2020</td>\n",
       "      <td>22</td>\n",
       "    </tr>\n",
       "    <tr>\n",
       "      <th>179</th>\n",
       "      <td>A Go! Go! Cory Carson Summer Camp</td>\n",
       "      <td>Desconocido</td>\n",
       "      <td>Children</td>\n",
       "      <td>2020</td>\n",
       "      <td>21</td>\n",
       "    </tr>\n",
       "    <tr>\n",
       "      <th>181</th>\n",
       "      <td>A Grand Night In: The Story of Aardman</td>\n",
       "      <td>United Kingdom</td>\n",
       "      <td>Documentaries</td>\n",
       "      <td>2015</td>\n",
       "      <td>59</td>\n",
       "    </tr>\n",
       "    <tr>\n",
       "      <th>200</th>\n",
       "      <td>A Love Song for Latasha</td>\n",
       "      <td>United States</td>\n",
       "      <td>Documentaries</td>\n",
       "      <td>2020</td>\n",
       "      <td>20</td>\n",
       "    </tr>\n",
       "    <tr>\n",
       "      <th>220</th>\n",
       "      <td>A Russell Peters Christmas</td>\n",
       "      <td>Canada</td>\n",
       "      <td>Stand-Up</td>\n",
       "      <td>2011</td>\n",
       "      <td>44</td>\n",
       "    </tr>\n",
       "    <tr>\n",
       "      <th>233</th>\n",
       "      <td>A StoryBots Christmas</td>\n",
       "      <td>United States</td>\n",
       "      <td>Children</td>\n",
       "      <td>2017</td>\n",
       "      <td>26</td>\n",
       "    </tr>\n",
       "    <tr>\n",
       "      <th>237</th>\n",
       "      <td>A Tale of Two Kitchens</td>\n",
       "      <td>United States</td>\n",
       "      <td>Documentaries</td>\n",
       "      <td>2019</td>\n",
       "      <td>30</td>\n",
       "    </tr>\n",
       "    <tr>\n",
       "      <th>242</th>\n",
       "      <td>A Trash Truck Christmas</td>\n",
       "      <td>Desconocido</td>\n",
       "      <td>Children</td>\n",
       "      <td>2020</td>\n",
       "      <td>28</td>\n",
       "    </tr>\n",
       "    <tr>\n",
       "      <th>247</th>\n",
       "      <td>A Very Murray Christmas</td>\n",
       "      <td>United States</td>\n",
       "      <td>Comedies</td>\n",
       "      <td>2015</td>\n",
       "      <td>57</td>\n",
       "    </tr>\n",
       "    <tr>\n",
       "      <th>284</th>\n",
       "      <td>Abominable Christmas</td>\n",
       "      <td>United States</td>\n",
       "      <td>Children</td>\n",
       "      <td>2012</td>\n",
       "      <td>44</td>\n",
       "    </tr>\n",
       "    <tr>\n",
       "      <th>294</th>\n",
       "      <td>Across Grace Alley</td>\n",
       "      <td>United States</td>\n",
       "      <td>Dramas</td>\n",
       "      <td>2013</td>\n",
       "      <td>24</td>\n",
       "    </tr>\n",
       "    <tr>\n",
       "      <th>304</th>\n",
       "      <td>Adam Devine: Best Time of Our Lives</td>\n",
       "      <td>United States</td>\n",
       "      <td>Stand-Up</td>\n",
       "      <td>2019</td>\n",
       "      <td>59</td>\n",
       "    </tr>\n",
       "  </tbody>\n",
       "</table>\n",
       "</div>"
      ],
      "text/plain": [
       "                                                 title         country  \\\n",
       "35                                           #Rucker50   United States   \n",
       "55                 100 Things to do Before High School   United States   \n",
       "67   13TH: A Conversation with Oprah Winfrey & Ava ...     Desconocido   \n",
       "101                                  3 Seconds Divorce          Canada   \n",
       "146                                     A 3 Minute Hug          Mexico   \n",
       "162  A Christmas Special: Miraculous: Tales of Lady...          France   \n",
       "171                         A Family Reunion Christmas   United States   \n",
       "177                    A Go! Go! Cory Carson Christmas   United States   \n",
       "178                    A Go! Go! Cory Carson Halloween     Desconocido   \n",
       "179                  A Go! Go! Cory Carson Summer Camp     Desconocido   \n",
       "181             A Grand Night In: The Story of Aardman  United Kingdom   \n",
       "200                            A Love Song for Latasha   United States   \n",
       "220                         A Russell Peters Christmas          Canada   \n",
       "233                              A StoryBots Christmas   United States   \n",
       "237                             A Tale of Two Kitchens   United States   \n",
       "242                            A Trash Truck Christmas     Desconocido   \n",
       "247                            A Very Murray Christmas   United States   \n",
       "284                               Abominable Christmas   United States   \n",
       "294                                 Across Grace Alley   United States   \n",
       "304                Adam Devine: Best Time of Our Lives   United States   \n",
       "\n",
       "             genre  release_year  duration  \n",
       "35   Documentaries          2016        56  \n",
       "55   Uncategorized          2014        44  \n",
       "67   Uncategorized          2017        37  \n",
       "101  Documentaries          2018        53  \n",
       "146  Documentaries          2019        28  \n",
       "162  Uncategorized          2016        22  \n",
       "171  Uncategorized          2019        29  \n",
       "177       Children          2020        22  \n",
       "178       Children          2020        22  \n",
       "179       Children          2020        21  \n",
       "181  Documentaries          2015        59  \n",
       "200  Documentaries          2020        20  \n",
       "220       Stand-Up          2011        44  \n",
       "233       Children          2017        26  \n",
       "237  Documentaries          2019        30  \n",
       "242       Children          2020        28  \n",
       "247       Comedies          2015        57  \n",
       "284       Children          2012        44  \n",
       "294         Dramas          2013        24  \n",
       "304       Stand-Up          2019        59  "
      ]
     },
     "execution_count": 83,
     "metadata": {},
     "output_type": "execute_result"
    }
   ],
   "source": [
    "# Escribe aquí tu código\n",
    "netflix_movies_less_60 = netflix_movies[netflix_movies['duration'] < 60]\n",
    "netflix_movies_less_60.head(20)\n"
   ]
  },
  {
   "cell_type": "markdown",
   "id": "iZQdfaZnCEtN",
   "metadata": {
    "id": "iZQdfaZnCEtN"
   },
   "source": [
    "<details>\n",
    "  <summary>Click Aquí para Tips</summary>\n",
    "  \n",
    "  Puedes filtrar un DataFrame especificando una condición dentro de los corchetes, de manera similar a como filtraste el DataFrame de películas anteriormente. Aquí tienes un ejemplo para un DataFrame llamado `music_df`, filtrando por duraciones de álbum mayores a 120 minutos:\n",
    "   \n",
    "  `music_df[music_df['album_length'] > 120]`\n",
    "</details>"
   ]
  },
  {
   "cell_type": "markdown",
   "id": "sij4CuhnDDlg",
   "metadata": {
    "id": "sij4CuhnDDlg"
   },
   "source": [
    "### **Asigna Colores a algunos Géneros de Películas Relevantes**\n",
    "\n",
    "Inicializa una lista vacía llamada `\"colors\"` para almacenar los diferentes valores de colores y, usando un bucle `for`, itera a través de `\"netflix_movies\"` y agrega colores a la lista según 4 géneros `\"Children`\", `\"Documentaries\"`, `\"Stand-Up\"` y `Others`."
   ]
  },
  {
   "cell_type": "code",
   "execution_count": 86,
   "id": "941cb27e-dba9-42ef-a716-803e182e2a93",
   "metadata": {
    "executionTime": 0,
    "id": "941cb27e-dba9-42ef-a716-803e182e2a93",
    "lastSuccessfullyExecutedCode": "colors = []\nfor genre in netflix_movies[\"genre\"]:\n    if genre == \"Children\":\n        colors.append(\"blue\")\n    elif genre == \"Documentaries\":\n        colors.append(\"green\")\n    elif genre == \"Stand-Up\":\n        colors.append(\"yellow\")\n    else:\n        colors.append(\"red\")"
   },
   "outputs": [],
   "source": [
    "# Escribe aquí tu código\n",
    "colors = []\n",
    "for n in range(len(netflix_movies)):\n",
    "    if(netflix_movies.iloc[n]['genre']==\"Children\"): colors.append('red')\n",
    "    elif(netflix_movies.iloc[n]['genre']==\"Documentaries\"): colors.append('blue')\n",
    "    elif(netflix_movies.iloc[n]['genre']==\"Stand-Up\"): colors.append('yellow')\n",
    "    else: colors.append('green')\n",
    "\n",
    "#Se puede usar\n",
    "#for lab, row in netflix_movies.iterrows():\n",
    "#if row['genre'] == \"Children\": colors.append('red')\n"
   ]
  },
  {
   "cell_type": "markdown",
   "id": "hhBjsqU8Dkm6",
   "metadata": {
    "id": "hhBjsqU8Dkm6"
   },
   "source": [
    "<details>\n",
    "  <summary>Click Aquí para Tips</summary>\n",
    "  \n",
    "  **Iterar a través de un Dataframe:** Puedes utilizar el método `.iterrows()` para iterar a través de las etiquetas y filas del DataFrame, y luego utilizar los valores de la fila para determinar qué color agregar. Podría verse así:\n",
    "\n",
    "```\n",
    "for lab, row in music_df.iterrows():\n",
    "if row['genre'] == \"Jazz\":\n",
    "    print(\"Jazzy!\")\n",
    "elif row['genre'] == \"Swing\":\n",
    "    print(\"Slightly jazzy.\")\n",
    "else:\n",
    "    print(\"Not very jazzy.\")\n",
    "```\n",
    "\n",
    "**Agregar elementos a una lista:** Puedes usar el método `.append()` para agregar colores a tu lista de colores `colors` en función del género.\n",
    "\n",
    "</details>"
   ]
  },
  {
   "cell_type": "markdown",
   "id": "6QERKTolFJfl",
   "metadata": {
    "id": "6QERKTolFJfl"
   },
   "source": [
    "### **Graficar la duración de las películas por año usando los colores de género creados**\n",
    "\n",
    "Utilizando los datos contenidos en `netflix_movies`, inicializa un objeto figura con` figsize = (12, 8)`, crea un diagrama de dispersión colocando el año de lanzamiento en el `eje x` con la etiqueta `\"Año de lanzamiento\"`, la duración de la película en el `eje y` con la etiqueta `\"Duración (min)\"`, el título del gráfico `\"Duración de la película por año de lanzamiento\"`. Usa la lista de colores creada anteriormente para colorear los puntos. Observe que el gráfico incluye TODAS las películas de Netflix, y no apenas las que duran menos de 60 minutos, en caso de querer ver solamente las que tienen duración inferior a 1 hora, gráfique el Dataframe `netflix_movies_less_60`."
   ]
  },
  {
   "cell_type": "code",
   "execution_count": null,
   "id": "516342bd-e0d1-4227-b27e-e6591dfbee64",
   "metadata": {
    "colab": {
     "base_uri": "https://localhost:8080/",
     "height": 718
    },
    "executionInfo": {
     "elapsed": 1038,
     "status": "ok",
     "timestamp": 1707094280792,
     "user": {
      "displayName": "Keren López",
      "userId": "03865911594915172759"
     },
     "user_tz": 300
    },
    "executionTime": 417,
    "id": "516342bd-e0d1-4227-b27e-e6591dfbee64",
    "lastSuccessfullyExecutedCode": "plt.figure(figsize=(12, 8))\nplt.scatter(netflix_movies[\"release_year\"], netflix_movies[\"duration\"], c=colors)\nplt.xlabel(\"Release year\")\nplt.ylabel(\"Duration (min)\")\nplt.title(\"Movie Duration by Year of Release\")\nplt.show()",
    "outputId": "2700e337-8945-4b43-ebdc-b98e617f8e79"
   },
   "outputs": [
    {
     "data": {
      "text/plain": [
       "<Axes: title={'center': 'Duración de la película por año de lanzamiento'}, xlabel='Año de lanzamiento', ylabel='Duración (min)'>"
      ]
     },
     "execution_count": 92,
     "metadata": {},
     "output_type": "execute_result"
    },
    {
     "data": {
      "image/png": "[encoded data removed]",
      "text/plain": [
       "<Figure size 1200x800 with 1 Axes>"
      ]
     },
     "metadata": {},
     "output_type": "display_data"
    }
   ],
   "source": [
    "# Escribe aquí tu código\n",
    "netflix_movies.plot(kind='scatter', x='release_year', y='duration', \n",
    "                    figsize=(12,8), c=colors,\n",
    "                    xlabel=\"Año de lanzamiento\", ylabel=\"Duración (min)\",\n",
    "                    title=\"Duración de la película por año de lanzamiento\")\n",
    "\n",
    "#fig = plt.scatter(figsize(12,8))\n",
    "#plt.scatter(x='release_year', y='duration', c=colors)\n",
    "#plt.xlabel=\"Año de lanzamiento\"\n",
    "#plt.ylabel=\"Duración (min)\"\n",
    "#plt.title(\"Duración de la película por año de lanzamiento\")\n",
    "#plt.show()"
   ]
  },
  {
   "cell_type": "markdown",
   "id": "IDmupPZPGU8E",
   "metadata": {
    "id": "IDmupPZPGU8E"
   },
   "source": [
    "<details>\n",
    "  <summary>Click Aquí para Tips</summary>\n",
    "  \n",
    "  **Crear una Figura:** Puedes crear un objeto figura de matplotlib usando` fig = plt.figure()`, añadiendo el argumento `figsize` entre paréntesis.:\n",
    "\n",
    "  **Crear un gráfico de dispersión:** Para crear un gráfico de dispersión se utiliza `plt.scatter(`) (siempre y cuando se haya asignado el alias `plt` a `matplotlib.pyplot`).\n",
    "\n",
    "  **Adicionar Etiquetas a los ejes:** Puedes crear etiquetas de eje de la misma manera que un título, utilizando `plt.xlabel()` y `plt.ylabel()`.\n",
    "\n",
    "  **Agregar un título al gráfico:** Puedes añadir un título llamando a `plt.title()` y pasando como argumento el título que deseas como una cadena de texto.\n",
    "\n",
    "  **Agregar Color a un Gráfico de Dispersión:** Puedes pasar una lista de colores a tu gráfico de dispersión proporcionando un argumento al parámetro c, que puede ser una lista de colores.\n",
    "</details>"
   ]
  },
  {
   "cell_type": "markdown",
   "id": "qA3tHQe4rkrw",
   "metadata": {
    "id": "qA3tHQe4rkrw"
   },
   "source": [
    "💡Después de inspeccionar el gráfico, responde a la pregunta: ¿Podemos estar seguros de que las películas son cada vez más cortas?"
   ]
  }
 ],
 "metadata": {
  "colab": {
   "collapsed_sections": [
    "tlY0LAgXcCHJ"
   ],
   "provenance": [
    {
     "file_id": "1Fn7voryF0vWpW72K9gSkU6UqO2QIq1Ig",
     "timestamp": 1679252398191
    }
   ]
  },
  "kernelspec": {
   "display_name": "Python 3",
   "language": "python",
   "name": "python3"
  },
  "language_info": {
   "codemirror_mode": {
    "name": "ipython",
    "version": 3
   },
   "file_extension": ".py",
   "mimetype": "text/x-python",
   "name": "python",
   "nbconvert_exporter": "python",
   "pygments_lexer": "ipython3",
   "version": "3.10.12"
  }
 },
 "nbformat": 4,
 "nbformat_minor": 5
}
