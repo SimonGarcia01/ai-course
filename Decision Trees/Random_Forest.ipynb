{
 "cells": [
  {
   "cell_type": "markdown",
   "id": "25762a79",
   "metadata": {},
   "source": [
    "### 1. **¿Qué es Random Forest?**\n",
    "Random Forest es un algoritmo de aprendizaje supervisado que construye múltiples árboles de decisión (con variaciones en sus datos de entrenamiento) y combina sus resultados para hacer una predicción más robusta. Se utiliza tanto para tareas de **clasificación** como de **regresión**.\n",
    "\n",
    "Las principales características de Random Forest incluyen:\n",
    "- **Bagging** (Bootstrap Aggregation): Se generan múltiples subconjuntos de datos de entrenamiento seleccionados aleatoriamente con reemplazo (bootstrapping) y se construyen árboles de decisión en cada subconjunto.\n",
    "- **Random Subspace**: Durante la construcción de cada árbol, solo un subconjunto aleatorio de características es evaluado en cada nodo para hacer la división.\n",
    "- La predicción final se obtiene por **votación** (en clasificación) o **promedio** (en regresión).\n",
    "\n",
    "### 2. **Ventajas de Random Forest**\n",
    "- **Robustez**: Al ser un ensamble de múltiples árboles, es menos sensible a datos ruidosos o sobreajuste.\n",
    "- **Generalización**: Mejora la capacidad del modelo para generalizar en datos no vistos.\n",
    "- **Escalabilidad**: Funciona bien con grandes bases de datos y puede manejar una alta dimensionalidad.\n",
    "\n",
    "### 3. **Parámetros importantes**\n",
    "- **n_estimators**: Número de árboles en el bosque.\n",
    "- **max_depth**: Profundidad máxima de los árboles. Un valor más bajo previene el sobreajuste.\n",
    "- **min_samples_split**: Mínimo número de muestras para dividir un nodo.\n",
    "- **min_samples_leaf**: Mínimo número de muestras necesarias en una hoja.\n",
    "- **max_features**: Número máximo de características consideradas en cada división de nodo.\n",
    "\n",
    "### 4. **Ejemplo práctico con la base de datos Iris (clasificación)**\n",
    "\n",
    "Vamos a construir un modelo de Random Forest para clasificar las especies de flores en el dataset **Iris**.\n"
   ]
  },
  {
   "cell_type": "code",
   "execution_count": 2,
   "id": "7755ff20",
   "metadata": {},
   "outputs": [
    {
     "name": "stdout",
     "output_type": "stream",
     "text": [
      "Accuracy: 1.00\n",
      "              precision    recall  f1-score   support\n",
      "\n",
      "           0       1.00      1.00      1.00        19\n",
      "           1       1.00      1.00      1.00        13\n",
      "           2       1.00      1.00      1.00        13\n",
      "\n",
      "    accuracy                           1.00        45\n",
      "   macro avg       1.00      1.00      1.00        45\n",
      "weighted avg       1.00      1.00      1.00        45\n",
      "\n"
     ]
    },
    {
     "data": {
      "image/png": "[encoded data removed]",
      "text/plain": [
       "<Figure size 640x480 with 1 Axes>"
      ]
     },
     "metadata": {},
     "output_type": "display_data"
    }
   ],
   "source": [
    "from sklearn.datasets import load_iris\n",
    "from sklearn.ensemble import RandomForestClassifier\n",
    "from sklearn.model_selection import train_test_split\n",
    "from sklearn.metrics import accuracy_score, classification_report\n",
    "import matplotlib.pyplot as plt\n",
    "\n",
    "# Cargar el dataset Iris\n",
    "iris = load_iris()\n",
    "X, y = iris.data, iris.target\n",
    "\n",
    "# Dividir los datos en conjunto de entrenamiento y prueba\n",
    "X_train, X_test, y_train, y_test = train_test_split(X, y, test_size=0.3, random_state=42)\n",
    "\n",
    "# Crear el modelo Random Forest\n",
    "rf_clf = RandomForestClassifier(n_estimators=100, max_depth=5, random_state=42)\n",
    "\n",
    "# Entrenar el modelo\n",
    "rf_clf.fit(X_train, y_train)\n",
    "\n",
    "# Predecir los valores del conjunto de prueba\n",
    "y_pred = rf_clf.predict(X_test)\n",
    "\n",
    "# Evaluar el modelo\n",
    "accuracy = accuracy_score(y_test, y_pred)\n",
    "print(f\"Accuracy: {accuracy:.2f}\")\n",
    "print(classification_report(y_test, y_pred))\n",
    "\n",
    "# Mostrar la importancia de las características\n",
    "importances = rf_clf.feature_importances_\n",
    "plt.barh(iris.feature_names, importances)\n",
    "plt.title('Importancia de las características (Random Forest)')\n",
    "plt.show()\n"
   ]
  },
  {
   "cell_type": "markdown",
   "id": "447996e3",
   "metadata": {},
   "source": [
    "- **`n_estimators=100`**: Se crean 100 árboles de decisión en el bosque.\n",
    "- **`max_depth=5`**: Se limita la profundidad de los árboles para prevenir sobreajuste.\n",
    "- **`max_features='sqrt'`** (valor por defecto): En cada nodo, se selecciona un subconjunto de características igual a la raíz cuadrada del número total de características.\n"
   ]
  },
  {
   "cell_type": "code",
   "execution_count": null,
   "id": "274abe2b",
   "metadata": {},
   "outputs": [],
   "source": []
  },
  {
   "cell_type": "code",
   "execution_count": null,
   "id": "597f3472",
   "metadata": {},
   "outputs": [],
   "source": []
  },
  {
   "cell_type": "markdown",
   "id": "2a983841",
   "metadata": {},
   "source": [
    "\n"
   ]
  },
  {
   "cell_type": "code",
   "execution_count": null,
   "id": "dd23c27b",
   "metadata": {},
   "outputs": [],
   "source": []
  }
 ],
 "metadata": {
  "kernelspec": {
   "display_name": "Python 3 (ipykernel)",
   "language": "python",
   "name": "python3"
  },
  "language_info": {
   "codemirror_mode": {
    "name": "ipython",
    "version": 3
   },
   "file_extension": ".py",
   "mimetype": "text/x-python",
   "name": "python",
   "nbconvert_exporter": "python",
   "pygments_lexer": "ipython3",
   "version": "3.7.16"
  }
 },
 "nbformat": 4,
 "nbformat_minor": 5
}
