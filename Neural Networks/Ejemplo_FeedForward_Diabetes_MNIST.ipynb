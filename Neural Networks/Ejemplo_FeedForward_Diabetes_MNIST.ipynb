{
 "cells": [
  {
   "cell_type": "markdown",
   "metadata": {},
   "source": [
    "\n",
    "<img src=https://audiovisuales.icesi.edu.co/assets/custom/images/ICESI_logo_prin_descriptor_RGB_POSITIVO_0924.jpg width=200>\n",
    "\n",
    "*Milton Orlando Sarria Paja, PhD.*\n",
    "\n",
    "----\n",
    "\n",
    "## 🧠 Introducción a redes neuronales feedforward con SKLEARN y TensorFlow/Keras\n",
    "\n",
    "\n",
    "## ✅ ¿Qué es una red neuronal feedforward?\n",
    "\n",
    "Una **red neuronal feedforward** (también llamada MLP o perceptrón multicapa) es un tipo de red donde los datos fluyen en una sola dirección: desde la capa de entrada, a través de una o más capas ocultas, hasta la salida. Es uno de los modelos fundamentales en el aprendizaje profundo.\n",
    "\n",
    "---\n",
    "\n",
    "## SkLearn\n",
    "\n",
    "## 🧠 ¿Qué es `MLPClassifier`?\n",
    "\n",
    "`MLPClassifier` es una clase del módulo `sklearn.neural_network` que permite construir **redes neuronales artificiales supervisadas** para problemas de clasificación. Implementa una **red neuronal feedforward** con una o más capas ocultas y entrenamiento mediante **retropropagación (backpropagation)**.\n",
    "\n",
    "---\n",
    "\n",
    "##  Sintaxis básica\n",
    "\n",
    "```python\n",
    "from sklearn.neural_network import MLPClassifier\n",
    "\n",
    "mlp = MLPClassifier(hidden_layer_sizes=(100,), activation='relu', solver='adam', max_iter=200)\n",
    "```\n",
    "\n",
    "---\n",
    "\n",
    "## Parámetros más importantes\n",
    "\n",
    "| Parámetro            | Descripción                                                                                                                                                                                                            |\n",
    "| -------------------- | ---------------------------------------------------------------------------------------------------------------------------------------------------------------------------------------------------------------------- |\n",
    "| `hidden_layer_sizes` | Tupla que define la arquitectura de la red. Por ejemplo, `(100,)` crea una red con una capa oculta de 100 neuronas. `(50, 30)` crea dos capas ocultas: la primera con 50 y la segunda con 30 neuronas.                 |\n",
    "| `activation`         | Función de activación de las capas ocultas. Valores posibles:<ul><li>`'relu'` (por defecto): ReLU</li><li>`'tanh'`: tangente hiperbólica</li><li>`'logistic'`: sigmoide</li></ul>                                      |\n",
    "| `solver`             | Algoritmo de optimización:<ul><li>`'adam'` (por defecto): recomendado para datasets grandes</li><li>`'sgd'`: descenso del gradiente estocástico</li><li>`'lbfgs'`: más rápido en conjuntos de datos pequeños</li></ul> |\n",
    "| `max_iter`           | Número máximo de iteraciones (épocas) para entrenar el modelo.                                                                                                                                                         |\n",
    "| `alpha`              | Término de regularización L2 (evita sobreajuste). Valor por defecto: `0.0001`.                                                                                                                                         |\n",
    "| `learning_rate`      | Esquema para actualizar la tasa de aprendizaje:<ul><li>`'constant'`</li><li>`'invscaling'`</li><li>`'adaptive'`</li></ul>                                                                                              |\n",
    "| `learning_rate_init` | Tasa de aprendizaje inicial. Por defecto: `0.001`.                                                                                                                                                                     |\n",
    "| `early_stopping`     | Si es `True`, detiene el entrenamiento cuando el rendimiento no mejora en un conjunto de validación.                                                                                                                   |\n",
    "| `random_state`       | Fija la semilla para reproducibilidad.                                                                                                                                                                                 |\n",
    "\n",
    "---\n",
    "\n",
    "En el clasificador **MLPClassifier** de **scikit-learn**, **no es necesario especificar la capa de salida** porque esta se **define automáticamente en función del tipo de problema y del número de clases en los datos de entrenamiento**. \n",
    "\n",
    "* El número de neuronas en la capa de salida se **determina por el número de clases** en el conjunto de datos.\n",
    "\n",
    "  * Ejemplo: si estás clasificando entre 3 clases, la capa de salida tendrá 3 neuronas.\n",
    "* Esto lo infiere automáticamente el modelo al ver las etiquetas (`y`) cuando se entrena (`fit`).\n",
    "\n",
    "### **Función de activación de la capa de salida**\n",
    "\n",
    "* La **función de activación de la capa de salida también está predeterminada según el problema**:\n",
    "\n",
    "  * Para **clasificación multiclase**, se utiliza **softmax** (aunque internamente puede usar *logistic regression multinomial*).\n",
    "  * Para **clasificación binaria**, se utiliza **logística (sigmoid)**.\n",
    "* Esto depende del parámetro `solver` y el tipo de salida (`y`) proporcionado.\n",
    "\n",
    "### **El usuario especifica solo las capas ocultas**\n",
    "\n",
    "* El parámetro `hidden_layer_sizes` permite indicar solo las **capas ocultas** y su estructura (número de capas y neuronas por capa).\n",
    "* La capa de entrada se define según el número de características (`X.shape[1]`), y la de salida según las clases de `y`.\n",
    "\n",
    "---\n",
    "\n",
    "### Ejemplo:\n",
    "\n",
    "```python\n",
    "from sklearn.neural_network import MLPClassifier\n",
    "\n",
    "mlp = MLPClassifier(hidden_layer_sizes=(100, 50), activation='relu')\n",
    "mlp.fit(X_train, y_train)\n",
    "```\n",
    "\n",
    "* **Entrada:** definida por `X_train.shape[1]`\n",
    "* **Ocultas:** dos capas, una con 100 y otra con 50 neuronas\n",
    "* **Salida:** inferida automáticamente por `y_train`\n",
    "\n",
    "---\n",
    "\n",
    "## Entrenamiento y predicción\n",
    "\n",
    "```python\n",
    "mlp.fit(X_train, y_train)       # Entrena la red\n",
    "y_pred = mlp.predict(X_test)    # Predice clases\n",
    "y_proba = mlp.predict_proba(X_test)  # Probabilidades (para ROC, etc.)\n",
    "```\n",
    "\n",
    "---\n",
    "\n",
    "## Evaluación del modelo\n",
    "\n",
    "```python\n",
    "from sklearn.metrics import accuracy_score, classification_report\n",
    "\n",
    "print(\"Accuracy:\", accuracy_score(y_test, y_pred))\n",
    "print(classification_report(y_test, y_pred))\n",
    "```\n",
    "\n"
   ]
  },
  {
   "cell_type": "markdown",
   "metadata": {},
   "source": []
  },
  {
   "cell_type": "markdown",
   "metadata": {},
   "source": [
    "# Ejemplo usando diabetes db"
   ]
  },
  {
   "cell_type": "code",
   "execution_count": 119,
   "metadata": {},
   "outputs": [],
   "source": [
    "import numpy as np\n",
    "import matplotlib.pyplot       as plt\n",
    "from sklearn.model_selection import train_test_split\n",
    "from sklearn.preprocessing import StandardScaler\n",
    "from sklearn.neural_network import MLPClassifier\n",
    "from sklearn.metrics import classification_report, accuracy_score\n",
    "from sklearn.metrics import roc_curve, auc"
   ]
  },
  {
   "cell_type": "code",
   "execution_count": 133,
   "metadata": {},
   "outputs": [],
   "source": [
    "from sklearn.datasets import fetch_openml\n",
    "import pandas as pd\n",
    "# Cargar el dataset, separar etiquetas y datos de entrada\n",
    "# Particionar en entrenamiento y prueba\n",
    "diabetes_data = fetch_openml(name='diabetes', version=1, as_frame=True)\n",
    "df = diabetes_data.frame\n",
    "\n",
    "X = df.drop(columns='class')\n",
    "y = (df['class'] == 'tested_positive').astype(int)  # Convertir etiquetas a 0 y 1\n",
    "\n",
    "X_train, X_test, y_train, y_test = train_test_split(X, y, test_size=0.2, random_state=42, stratify=y)\n",
    "\n",
    "# Escalar características\n",
    "scaler = StandardScaler()\n",
    "X_train_scaled = scaler.fit_transform(X_train)\n",
    "X_test_scaled = scaler.transform(X_test)"
   ]
  },
  {
   "cell_type": "markdown",
   "metadata": {},
   "source": [
    "### Crear y entrenar el modelo MLPClassifier"
   ]
  },
  {
   "cell_type": "code",
   "execution_count": 134,
   "metadata": {},
   "outputs": [
    {
     "name": "stdout",
     "output_type": "stream",
     "text": [
      "Accuracy: 0.7077922077922078\n",
      "\n",
      "Reporte de clasificación:\n",
      "               precision    recall  f1-score   support\n",
      "\n",
      "           0       0.78      0.77      0.77       100\n",
      "           1       0.58      0.59      0.59        54\n",
      "\n",
      "    accuracy                           0.71       154\n",
      "   macro avg       0.68      0.68      0.68       154\n",
      "weighted avg       0.71      0.71      0.71       154\n",
      "\n"
     ]
    }
   ],
   "source": [
    "mlp = MLPClassifier(\n",
    "    hidden_layer_sizes=(10,5,),  # capas ocultas\n",
    "    activation='relu',\n",
    "    solver='adam',\n",
    "    max_iter=2000,\n",
    "    random_state=42,\n",
    "    batch_size=100\n",
    ")\n",
    "\n",
    "mlp.fit(X_train_scaled, y_train)\n",
    "\n",
    "# 4. Evaluar el modelo\n",
    "y_pred = mlp.predict(X_test_scaled)\n",
    "accuracy = accuracy_score(y_test, y_pred)\n",
    "\n",
    "print(\"Accuracy:\", accuracy)\n",
    "print(\"\\nReporte de clasificación:\\n\", classification_report(y_test, y_pred))"
   ]
  },
  {
   "cell_type": "markdown",
   "metadata": {},
   "source": [
    "## Calcular ROC"
   ]
  },
  {
   "cell_type": "code",
   "execution_count": 135,
   "metadata": {},
   "outputs": [
    {
     "data": {
      "image/png": "[encoded data removed]",
      "text/plain": [
       "<Figure size 800x600 with 1 Axes>"
      ]
     },
     "metadata": {},
     "output_type": "display_data"
    }
   ],
   "source": [
    "#Obtener las probabilidades estimadas para la clase positiva\n",
    "y_proba = mlp.predict_proba(X_test_scaled)[:, 1]  # Probabilidad de clase 1\n",
    "\n",
    "#Calcular los valores de la curva ROC\n",
    "fpr, tpr, thresholds = roc_curve(y_test, y_proba)\n",
    "roc_auc = auc(fpr, tpr)\n",
    "#Graficar la curva ROC\n",
    "plt.figure(figsize=(8, 6))\n",
    "plt.plot(fpr, tpr, color='darkorange', lw=2, label=f'Curva ROC (AUC = {roc_auc:.2f})')\n",
    "plt.plot([0, 1], [0, 1], color='navy', lw=2, linestyle='--', label='Aleatorio')\n",
    "plt.xlim([0.0, 1.0])\n",
    "plt.ylim([0.0, 1.05])\n",
    "plt.xlabel('Tasa de Falsos Positivos (FPR)')\n",
    "plt.ylabel('Tasa de Verdaderos Positivos (TPR)')\n",
    "plt.title('Curva ROC - MLPClassifier')\n",
    "plt.legend(loc=\"lower right\")\n",
    "plt.grid(True)"
   ]
  },
  {
   "cell_type": "markdown",
   "metadata": {},
   "source": [
    "## Construir red neuronal con TensorFlow\n",
    "\n",
    "### PRIMERO DEBES INSTALAR TENSORFLOW\n",
    "\n",
    "```\n",
    "pip install tensorflow\n",
    "```\n",
    "\n",
    "### ¿Qué es TensorFlow?\n",
    "\n",
    "**TensorFlow** es una biblioteca de código abierto desarrollada por Google para el aprendizaje automático y la computación numérica. A través de su interfaz de alto nivel **Keras**, permite construir y entrenar modelos de redes neuronales de forma simple y eficiente.\n",
    "\n",
    "---\n",
    "\n",
    "\n",
    "## 🔧 ¿Por qué usar Keras?\n",
    "\n",
    "Keras (incluido en TensorFlow) proporciona una forma intuitiva de construir modelos. Hay dos formas principales:\n",
    "\n",
    "* **`Sequential`**: para modelos lineales capa por capa.\n",
    "* **`Functional`**: para modelos con múltiples entradas, salidas o estructuras más complejas.\n",
    "\n",
    "---\n",
    "\n",
    "## 📦 Pasos típicos para construir un modelo con Keras\n",
    "\n",
    "```python\n",
    "from tensorflow.keras.models import Sequential\n",
    "from tensorflow.keras.layers import Input, Dense\n",
    "\n",
    "# 1. Definir la arquitectura\n",
    "model = Sequential([\n",
    "    Input(shape=(n_features,)),       # Entrada con n características\n",
    "    Dense(10, activation='relu'),     # Capa oculta 1\n",
    "    Dense(5, activation='relu'),      # Capa oculta 2\n",
    "    Dense(1, activation='sigmoid')    # Capa de salida para clasificación binaria\n",
    "])\n",
    "\n",
    "# 2. Compilar el modelo\n",
    "model.compile(optimizer='adam', loss='binary_crossentropy', metrics=['accuracy'])\n",
    "\n",
    "# 3. Entrenar el modelo\n",
    "model.fit(X_train, y_train, epochs=50, batch_size=32, validation_split=0.2)\n",
    "```\n",
    "\n",
    "---\n",
    "\n",
    "## 🔍 Componentes\n",
    "\n",
    "| Componente                   | Descripción                                                                            |\n",
    "| ---------------------------- | -------------------------------------------------------------------------------------- |\n",
    "| `Input(shape=(n,))`          | Define el tamaño de las entradas del modelo (n características)                        |\n",
    "| `Dense(units, activation)`   | Capa completamente conectada. `units` = neuronas, `activation` = función de activación |\n",
    "| `activation='relu'`          | Función de activación ReLU (popular en capas ocultas)                                  |\n",
    "| `activation='sigmoid'`       | Para salida binaria, convierte la salida en una probabilidad                           |\n",
    "| `loss='binary_crossentropy'` | Función de pérdida para clasificación binaria                                          |\n",
    "| `optimizer='adam'`           | Algoritmo eficiente para ajustar pesos                                                 |\n",
    "| `metrics=['accuracy']`       | Métrica para evaluar desempeño en clasificación                                        |\n",
    "\n",
    "---\n",
    "\n",
    "A diferencia de **scikit-learn**, donde el `MLPClassifier` infiere automáticamente la **capa de salida** a partir de las etiquetas del conjunto de entrenamiento (`y`), en **TensorFlow/Keras** **sí es necesario definir explícitamente la capa de salida** en el modelo.\n",
    "\n",
    "### En TensorFlow/Keras:\n",
    "\n",
    "* **Debes agregar manualmente la capa de salida** en la arquitectura del modelo.\n",
    "* Debes especificar:\n",
    "\n",
    "  * El **número de neuronas** en la capa de salida (según el número de clases).\n",
    "  * La **función de activación** adecuada:\n",
    "\n",
    "    * `sigmoid` para **clasificación binaria**.\n",
    "    * `softmax` para **clasificación multiclase**.\n",
    "\n",
    "\n",
    "\n",
    "* **scikit-learn (`MLPClassifier`)**: Capa de salida **automática**.\n",
    "* **TensorFlow/Keras**: Capa de salida **debe definirse manualmente**, lo que ofrece **mayor control y flexibilidad**.\n",
    "\n",
    "-----\n",
    "\n",
    "## 📈 Evaluar el modelo\n",
    "\n",
    "```python\n",
    "loss, accuracy = model.evaluate(X_test, y_test)\n",
    "print(f\"Test Accuracy: {accuracy:.4f}\")\n",
    "```\n",
    "\n",
    "---\n",
    "\n",
    "## 🧪 Recomendaciones\n",
    "\n",
    "* **Escalar** los datos con `StandardScaler` antes de entrenar redes neuronales.\n",
    "* Puedes usar métricas adicionales como `AUC`, `Precision`, `Recall`, etc.\n",
    "* Para visualización de desempeño, es útil graficar **curvas ROC** o el **historial de entrenamiento** (`history.history`).\n",
    "\n",
    "---\n",
    "\n",
    "## 📊 Ejemplo de visualización del entrenamiento\n",
    "\n",
    "```python\n",
    "import matplotlib.pyplot as plt\n",
    "\n",
    "history = model.fit(...)  # como antes\n",
    "\n",
    "plt.plot(history.history['loss'], label='train_loss')\n",
    "plt.plot(history.history['val_loss'], label='val_loss')\n",
    "plt.xlabel(\"Épocas\")\n",
    "plt.ylabel(\"Pérdida\")\n",
    "plt.legend()\n",
    "plt.grid()\n",
    "plt.title(\"Evolución de la pérdida durante el entrenamiento\")\n",
    "plt.show()\n",
    "```\n"
   ]
  },
  {
   "cell_type": "code",
   "execution_count": 91,
   "metadata": {},
   "outputs": [],
   "source": [
    "#multilayer feedforward\n",
    "import tensorflow as tf\n",
    "from tensorflow.keras.models import Sequential\n",
    "from tensorflow.keras.layers import Dense\n",
    "from tensorflow.keras.layers import Input\n",
    "from tensorflow.keras.optimizers import Adam"
   ]
  },
  {
   "cell_type": "markdown",
   "metadata": {},
   "source": [
    "# Ejemplo usando diabetes db"
   ]
  },
  {
   "cell_type": "code",
   "execution_count": 136,
   "metadata": {},
   "outputs": [
    {
     "data": {
      "text/html": [
       "<pre style=\"white-space:pre;overflow-x:auto;line-height:normal;font-family:Menlo,'DejaVu Sans Mono',consolas,'Courier New',monospace\"><span style=\"font-weight: bold\">Model: \"sequential_13\"</span>\n",
       "</pre>\n"
      ],
      "text/plain": [
       "\u001b[1mModel: \"sequential_13\"\u001b[0m\n"
      ]
     },
     "metadata": {},
     "output_type": "display_data"
    },
    {
     "data": {
      "text/html": [
       "<pre style=\"white-space:pre;overflow-x:auto;line-height:normal;font-family:Menlo,'DejaVu Sans Mono',consolas,'Courier New',monospace\">┏━━━━━━━━━━━━━━━━━━━━━━━━━━━━━━━━━━━━━━┳━━━━━━━━━━━━━━━━━━━━━━━━━━━━━┳━━━━━━━━━━━━━━━━━┓\n",
       "┃<span style=\"font-weight: bold\"> Layer (type)                         </span>┃<span style=\"font-weight: bold\"> Output Shape                </span>┃<span style=\"font-weight: bold\">         Param # </span>┃\n",
       "┡━━━━━━━━━━━━━━━━━━━━━━━━━━━━━━━━━━━━━━╇━━━━━━━━━━━━━━━━━━━━━━━━━━━━━╇━━━━━━━━━━━━━━━━━┩\n",
       "│ dense_37 (<span style=\"color: #0087ff; text-decoration-color: #0087ff\">Dense</span>)                     │ (<span style=\"color: #00d7ff; text-decoration-color: #00d7ff\">None</span>, <span style=\"color: #00af00; text-decoration-color: #00af00\">10</span>)                  │              <span style=\"color: #00af00; text-decoration-color: #00af00\">90</span> │\n",
       "├──────────────────────────────────────┼─────────────────────────────┼─────────────────┤\n",
       "│ dense_38 (<span style=\"color: #0087ff; text-decoration-color: #0087ff\">Dense</span>)                     │ (<span style=\"color: #00d7ff; text-decoration-color: #00d7ff\">None</span>, <span style=\"color: #00af00; text-decoration-color: #00af00\">5</span>)                   │              <span style=\"color: #00af00; text-decoration-color: #00af00\">55</span> │\n",
       "├──────────────────────────────────────┼─────────────────────────────┼─────────────────┤\n",
       "│ dense_39 (<span style=\"color: #0087ff; text-decoration-color: #0087ff\">Dense</span>)                     │ (<span style=\"color: #00d7ff; text-decoration-color: #00d7ff\">None</span>, <span style=\"color: #00af00; text-decoration-color: #00af00\">1</span>)                   │               <span style=\"color: #00af00; text-decoration-color: #00af00\">6</span> │\n",
       "└──────────────────────────────────────┴─────────────────────────────┴─────────────────┘\n",
       "</pre>\n"
      ],
      "text/plain": [
       "┏━━━━━━━━━━━━━━━━━━━━━━━━━━━━━━━━━━━━━━┳━━━━━━━━━━━━━━━━━━━━━━━━━━━━━┳━━━━━━━━━━━━━━━━━┓\n",
       "┃\u001b[1m \u001b[0m\u001b[1mLayer (type)                        \u001b[0m\u001b[1m \u001b[0m┃\u001b[1m \u001b[0m\u001b[1mOutput Shape               \u001b[0m\u001b[1m \u001b[0m┃\u001b[1m \u001b[0m\u001b[1m        Param #\u001b[0m\u001b[1m \u001b[0m┃\n",
       "┡━━━━━━━━━━━━━━━━━━━━━━━━━━━━━━━━━━━━━━╇━━━━━━━━━━━━━━━━━━━━━━━━━━━━━╇━━━━━━━━━━━━━━━━━┩\n",
       "│ dense_37 (\u001b[38;5;33mDense\u001b[0m)                     │ (\u001b[38;5;45mNone\u001b[0m, \u001b[38;5;34m10\u001b[0m)                  │              \u001b[38;5;34m90\u001b[0m │\n",
       "├──────────────────────────────────────┼─────────────────────────────┼─────────────────┤\n",
       "│ dense_38 (\u001b[38;5;33mDense\u001b[0m)                     │ (\u001b[38;5;45mNone\u001b[0m, \u001b[38;5;34m5\u001b[0m)                   │              \u001b[38;5;34m55\u001b[0m │\n",
       "├──────────────────────────────────────┼─────────────────────────────┼─────────────────┤\n",
       "│ dense_39 (\u001b[38;5;33mDense\u001b[0m)                     │ (\u001b[38;5;45mNone\u001b[0m, \u001b[38;5;34m1\u001b[0m)                   │               \u001b[38;5;34m6\u001b[0m │\n",
       "└──────────────────────────────────────┴─────────────────────────────┴─────────────────┘\n"
      ]
     },
     "metadata": {},
     "output_type": "display_data"
    },
    {
     "data": {
      "text/html": [
       "<pre style=\"white-space:pre;overflow-x:auto;line-height:normal;font-family:Menlo,'DejaVu Sans Mono',consolas,'Courier New',monospace\"><span style=\"font-weight: bold\"> Total params: </span><span style=\"color: #00af00; text-decoration-color: #00af00\">151</span> (604.00 B)\n",
       "</pre>\n"
      ],
      "text/plain": [
       "\u001b[1m Total params: \u001b[0m\u001b[38;5;34m151\u001b[0m (604.00 B)\n"
      ]
     },
     "metadata": {},
     "output_type": "display_data"
    },
    {
     "data": {
      "text/html": [
       "<pre style=\"white-space:pre;overflow-x:auto;line-height:normal;font-family:Menlo,'DejaVu Sans Mono',consolas,'Courier New',monospace\"><span style=\"font-weight: bold\"> Trainable params: </span><span style=\"color: #00af00; text-decoration-color: #00af00\">151</span> (604.00 B)\n",
       "</pre>\n"
      ],
      "text/plain": [
       "\u001b[1m Trainable params: \u001b[0m\u001b[38;5;34m151\u001b[0m (604.00 B)\n"
      ]
     },
     "metadata": {},
     "output_type": "display_data"
    },
    {
     "data": {
      "text/html": [
       "<pre style=\"white-space:pre;overflow-x:auto;line-height:normal;font-family:Menlo,'DejaVu Sans Mono',consolas,'Courier New',monospace\"><span style=\"font-weight: bold\"> Non-trainable params: </span><span style=\"color: #00af00; text-decoration-color: #00af00\">0</span> (0.00 B)\n",
       "</pre>\n"
      ],
      "text/plain": [
       "\u001b[1m Non-trainable params: \u001b[0m\u001b[38;5;34m0\u001b[0m (0.00 B)\n"
      ]
     },
     "metadata": {},
     "output_type": "display_data"
    }
   ],
   "source": [
    "num_classes = 2\n",
    "h1 = 10\n",
    "h2 = 5\n",
    "h3 = 1\n",
    "\n",
    "#  Definir el modelo\n",
    "model = Sequential([\n",
    "    Input(shape=(X_train.shape[1],)),  # Número de características (8)\n",
    "    Dense(10, activation='relu'),\n",
    "    Dense(5, activation='relu'),\n",
    "    Dense(1, activation='sigmoid')  # Salida binaria\n",
    "])\n",
    "\n",
    "model.summary()"
   ]
  },
  {
   "cell_type": "code",
   "execution_count": 141,
   "metadata": {},
   "outputs": [
    {
     "name": "stdout",
     "output_type": "stream",
     "text": [
      "[INFO] entrenando.......\n",
      "[INFO] FIN!!\n",
      "Test Accuracy: 0.7078 | Test AUC: 0.7645\n"
     ]
    }
   ],
   "source": [
    "# Compilar el modelo\n",
    "model.compile(optimizer=Adam(learning_rate=0.001),\n",
    "              loss='binary_crossentropy',\n",
    "              metrics=['accuracy', AUC(name='auc')])\n",
    "\n",
    "#Entrenar el modelo\n",
    "print(\"[INFO] entrenando.......\")\n",
    "history = model.fit(X_train_scaled, y_train, epochs=100, batch_size=32,\n",
    "                    validation_split=0.2, verbose=0)\n",
    "print(\"[INFO] FIN!!\")\n",
    "\n",
    "# Evaluar en el conjunto de prueba\n",
    "loss, acc, auc_tf = model.evaluate(X_test_scaled, y_test, verbose=0)\n",
    "print(f\"Test Accuracy: {acc:.4f} | Test AUC: {auc_tf:.4f}\")\n"
   ]
  },
  {
   "cell_type": "code",
   "execution_count": null,
   "metadata": {},
   "outputs": [],
   "source": [
    "predictions = model.predict(X_test_scaled)\n",
    "predictions[:10]"
   ]
  },
  {
   "cell_type": "markdown",
   "metadata": {},
   "source": [
    "### Calcular los valores de la curva ROC"
   ]
  },
  {
   "cell_type": "code",
   "execution_count": 143,
   "metadata": {},
   "outputs": [
    {
     "name": "stdout",
     "output_type": "stream",
     "text": [
      "\u001b[1m5/5\u001b[0m \u001b[32m━━━━━━━━━━━━━━━━━━━━\u001b[0m\u001b[37m\u001b[0m \u001b[1m0s\u001b[0m 35ms/step\n"
     ]
    },
    {
     "data": {
      "image/png": "[encoded data removed]",
      "text/plain": [
       "<Figure size 800x600 with 1 Axes>"
      ]
     },
     "metadata": {},
     "output_type": "display_data"
    }
   ],
   "source": [
    "y_proba = model.predict(X_test_scaled)\n",
    "fpr, tpr, thresholds = roc_curve(y_test, y_proba)\n",
    "roc_auc = auc(fpr, tpr)\n",
    "\n",
    "# Graficar\n",
    "plt.figure(figsize=(8, 6))\n",
    "plt.plot(fpr, tpr, color='darkorange', lw=2, label=f'ROC curve (AUC = {roc_auc:.2f})')\n",
    "plt.plot([0, 1], [0, 1], color='navy', lw=2, linestyle='--', label='Aleatorio')\n",
    "plt.xlabel('Tasa de Falsos Positivos (FPR)')\n",
    "plt.ylabel('Tasa de Verdaderos Positivos (TPR)')\n",
    "plt.title('Curva ROC - Red Neuronal (Keras)')\n",
    "plt.legend(loc=\"lower right\")\n",
    "plt.grid(True)\n",
    "plt.show()"
   ]
  },
  {
   "cell_type": "markdown",
   "metadata": {},
   "source": [
    "## Probar con MNIST"
   ]
  },
  {
   "cell_type": "code",
   "execution_count": 149,
   "metadata": {},
   "outputs": [
    {
     "name": "stdout",
     "output_type": "stream",
     "text": [
      "\n",
      "\n",
      "10 primeras imagenes de prueba\n"
     ]
    },
    {
     "data": {
      "image/png": "[encoded data removed]",
      "text/plain": [
       "<Figure size 640x480 with 1 Axes>"
      ]
     },
     "metadata": {},
     "output_type": "display_data"
    }
   ],
   "source": [
    "mnist = fetch_openml('mnist_784',parser='auto')\n",
    "X = mnist.data / 255.0  # Normalize pixel values to 0-1 range\n",
    "y = mnist.target.astype(int)\n",
    "\n",
    "images =  np.zeros((28,1))\n",
    "for i in range(10):\n",
    "    image =np.array(X.iloc[i]).reshape((28,28))\n",
    "    images=np.append(images,image,axis=1)\n",
    "print(\"\\n\\n10 primeras imagenes de prueba\")    \n",
    "plt.imshow(images,cmap=\"gray\"); "
   ]
  },
  {
   "cell_type": "code",
   "execution_count": null,
   "metadata": {},
   "outputs": [],
   "source": []
  },
  {
   "cell_type": "code",
   "execution_count": 150,
   "metadata": {},
   "outputs": [],
   "source": [
    "X_train, X_test, y_train, y_test = train_test_split(X, y, test_size=0.2, random_state=42, stratify=y)"
   ]
  },
  {
   "cell_type": "code",
   "execution_count": 151,
   "metadata": {},
   "outputs": [
    {
     "name": "stdout",
     "output_type": "stream",
     "text": [
      "[INFO] \n",
      "labels: \n",
      " [0 1 2 3 4 5 6 7 8 9] \n",
      "count per class \n",
      " [5522 6302 5592 5713 5459 5050 5501 5834 5460 5567]\n",
      "Training set dimensions: 56000 x 784\n",
      "Test set dimensions: 14000 x 784\n"
     ]
    }
   ],
   "source": [
    "labels,count_class = np.unique(y_train,return_counts=True)\n",
    "\n",
    "print('[INFO] \\nlabels: \\n %s \\ncount per class \\n %s' % (labels,count_class))\n",
    "print('Training set dimensions: %s x %s' % (X_train.shape[0],X_train.shape[1]))\n",
    "print('Test set dimensions: %s x %s' % (X_test.shape[0], X_test.shape[1]))\n"
   ]
  },
  {
   "cell_type": "code",
   "execution_count": 152,
   "metadata": {},
   "outputs": [
    {
     "data": {
      "text/html": [
       "<pre style=\"white-space:pre;overflow-x:auto;line-height:normal;font-family:Menlo,'DejaVu Sans Mono',consolas,'Courier New',monospace\"><span style=\"font-weight: bold\">Model: \"sequential_14\"</span>\n",
       "</pre>\n"
      ],
      "text/plain": [
       "\u001b[1mModel: \"sequential_14\"\u001b[0m\n"
      ]
     },
     "metadata": {},
     "output_type": "display_data"
    },
    {
     "data": {
      "text/html": [
       "<pre style=\"white-space:pre;overflow-x:auto;line-height:normal;font-family:Menlo,'DejaVu Sans Mono',consolas,'Courier New',monospace\">┏━━━━━━━━━━━━━━━━━━━━━━━━━━━━━━━━━━━━━━┳━━━━━━━━━━━━━━━━━━━━━━━━━━━━━┳━━━━━━━━━━━━━━━━━┓\n",
       "┃<span style=\"font-weight: bold\"> Layer (type)                         </span>┃<span style=\"font-weight: bold\"> Output Shape                </span>┃<span style=\"font-weight: bold\">         Param # </span>┃\n",
       "┡━━━━━━━━━━━━━━━━━━━━━━━━━━━━━━━━━━━━━━╇━━━━━━━━━━━━━━━━━━━━━━━━━━━━━╇━━━━━━━━━━━━━━━━━┩\n",
       "│ dense_40 (<span style=\"color: #0087ff; text-decoration-color: #0087ff\">Dense</span>)                     │ (<span style=\"color: #00d7ff; text-decoration-color: #00d7ff\">None</span>, <span style=\"color: #00af00; text-decoration-color: #00af00\">10</span>)                  │           <span style=\"color: #00af00; text-decoration-color: #00af00\">7,850</span> │\n",
       "├──────────────────────────────────────┼─────────────────────────────┼─────────────────┤\n",
       "│ dense_41 (<span style=\"color: #0087ff; text-decoration-color: #0087ff\">Dense</span>)                     │ (<span style=\"color: #00d7ff; text-decoration-color: #00d7ff\">None</span>, <span style=\"color: #00af00; text-decoration-color: #00af00\">5</span>)                   │              <span style=\"color: #00af00; text-decoration-color: #00af00\">55</span> │\n",
       "├──────────────────────────────────────┼─────────────────────────────┼─────────────────┤\n",
       "│ dense_42 (<span style=\"color: #0087ff; text-decoration-color: #0087ff\">Dense</span>)                     │ (<span style=\"color: #00d7ff; text-decoration-color: #00d7ff\">None</span>, <span style=\"color: #00af00; text-decoration-color: #00af00\">10</span>)                  │              <span style=\"color: #00af00; text-decoration-color: #00af00\">60</span> │\n",
       "└──────────────────────────────────────┴─────────────────────────────┴─────────────────┘\n",
       "</pre>\n"
      ],
      "text/plain": [
       "┏━━━━━━━━━━━━━━━━━━━━━━━━━━━━━━━━━━━━━━┳━━━━━━━━━━━━━━━━━━━━━━━━━━━━━┳━━━━━━━━━━━━━━━━━┓\n",
       "┃\u001b[1m \u001b[0m\u001b[1mLayer (type)                        \u001b[0m\u001b[1m \u001b[0m┃\u001b[1m \u001b[0m\u001b[1mOutput Shape               \u001b[0m\u001b[1m \u001b[0m┃\u001b[1m \u001b[0m\u001b[1m        Param #\u001b[0m\u001b[1m \u001b[0m┃\n",
       "┡━━━━━━━━━━━━━━━━━━━━━━━━━━━━━━━━━━━━━━╇━━━━━━━━━━━━━━━━━━━━━━━━━━━━━╇━━━━━━━━━━━━━━━━━┩\n",
       "│ dense_40 (\u001b[38;5;33mDense\u001b[0m)                     │ (\u001b[38;5;45mNone\u001b[0m, \u001b[38;5;34m10\u001b[0m)                  │           \u001b[38;5;34m7,850\u001b[0m │\n",
       "├──────────────────────────────────────┼─────────────────────────────┼─────────────────┤\n",
       "│ dense_41 (\u001b[38;5;33mDense\u001b[0m)                     │ (\u001b[38;5;45mNone\u001b[0m, \u001b[38;5;34m5\u001b[0m)                   │              \u001b[38;5;34m55\u001b[0m │\n",
       "├──────────────────────────────────────┼─────────────────────────────┼─────────────────┤\n",
       "│ dense_42 (\u001b[38;5;33mDense\u001b[0m)                     │ (\u001b[38;5;45mNone\u001b[0m, \u001b[38;5;34m10\u001b[0m)                  │              \u001b[38;5;34m60\u001b[0m │\n",
       "└──────────────────────────────────────┴─────────────────────────────┴─────────────────┘\n"
      ]
     },
     "metadata": {},
     "output_type": "display_data"
    },
    {
     "data": {
      "text/html": [
       "<pre style=\"white-space:pre;overflow-x:auto;line-height:normal;font-family:Menlo,'DejaVu Sans Mono',consolas,'Courier New',monospace\"><span style=\"font-weight: bold\"> Total params: </span><span style=\"color: #00af00; text-decoration-color: #00af00\">7,965</span> (31.11 KB)\n",
       "</pre>\n"
      ],
      "text/plain": [
       "\u001b[1m Total params: \u001b[0m\u001b[38;5;34m7,965\u001b[0m (31.11 KB)\n"
      ]
     },
     "metadata": {},
     "output_type": "display_data"
    },
    {
     "data": {
      "text/html": [
       "<pre style=\"white-space:pre;overflow-x:auto;line-height:normal;font-family:Menlo,'DejaVu Sans Mono',consolas,'Courier New',monospace\"><span style=\"font-weight: bold\"> Trainable params: </span><span style=\"color: #00af00; text-decoration-color: #00af00\">7,965</span> (31.11 KB)\n",
       "</pre>\n"
      ],
      "text/plain": [
       "\u001b[1m Trainable params: \u001b[0m\u001b[38;5;34m7,965\u001b[0m (31.11 KB)\n"
      ]
     },
     "metadata": {},
     "output_type": "display_data"
    },
    {
     "data": {
      "text/html": [
       "<pre style=\"white-space:pre;overflow-x:auto;line-height:normal;font-family:Menlo,'DejaVu Sans Mono',consolas,'Courier New',monospace\"><span style=\"font-weight: bold\"> Non-trainable params: </span><span style=\"color: #00af00; text-decoration-color: #00af00\">0</span> (0.00 B)\n",
       "</pre>\n"
      ],
      "text/plain": [
       "\u001b[1m Non-trainable params: \u001b[0m\u001b[38;5;34m0\u001b[0m (0.00 B)\n"
      ]
     },
     "metadata": {},
     "output_type": "display_data"
    }
   ],
   "source": [
    "num_classes = labels.size\n",
    "#  Definir el modelo\n",
    "model = Sequential([\n",
    "    Input(shape=(X_train.shape[1],)),  # Número de características (8)\n",
    "    Dense(10, activation='relu'),\n",
    "    Dense(5, activation='relu'),\n",
    "    Dense(num_classes, activation='sigmoid')  # Salida binaria\n",
    "])\n",
    "\n",
    "model.summary()"
   ]
  },
  {
   "cell_type": "markdown",
   "metadata": {},
   "source": [
    "# One-hot encoding"
   ]
  },
  {
   "cell_type": "code",
   "execution_count": 161,
   "metadata": {},
   "outputs": [
    {
     "name": "stdout",
     "output_type": "stream",
     "text": [
      "convertir:  0  a one hot encoding :  [1. 0. 0. 0. 0. 0. 0. 0. 0. 0.]\n"
     ]
    }
   ],
   "source": [
    "from tensorflow.keras.utils import to_categorical\n",
    "train_labels = to_categorical(y_train, num_classes=num_classes)\n",
    "test_labels = to_categorical(y_test, num_classes=num_classes)\n",
    "\n",
    "print('convertir: ',y_train.iloc[0],' a one hot encoding : ',train_labels[0])"
   ]
  },
  {
   "cell_type": "code",
   "execution_count": 163,
   "metadata": {},
   "outputs": [
    {
     "name": "stdout",
     "output_type": "stream",
     "text": [
      "Epoch 1/10\n",
      "Epoch 2/10\n",
      "Epoch 3/10\n",
      "Epoch 4/10\n",
      "Epoch 5/10\n",
      "Epoch 6/10\n",
      "Epoch 7/10\n",
      "Epoch 8/10\n",
      "Epoch 9/10\n",
      "Epoch 10/10\n"
     ]
    },
    {
     "data": {
      "text/plain": [
       "<keras.src.callbacks.history.History at 0x181256cbfa0>"
      ]
     },
     "execution_count": 163,
     "metadata": {},
     "output_type": "execute_result"
    }
   ],
   "source": [
    "#'categorical_crossentropy'\n",
    "model.compile(loss='categorical_crossentropy', optimizer='adam', metrics=['accuracy'])\n",
    "model.fit(X_train, train_labels, epochs=10, batch_size=10,verbose=3)"
   ]
  },
  {
   "cell_type": "markdown",
   "metadata": {},
   "source": [
    "# Evaluar en el conjunto de prueba\n"
   ]
  },
  {
   "cell_type": "code",
   "execution_count": 167,
   "metadata": {},
   "outputs": [
    {
     "name": "stdout",
     "output_type": "stream",
     "text": [
      "\u001b[1m438/438\u001b[0m \u001b[32m━━━━━━━━━━━━━━━━━━━━\u001b[0m\u001b[37m\u001b[0m \u001b[1m1s\u001b[0m 3ms/step\n"
     ]
    },
    {
     "data": {
      "text/plain": [
       "array([7, 3, 1, 1, 2, 5, 9, 3, 8, 1], dtype=int64)"
      ]
     },
     "execution_count": 167,
     "metadata": {},
     "output_type": "execute_result"
    }
   ],
   "source": [
    "predictions = model.predict(X_test)\n",
    "predIdxs = np.argmax(predictions, axis=1)\n",
    "predIdxs[:10]"
   ]
  },
  {
   "cell_type": "code",
   "execution_count": 170,
   "metadata": {},
   "outputs": [
    {
     "name": "stdout",
     "output_type": "stream",
     "text": [
      "\n",
      "\n",
      "10 primeras imagenes de prueba\n"
     ]
    },
    {
     "data": {
      "text/plain": [
       "array([7, 3, 1, 1, 2, 5, 9, 3, 8, 1], dtype=int64)"
      ]
     },
     "execution_count": 170,
     "metadata": {},
     "output_type": "execute_result"
    },
    {
     "data": {
      "image/png": "[encoded data removed]",
      "text/plain": [
       "<Figure size 640x480 with 1 Axes>"
      ]
     },
     "metadata": {},
     "output_type": "display_data"
    }
   ],
   "source": [
    "images =  np.zeros((28,1))\n",
    "for i in range(10):\n",
    "    image =np.array(X_test.iloc[i]).reshape((28,28))\n",
    "    images=np.append(images,image,axis=1)\n",
    "print(\"\\n\\n10 primeras imagenes de prueba\")    \n",
    "plt.imshow(images,cmap=\"gray\"); \n",
    "predIdxs[:10]"
   ]
  },
  {
   "cell_type": "code",
   "execution_count": 171,
   "metadata": {},
   "outputs": [
    {
     "name": "stdout",
     "output_type": "stream",
     "text": [
      "\u001b[1m438/438\u001b[0m \u001b[32m━━━━━━━━━━━━━━━━━━━━\u001b[0m\u001b[37m\u001b[0m \u001b[1m3s\u001b[0m 7ms/step - accuracy: 0.9247 - loss: 0.2751\n",
      "Accuracy: 92.59\n"
     ]
    }
   ],
   "source": [
    "_, accuracy = model.evaluate(X_test, test_labels)\n",
    "print('Accuracy: %.2f' % (accuracy*100))"
   ]
  }
 ],
 "metadata": {
  "kernelspec": {
   "display_name": "Python 3 (ipykernel)",
   "language": "python",
   "name": "python3"
  },
  "language_info": {
   "codemirror_mode": {
    "name": "ipython",
    "version": 3
   },
   "file_extension": ".py",
   "mimetype": "text/x-python",
   "name": "python",
   "nbconvert_exporter": "python",
   "pygments_lexer": "ipython3",
   "version": "3.10.14"
  }
 },
 "nbformat": 4,
 "nbformat_minor": 4
}
