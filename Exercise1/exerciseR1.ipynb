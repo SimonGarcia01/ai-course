{
 "cells": [
  {
   "cell_type": "code",
   "execution_count": 2,
   "metadata": {},
   "outputs": [
    {
     "name": "stdout",
     "output_type": "stream",
     "text": [
      "Defaulting to user installation because normal site-packages is not writeable\n",
      "Collecting pandas\n",
      "  Downloading pandas-2.2.3-cp310-cp310-manylinux_2_17_x86_64.manylinux2014_x86_64.whl (13.1 MB)\n",
      "\u001b[2K     \u001b[90m━━━━━━━━━━━━━━━━━━━━━━━━━━━━━━━━━━━━━━━━\u001b[0m \u001b[32m13.1/13.1 MB\u001b[0m \u001b[31m5.0 MB/s\u001b[0m eta \u001b[36m0:00:00\u001b[0m00:01\u001b[0m00:01\u001b[0m\n",
      "\u001b[?25hRequirement already satisfied: python-dateutil>=2.8.2 in /home/analitica/.local/lib/python3.10/site-packages (from pandas) (2.9.0.post0)\n",
      "Collecting tzdata>=2022.7\n",
      "  Downloading tzdata-2025.1-py2.py3-none-any.whl (346 kB)\n",
      "\u001b[2K     \u001b[90m━━━━━━━━━━━━━━━━━━━━━━━━━━━━━━━━━━━━━━━\u001b[0m \u001b[32m346.8/346.8 KB\u001b[0m \u001b[31m4.8 MB/s\u001b[0m eta \u001b[36m0:00:00\u001b[0m00:01\u001b[0m\n",
      "\u001b[?25hRequirement already satisfied: pytz>=2020.1 in /usr/lib/python3/dist-packages (from pandas) (2022.1)\n",
      "Collecting numpy>=1.22.4\n",
      "  Downloading numpy-2.2.4-cp310-cp310-manylinux_2_17_x86_64.manylinux2014_x86_64.whl (16.4 MB)\n",
      "\u001b[2K     \u001b[90m━━━━━━━━━━━━━━━━━━━━━━━━━━━━━━━━━━━━━━━━\u001b[0m \u001b[32m16.4/16.4 MB\u001b[0m \u001b[31m6.9 MB/s\u001b[0m eta \u001b[36m0:00:00\u001b[0m00:01\u001b[0m00:01\u001b[0m\n",
      "\u001b[?25hRequirement already satisfied: six>=1.5 in /usr/lib/python3/dist-packages (from python-dateutil>=2.8.2->pandas) (1.16.0)\n",
      "Installing collected packages: tzdata, numpy, pandas\n",
      "Successfully installed numpy-2.2.4 pandas-2.2.3 tzdata-2025.1\n",
      "Defaulting to user installation because normal site-packages is not writeable\n",
      "Requirement already satisfied: numpy in /home/analitica/.local/lib/python3.10/site-packages (2.2.4)\n",
      "Defaulting to user installation because normal site-packages is not writeable\n",
      "Collecting matplotlib\n",
      "  Downloading matplotlib-3.10.1-cp310-cp310-manylinux_2_17_x86_64.manylinux2014_x86_64.whl (8.6 MB)\n",
      "\u001b[2K     \u001b[90m━━━━━━━━━━━━━━━━━━━━━━━━━━━━━━━━━━━━━━━━\u001b[0m \u001b[32m8.6/8.6 MB\u001b[0m \u001b[31m8.9 MB/s\u001b[0m eta \u001b[36m0:00:00\u001b[0m:00:01\u001b[0m0:01\u001b[0mm\n",
      "\u001b[?25hRequirement already satisfied: python-dateutil>=2.7 in /home/analitica/.local/lib/python3.10/site-packages (from matplotlib) (2.9.0.post0)\n",
      "Requirement already satisfied: numpy>=1.23 in /home/analitica/.local/lib/python3.10/site-packages (from matplotlib) (2.2.4)\n",
      "Requirement already satisfied: pyparsing>=2.3.1 in /usr/lib/python3/dist-packages (from matplotlib) (2.4.7)\n",
      "Requirement already satisfied: pillow>=8 in /usr/lib/python3/dist-packages (from matplotlib) (9.0.1)\n",
      "Collecting kiwisolver>=1.3.1\n",
      "  Downloading kiwisolver-1.4.8-cp310-cp310-manylinux_2_12_x86_64.manylinux2010_x86_64.whl (1.6 MB)\n",
      "\u001b[2K     \u001b[90m━━━━━━━━━━━━━━━━━━━━━━━━━━━━━━━━━━━━━━━━\u001b[0m \u001b[32m1.6/1.6 MB\u001b[0m \u001b[31m18.3 MB/s\u001b[0m eta \u001b[36m0:00:00\u001b[0m00:01\u001b[0m\n",
      "\u001b[?25hCollecting fonttools>=4.22.0\n",
      "  Downloading fonttools-4.56.0-cp310-cp310-manylinux_2_17_x86_64.manylinux2014_x86_64.whl (4.6 MB)\n",
      "\u001b[2K     \u001b[90m━━━━━━━━━━━━━━━━━━━━━━━━━━━━━━━━━━━━━━━━\u001b[0m \u001b[32m4.6/4.6 MB\u001b[0m \u001b[31m28.5 MB/s\u001b[0m eta \u001b[36m0:00:00\u001b[0m00:01\u001b[0m00:01\u001b[0m\n",
      "\u001b[?25hCollecting contourpy>=1.0.1\n",
      "  Downloading contourpy-1.3.1-cp310-cp310-manylinux_2_17_x86_64.manylinux2014_x86_64.whl (324 kB)\n",
      "\u001b[2K     \u001b[90m━━━━━━━━━━━━━━━━━━━━━━━━━━━━━━━━━━━━━━━\u001b[0m \u001b[32m325.0/325.0 KB\u001b[0m \u001b[31m5.7 MB/s\u001b[0m eta \u001b[36m0:00:00\u001b[0m00:01\u001b[0m\n",
      "\u001b[?25hRequirement already satisfied: packaging>=20.0 in /home/analitica/.local/lib/python3.10/site-packages (from matplotlib) (24.2)\n",
      "Collecting cycler>=0.10\n",
      "  Downloading cycler-0.12.1-py3-none-any.whl (8.3 kB)\n",
      "Requirement already satisfied: six>=1.5 in /usr/lib/python3/dist-packages (from python-dateutil>=2.7->matplotlib) (1.16.0)\n",
      "Installing collected packages: kiwisolver, fonttools, cycler, contourpy, matplotlib\n",
      "Successfully installed contourpy-1.3.1 cycler-0.12.1 fonttools-4.56.0 kiwisolver-1.4.8 matplotlib-3.10.1\n",
      "Defaulting to user installation because normal site-packages is not writeable\n",
      "Collecting seaborn\n",
      "  Downloading seaborn-0.13.2-py3-none-any.whl (294 kB)\n",
      "\u001b[2K     \u001b[90m━━━━━━━━━━━━━━━━━━━━━━━━━━━━━━━━━━━━━━━\u001b[0m \u001b[32m294.9/294.9 KB\u001b[0m \u001b[31m3.1 MB/s\u001b[0m eta \u001b[36m0:00:00\u001b[0ma \u001b[36m0:00:01\u001b[0m\n",
      "\u001b[?25hRequirement already satisfied: matplotlib!=3.6.1,>=3.4 in /home/analitica/.local/lib/python3.10/site-packages (from seaborn) (3.10.1)\n",
      "Requirement already satisfied: numpy!=1.24.0,>=1.20 in /home/analitica/.local/lib/python3.10/site-packages (from seaborn) (2.2.4)\n",
      "Requirement already satisfied: pandas>=1.2 in /home/analitica/.local/lib/python3.10/site-packages (from seaborn) (2.2.3)\n",
      "Requirement already satisfied: kiwisolver>=1.3.1 in /home/analitica/.local/lib/python3.10/site-packages (from matplotlib!=3.6.1,>=3.4->seaborn) (1.4.8)\n",
      "Requirement already satisfied: contourpy>=1.0.1 in /home/analitica/.local/lib/python3.10/site-packages (from matplotlib!=3.6.1,>=3.4->seaborn) (1.3.1)\n",
      "Requirement already satisfied: fonttools>=4.22.0 in /home/analitica/.local/lib/python3.10/site-packages (from matplotlib!=3.6.1,>=3.4->seaborn) (4.56.0)\n",
      "Requirement already satisfied: cycler>=0.10 in /home/analitica/.local/lib/python3.10/site-packages (from matplotlib!=3.6.1,>=3.4->seaborn) (0.12.1)\n",
      "Requirement already satisfied: pillow>=8 in /usr/lib/python3/dist-packages (from matplotlib!=3.6.1,>=3.4->seaborn) (9.0.1)\n",
      "Requirement already satisfied: packaging>=20.0 in /home/analitica/.local/lib/python3.10/site-packages (from matplotlib!=3.6.1,>=3.4->seaborn) (24.2)\n",
      "Requirement already satisfied: python-dateutil>=2.7 in /home/analitica/.local/lib/python3.10/site-packages (from matplotlib!=3.6.1,>=3.4->seaborn) (2.9.0.post0)\n",
      "Requirement already satisfied: pyparsing>=2.3.1 in /usr/lib/python3/dist-packages (from matplotlib!=3.6.1,>=3.4->seaborn) (2.4.7)\n",
      "Requirement already satisfied: pytz>=2020.1 in /usr/lib/python3/dist-packages (from pandas>=1.2->seaborn) (2022.1)\n",
      "Requirement already satisfied: tzdata>=2022.7 in /home/analitica/.local/lib/python3.10/site-packages (from pandas>=1.2->seaborn) (2025.1)\n",
      "Requirement already satisfied: six>=1.5 in /usr/lib/python3/dist-packages (from python-dateutil>=2.7->matplotlib!=3.6.1,>=3.4->seaborn) (1.16.0)\n",
      "Installing collected packages: seaborn\n",
      "Successfully installed seaborn-0.13.2\n",
      "Defaulting to user installation because normal site-packages is not writeable\n",
      "Collecting scikit-learn\n",
      "  Downloading scikit_learn-1.6.1-cp310-cp310-manylinux_2_17_x86_64.manylinux2014_x86_64.whl (13.5 MB)\n",
      "\u001b[2K     \u001b[90m━━━━━━━━━━━━━━━━━━━━━━━━━━━━━━━━━━━━━━━━\u001b[0m \u001b[32m13.5/13.5 MB\u001b[0m \u001b[31m5.2 MB/s\u001b[0m eta \u001b[36m0:00:00\u001b[0m00:01\u001b[0m00:01\u001b[0m\n",
      "\u001b[?25hCollecting threadpoolctl>=3.1.0\n",
      "  Downloading threadpoolctl-3.6.0-py3-none-any.whl (18 kB)\n",
      "Collecting scipy>=1.6.0\n",
      "  Downloading scipy-1.15.2-cp310-cp310-manylinux_2_17_x86_64.manylinux2014_x86_64.whl (37.6 MB)\n",
      "\u001b[2K     \u001b[90m━━━━━━━━━━━━━━━━━━━━━━━━━━━━━━━━━━━━━━━━\u001b[0m \u001b[32m37.6/37.6 MB\u001b[0m \u001b[31m4.8 MB/s\u001b[0m eta \u001b[36m0:00:00\u001b[0m00:01\u001b[0m00:01\u001b[0m\n",
      "\u001b[?25hCollecting joblib>=1.2.0\n",
      "  Downloading joblib-1.4.2-py3-none-any.whl (301 kB)\n",
      "\u001b[2K     \u001b[90m━━━━━━━━━━━━━━━━━━━━━━━━━━━━━━━━━━━━━━━\u001b[0m \u001b[32m301.8/301.8 KB\u001b[0m \u001b[31m2.7 MB/s\u001b[0m eta \u001b[36m0:00:00\u001b[0m00:01\u001b[0m\n",
      "\u001b[?25hRequirement already satisfied: numpy>=1.19.5 in /home/analitica/.local/lib/python3.10/site-packages (from scikit-learn) (2.2.4)\n",
      "Installing collected packages: threadpoolctl, scipy, joblib, scikit-learn\n",
      "Successfully installed joblib-1.4.2 scikit-learn-1.6.1 scipy-1.15.2 threadpoolctl-3.6.0\n"
     ]
    }
   ],
   "source": [
    "! pip install pandas\n",
    "! pip install numpy\n",
    "! pip install matplotlib\n",
    "! pip install seaborn\n",
    "! pip install scikit-learn"
   ]
  },
  {
   "cell_type": "code",
   "execution_count": 45,
   "metadata": {},
   "outputs": [],
   "source": [
    "import pandas as pd\n",
    "import numpy as np\n",
    "import matplotlib.pyplot as plt\n",
    "import seaborn as sns"
   ]
  },
  {
   "cell_type": "code",
   "execution_count": 46,
   "metadata": {},
   "outputs": [
    {
     "data": {
      "text/html": [
       "<div>\n",
       "<style scoped>\n",
       "    .dataframe tbody tr th:only-of-type {\n",
       "        vertical-align: middle;\n",
       "    }\n",
       "\n",
       "    .dataframe tbody tr th {\n",
       "        vertical-align: top;\n",
       "    }\n",
       "\n",
       "    .dataframe thead th {\n",
       "        text-align: right;\n",
       "    }\n",
       "</style>\n",
       "<table border=\"1\" class=\"dataframe\">\n",
       "  <thead>\n",
       "    <tr style=\"text-align: right;\">\n",
       "      <th></th>\n",
       "      <th>factor-riesgo</th>\n",
       "      <th>perdida-promedio-anual</th>\n",
       "      <th>fabricante</th>\n",
       "      <th>tipo-combustible</th>\n",
       "      <th>aspiracion</th>\n",
       "      <th>num-puertas</th>\n",
       "      <th>estilo-carroceria</th>\n",
       "      <th>traccion</th>\n",
       "      <th>ubicacion-motor</th>\n",
       "      <th>distancia-entre-ejes</th>\n",
       "      <th>...</th>\n",
       "      <th>tamano-motor</th>\n",
       "      <th>sistema-combustible</th>\n",
       "      <th>calibre</th>\n",
       "      <th>carrera</th>\n",
       "      <th>relacion-compresion</th>\n",
       "      <th>caballos-fuerza</th>\n",
       "      <th>pico-rpm</th>\n",
       "      <th>millas_por_galon_ciudad</th>\n",
       "      <th>millas_por_galon_carretera</th>\n",
       "      <th>precio</th>\n",
       "    </tr>\n",
       "  </thead>\n",
       "  <tbody>\n",
       "    <tr>\n",
       "      <th>0</th>\n",
       "      <td>3</td>\n",
       "      <td>?</td>\n",
       "      <td>alfa-romero</td>\n",
       "      <td>gas</td>\n",
       "      <td>std</td>\n",
       "      <td>two</td>\n",
       "      <td>convertible</td>\n",
       "      <td>rwd</td>\n",
       "      <td>front</td>\n",
       "      <td>88.6</td>\n",
       "      <td>...</td>\n",
       "      <td>130</td>\n",
       "      <td>mpfi</td>\n",
       "      <td>3.47</td>\n",
       "      <td>2.68</td>\n",
       "      <td>9.0</td>\n",
       "      <td>111</td>\n",
       "      <td>5000</td>\n",
       "      <td>21</td>\n",
       "      <td>27</td>\n",
       "      <td>13495</td>\n",
       "    </tr>\n",
       "    <tr>\n",
       "      <th>1</th>\n",
       "      <td>3</td>\n",
       "      <td>?</td>\n",
       "      <td>alfa-romero</td>\n",
       "      <td>gas</td>\n",
       "      <td>std</td>\n",
       "      <td>two</td>\n",
       "      <td>convertible</td>\n",
       "      <td>rwd</td>\n",
       "      <td>front</td>\n",
       "      <td>88.6</td>\n",
       "      <td>...</td>\n",
       "      <td>130</td>\n",
       "      <td>mpfi</td>\n",
       "      <td>3.47</td>\n",
       "      <td>2.68</td>\n",
       "      <td>9.0</td>\n",
       "      <td>111</td>\n",
       "      <td>5000</td>\n",
       "      <td>21</td>\n",
       "      <td>27</td>\n",
       "      <td>16500</td>\n",
       "    </tr>\n",
       "    <tr>\n",
       "      <th>2</th>\n",
       "      <td>1</td>\n",
       "      <td>?</td>\n",
       "      <td>alfa-romero</td>\n",
       "      <td>gas</td>\n",
       "      <td>std</td>\n",
       "      <td>two</td>\n",
       "      <td>hatchback</td>\n",
       "      <td>rwd</td>\n",
       "      <td>front</td>\n",
       "      <td>94.5</td>\n",
       "      <td>...</td>\n",
       "      <td>152</td>\n",
       "      <td>mpfi</td>\n",
       "      <td>2.68</td>\n",
       "      <td>3.47</td>\n",
       "      <td>9.0</td>\n",
       "      <td>154</td>\n",
       "      <td>5000</td>\n",
       "      <td>19</td>\n",
       "      <td>26</td>\n",
       "      <td>16500</td>\n",
       "    </tr>\n",
       "    <tr>\n",
       "      <th>3</th>\n",
       "      <td>2</td>\n",
       "      <td>164</td>\n",
       "      <td>audi</td>\n",
       "      <td>gas</td>\n",
       "      <td>std</td>\n",
       "      <td>four</td>\n",
       "      <td>sedan</td>\n",
       "      <td>fwd</td>\n",
       "      <td>front</td>\n",
       "      <td>99.8</td>\n",
       "      <td>...</td>\n",
       "      <td>109</td>\n",
       "      <td>mpfi</td>\n",
       "      <td>3.19</td>\n",
       "      <td>3.40</td>\n",
       "      <td>10.0</td>\n",
       "      <td>102</td>\n",
       "      <td>5500</td>\n",
       "      <td>24</td>\n",
       "      <td>30</td>\n",
       "      <td>13950</td>\n",
       "    </tr>\n",
       "    <tr>\n",
       "      <th>4</th>\n",
       "      <td>2</td>\n",
       "      <td>164</td>\n",
       "      <td>audi</td>\n",
       "      <td>gas</td>\n",
       "      <td>std</td>\n",
       "      <td>four</td>\n",
       "      <td>sedan</td>\n",
       "      <td>4wd</td>\n",
       "      <td>front</td>\n",
       "      <td>99.4</td>\n",
       "      <td>...</td>\n",
       "      <td>136</td>\n",
       "      <td>mpfi</td>\n",
       "      <td>3.19</td>\n",
       "      <td>3.40</td>\n",
       "      <td>8.0</td>\n",
       "      <td>115</td>\n",
       "      <td>5500</td>\n",
       "      <td>18</td>\n",
       "      <td>22</td>\n",
       "      <td>17450</td>\n",
       "    </tr>\n",
       "  </tbody>\n",
       "</table>\n",
       "<p>5 rows × 26 columns</p>\n",
       "</div>"
      ],
      "text/plain": [
       "   factor-riesgo perdida-promedio-anual   fabricante tipo-combustible  \\\n",
       "0              3                      ?  alfa-romero              gas   \n",
       "1              3                      ?  alfa-romero              gas   \n",
       "2              1                      ?  alfa-romero              gas   \n",
       "3              2                    164         audi              gas   \n",
       "4              2                    164         audi              gas   \n",
       "\n",
       "  aspiracion num-puertas estilo-carroceria traccion ubicacion-motor  \\\n",
       "0        std         two       convertible      rwd           front   \n",
       "1        std         two       convertible      rwd           front   \n",
       "2        std         two         hatchback      rwd           front   \n",
       "3        std        four             sedan      fwd           front   \n",
       "4        std        four             sedan      4wd           front   \n",
       "\n",
       "   distancia-entre-ejes  ...  tamano-motor  sistema-combustible  calibre  \\\n",
       "0                  88.6  ...           130                 mpfi     3.47   \n",
       "1                  88.6  ...           130                 mpfi     3.47   \n",
       "2                  94.5  ...           152                 mpfi     2.68   \n",
       "3                  99.8  ...           109                 mpfi     3.19   \n",
       "4                  99.4  ...           136                 mpfi     3.19   \n",
       "\n",
       "   carrera relacion-compresion caballos-fuerza  pico-rpm  \\\n",
       "0     2.68                 9.0             111      5000   \n",
       "1     2.68                 9.0             111      5000   \n",
       "2     3.47                 9.0             154      5000   \n",
       "3     3.40                10.0             102      5500   \n",
       "4     3.40                 8.0             115      5500   \n",
       "\n",
       "  millas_por_galon_ciudad millas_por_galon_carretera precio  \n",
       "0                      21                         27  13495  \n",
       "1                      21                         27  16500  \n",
       "2                      19                         26  16500  \n",
       "3                      24                         30  13950  \n",
       "4                      18                         22  17450  \n",
       "\n",
       "[5 rows x 26 columns]"
      ]
     },
     "execution_count": 46,
     "metadata": {},
     "output_type": "execute_result"
    }
   ],
   "source": [
    "df1 = pd.read_csv(\"datos_p1.data\")\n",
    "df1.head()"
   ]
  },
  {
   "cell_type": "code",
   "execution_count": 47,
   "metadata": {},
   "outputs": [
    {
     "data": {
      "text/plain": [
       "factor-riesgo                  0\n",
       "perdida-promedio-anual        41\n",
       "fabricante                     0\n",
       "tipo-combustible               0\n",
       "aspiracion                     0\n",
       "num-puertas                    2\n",
       "estilo-carroceria              0\n",
       "traccion                       0\n",
       "ubicacion-motor                0\n",
       "distancia-entre-ejes           0\n",
       "longitud                       0\n",
       "anchura                        0\n",
       "altura                         0\n",
       "peso-vacio                     0\n",
       "tipo-motor                     0\n",
       "num-cilindros                  0\n",
       "tamano-motor                   0\n",
       "sistema-combustible            0\n",
       "calibre                        4\n",
       "carrera                        4\n",
       "relacion-compresion            0\n",
       "caballos-fuerza                2\n",
       "pico-rpm                       2\n",
       "millas_por_galon_ciudad        0\n",
       "millas_por_galon_carretera     0\n",
       "precio                         4\n",
       "dtype: int64"
      ]
     },
     "execution_count": 47,
     "metadata": {},
     "output_type": "execute_result"
    }
   ],
   "source": [
    "(df1==\"?\").sum()"
   ]
  },
  {
   "cell_type": "code",
   "execution_count": 48,
   "metadata": {},
   "outputs": [],
   "source": [
    "df1.replace(\"?\", np.nan, inplace=True)"
   ]
  },
  {
   "cell_type": "code",
   "execution_count": 49,
   "metadata": {},
   "outputs": [
    {
     "data": {
      "text/plain": [
       "factor-riesgo                 0\n",
       "perdida-promedio-anual        0\n",
       "fabricante                    0\n",
       "tipo-combustible              0\n",
       "aspiracion                    0\n",
       "num-puertas                   0\n",
       "estilo-carroceria             0\n",
       "traccion                      0\n",
       "ubicacion-motor               0\n",
       "distancia-entre-ejes          0\n",
       "longitud                      0\n",
       "anchura                       0\n",
       "altura                        0\n",
       "peso-vacio                    0\n",
       "tipo-motor                    0\n",
       "num-cilindros                 0\n",
       "tamano-motor                  0\n",
       "sistema-combustible           0\n",
       "calibre                       0\n",
       "carrera                       0\n",
       "relacion-compresion           0\n",
       "caballos-fuerza               0\n",
       "pico-rpm                      0\n",
       "millas_por_galon_ciudad       0\n",
       "millas_por_galon_carretera    0\n",
       "precio                        0\n",
       "dtype: int64"
      ]
     },
     "execution_count": 49,
     "metadata": {},
     "output_type": "execute_result"
    }
   ],
   "source": [
    "(df1==\"?\").sum()"
   ]
  },
  {
   "cell_type": "code",
   "execution_count": 50,
   "metadata": {},
   "outputs": [
    {
     "data": {
      "text/plain": [
       "factor-riesgo                  0\n",
       "perdida-promedio-anual        41\n",
       "fabricante                     0\n",
       "tipo-combustible               0\n",
       "aspiracion                     0\n",
       "num-puertas                    2\n",
       "estilo-carroceria              0\n",
       "traccion                       0\n",
       "ubicacion-motor                0\n",
       "distancia-entre-ejes           0\n",
       "longitud                       0\n",
       "anchura                        0\n",
       "altura                         0\n",
       "peso-vacio                     0\n",
       "tipo-motor                     0\n",
       "num-cilindros                  0\n",
       "tamano-motor                   0\n",
       "sistema-combustible            0\n",
       "calibre                        4\n",
       "carrera                        4\n",
       "relacion-compresion            0\n",
       "caballos-fuerza                2\n",
       "pico-rpm                       2\n",
       "millas_por_galon_ciudad        0\n",
       "millas_por_galon_carretera     0\n",
       "precio                         4\n",
       "dtype: int64"
      ]
     },
     "execution_count": 50,
     "metadata": {},
     "output_type": "execute_result"
    }
   ],
   "source": [
    "df1.isna().sum()"
   ]
  },
  {
   "cell_type": "code",
   "execution_count": 51,
   "metadata": {},
   "outputs": [
    {
     "name": "stdout",
     "output_type": "stream",
     "text": [
      "<class 'pandas.core.frame.DataFrame'>\n",
      "RangeIndex: 205 entries, 0 to 204\n",
      "Data columns (total 26 columns):\n",
      " #   Column                      Non-Null Count  Dtype  \n",
      "---  ------                      --------------  -----  \n",
      " 0   factor-riesgo               205 non-null    int64  \n",
      " 1   perdida-promedio-anual      164 non-null    object \n",
      " 2   fabricante                  205 non-null    object \n",
      " 3   tipo-combustible            205 non-null    object \n",
      " 4   aspiracion                  205 non-null    object \n",
      " 5   num-puertas                 203 non-null    object \n",
      " 6   estilo-carroceria           205 non-null    object \n",
      " 7   traccion                    205 non-null    object \n",
      " 8   ubicacion-motor             205 non-null    object \n",
      " 9   distancia-entre-ejes        205 non-null    float64\n",
      " 10  longitud                    205 non-null    float64\n",
      " 11  anchura                     205 non-null    float64\n",
      " 12  altura                      205 non-null    float64\n",
      " 13  peso-vacio                  205 non-null    int64  \n",
      " 14  tipo-motor                  205 non-null    object \n",
      " 15  num-cilindros               205 non-null    object \n",
      " 16  tamano-motor                205 non-null    int64  \n",
      " 17  sistema-combustible         205 non-null    object \n",
      " 18  calibre                     201 non-null    object \n",
      " 19  carrera                     201 non-null    object \n",
      " 20  relacion-compresion         205 non-null    float64\n",
      " 21  caballos-fuerza             203 non-null    object \n",
      " 22  pico-rpm                    203 non-null    object \n",
      " 23  millas_por_galon_ciudad     205 non-null    int64  \n",
      " 24  millas_por_galon_carretera  205 non-null    int64  \n",
      " 25  precio                      201 non-null    object \n",
      "dtypes: float64(5), int64(5), object(16)\n",
      "memory usage: 41.8+ KB\n"
     ]
    }
   ],
   "source": [
    "df1.info()"
   ]
  },
  {
   "cell_type": "code",
   "execution_count": 52,
   "metadata": {},
   "outputs": [],
   "source": [
    "df1['caballos-fuerza'] = pd.to_numeric(df1['caballos-fuerza'])\n",
    "df1['pico-rpm'] = pd.to_numeric(df1['pico-rpm'])\n",
    "df1['carrera'] = pd.to_numeric(df1['carrera'])\n",
    "df1['calibre'] = pd.to_numeric(df1['calibre'])\n",
    "df1['perdida-promedio-anual'] = pd.to_numeric(df1['perdida-promedio-anual'])"
   ]
  },
  {
   "cell_type": "code",
   "execution_count": 53,
   "metadata": {},
   "outputs": [
    {
     "name": "stdout",
     "output_type": "stream",
     "text": [
      "<class 'pandas.core.frame.DataFrame'>\n",
      "RangeIndex: 205 entries, 0 to 204\n",
      "Data columns (total 26 columns):\n",
      " #   Column                      Non-Null Count  Dtype  \n",
      "---  ------                      --------------  -----  \n",
      " 0   factor-riesgo               205 non-null    int64  \n",
      " 1   perdida-promedio-anual      164 non-null    float64\n",
      " 2   fabricante                  205 non-null    object \n",
      " 3   tipo-combustible            205 non-null    object \n",
      " 4   aspiracion                  205 non-null    object \n",
      " 5   num-puertas                 203 non-null    object \n",
      " 6   estilo-carroceria           205 non-null    object \n",
      " 7   traccion                    205 non-null    object \n",
      " 8   ubicacion-motor             205 non-null    object \n",
      " 9   distancia-entre-ejes        205 non-null    float64\n",
      " 10  longitud                    205 non-null    float64\n",
      " 11  anchura                     205 non-null    float64\n",
      " 12  altura                      205 non-null    float64\n",
      " 13  peso-vacio                  205 non-null    int64  \n",
      " 14  tipo-motor                  205 non-null    object \n",
      " 15  num-cilindros               205 non-null    object \n",
      " 16  tamano-motor                205 non-null    int64  \n",
      " 17  sistema-combustible         205 non-null    object \n",
      " 18  calibre                     201 non-null    float64\n",
      " 19  carrera                     201 non-null    float64\n",
      " 20  relacion-compresion         205 non-null    float64\n",
      " 21  caballos-fuerza             203 non-null    float64\n",
      " 22  pico-rpm                    203 non-null    float64\n",
      " 23  millas_por_galon_ciudad     205 non-null    int64  \n",
      " 24  millas_por_galon_carretera  205 non-null    int64  \n",
      " 25  precio                      201 non-null    object \n",
      "dtypes: float64(10), int64(5), object(11)\n",
      "memory usage: 41.8+ KB\n"
     ]
    }
   ],
   "source": [
    "df1.info()"
   ]
  },
  {
   "cell_type": "code",
   "execution_count": 54,
   "metadata": {},
   "outputs": [
    {
     "name": "stdout",
     "output_type": "stream",
     "text": [
      "104.25615763546799\n",
      "5125.369458128079\n"
     ]
    }
   ],
   "source": [
    "avgPerdida = df1['perdida-promedio-anual'].mean()\n",
    "avgCarrera = df1['carrera'].mean()\n",
    "avgCalibre = df1['calibre'].mean()\n",
    "avgCaballos = df1['caballos-fuerza'].mean()\n",
    "avgPico = df1['pico-rpm'].mean()\n",
    "print(avgCaballos)\n",
    "print(avgPico)"
   ]
  },
  {
   "cell_type": "code",
   "execution_count": 55,
   "metadata": {},
   "outputs": [],
   "source": [
    "df1['perdida-promedio-anual'] = df1['perdida-promedio-anual'].fillna(avgPerdida)\n",
    "df1['carrera'] = df1['carrera'].fillna(avgCarrera)\n",
    "df1['calibre'] = df1['calibre'].fillna(avgCalibre)\n",
    "df1['caballos-fuerza'] = df1['caballos-fuerza'].fillna(avgCaballos)\n",
    "df1['pico-rpm'] = df1['pico-rpm'].fillna(avgPico)"
   ]
  },
  {
   "cell_type": "code",
   "execution_count": 56,
   "metadata": {},
   "outputs": [
    {
     "data": {
      "text/plain": [
       "factor-riesgo                 0\n",
       "perdida-promedio-anual        0\n",
       "fabricante                    0\n",
       "tipo-combustible              0\n",
       "aspiracion                    0\n",
       "num-puertas                   2\n",
       "estilo-carroceria             0\n",
       "traccion                      0\n",
       "ubicacion-motor               0\n",
       "distancia-entre-ejes          0\n",
       "longitud                      0\n",
       "anchura                       0\n",
       "altura                        0\n",
       "peso-vacio                    0\n",
       "tipo-motor                    0\n",
       "num-cilindros                 0\n",
       "tamano-motor                  0\n",
       "sistema-combustible           0\n",
       "calibre                       0\n",
       "carrera                       0\n",
       "relacion-compresion           0\n",
       "caballos-fuerza               0\n",
       "pico-rpm                      0\n",
       "millas_por_galon_ciudad       0\n",
       "millas_por_galon_carretera    0\n",
       "precio                        4\n",
       "dtype: int64"
      ]
     },
     "execution_count": 56,
     "metadata": {},
     "output_type": "execute_result"
    }
   ],
   "source": [
    "df1.isna().sum()"
   ]
  },
  {
   "cell_type": "code",
   "execution_count": 57,
   "metadata": {},
   "outputs": [
    {
     "data": {
      "text/plain": [
       "num-puertas\n",
       "four    114\n",
       "two      89\n",
       "Name: count, dtype: int64"
      ]
     },
     "execution_count": 57,
     "metadata": {},
     "output_type": "execute_result"
    }
   ],
   "source": [
    "df1['num-puertas'].value_counts()"
   ]
  },
  {
   "cell_type": "code",
   "execution_count": 59,
   "metadata": {},
   "outputs": [],
   "source": [
    "df1['num-puertas']= df1['num-puertas'].fillna(\"four\")"
   ]
  },
  {
   "cell_type": "code",
   "execution_count": 61,
   "metadata": {},
   "outputs": [
    {
     "data": {
      "text/plain": [
       "num-puertas\n",
       "four    116\n",
       "two      89\n",
       "Name: count, dtype: int64"
      ]
     },
     "execution_count": 61,
     "metadata": {},
     "output_type": "execute_result"
    }
   ],
   "source": [
    "df1['num-puertas'].value_counts()"
   ]
  },
  {
   "cell_type": "code",
   "execution_count": 62,
   "metadata": {},
   "outputs": [
    {
     "data": {
      "text/plain": [
       "fabricante\n",
       "toyota           32\n",
       "nissan           18\n",
       "mazda            17\n",
       "mitsubishi       13\n",
       "honda            13\n",
       "subaru           12\n",
       "volkswagen       12\n",
       "volvo            11\n",
       "peugot           11\n",
       "dodge             9\n",
       "mercedes-benz     8\n",
       "bmw               8\n",
       "audi              7\n",
       "plymouth          7\n",
       "saab              6\n",
       "porsche           5\n",
       "isuzu             4\n",
       "alfa-romero       3\n",
       "chevrolet         3\n",
       "jaguar            3\n",
       "renault           2\n",
       "mercury           1\n",
       "Name: count, dtype: int64"
      ]
     },
     "execution_count": 62,
     "metadata": {},
     "output_type": "execute_result"
    }
   ],
   "source": [
    "df1['fabricante'].value_counts()"
   ]
  },
  {
   "cell_type": "code",
   "execution_count": 68,
   "metadata": {},
   "outputs": [
    {
     "data": {
      "text/html": [
       "<div>\n",
       "<style scoped>\n",
       "    .dataframe tbody tr th:only-of-type {\n",
       "        vertical-align: middle;\n",
       "    }\n",
       "\n",
       "    .dataframe tbody tr th {\n",
       "        vertical-align: top;\n",
       "    }\n",
       "\n",
       "    .dataframe thead th {\n",
       "        text-align: right;\n",
       "    }\n",
       "</style>\n",
       "<table border=\"1\" class=\"dataframe\">\n",
       "  <thead>\n",
       "    <tr style=\"text-align: right;\">\n",
       "      <th></th>\n",
       "      <th>factor-riesgo</th>\n",
       "      <th>perdida-promedio-anual</th>\n",
       "      <th>distancia-entre-ejes</th>\n",
       "      <th>longitud</th>\n",
       "      <th>anchura</th>\n",
       "      <th>altura</th>\n",
       "      <th>peso-vacio</th>\n",
       "      <th>tamano-motor</th>\n",
       "      <th>calibre</th>\n",
       "      <th>carrera</th>\n",
       "      <th>relacion-compresion</th>\n",
       "      <th>caballos-fuerza</th>\n",
       "      <th>pico-rpm</th>\n",
       "      <th>millas_por_galon_ciudad</th>\n",
       "      <th>millas_por_galon_carretera</th>\n",
       "    </tr>\n",
       "  </thead>\n",
       "  <tbody>\n",
       "    <tr>\n",
       "      <th>factor-riesgo</th>\n",
       "      <td>1.000000</td>\n",
       "      <td>0.465190</td>\n",
       "      <td>-0.531954</td>\n",
       "      <td>-0.357612</td>\n",
       "      <td>-0.232919</td>\n",
       "      <td>-0.541038</td>\n",
       "      <td>-0.227691</td>\n",
       "      <td>-0.105790</td>\n",
       "      <td>-0.130083</td>\n",
       "      <td>-0.008689</td>\n",
       "      <td>-0.178515</td>\n",
       "      <td>0.071389</td>\n",
       "      <td>0.273679</td>\n",
       "      <td>-0.035823</td>\n",
       "      <td>0.034606</td>\n",
       "    </tr>\n",
       "    <tr>\n",
       "      <th>perdida-promedio-anual</th>\n",
       "      <td>0.465190</td>\n",
       "      <td>1.000000</td>\n",
       "      <td>-0.056518</td>\n",
       "      <td>0.019209</td>\n",
       "      <td>0.084195</td>\n",
       "      <td>-0.370706</td>\n",
       "      <td>0.097785</td>\n",
       "      <td>0.110997</td>\n",
       "      <td>-0.029266</td>\n",
       "      <td>0.054929</td>\n",
       "      <td>-0.114525</td>\n",
       "      <td>0.203434</td>\n",
       "      <td>0.237748</td>\n",
       "      <td>-0.218749</td>\n",
       "      <td>-0.178221</td>\n",
       "    </tr>\n",
       "    <tr>\n",
       "      <th>distancia-entre-ejes</th>\n",
       "      <td>-0.531954</td>\n",
       "      <td>-0.056518</td>\n",
       "      <td>1.000000</td>\n",
       "      <td>0.874587</td>\n",
       "      <td>0.795144</td>\n",
       "      <td>0.589435</td>\n",
       "      <td>0.776386</td>\n",
       "      <td>0.569329</td>\n",
       "      <td>0.488760</td>\n",
       "      <td>0.160944</td>\n",
       "      <td>0.249786</td>\n",
       "      <td>0.351957</td>\n",
       "      <td>-0.360704</td>\n",
       "      <td>-0.470414</td>\n",
       "      <td>-0.544082</td>\n",
       "    </tr>\n",
       "    <tr>\n",
       "      <th>longitud</th>\n",
       "      <td>-0.357612</td>\n",
       "      <td>0.019209</td>\n",
       "      <td>0.874587</td>\n",
       "      <td>1.000000</td>\n",
       "      <td>0.841118</td>\n",
       "      <td>0.491029</td>\n",
       "      <td>0.877728</td>\n",
       "      <td>0.683360</td>\n",
       "      <td>0.606462</td>\n",
       "      <td>0.129522</td>\n",
       "      <td>0.158414</td>\n",
       "      <td>0.554434</td>\n",
       "      <td>-0.287031</td>\n",
       "      <td>-0.670909</td>\n",
       "      <td>-0.704662</td>\n",
       "    </tr>\n",
       "    <tr>\n",
       "      <th>anchura</th>\n",
       "      <td>-0.232919</td>\n",
       "      <td>0.084195</td>\n",
       "      <td>0.795144</td>\n",
       "      <td>0.841118</td>\n",
       "      <td>1.000000</td>\n",
       "      <td>0.279210</td>\n",
       "      <td>0.867032</td>\n",
       "      <td>0.735433</td>\n",
       "      <td>0.559152</td>\n",
       "      <td>0.182939</td>\n",
       "      <td>0.181129</td>\n",
       "      <td>0.642195</td>\n",
       "      <td>-0.219859</td>\n",
       "      <td>-0.642704</td>\n",
       "      <td>-0.677218</td>\n",
       "    </tr>\n",
       "    <tr>\n",
       "      <th>altura</th>\n",
       "      <td>-0.541038</td>\n",
       "      <td>-0.370706</td>\n",
       "      <td>0.589435</td>\n",
       "      <td>0.491029</td>\n",
       "      <td>0.279210</td>\n",
       "      <td>1.000000</td>\n",
       "      <td>0.295572</td>\n",
       "      <td>0.067149</td>\n",
       "      <td>0.171101</td>\n",
       "      <td>-0.055351</td>\n",
       "      <td>0.261214</td>\n",
       "      <td>-0.110137</td>\n",
       "      <td>-0.320602</td>\n",
       "      <td>-0.048640</td>\n",
       "      <td>-0.107358</td>\n",
       "    </tr>\n",
       "    <tr>\n",
       "      <th>peso-vacio</th>\n",
       "      <td>-0.227691</td>\n",
       "      <td>0.097785</td>\n",
       "      <td>0.776386</td>\n",
       "      <td>0.877728</td>\n",
       "      <td>0.867032</td>\n",
       "      <td>0.295572</td>\n",
       "      <td>1.000000</td>\n",
       "      <td>0.850594</td>\n",
       "      <td>0.648485</td>\n",
       "      <td>0.168783</td>\n",
       "      <td>0.151362</td>\n",
       "      <td>0.750968</td>\n",
       "      <td>-0.266283</td>\n",
       "      <td>-0.757414</td>\n",
       "      <td>-0.797465</td>\n",
       "    </tr>\n",
       "    <tr>\n",
       "      <th>tamano-motor</th>\n",
       "      <td>-0.105790</td>\n",
       "      <td>0.110997</td>\n",
       "      <td>0.569329</td>\n",
       "      <td>0.683360</td>\n",
       "      <td>0.735433</td>\n",
       "      <td>0.067149</td>\n",
       "      <td>0.850594</td>\n",
       "      <td>1.000000</td>\n",
       "      <td>0.583798</td>\n",
       "      <td>0.203094</td>\n",
       "      <td>0.028971</td>\n",
       "      <td>0.810713</td>\n",
       "      <td>-0.244599</td>\n",
       "      <td>-0.653658</td>\n",
       "      <td>-0.677470</td>\n",
       "    </tr>\n",
       "    <tr>\n",
       "      <th>calibre</th>\n",
       "      <td>-0.130083</td>\n",
       "      <td>-0.029266</td>\n",
       "      <td>0.488760</td>\n",
       "      <td>0.606462</td>\n",
       "      <td>0.559152</td>\n",
       "      <td>0.171101</td>\n",
       "      <td>0.648485</td>\n",
       "      <td>0.583798</td>\n",
       "      <td>1.000000</td>\n",
       "      <td>-0.055909</td>\n",
       "      <td>0.005201</td>\n",
       "      <td>0.575737</td>\n",
       "      <td>-0.254761</td>\n",
       "      <td>-0.584508</td>\n",
       "      <td>-0.586992</td>\n",
       "    </tr>\n",
       "    <tr>\n",
       "      <th>carrera</th>\n",
       "      <td>-0.008689</td>\n",
       "      <td>0.054929</td>\n",
       "      <td>0.160944</td>\n",
       "      <td>0.129522</td>\n",
       "      <td>0.182939</td>\n",
       "      <td>-0.055351</td>\n",
       "      <td>0.168783</td>\n",
       "      <td>0.203094</td>\n",
       "      <td>-0.055909</td>\n",
       "      <td>1.000000</td>\n",
       "      <td>0.186105</td>\n",
       "      <td>0.088264</td>\n",
       "      <td>-0.066844</td>\n",
       "      <td>-0.042179</td>\n",
       "      <td>-0.043961</td>\n",
       "    </tr>\n",
       "    <tr>\n",
       "      <th>relacion-compresion</th>\n",
       "      <td>-0.178515</td>\n",
       "      <td>-0.114525</td>\n",
       "      <td>0.249786</td>\n",
       "      <td>0.158414</td>\n",
       "      <td>0.181129</td>\n",
       "      <td>0.261214</td>\n",
       "      <td>0.151362</td>\n",
       "      <td>0.028971</td>\n",
       "      <td>0.005201</td>\n",
       "      <td>0.186105</td>\n",
       "      <td>1.000000</td>\n",
       "      <td>-0.205740</td>\n",
       "      <td>-0.435936</td>\n",
       "      <td>0.324701</td>\n",
       "      <td>0.265201</td>\n",
       "    </tr>\n",
       "    <tr>\n",
       "      <th>caballos-fuerza</th>\n",
       "      <td>0.071389</td>\n",
       "      <td>0.203434</td>\n",
       "      <td>0.351957</td>\n",
       "      <td>0.554434</td>\n",
       "      <td>0.642195</td>\n",
       "      <td>-0.110137</td>\n",
       "      <td>0.750968</td>\n",
       "      <td>0.810713</td>\n",
       "      <td>0.575737</td>\n",
       "      <td>0.088264</td>\n",
       "      <td>-0.205740</td>\n",
       "      <td>1.000000</td>\n",
       "      <td>0.130971</td>\n",
       "      <td>-0.803162</td>\n",
       "      <td>-0.770903</td>\n",
       "    </tr>\n",
       "    <tr>\n",
       "      <th>pico-rpm</th>\n",
       "      <td>0.273679</td>\n",
       "      <td>0.237748</td>\n",
       "      <td>-0.360704</td>\n",
       "      <td>-0.287031</td>\n",
       "      <td>-0.219859</td>\n",
       "      <td>-0.320602</td>\n",
       "      <td>-0.266283</td>\n",
       "      <td>-0.244599</td>\n",
       "      <td>-0.254761</td>\n",
       "      <td>-0.066844</td>\n",
       "      <td>-0.435936</td>\n",
       "      <td>0.130971</td>\n",
       "      <td>1.000000</td>\n",
       "      <td>-0.113723</td>\n",
       "      <td>-0.054257</td>\n",
       "    </tr>\n",
       "    <tr>\n",
       "      <th>millas_por_galon_ciudad</th>\n",
       "      <td>-0.035823</td>\n",
       "      <td>-0.218749</td>\n",
       "      <td>-0.470414</td>\n",
       "      <td>-0.670909</td>\n",
       "      <td>-0.642704</td>\n",
       "      <td>-0.048640</td>\n",
       "      <td>-0.757414</td>\n",
       "      <td>-0.653658</td>\n",
       "      <td>-0.584508</td>\n",
       "      <td>-0.042179</td>\n",
       "      <td>0.324701</td>\n",
       "      <td>-0.803162</td>\n",
       "      <td>-0.113723</td>\n",
       "      <td>1.000000</td>\n",
       "      <td>0.971337</td>\n",
       "    </tr>\n",
       "    <tr>\n",
       "      <th>millas_por_galon_carretera</th>\n",
       "      <td>0.034606</td>\n",
       "      <td>-0.178221</td>\n",
       "      <td>-0.544082</td>\n",
       "      <td>-0.704662</td>\n",
       "      <td>-0.677218</td>\n",
       "      <td>-0.107358</td>\n",
       "      <td>-0.797465</td>\n",
       "      <td>-0.677470</td>\n",
       "      <td>-0.586992</td>\n",
       "      <td>-0.043961</td>\n",
       "      <td>0.265201</td>\n",
       "      <td>-0.770903</td>\n",
       "      <td>-0.054257</td>\n",
       "      <td>0.971337</td>\n",
       "      <td>1.000000</td>\n",
       "    </tr>\n",
       "  </tbody>\n",
       "</table>\n",
       "</div>"
      ],
      "text/plain": [
       "                            factor-riesgo  perdida-promedio-anual  \\\n",
       "factor-riesgo                    1.000000                0.465190   \n",
       "perdida-promedio-anual           0.465190                1.000000   \n",
       "distancia-entre-ejes            -0.531954               -0.056518   \n",
       "longitud                        -0.357612                0.019209   \n",
       "anchura                         -0.232919                0.084195   \n",
       "altura                          -0.541038               -0.370706   \n",
       "peso-vacio                      -0.227691                0.097785   \n",
       "tamano-motor                    -0.105790                0.110997   \n",
       "calibre                         -0.130083               -0.029266   \n",
       "carrera                         -0.008689                0.054929   \n",
       "relacion-compresion             -0.178515               -0.114525   \n",
       "caballos-fuerza                  0.071389                0.203434   \n",
       "pico-rpm                         0.273679                0.237748   \n",
       "millas_por_galon_ciudad         -0.035823               -0.218749   \n",
       "millas_por_galon_carretera       0.034606               -0.178221   \n",
       "\n",
       "                            distancia-entre-ejes  longitud   anchura  \\\n",
       "factor-riesgo                          -0.531954 -0.357612 -0.232919   \n",
       "perdida-promedio-anual                 -0.056518  0.019209  0.084195   \n",
       "distancia-entre-ejes                    1.000000  0.874587  0.795144   \n",
       "longitud                                0.874587  1.000000  0.841118   \n",
       "anchura                                 0.795144  0.841118  1.000000   \n",
       "altura                                  0.589435  0.491029  0.279210   \n",
       "peso-vacio                              0.776386  0.877728  0.867032   \n",
       "tamano-motor                            0.569329  0.683360  0.735433   \n",
       "calibre                                 0.488760  0.606462  0.559152   \n",
       "carrera                                 0.160944  0.129522  0.182939   \n",
       "relacion-compresion                     0.249786  0.158414  0.181129   \n",
       "caballos-fuerza                         0.351957  0.554434  0.642195   \n",
       "pico-rpm                               -0.360704 -0.287031 -0.219859   \n",
       "millas_por_galon_ciudad                -0.470414 -0.670909 -0.642704   \n",
       "millas_por_galon_carretera             -0.544082 -0.704662 -0.677218   \n",
       "\n",
       "                              altura  peso-vacio  tamano-motor   calibre  \\\n",
       "factor-riesgo              -0.541038   -0.227691     -0.105790 -0.130083   \n",
       "perdida-promedio-anual     -0.370706    0.097785      0.110997 -0.029266   \n",
       "distancia-entre-ejes        0.589435    0.776386      0.569329  0.488760   \n",
       "longitud                    0.491029    0.877728      0.683360  0.606462   \n",
       "anchura                     0.279210    0.867032      0.735433  0.559152   \n",
       "altura                      1.000000    0.295572      0.067149  0.171101   \n",
       "peso-vacio                  0.295572    1.000000      0.850594  0.648485   \n",
       "tamano-motor                0.067149    0.850594      1.000000  0.583798   \n",
       "calibre                     0.171101    0.648485      0.583798  1.000000   \n",
       "carrera                    -0.055351    0.168783      0.203094 -0.055909   \n",
       "relacion-compresion         0.261214    0.151362      0.028971  0.005201   \n",
       "caballos-fuerza            -0.110137    0.750968      0.810713  0.575737   \n",
       "pico-rpm                   -0.320602   -0.266283     -0.244599 -0.254761   \n",
       "millas_por_galon_ciudad    -0.048640   -0.757414     -0.653658 -0.584508   \n",
       "millas_por_galon_carretera -0.107358   -0.797465     -0.677470 -0.586992   \n",
       "\n",
       "                             carrera  relacion-compresion  caballos-fuerza  \\\n",
       "factor-riesgo              -0.008689            -0.178515         0.071389   \n",
       "perdida-promedio-anual      0.054929            -0.114525         0.203434   \n",
       "distancia-entre-ejes        0.160944             0.249786         0.351957   \n",
       "longitud                    0.129522             0.158414         0.554434   \n",
       "anchura                     0.182939             0.181129         0.642195   \n",
       "altura                     -0.055351             0.261214        -0.110137   \n",
       "peso-vacio                  0.168783             0.151362         0.750968   \n",
       "tamano-motor                0.203094             0.028971         0.810713   \n",
       "calibre                    -0.055909             0.005201         0.575737   \n",
       "carrera                     1.000000             0.186105         0.088264   \n",
       "relacion-compresion         0.186105             1.000000        -0.205740   \n",
       "caballos-fuerza             0.088264            -0.205740         1.000000   \n",
       "pico-rpm                   -0.066844            -0.435936         0.130971   \n",
       "millas_por_galon_ciudad    -0.042179             0.324701        -0.803162   \n",
       "millas_por_galon_carretera -0.043961             0.265201        -0.770903   \n",
       "\n",
       "                            pico-rpm  millas_por_galon_ciudad  \\\n",
       "factor-riesgo               0.273679                -0.035823   \n",
       "perdida-promedio-anual      0.237748                -0.218749   \n",
       "distancia-entre-ejes       -0.360704                -0.470414   \n",
       "longitud                   -0.287031                -0.670909   \n",
       "anchura                    -0.219859                -0.642704   \n",
       "altura                     -0.320602                -0.048640   \n",
       "peso-vacio                 -0.266283                -0.757414   \n",
       "tamano-motor               -0.244599                -0.653658   \n",
       "calibre                    -0.254761                -0.584508   \n",
       "carrera                    -0.066844                -0.042179   \n",
       "relacion-compresion        -0.435936                 0.324701   \n",
       "caballos-fuerza             0.130971                -0.803162   \n",
       "pico-rpm                    1.000000                -0.113723   \n",
       "millas_por_galon_ciudad    -0.113723                 1.000000   \n",
       "millas_por_galon_carretera -0.054257                 0.971337   \n",
       "\n",
       "                            millas_por_galon_carretera  \n",
       "factor-riesgo                                 0.034606  \n",
       "perdida-promedio-anual                       -0.178221  \n",
       "distancia-entre-ejes                         -0.544082  \n",
       "longitud                                     -0.704662  \n",
       "anchura                                      -0.677218  \n",
       "altura                                       -0.107358  \n",
       "peso-vacio                                   -0.797465  \n",
       "tamano-motor                                 -0.677470  \n",
       "calibre                                      -0.586992  \n",
       "carrera                                      -0.043961  \n",
       "relacion-compresion                           0.265201  \n",
       "caballos-fuerza                              -0.770903  \n",
       "pico-rpm                                     -0.054257  \n",
       "millas_por_galon_ciudad                       0.971337  \n",
       "millas_por_galon_carretera                    1.000000  "
      ]
     },
     "execution_count": 68,
     "metadata": {},
     "output_type": "execute_result"
    }
   ],
   "source": [
    "corr = df1.select_dtypes(include='number').corr()\n",
    "corr"
   ]
  },
  {
   "cell_type": "code",
   "execution_count": 70,
   "metadata": {},
   "outputs": [
    {
     "data": {
      "text/html": [
       "<div>\n",
       "<style scoped>\n",
       "    .dataframe tbody tr th:only-of-type {\n",
       "        vertical-align: middle;\n",
       "    }\n",
       "\n",
       "    .dataframe tbody tr th {\n",
       "        vertical-align: top;\n",
       "    }\n",
       "\n",
       "    .dataframe thead th {\n",
       "        text-align: right;\n",
       "    }\n",
       "</style>\n",
       "<table border=\"1\" class=\"dataframe\">\n",
       "  <thead>\n",
       "    <tr style=\"text-align: right;\">\n",
       "      <th></th>\n",
       "      <th>Real_Label</th>\n",
       "      <th>Predicted_Score</th>\n",
       "      <th>Predicted_label</th>\n",
       "    </tr>\n",
       "  </thead>\n",
       "  <tbody>\n",
       "    <tr>\n",
       "      <th>0</th>\n",
       "      <td>0</td>\n",
       "      <td>0.156098</td>\n",
       "      <td>0</td>\n",
       "    </tr>\n",
       "    <tr>\n",
       "      <th>1</th>\n",
       "      <td>0</td>\n",
       "      <td>0.433585</td>\n",
       "      <td>0</td>\n",
       "    </tr>\n",
       "    <tr>\n",
       "      <th>2</th>\n",
       "      <td>1</td>\n",
       "      <td>0.957655</td>\n",
       "      <td>1</td>\n",
       "    </tr>\n",
       "    <tr>\n",
       "      <th>3</th>\n",
       "      <td>0</td>\n",
       "      <td>0.281928</td>\n",
       "      <td>0</td>\n",
       "    </tr>\n",
       "    <tr>\n",
       "      <th>4</th>\n",
       "      <td>0</td>\n",
       "      <td>0.336131</td>\n",
       "      <td>0</td>\n",
       "    </tr>\n",
       "  </tbody>\n",
       "</table>\n",
       "</div>"
      ],
      "text/plain": [
       "   Real_Label  Predicted_Score  Predicted_label\n",
       "0           0         0.156098                0\n",
       "1           0         0.433585                0\n",
       "2           1         0.957655                1\n",
       "3           0         0.281928                0\n",
       "4           0         0.336131                0"
      ]
     },
     "execution_count": 70,
     "metadata": {},
     "output_type": "execute_result"
    }
   ],
   "source": [
    "df2 = pd.read_csv(\"predicciones_scores.data\")\n",
    "df2.head()"
   ]
  },
  {
   "cell_type": "code",
   "execution_count": 73,
   "metadata": {},
   "outputs": [],
   "source": [
    "real_labels = df2['Real_Label']\n",
    "predicted_scores = df2['Predicted_Score']\n",
    "predicted_labels = df2['Predicted_label']"
   ]
  },
  {
   "cell_type": "code",
   "execution_count": 72,
   "metadata": {},
   "outputs": [],
   "source": [
    "from sklearn.metrics import roc_curve, RocCurveDisplay"
   ]
  },
  {
   "cell_type": "code",
   "execution_count": 74,
   "metadata": {},
   "outputs": [
    {
     "name": "stderr",
     "output_type": "stream",
     "text": [
      "/home/analitica/.local/lib/python3.10/site-packages/sklearn/metrics/_plot/roc_curve.py:189: UserWarning: No artists with labels found to put in legend.  Note that artists whose label start with an underscore are ignored when legend() is called with no argument.\n",
      "  self.ax_.legend(loc=\"lower right\")\n"
     ]
    },
    {
     "data": {
      "text/plain": [
       "<sklearn.metrics._plot.roc_curve.RocCurveDisplay at 0x7d3392d9ca60>"
      ]
     },
     "execution_count": 74,
     "metadata": {},
     "output_type": "execute_result"
    },
    {
     "data": {
      "image/png": "[encoded data removed]",
      "text/plain": [
       "<Figure size 640x480 with 1 Axes>"
      ]
     },
     "metadata": {},
     "output_type": "display_data"
    }
   ],
   "source": [
    "fpr, tpr, _ = roc_curve(real_labels, predicted_scores)\n",
    "RocCurveDisplay(fpr=fpr, tpr=tpr).plot()"
   ]
  },
  {
   "cell_type": "code",
   "execution_count": 75,
   "metadata": {},
   "outputs": [],
   "source": [
    "from sklearn.metrics import classification_report, accuracy_score, recall_score, precision_score, f1_score, confusion_matrix"
   ]
  },
  {
   "cell_type": "code",
   "execution_count": 76,
   "metadata": {},
   "outputs": [
    {
     "data": {
      "text/plain": [
       "0.8"
      ]
     },
     "execution_count": 76,
     "metadata": {},
     "output_type": "execute_result"
    }
   ],
   "source": [
    "accuracy_score(real_labels, predicted_labels)"
   ]
  },
  {
   "cell_type": "code",
   "execution_count": 77,
   "metadata": {},
   "outputs": [
    {
     "data": {
      "text/plain": [
       "0.8936170212765957"
      ]
     },
     "execution_count": 77,
     "metadata": {},
     "output_type": "execute_result"
    }
   ],
   "source": [
    "precision_score(real_labels, predicted_labels)"
   ]
  },
  {
   "cell_type": "code",
   "execution_count": 78,
   "metadata": {},
   "outputs": [
    {
     "data": {
      "text/plain": [
       "0.6268656716417911"
      ]
     },
     "execution_count": 78,
     "metadata": {},
     "output_type": "execute_result"
    }
   ],
   "source": [
    "recall_score(real_labels, predicted_labels)"
   ]
  },
  {
   "cell_type": "code",
   "execution_count": 80,
   "metadata": {},
   "outputs": [
    {
     "name": "stdout",
     "output_type": "stream",
     "text": [
      "              precision    recall  f1-score   support\n",
      "\n",
      "           0       0.76      0.94      0.84       166\n",
      "           1       0.89      0.63      0.74       134\n",
      "\n",
      "    accuracy                           0.80       300\n",
      "   macro avg       0.83      0.78      0.79       300\n",
      "weighted avg       0.82      0.80      0.79       300\n",
      "\n"
     ]
    }
   ],
   "source": [
    "print(classification_report(real_labels, predicted_labels))"
   ]
  },
  {
   "cell_type": "code",
   "execution_count": 81,
   "metadata": {},
   "outputs": [
    {
     "data": {
      "text/plain": [
       "array([[156,  10],\n",
       "       [ 50,  84]])"
      ]
     },
     "execution_count": 81,
     "metadata": {},
     "output_type": "execute_result"
    }
   ],
   "source": [
    "confusion_matrix(real_labels, predicted_labels)"
   ]
  },
  {
   "cell_type": "code",
   "execution_count": 82,
   "metadata": {},
   "outputs": [],
   "source": [
    "from sklearn import neighbors\n",
    "from sklearn.linear_model import LogisticRegression"
   ]
  },
  {
   "cell_type": "code",
   "execution_count": 83,
   "metadata": {},
   "outputs": [],
   "source": [
    "dfTrain = pd.read_csv(\"train_set.csv\")\n",
    "dfTest = pd.read_csv(\"test_set.csv\")"
   ]
  },
  {
   "cell_type": "code",
   "execution_count": 84,
   "metadata": {},
   "outputs": [
    {
     "data": {
      "text/html": [
       "<div>\n",
       "<style scoped>\n",
       "    .dataframe tbody tr th:only-of-type {\n",
       "        vertical-align: middle;\n",
       "    }\n",
       "\n",
       "    .dataframe tbody tr th {\n",
       "        vertical-align: top;\n",
       "    }\n",
       "\n",
       "    .dataframe thead th {\n",
       "        text-align: right;\n",
       "    }\n",
       "</style>\n",
       "<table border=\"1\" class=\"dataframe\">\n",
       "  <thead>\n",
       "    <tr style=\"text-align: right;\">\n",
       "      <th></th>\n",
       "      <th>feat1</th>\n",
       "      <th>feat2</th>\n",
       "      <th>target</th>\n",
       "    </tr>\n",
       "  </thead>\n",
       "  <tbody>\n",
       "    <tr>\n",
       "      <th>0</th>\n",
       "      <td>1.579111</td>\n",
       "      <td>0.315508</td>\n",
       "      <td>0</td>\n",
       "    </tr>\n",
       "    <tr>\n",
       "      <th>1</th>\n",
       "      <td>1.555956</td>\n",
       "      <td>-0.452396</td>\n",
       "      <td>0</td>\n",
       "    </tr>\n",
       "    <tr>\n",
       "      <th>2</th>\n",
       "      <td>0.020154</td>\n",
       "      <td>1.012914</td>\n",
       "      <td>1</td>\n",
       "    </tr>\n",
       "    <tr>\n",
       "      <th>3</th>\n",
       "      <td>-0.048604</td>\n",
       "      <td>-0.997602</td>\n",
       "      <td>0</td>\n",
       "    </tr>\n",
       "    <tr>\n",
       "      <th>4</th>\n",
       "      <td>0.443537</td>\n",
       "      <td>-0.646990</td>\n",
       "      <td>0</td>\n",
       "    </tr>\n",
       "  </tbody>\n",
       "</table>\n",
       "</div>"
      ],
      "text/plain": [
       "      feat1     feat2  target\n",
       "0  1.579111  0.315508       0\n",
       "1  1.555956 -0.452396       0\n",
       "2  0.020154  1.012914       1\n",
       "3 -0.048604 -0.997602       0\n",
       "4  0.443537 -0.646990       0"
      ]
     },
     "execution_count": 84,
     "metadata": {},
     "output_type": "execute_result"
    }
   ],
   "source": [
    "dfTrain.head()"
   ]
  },
  {
   "cell_type": "code",
   "execution_count": 85,
   "metadata": {},
   "outputs": [
    {
     "data": {
      "text/html": [
       "<div>\n",
       "<style scoped>\n",
       "    .dataframe tbody tr th:only-of-type {\n",
       "        vertical-align: middle;\n",
       "    }\n",
       "\n",
       "    .dataframe tbody tr th {\n",
       "        vertical-align: top;\n",
       "    }\n",
       "\n",
       "    .dataframe thead th {\n",
       "        text-align: right;\n",
       "    }\n",
       "</style>\n",
       "<table border=\"1\" class=\"dataframe\">\n",
       "  <thead>\n",
       "    <tr style=\"text-align: right;\">\n",
       "      <th></th>\n",
       "      <th>feat1</th>\n",
       "      <th>feat2</th>\n",
       "      <th>target</th>\n",
       "    </tr>\n",
       "  </thead>\n",
       "  <tbody>\n",
       "    <tr>\n",
       "      <th>0</th>\n",
       "      <td>-0.568675</td>\n",
       "      <td>-1.222207</td>\n",
       "      <td>0</td>\n",
       "    </tr>\n",
       "    <tr>\n",
       "      <th>1</th>\n",
       "      <td>1.493420</td>\n",
       "      <td>0.237040</td>\n",
       "      <td>0</td>\n",
       "    </tr>\n",
       "    <tr>\n",
       "      <th>2</th>\n",
       "      <td>-1.437050</td>\n",
       "      <td>1.934122</td>\n",
       "      <td>1</td>\n",
       "    </tr>\n",
       "    <tr>\n",
       "      <th>3</th>\n",
       "      <td>0.349044</td>\n",
       "      <td>-0.488677</td>\n",
       "      <td>0</td>\n",
       "    </tr>\n",
       "    <tr>\n",
       "      <th>4</th>\n",
       "      <td>2.028682</td>\n",
       "      <td>0.070170</td>\n",
       "      <td>0</td>\n",
       "    </tr>\n",
       "  </tbody>\n",
       "</table>\n",
       "</div>"
      ],
      "text/plain": [
       "      feat1     feat2  target\n",
       "0 -0.568675 -1.222207       0\n",
       "1  1.493420  0.237040       0\n",
       "2 -1.437050  1.934122       1\n",
       "3  0.349044 -0.488677       0\n",
       "4  2.028682  0.070170       0"
      ]
     },
     "execution_count": 85,
     "metadata": {},
     "output_type": "execute_result"
    }
   ],
   "source": [
    "dfTest.head()"
   ]
  },
  {
   "cell_type": "code",
   "execution_count": 86,
   "metadata": {},
   "outputs": [
    {
     "data": {
      "text/html": [
       "<div>\n",
       "<style scoped>\n",
       "    .dataframe tbody tr th:only-of-type {\n",
       "        vertical-align: middle;\n",
       "    }\n",
       "\n",
       "    .dataframe tbody tr th {\n",
       "        vertical-align: top;\n",
       "    }\n",
       "\n",
       "    .dataframe thead th {\n",
       "        text-align: right;\n",
       "    }\n",
       "</style>\n",
       "<table border=\"1\" class=\"dataframe\">\n",
       "  <thead>\n",
       "    <tr style=\"text-align: right;\">\n",
       "      <th></th>\n",
       "      <th>feat1</th>\n",
       "      <th>feat2</th>\n",
       "      <th>target</th>\n",
       "    </tr>\n",
       "  </thead>\n",
       "  <tbody>\n",
       "    <tr>\n",
       "      <th>0</th>\n",
       "      <td>1.579111</td>\n",
       "      <td>0.315508</td>\n",
       "      <td>0</td>\n",
       "    </tr>\n",
       "    <tr>\n",
       "      <th>1</th>\n",
       "      <td>1.555956</td>\n",
       "      <td>-0.452396</td>\n",
       "      <td>0</td>\n",
       "    </tr>\n",
       "    <tr>\n",
       "      <th>2</th>\n",
       "      <td>0.020154</td>\n",
       "      <td>1.012914</td>\n",
       "      <td>1</td>\n",
       "    </tr>\n",
       "    <tr>\n",
       "      <th>3</th>\n",
       "      <td>-0.048604</td>\n",
       "      <td>-0.997602</td>\n",
       "      <td>0</td>\n",
       "    </tr>\n",
       "    <tr>\n",
       "      <th>4</th>\n",
       "      <td>0.443537</td>\n",
       "      <td>-0.646990</td>\n",
       "      <td>0</td>\n",
       "    </tr>\n",
       "  </tbody>\n",
       "</table>\n",
       "</div>"
      ],
      "text/plain": [
       "      feat1     feat2  target\n",
       "0  1.579111  0.315508       0\n",
       "1  1.555956 -0.452396       0\n",
       "2  0.020154  1.012914       1\n",
       "3 -0.048604 -0.997602       0\n",
       "4  0.443537 -0.646990       0"
      ]
     },
     "execution_count": 86,
     "metadata": {},
     "output_type": "execute_result"
    }
   ],
   "source": [
    "dfGeneral = pd.concat([dfTrain, dfTest], axis=0)\n",
    "dfGeneral.head()"
   ]
  },
  {
   "cell_type": "code",
   "execution_count": 87,
   "metadata": {},
   "outputs": [
    {
     "data": {
      "text/plain": [
       "target\n",
       "0    589\n",
       "1    411\n",
       "Name: count, dtype: int64"
      ]
     },
     "execution_count": 87,
     "metadata": {},
     "output_type": "execute_result"
    }
   ],
   "source": [
    "dfGeneral['target'].value_counts()"
   ]
  },
  {
   "cell_type": "code",
   "execution_count": 88,
   "metadata": {},
   "outputs": [
    {
     "name": "stdout",
     "output_type": "stream",
     "text": [
      "0.9233333333333333\n",
      "0.9133333333333333\n",
      "0.9166666666666666\n"
     ]
    }
   ],
   "source": [
    "k_values = [3, 5 , 7]\n",
    "\n",
    "for k in k_values:\n",
    "    knn = neighbors.KNeighborsClassifier(n_neighbors=k)\n",
    "    knn.fit(dfTrain[['feat1', 'feat2']], dfTrain['target'])\n",
    "    y_pred = knn.predict(dfTest[['feat1', 'feat2']])\n",
    "    print(accuracy_score(dfTest['target'], y_pred))"
   ]
  },
  {
   "cell_type": "code",
   "execution_count": 89,
   "metadata": {},
   "outputs": [
    {
     "data": {
      "text/plain": [
       "array([[158,   8],\n",
       "       [ 17, 117]])"
      ]
     },
     "execution_count": 89,
     "metadata": {},
     "output_type": "execute_result"
    }
   ],
   "source": [
    "knn = neighbors.KNeighborsClassifier(n_neighbors=7)\n",
    "knn.fit(dfTrain[['feat1', 'feat2']], dfTrain['target'])\n",
    "y_pred = knn.predict(dfTest[['feat1', 'feat2']])\n",
    "confusion_matrix(dfTest['target'], y_pred)"
   ]
  },
  {
   "cell_type": "code",
   "execution_count": 90,
   "metadata": {},
   "outputs": [
    {
     "name": "stdout",
     "output_type": "stream",
     "text": [
      "coeficients: [[-0.32542512  1.43318533]] and intercept: [-0.12096481]\n"
     ]
    }
   ],
   "source": [
    "model = LogisticRegression()\n",
    "model.fit(dfTrain[['feat1', 'feat2']], dfTrain['target'])\n",
    "print(f\"coeficients: {model.coef_} and intercept: {model.intercept_}\")"
   ]
  }
 ],
 "metadata": {
  "kernelspec": {
   "display_name": "Python 3",
   "language": "python",
   "name": "python3"
  },
  "language_info": {
   "codemirror_mode": {
    "name": "ipython",
    "version": 3
   },
   "file_extension": ".py",
   "mimetype": "text/x-python",
   "name": "python",
   "nbconvert_exporter": "python",
   "pygments_lexer": "ipython3",
   "version": "3.10.12"
  }
 },
 "nbformat": 4,
 "nbformat_minor": 2
}
