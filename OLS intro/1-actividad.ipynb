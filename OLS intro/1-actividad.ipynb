{
 "cells": [
  {
   "cell_type": "markdown",
   "id": "7f7b9345-d54b-45cc-adee-69a9e5c2e2ac",
   "metadata": {},
   "source": [
    "# **Universidad ICESI**\n",
    "\n",
    "*Milton Orlando Sarria Paja*"
   ]
  },
  {
   "cell_type": "markdown",
   "id": "1f0339e7-aa8e-4687-9efd-bcc254c30ead",
   "metadata": {},
   "source": [
    "## **Considera los siguientes casos**\n",
    "\n",
    "📖 **Caso 1: Horas de Estudio y Calificaciones**\n",
    "\n",
    "📂 **Datos:** Registro de estudiantes con sus horas de estudio y calificaciones: score_updated.csv\n",
    "\n",
    "El conjunto de datos contiene dos columnas: el número de horas que un estudiante estudió y las calificaciones que obtuvo. Podemos aplicar una regresión lineal simple para predecir las calificaciones del estudiante dado su número de horas de estudio.\n",
    "\n",
    "\n",
    "📖 **Caso 2: Temperatura y Ventas de Helado**\n",
    "\n",
    "📂 **Datos:** Temperatura diaria y ventas de helado en una heladería: Ice_cream_selling_data.csv\n",
    "\n",
    "Ice Cream Selling dataset: El conjunto de datos muestra la relación entre la temperatura y las ventas de helados. Sirve como un ejemplo práctico para comprender e implementar la regresión polinómica, una técnica poderosa para modelar relaciones no lineales en los datos.\n",
    "\n",
    "📖 **Caso 3: Niveles de Colesterol**\n",
    "\n",
    "📂 **Datos:** dataset de enfermedades cardíacas: dataset_2190_cholesterol.csv\n",
    "\n",
    "El dataset de enfermedades cardíacas contiene información médica recopilada en cuatro centros hospitalarios. Incluye 76 atributos, aunque solo 14 son comúnmente utilizados, como colesterol (chol), presión arterial (trestbps), frecuencia cardíaca (thalach), y tipo de dolor torácico (cp). La variable objetivo (num) indica la presencia de enfermedad cardíaca en distintos niveles. Este conjunto de datos se ha empleado ampliamente en estudios de aprendizaje automático para el diagnóstico de enfermedades cardíacas."
   ]
  },
  {
   "cell_type": "markdown",
   "id": "5ced2315-5478-4d1f-8dad-84c7d5478cfe",
   "metadata": {},
   "source": [
    "---\n",
    "\n",
    "# **Actividad: Análisis y Modelado de Datos en Diferentes Contextos**\n",
    "\n",
    "### **Objetivo General**\n",
    "Los estudiantes explorarán distintos conjuntos de datos para verificar supuestos, ajustar modelos de regresión y evaluar su desempeño mediante métricas estadísticas.\n",
    "\n",
    "---\n",
    "\n",
    "## **Caso 1: Horas de Estudio y Calificaciones (Regresión Lineal Simple)**\n",
    "\n",
    "📂 **Dataset:** `score_updated.csv`  \n",
    "📊 **Relación esperada:** Lineal  \n",
    "\n",
    "### **Parte 1: Verificación de Supuestos**\n",
    "1. Cargar los datos y visualizar la relación entre horas de estudio y calificaciones mediante un **gráfico de dispersión**.  \n",
    "2. Evaluar la distribución de las variables usando histogramas y boxplots.  \n",
    "---\n"
   ]
  },
  {
   "cell_type": "code",
   "execution_count": 35,
   "id": "33b3cced-f95a-4082-87a4-45ea64bb315b",
   "metadata": {},
   "outputs": [],
   "source": [
    "import pandas as pd\n",
    "import statsmodels.api as sm\n",
    "import numpy as np\n",
    "import matplotlib.pyplot as plt\n",
    "from scipy import stats"
   ]
  },
  {
   "cell_type": "code",
   "execution_count": 4,
   "id": "9d2c1e4f-8511-44c6-87c9-81be488f91ad",
   "metadata": {},
   "outputs": [
    {
     "data": {
      "text/html": [
       "<div>\n",
       "<style scoped>\n",
       "    .dataframe tbody tr th:only-of-type {\n",
       "        vertical-align: middle;\n",
       "    }\n",
       "\n",
       "    .dataframe tbody tr th {\n",
       "        vertical-align: top;\n",
       "    }\n",
       "\n",
       "    .dataframe thead th {\n",
       "        text-align: right;\n",
       "    }\n",
       "</style>\n",
       "<table border=\"1\" class=\"dataframe\">\n",
       "  <thead>\n",
       "    <tr style=\"text-align: right;\">\n",
       "      <th></th>\n",
       "      <th>Hours</th>\n",
       "      <th>Scores</th>\n",
       "    </tr>\n",
       "  </thead>\n",
       "  <tbody>\n",
       "    <tr>\n",
       "      <th>0</th>\n",
       "      <td>2.5</td>\n",
       "      <td>21</td>\n",
       "    </tr>\n",
       "    <tr>\n",
       "      <th>1</th>\n",
       "      <td>5.1</td>\n",
       "      <td>47</td>\n",
       "    </tr>\n",
       "    <tr>\n",
       "      <th>2</th>\n",
       "      <td>3.2</td>\n",
       "      <td>27</td>\n",
       "    </tr>\n",
       "    <tr>\n",
       "      <th>3</th>\n",
       "      <td>8.5</td>\n",
       "      <td>75</td>\n",
       "    </tr>\n",
       "    <tr>\n",
       "      <th>4</th>\n",
       "      <td>3.5</td>\n",
       "      <td>30</td>\n",
       "    </tr>\n",
       "  </tbody>\n",
       "</table>\n",
       "</div>"
      ],
      "text/plain": [
       "   Hours  Scores\n",
       "0    2.5      21\n",
       "1    5.1      47\n",
       "2    3.2      27\n",
       "3    8.5      75\n",
       "4    3.5      30"
      ]
     },
     "execution_count": 4,
     "metadata": {},
     "output_type": "execute_result"
    }
   ],
   "source": [
    "scoreDf = pd.read_csv(\"score_updated.csv\")\n",
    "scoreDf.head()"
   ]
  },
  {
   "cell_type": "code",
   "execution_count": 12,
   "id": "97f2bdf6",
   "metadata": {},
   "outputs": [
    {
     "data": {
      "text/plain": [
       "<Axes: xlabel='Hours', ylabel='Scores'>"
      ]
     },
     "execution_count": 12,
     "metadata": {},
     "output_type": "execute_result"
    },
    {
     "data": {
      "image/png": "[encoded data removed]",
      "text/plain": [
       "<Figure size 640x480 with 1 Axes>"
      ]
     },
     "metadata": {},
     "output_type": "display_data"
    }
   ],
   "source": [
    "scoreDf.plot(x='Hours', y='Scores', kind='scatter')"
   ]
  },
  {
   "cell_type": "code",
   "execution_count": 18,
   "id": "a9c6f6be",
   "metadata": {},
   "outputs": [
    {
     "data": {
      "image/png": "[encoded data removed]",
      "text/plain": [
       "<Figure size 640x480 with 1 Axes>"
      ]
     },
     "metadata": {},
     "output_type": "display_data"
    }
   ],
   "source": [
    "plt.hist(data=scoreDf, x='Hours', bins=20)\n",
    "plt.title(\"Hours histogram\")\n",
    "plt.show()"
   ]
  },
  {
   "cell_type": "code",
   "execution_count": 19,
   "id": "a75f7878",
   "metadata": {},
   "outputs": [
    {
     "data": {
      "image/png": "[encoded data removed]",
      "text/plain": [
       "<Figure size 640x480 with 1 Axes>"
      ]
     },
     "metadata": {},
     "output_type": "display_data"
    }
   ],
   "source": [
    "plt.hist(data=scoreDf, x='Scores', bins=20)\n",
    "plt.title(\"Scores histogram\")\n",
    "plt.show()"
   ]
  },
  {
   "cell_type": "code",
   "execution_count": 23,
   "id": "26e65de8",
   "metadata": {},
   "outputs": [
    {
     "data": {
      "image/png": "[encoded data removed]",
      "text/plain": [
       "<Figure size 640x480 with 1 Axes>"
      ]
     },
     "metadata": {},
     "output_type": "display_data"
    }
   ],
   "source": [
    "scoreDf.plot(kind='box')\n",
    "plt.title(\"Boxplots for Hours and Scores\")\n",
    "plt.show()"
   ]
  },
  {
   "cell_type": "markdown",
   "id": "f5577211-d65e-4b18-aeab-1bb585663d8f",
   "metadata": {},
   "source": [
    "### **Parte 2: Ajuste del Modelo y Evaluación**\n",
    "1. Ajustar una **regresión lineal** usando `statsmodels`.  \n",
    "2. Interpretar los coeficientes del modelo y el **summary()**:\n",
    "   - ¿Cuál es el valor de **R²**? ¿Qué indica sobre el modelo?  \n",
    "   - ¿Los coeficientes son estadísticamente significativos?  \n",
    "   - ¿Cómo interpretamos el coeficiente de la variable \"horas de estudio\"?  \n",
    "\n",
    "3. Verificar los supuestos de la regresión lineal:\n",
    "   - **Linealidad:** ¿La relación entre las variables parece una línea recta?  \n",
    "   - **Normalidad de los residuos:** Graficar un **histograma de los residuos** y realizar un **test de normalidad**.  \n",
    "   - **Homoscedasticidad:** Generar un **gráfico de residuos vs valores ajustados**.  \n",
    "4. Responder: ¿Es apropiado un modelo de regresión lineal en este caso? ¿Por qué?  \n",
    "\n",
    "\n",
    "---\n"
   ]
  },
  {
   "cell_type": "code",
   "execution_count": 30,
   "id": "5bc37e9c-3398-41cd-9c20-a3c625c9ad25",
   "metadata": {},
   "outputs": [],
   "source": [
    "hours2 = sm.add_constant(scoreDf['Hours'])\n",
    "model_sm = sm.OLS(scoreDf['Scores'], hours2)\n",
    "results_sm = model_sm.fit()"
   ]
  },
  {
   "cell_type": "code",
   "execution_count": 31,
   "id": "817c6b89-8fbf-4903-81f8-f36685ec08c8",
   "metadata": {},
   "outputs": [
    {
     "data": {
      "text/html": [
       "<table class=\"simpletable\">\n",
       "<caption>OLS Regression Results</caption>\n",
       "<tr>\n",
       "  <th>Dep. Variable:</th>         <td>Scores</td>      <th>  R-squared:         </th> <td>   0.981</td>\n",
       "</tr>\n",
       "<tr>\n",
       "  <th>Model:</th>                   <td>OLS</td>       <th>  Adj. R-squared:    </th> <td>   0.981</td>\n",
       "</tr>\n",
       "<tr>\n",
       "  <th>Method:</th>             <td>Least Squares</td>  <th>  F-statistic:       </th> <td>   4951.</td>\n",
       "</tr>\n",
       "<tr>\n",
       "  <th>Date:</th>             <td>Tue, 18 Feb 2025</td> <th>  Prob (F-statistic):</th> <td>4.18e-83</td>\n",
       "</tr>\n",
       "<tr>\n",
       "  <th>Time:</th>                 <td>14:42:31</td>     <th>  Log-Likelihood:    </th> <td> -253.62</td>\n",
       "</tr>\n",
       "<tr>\n",
       "  <th>No. Observations:</th>      <td>    96</td>      <th>  AIC:               </th> <td>   511.2</td>\n",
       "</tr>\n",
       "<tr>\n",
       "  <th>Df Residuals:</th>          <td>    94</td>      <th>  BIC:               </th> <td>   516.4</td>\n",
       "</tr>\n",
       "<tr>\n",
       "  <th>Df Model:</th>              <td>     1</td>      <th>                     </th>     <td> </td>   \n",
       "</tr>\n",
       "<tr>\n",
       "  <th>Covariance Type:</th>      <td>nonrobust</td>    <th>                     </th>     <td> </td>   \n",
       "</tr>\n",
       "</table>\n",
       "<table class=\"simpletable\">\n",
       "<tr>\n",
       "    <td></td>       <th>coef</th>     <th>std err</th>      <th>t</th>      <th>P>|t|</th>  <th>[0.025</th>    <th>0.975]</th>  \n",
       "</tr>\n",
       "<tr>\n",
       "  <th>const</th> <td>    1.8636</td> <td>    0.820</td> <td>    2.273</td> <td> 0.025</td> <td>    0.236</td> <td>    3.492</td>\n",
       "</tr>\n",
       "<tr>\n",
       "  <th>Hours</th> <td>    9.9013</td> <td>    0.141</td> <td>   70.363</td> <td> 0.000</td> <td>    9.622</td> <td>   10.181</td>\n",
       "</tr>\n",
       "</table>\n",
       "<table class=\"simpletable\">\n",
       "<tr>\n",
       "  <th>Omnibus:</th>       <td> 2.355</td> <th>  Durbin-Watson:     </th> <td>   1.763</td>\n",
       "</tr>\n",
       "<tr>\n",
       "  <th>Prob(Omnibus):</th> <td> 0.308</td> <th>  Jarque-Bera (JB):  </th> <td>   1.746</td>\n",
       "</tr>\n",
       "<tr>\n",
       "  <th>Skew:</th>          <td>-0.291</td> <th>  Prob(JB):          </th> <td>   0.418</td>\n",
       "</tr>\n",
       "<tr>\n",
       "  <th>Kurtosis:</th>      <td> 3.313</td> <th>  Cond. No.          </th> <td>    14.0</td>\n",
       "</tr>\n",
       "</table><br/><br/>Notes:<br/>[1] Standard Errors assume that the covariance matrix of the errors is correctly specified."
      ],
      "text/latex": [
       "\\begin{center}\n",
       "\\begin{tabular}{lclc}\n",
       "\\toprule\n",
       "\\textbf{Dep. Variable:}    &      Scores      & \\textbf{  R-squared:         } &     0.981   \\\\\n",
       "\\textbf{Model:}            &       OLS        & \\textbf{  Adj. R-squared:    } &     0.981   \\\\\n",
       "\\textbf{Method:}           &  Least Squares   & \\textbf{  F-statistic:       } &     4951.   \\\\\n",
       "\\textbf{Date:}             & Tue, 18 Feb 2025 & \\textbf{  Prob (F-statistic):} &  4.18e-83   \\\\\n",
       "\\textbf{Time:}             &     14:42:31     & \\textbf{  Log-Likelihood:    } &   -253.62   \\\\\n",
       "\\textbf{No. Observations:} &          96      & \\textbf{  AIC:               } &     511.2   \\\\\n",
       "\\textbf{Df Residuals:}     &          94      & \\textbf{  BIC:               } &     516.4   \\\\\n",
       "\\textbf{Df Model:}         &           1      & \\textbf{                     } &             \\\\\n",
       "\\textbf{Covariance Type:}  &    nonrobust     & \\textbf{                     } &             \\\\\n",
       "\\bottomrule\n",
       "\\end{tabular}\n",
       "\\begin{tabular}{lcccccc}\n",
       "               & \\textbf{coef} & \\textbf{std err} & \\textbf{t} & \\textbf{P$> |$t$|$} & \\textbf{[0.025} & \\textbf{0.975]}  \\\\\n",
       "\\midrule\n",
       "\\textbf{const} &       1.8636  &        0.820     &     2.273  &         0.025        &        0.236    &        3.492     \\\\\n",
       "\\textbf{Hours} &       9.9013  &        0.141     &    70.363  &         0.000        &        9.622    &       10.181     \\\\\n",
       "\\bottomrule\n",
       "\\end{tabular}\n",
       "\\begin{tabular}{lclc}\n",
       "\\textbf{Omnibus:}       &  2.355 & \\textbf{  Durbin-Watson:     } &    1.763  \\\\\n",
       "\\textbf{Prob(Omnibus):} &  0.308 & \\textbf{  Jarque-Bera (JB):  } &    1.746  \\\\\n",
       "\\textbf{Skew:}          & -0.291 & \\textbf{  Prob(JB):          } &    0.418  \\\\\n",
       "\\textbf{Kurtosis:}      &  3.313 & \\textbf{  Cond. No.          } &     14.0  \\\\\n",
       "\\bottomrule\n",
       "\\end{tabular}\n",
       "%\\caption{OLS Regression Results}\n",
       "\\end{center}\n",
       "\n",
       "Notes: \\newline\n",
       " [1] Standard Errors assume that the covariance matrix of the errors is correctly specified."
      ],
      "text/plain": [
       "<class 'statsmodels.iolib.summary.Summary'>\n",
       "\"\"\"\n",
       "                            OLS Regression Results                            \n",
       "==============================================================================\n",
       "Dep. Variable:                 Scores   R-squared:                       0.981\n",
       "Model:                            OLS   Adj. R-squared:                  0.981\n",
       "Method:                 Least Squares   F-statistic:                     4951.\n",
       "Date:                Tue, 18 Feb 2025   Prob (F-statistic):           4.18e-83\n",
       "Time:                        14:42:31   Log-Likelihood:                -253.62\n",
       "No. Observations:                  96   AIC:                             511.2\n",
       "Df Residuals:                      94   BIC:                             516.4\n",
       "Df Model:                           1                                         \n",
       "Covariance Type:            nonrobust                                         \n",
       "==============================================================================\n",
       "                 coef    std err          t      P>|t|      [0.025      0.975]\n",
       "------------------------------------------------------------------------------\n",
       "const          1.8636      0.820      2.273      0.025       0.236       3.492\n",
       "Hours          9.9013      0.141     70.363      0.000       9.622      10.181\n",
       "==============================================================================\n",
       "Omnibus:                        2.355   Durbin-Watson:                   1.763\n",
       "Prob(Omnibus):                  0.308   Jarque-Bera (JB):                1.746\n",
       "Skew:                          -0.291   Prob(JB):                        0.418\n",
       "Kurtosis:                       3.313   Cond. No.                         14.0\n",
       "==============================================================================\n",
       "\n",
       "Notes:\n",
       "[1] Standard Errors assume that the covariance matrix of the errors is correctly specified.\n",
       "\"\"\""
      ]
     },
     "execution_count": 31,
     "metadata": {},
     "output_type": "execute_result"
    }
   ],
   "source": [
    "results_sm.summary()"
   ]
  },
  {
   "cell_type": "markdown",
   "id": "fa85bf75",
   "metadata": {},
   "source": [
    "## 2\n",
    "R² = 0.981, esto indica que el modelo explica un 98% de la varianza observada.\n",
    "\n",
    "Los coeficientes si son significativos, ya que el valor p tanto para el intercepto como la pendiente es menor a 0.05\n",
    "\n",
    "El coeficiente de horas de estudio significa que por cada hora adicional que se dedique un estudiante su puntaje va a mejorar en 9.9 puntos."
   ]
  },
  {
   "cell_type": "code",
   "execution_count": 32,
   "id": "28a09071",
   "metadata": {},
   "outputs": [
    {
     "data": {
      "image/png": "[encoded data removed]",
      "text/plain": [
       "<Figure size 640x480 with 1 Axes>"
      ]
     },
     "metadata": {},
     "output_type": "display_data"
    }
   ],
   "source": [
    "yPred =results_sm.predict(hours2)\n",
    "residues = results_sm.resid\n",
    "\n",
    "plt.scatter(yPred, residues)\n",
    "plt.axhline(0, color='red', linestyle='--')  # Línea horizontal en 0\n",
    "plt.title('Residuos vs Predicciones')\n",
    "plt.xlabel('Predicciones')\n",
    "plt.ylabel('Residuos')\n",
    "plt.show()"
   ]
  },
  {
   "cell_type": "code",
   "execution_count": 33,
   "id": "bcdb2309",
   "metadata": {},
   "outputs": [
    {
     "data": {
      "image/png": "[encoded data removed]",
      "text/plain": [
       "<Figure size 640x480 with 1 Axes>"
      ]
     },
     "metadata": {},
     "output_type": "display_data"
    }
   ],
   "source": [
    "sm.qqplot(residues, line ='45')\n",
    "plt.show()"
   ]
  },
  {
   "cell_type": "code",
   "execution_count": 34,
   "id": "b24ccad6",
   "metadata": {},
   "outputs": [
    {
     "data": {
      "text/plain": [
       "<Axes: ylabel='Frequency'>"
      ]
     },
     "execution_count": 34,
     "metadata": {},
     "output_type": "execute_result"
    },
    {
     "data": {
      "image/png": "[encoded data removed]",
      "text/plain": [
       "<Figure size 640x480 with 1 Axes>"
      ]
     },
     "metadata": {},
     "output_type": "display_data"
    }
   ],
   "source": [
    "residues.plot(kind='hist')"
   ]
  },
  {
   "cell_type": "code",
   "execution_count": 37,
   "id": "20d4083b",
   "metadata": {},
   "outputs": [
    {
     "name": "stdout",
     "output_type": "stream",
     "text": [
      "Shapiro-Wilk: 0.9834730350056647\n",
      "Valor p: 0.27005254147580293\n"
     ]
    }
   ],
   "source": [
    "#Shapiro wilk normality test\n",
    "stat, p_value = stats.shapiro(residues)\n",
    "print('Shapiro-Wilk:', stat)\n",
    "print('Valor p:', p_value)"
   ]
  },
  {
   "cell_type": "markdown",
   "id": "0a9e4235",
   "metadata": {},
   "source": [
    "## 3\n",
    "\n",
    "Aunque si aparenta ver una relación lineal. Si se observa el hay una linea bastante equitativa de como se distribuyen los residuos. \n",
    "\n",
    "El gráfico de los residuos muestra que si hay un tipo de comportamiento normal, eso se puede asegurar con la prueba de shapiro wilk y el valor P entra dentro del rango de normalidad.\n",
    "\n",
    "En el caso de homocedasticidad, la gráfica de residuos vs predicciones (valores ajustados) muestra que los residuos tienen errores aleatorios a lo largo de todos los valores predichos (no hay un patrón que se vea fácilmente en la gráfica)"
   ]
  },
  {
   "cell_type": "markdown",
   "id": "73204923-56b8-4ac0-8e79-7d45e5eb9d3f",
   "metadata": {},
   "source": [
    "\n",
    "### **Parte 3: Evaluación del Modelo con RMSE**\n",
    "1. Calcular el **RMSE**.  \n",
    "2. Reflexionar:  \n",
    "   - ¿El RMSE es bajo o alto?  \n",
    "   - ¿Qué indica esto sobre la precisión del modelo?  \n",
    "   - ¿Cómo podríamos mejorar la predicción?  \n",
    "\n",
    "---\n"
   ]
  },
  {
   "cell_type": "code",
   "execution_count": 39,
   "id": "f552104a-31d9-44ec-a391-c79c4aa060b0",
   "metadata": {},
   "outputs": [
    {
     "name": "stdout",
     "output_type": "stream",
     "text": [
      "MSE (Mean Squared Error): 11.54021082950942\n"
     ]
    }
   ],
   "source": [
    "mse = np.mean(residues**2)\n",
    "print(f'MSE (Mean Squared Error): {mse}')"
   ]
  },
  {
   "cell_type": "code",
   "execution_count": 40,
   "id": "893df898-89d0-4d59-a2a0-8a411f25de74",
   "metadata": {},
   "outputs": [
    {
     "name": "stdout",
     "output_type": "stream",
     "text": [
      "RMSE (Root Mean Squared Error): 3.3970885813457117\n"
     ]
    }
   ],
   "source": [
    "rmse = np.sqrt(mse)\n",
    "print(f'RMSE (Root Mean Squared Error): {rmse}')"
   ]
  },
  {
   "cell_type": "markdown",
   "id": "414c2cd7",
   "metadata": {},
   "source": [
    "# 3\n",
    "El RMSE es bajo teniendo en cuenta que los puntajes van desde 0 a 100, y en este caso solo tiene 3.3 puntos. \n",
    "\n",
    "Esto signficia que el modelo es bastante preciso ya que el error general en los datos en general es relativamente bajo.\n",
    "\n",
    "La predicción se podría mejor teniendo más o mejores datos. También se ve que la distribución de los datos es un poco muy homogenea, que no está mal en sí, pero teniendo más datos podría normalizarse más los datos."
   ]
  },
  {
   "cell_type": "code",
   "execution_count": null,
   "id": "fbdf542b",
   "metadata": {},
   "outputs": [
    {
     "name": "stdout",
     "output_type": "stream",
     "text": [
      "Defaulting to user installation because normal site-packages is not writeable\n",
      "Collecting scikit-learn\n",
      "  Downloading scikit_learn-1.6.1-cp310-cp310-manylinux_2_17_x86_64.manylinux2014_x86_64.whl (13.5 MB)\n",
      "\u001b[2K     \u001b[90m━━━━━━━━━━━━━━━━━━━━━━━━━━━━━━━━━━━━━━━━\u001b[0m \u001b[32m13.5/13.5 MB\u001b[0m \u001b[31m6.4 MB/s\u001b[0m eta \u001b[36m0:00:00\u001b[0m00:01\u001b[0m00:01\u001b[0m\n",
      "\u001b[?25hRequirement already satisfied: scipy>=1.6.0 in /home/analitica/.local/lib/python3.10/site-packages (from scikit-learn) (1.15.1)\n",
      "Requirement already satisfied: numpy>=1.19.5 in /home/analitica/.local/lib/python3.10/site-packages (from scikit-learn) (2.2.2)\n",
      "Collecting threadpoolctl>=3.1.0\n",
      "  Downloading threadpoolctl-3.5.0-py3-none-any.whl (18 kB)\n",
      "Collecting joblib>=1.2.0\n",
      "  Downloading joblib-1.4.2-py3-none-any.whl (301 kB)\n",
      "\u001b[2K     \u001b[90m━━━━━━━━━━━━━━━━━━━━━━━━━━━━━━━━━━━━━━━\u001b[0m \u001b[32m301.8/301.8 KB\u001b[0m \u001b[31m2.4 MB/s\u001b[0m eta \u001b[36m0:00:00\u001b[0m00:01\u001b[0m\n",
      "\u001b[?25hInstalling collected packages: threadpoolctl, joblib, scikit-learn\n",
      "Successfully installed joblib-1.4.2 scikit-learn-1.6.1 threadpoolctl-3.5.0\n"
     ]
    }
   ],
   "source": [
    "#! pip install scikit-learn"
   ]
  },
  {
   "cell_type": "code",
   "execution_count": 44,
   "id": "b51e8ce9",
   "metadata": {},
   "outputs": [],
   "source": [
    "#Using sklearn metrics\n",
    "from sklearn.metrics import mean_squared_error"
   ]
  },
  {
   "cell_type": "code",
   "execution_count": 45,
   "id": "e555b180",
   "metadata": {},
   "outputs": [
    {
     "name": "stdout",
     "output_type": "stream",
     "text": [
      "MSE (Mean Squared Error) con sklearn: 11.54021082950942\n",
      "RMSE (Root Mean Squared Error) con sklearn: 3.3970885813457117\n"
     ]
    }
   ],
   "source": [
    "mse_sklearn = mean_squared_error(scoreDf['Scores'], yPred)\n",
    "print(f'MSE (Mean Squared Error) con sklearn: {mse_sklearn}')\n",
    "\n",
    "# Calcular RMSE\n",
    "rmse_sklearn = np.sqrt(mse_sklearn)\n",
    "print(f'RMSE (Root Mean Squared Error) con sklearn: {rmse_sklearn}')"
   ]
  },
  {
   "cell_type": "markdown",
   "id": "d3acaa07-59c9-4915-a0b1-82f02998afd2",
   "metadata": {},
   "source": [
    "### **Parte 4: Introducción de Valores Atípicos**  \n",
    "\n",
    "1. **Modificar el dataset manualmente**, agregando al menos **tres puntos extremos**, por ejemplo:  \n",
    "   - Un estudiante con **50 horas de estudio** pero una calificación de **30**.  \n",
    "   - Un estudiante con **0 horas de estudio** pero una calificación de **95**.  \n",
    "   - Un estudiante con **100 horas de estudio** y una calificación de **10**.  \n",
    "2. **Visualizar nuevamente los datos** con los valores atípicos en un gráfico de dispersión.  \n",
    "\n",
    "\n"
   ]
  },
  {
   "cell_type": "code",
   "execution_count": 50,
   "id": "fe9691fa-7a76-4f3b-ae73-53e472696133",
   "metadata": {},
   "outputs": [
    {
     "data": {
      "text/html": [
       "<div>\n",
       "<style scoped>\n",
       "    .dataframe tbody tr th:only-of-type {\n",
       "        vertical-align: middle;\n",
       "    }\n",
       "\n",
       "    .dataframe tbody tr th {\n",
       "        vertical-align: top;\n",
       "    }\n",
       "\n",
       "    .dataframe thead th {\n",
       "        text-align: right;\n",
       "    }\n",
       "</style>\n",
       "<table border=\"1\" class=\"dataframe\">\n",
       "  <thead>\n",
       "    <tr style=\"text-align: right;\">\n",
       "      <th></th>\n",
       "      <th>Hours</th>\n",
       "      <th>Scores</th>\n",
       "    </tr>\n",
       "  </thead>\n",
       "  <tbody>\n",
       "    <tr>\n",
       "      <th>95</th>\n",
       "      <td>8.0</td>\n",
       "      <td>84</td>\n",
       "    </tr>\n",
       "    <tr>\n",
       "      <th>Hours</th>\n",
       "      <td>50.0</td>\n",
       "      <td>30</td>\n",
       "    </tr>\n",
       "    <tr>\n",
       "      <th>Scores</th>\n",
       "      <td>50.0</td>\n",
       "      <td>30</td>\n",
       "    </tr>\n",
       "  </tbody>\n",
       "</table>\n",
       "</div>"
      ],
      "text/plain": [
       "        Hours  Scores\n",
       "95        8.0      84\n",
       "Hours    50.0      30\n",
       "Scores   50.0      30"
      ]
     },
     "execution_count": 50,
     "metadata": {},
     "output_type": "execute_result"
    }
   ],
   "source": [
    "newOutliers = pd.DataFrame(\n",
    "    {'Hours':50, 'Scores':30},\n",
    "    {'Hours':0, 'Scores':95},\n",
    "    {'Hours':100, 'Scores':10}\n",
    ")\n",
    "\n",
    "scoreDf = pd.concat([scoreDf,newOutliers])\n",
    "\n",
    "scoreDf.tail(3)"
   ]
  },
  {
   "cell_type": "code",
   "execution_count": null,
   "id": "533c68fa-dfa4-4c29-9bec-38311d7c43c1",
   "metadata": {},
   "outputs": [],
   "source": []
  },
  {
   "cell_type": "markdown",
   "id": "96e1715a-9988-4865-bf24-b095f73cfe5f",
   "metadata": {},
   "source": [
    "---\n",
    "\n",
    "### **Parte 5: Reevaluación del Modelo**  \n",
    "\n",
    "1. **Volver a ajustar la regresión lineal** con los datos modificados.  \n",
    "2. **Comparar los coeficientes y métricas** antes y después de agregar los valores atípicos:  \n",
    "   - ¿Cómo cambiaron los coeficientes de la regresión?  \n",
    "   - ¿El valor de R² aumentó o disminuyó? ¿Por qué?  \n",
    "   - ¿Cómo cambió el RMSE?  \n",
    "   - ¿Qué efectos observas en la línea de regresión en la gráfica?  \n",
    "3. **Reflexionar**:  \n",
    "   - ¿Cómo afectan los valores atípicos la precisión del modelo?  \n",
    "   - ¿Qué podríamos hacer para mitigar su impacto?  \n",
    "   - ¿Cuándo es recomendable eliminarlos y cuándo es mejor dejarlos en el análisis?  \n"
   ]
  },
  {
   "cell_type": "code",
   "execution_count": null,
   "id": "e3142f54-179b-46c2-aa34-b9c5a5e8dad8",
   "metadata": {},
   "outputs": [],
   "source": []
  },
  {
   "cell_type": "code",
   "execution_count": null,
   "id": "87ac7fc4-fc8c-476a-bd07-7bf077c2ce81",
   "metadata": {},
   "outputs": [],
   "source": []
  },
  {
   "cell_type": "markdown",
   "id": "80c8814e-868b-40ad-92fd-5944f65be6ee",
   "metadata": {},
   "source": [
    "## **Caso 2: Temperatura y Ventas de Helado (Relación No Lineal)**\n",
    "\n",
    "📂 **Dataset:** `Ice_cream_selling_data.csv`  \n",
    "📊 **Relación esperada:** No lineal  \n",
    "\n",
    "### **Parte 1: Exploración de Datos y Supuestos**\n",
    "1. Cargar los datos y visualizar la relación mediante un **gráfico de dispersión**.  \n",
    "2. Evaluar la distribución de las variables usando histogramas y boxplots.\n",
    "3. Responder: ¿Consideras que el modelo lineal es adecuado en este caso?  \n",
    "\n",
    "---\n",
    "\n",
    "\n"
   ]
  },
  {
   "cell_type": "code",
   "execution_count": null,
   "id": "08036659-7152-483a-82a2-80025c145086",
   "metadata": {},
   "outputs": [],
   "source": []
  },
  {
   "cell_type": "code",
   "execution_count": null,
   "id": "7821a5d9-49ab-49e8-9490-06159adf048a",
   "metadata": {},
   "outputs": [],
   "source": []
  },
  {
   "cell_type": "markdown",
   "id": "c1cab0eb-a25e-4399-aa57-3dc2e7c16520",
   "metadata": {},
   "source": [
    "### **Parte 2: Ajuste del Modelo y Evaluación**\n",
    "1. Ajustar una **regresión lineal** usando `statsmodels`.  \n",
    "2. Interpretar los coeficientes del modelo y el **summary()**:\n",
    "   - ¿Cuál es el valor de **R²**? ¿Qué indica sobre el modelo?  \n",
    "   - ¿Los coeficientes son estadísticamente significativos?  \n",
    "   - ¿Cómo interpretamos el coeficiente de la variable \"temperatura\"?\n",
    "\n",
    "3. Verificar los supuestos de la regresión lineal:\n",
    "   - **Linealidad:** ¿La relación entre las variables parece una línea recta?  \n",
    "   - **Normalidad de los residuos:** Graficar un **histograma de los residuos** y realizar un **test de normalidad**.  \n",
    "   - **Homoscedasticidad:** Generar un **gráfico de residuos vs valores ajustados**.  \n",
    "\n",
    "\n",
    "---"
   ]
  },
  {
   "cell_type": "code",
   "execution_count": null,
   "id": "751b410d-be46-47da-9b7a-0e4252e17e9b",
   "metadata": {},
   "outputs": [],
   "source": []
  },
  {
   "cell_type": "code",
   "execution_count": null,
   "id": "1c996214-a16e-4dbc-a4c7-2a46b1a11ea7",
   "metadata": {},
   "outputs": [],
   "source": []
  },
  {
   "cell_type": "markdown",
   "id": "662b91d5-4f9e-4a92-85ea-c65538634623",
   "metadata": {},
   "source": [
    "### **Parte 3: Evaluación del Modelo con RMSE**\n",
    "1. Calcular el **RMSE**.  \n",
    "2. Reflexionar:  \n",
    "   - ¿Que podemos concluir al usar solamente el RMSE como medida de desempeño?  \n",
    "   - ¿Es posible hacer ajustes para mejorar el modelo?  \n",
    "\n",
    "---\n"
   ]
  },
  {
   "cell_type": "code",
   "execution_count": null,
   "id": "c88f4e9f-d0b3-45dd-9f4c-d306b80de6d9",
   "metadata": {},
   "outputs": [],
   "source": []
  },
  {
   "cell_type": "code",
   "execution_count": null,
   "id": "57123d37-fa2f-4919-9f0e-fa1536d424b0",
   "metadata": {},
   "outputs": [],
   "source": []
  },
  {
   "cell_type": "markdown",
   "id": "7edefe61-22c7-4270-aa37-88383eb1270b",
   "metadata": {},
   "source": [
    "\n",
    "## **Caso 3: Análisis de Enfermedades Cardíacas (Selección de Variables y Comparación de Modelos)**\n",
    "\n",
    "📂 **Dataset:** `dataset_2190_cholesterol.csv`  \n",
    "📊 **Objetivo:** Identificar variables clave y construir modelos predictivos  \n",
    "\n",
    "### **Parte 1: Identificación de Variables**\n",
    "1. Cargar el dataset y explorar sus columnas.  \n",
    "2. Identificar la **variable objetivo** (num: presencia de enfermedad cardíaca).  \n",
    "3. Calcular la **correlación** de todas las variables con \"num\" y ordenarlas de mayor a menor.  \n",
    "\n",
    "---\n"
   ]
  },
  {
   "cell_type": "code",
   "execution_count": null,
   "id": "87153b13-66fe-42ad-bafb-00387bc43f97",
   "metadata": {},
   "outputs": [],
   "source": []
  },
  {
   "cell_type": "code",
   "execution_count": null,
   "id": "241d9456-e34a-459d-a64f-fb7c07324b65",
   "metadata": {},
   "outputs": [],
   "source": []
  },
  {
   "cell_type": "markdown",
   "id": "acf0a408-58e0-4f18-8970-c4df3f650467",
   "metadata": {},
   "source": [
    "### **Parte 2: Selección de Variables y Modelado**\n",
    "1. Seleccionar las **tres variables con mayor correlación** con \"num\".  \n",
    "2. Ajustar **tres modelos de regresión lineal** (uno para cada variable independiente).  \n",
    "3. Evaluar los coeficientes y métricas del summary():\n",
    "   - **R² ajustado**  \n",
    "   - **Significancia de los coeficientes**  \n",
    "     \n"
   ]
  },
  {
   "cell_type": "code",
   "execution_count": null,
   "id": "6b6448d5-672d-4795-a348-3ac800b60b1f",
   "metadata": {},
   "outputs": [],
   "source": []
  },
  {
   "cell_type": "code",
   "execution_count": null,
   "id": "2fa03c7a-79bd-4299-98bd-466dbb07ffe3",
   "metadata": {},
   "outputs": [],
   "source": []
  },
  {
   "cell_type": "markdown",
   "id": "07941a42-f6dd-48fa-b290-813bee547bec",
   "metadata": {},
   "source": [
    "---\n",
    "\n",
    "### **Parte 3: Comparación y Conclusiones**\n",
    "1. Comparar los modelos en términos de **desempeño predictivo**.  \n",
    "2. Reflexionar:  \n",
    "   - ¿Cuál de las tres variables tiene mayor poder predictivo?  \n",
    "   - ¿Se podría mejorar el modelo combinando variables?  \n",
    "   - ¿Qué conclusiones podemos extraer sobre el colesterol y las enfermedades cardíacas?  \n",
    "\n"
   ]
  },
  {
   "cell_type": "code",
   "execution_count": null,
   "id": "8fe70972-0f03-44c0-b14f-688083634063",
   "metadata": {},
   "outputs": [],
   "source": []
  },
  {
   "cell_type": "markdown",
   "id": "4448ab99-f81d-46f0-9328-ce345afeaca0",
   "metadata": {},
   "source": [
    "\n",
    "---\n",
    "\n",
    "## **Entrega y Discusión**\n",
    "- Los estudiantes discutiran en la ultima parte de la clase sus análisis e interpretación de resultados y conclusiones.  \n",
    "- Se discutirá en clase cómo mejorar los modelos y qué otras técnicas podrían aplicarse.  \n",
    "\n",
    "---"
   ]
  },
  {
   "cell_type": "code",
   "execution_count": null,
   "id": "3876a8f7-89ae-4004-bbcc-651a483ae0f4",
   "metadata": {},
   "outputs": [],
   "source": []
  }
 ],
 "metadata": {
  "kernelspec": {
   "display_name": "Python 3",
   "language": "python",
   "name": "python3"
  },
  "language_info": {
   "codemirror_mode": {
    "name": "ipython",
    "version": 3
   },
   "file_extension": ".py",
   "mimetype": "text/x-python",
   "name": "python",
   "nbconvert_exporter": "python",
   "pygments_lexer": "ipython3",
   "version": "3.10.12"
  }
 },
 "nbformat": 4,
 "nbformat_minor": 5
}
