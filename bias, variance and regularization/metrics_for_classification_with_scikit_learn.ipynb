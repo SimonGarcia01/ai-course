{
 "cells": [
  {
   "cell_type": "markdown",
   "metadata": {
    "id": "ApukvMiQF1ZY"
   },
   "source": [
    "# Resumen\n",
    "\n",
    "El módulo [sklearn.metrics](https://scikit-learn.org/stable/modules/classes.html#module-sklearn.metrics) implementa funciones que evalúan el error de predicción para clasificación, regresión y agrupamiento (clustering).\n",
    "\n",
    "Puede consultar la documentación de scikit-learn si se requiere más información sobre \"[*Métricas y puntuación: cuantificación de la calidad de las predicciones*](https://scikit-learn.org/stable/modules/model_evaluation.html)\".\n",
    "\n",
    "En este cuaderno, veremos algunas de las métricas que scikit-learn proporciona para [clasificación](https://scikit-learn.org/stable/modules/model_evaluation.html#classification-metrics) y también escribiremos nuestras propias funciones desde cero para comprender la matemática detrás de algunas de ellas."
   ]
  },
  {
   "cell_type": "markdown",
   "metadata": {
    "id": "y2Zt2qpUGBZN"
   },
   "source": [
    "# Introducción\n",
    "\n",
    "Imagina un estudio que evalúa una prueba que examina a las personas en busca de una enfermedad. Cada persona que realiza la prueba o tiene o no tiene la enfermedad. El resultado de la prueba puede ser positivo (clasificando a la persona como portadora de la enfermedad) o negativo (clasificando a la persona como no portadora de la enfermedad). Por lo tanto, podemos agrupar a las personas en estudio en uno de los cuatro grupos siguientes:\n",
    "\n",
    "- **Verdadero positivo (VP)**: Personas enfermas (actual = 1) identificadas correctamente como enfermas (predicho = 1)\n",
    "- **Falso positivo (FP)**: Personas sanas (actual = 0) identificadas incorrectamente como enfermas (predicho = 1)\n",
    "- **Verdadero negativo (VN)**: Personas sanas (actual = 0) identificadas correctamente como sanas (predicho = 0)\n",
    "- **Falso negativo (FN)**: Personas enfermas (actual = 1) identificadas incorrectamente como sanas (predicho = 0)\n",
    "\n",
    "Estos cuatro grupos se pueden representar en la siguiente figura (extraída de [aquí](https://towardsdatascience.com/understanding-data-science-classification-metrics-in-scikit-learn-in-python-3bc336865019)).\n",
    "\n",
    "\n",
    "<img src=\"https://miro.medium.com/max/407/1*2WBrkJP8qKO3DDG7Lvg0hg.png\">\n",
    "\n",
    "En la figura anterior, se pueden ver:\n",
    "- Todas las muestras que tienen la condición (por ejemplo, tener la enfermedad): Verdaderos positivos + Falsos negativos (parte derecha de la imagen)\n",
    "- Todas las muestras que no tienen la condición (por ejemplo, no tener la enfermedad): Verdaderos negativos + Falsos positivos (parte izquierda de la imagen)\n",
    "\n",
    "La figura anterior también se puede mostrar utilizando una matriz de confusión, como se muestra a continuación:\n",
    "\n",
    "<img src=\"https://raw.githubusercontent.com/albertofernandezvillan/computer-vision-and-deep-learning-course/main/assets/confusion_matrix.png\">\n",
    "\n",
    "Usando VP, FP, FN y VN, podemos calcular algunas métricas: sensibilidad (o recuperación), especificidad y precisión.\n",
    "\n",
    "**Sensibilidad** es una medida de qué tan bien una prueba puede **identificar verdaderos positivos**. La sensibilidad también puede referirse como **recuperación (recall)**, tasa de aciertos o **tasa de verdaderos positivos**. Es el porcentaje, o proporción, de verdaderos positivos de todas las muestras que tienen la condición (verdaderos positivos y falsos negativos). Se puede ver como \"*qué tan seguro estás de no perder ningún positivo*\".\n",
    "\n",
    "**Especificidad** es una medida de qué tan bien una prueba puede **identificar verdaderos negativos**. La especificidad también se refiere como selectividad o **tasa de verdaderos negativos**, y es el porcentaje, o proporción, de los verdaderos negativos de todas las muestras que no tienen la condición (verdaderos negativos y falsos positivos).\n",
    "\n",
    "**Precisión** es intuitivamente la capacidad del clasificador de no etiquetar como positiva una muestra que es negativa. La precisión también puede referirse como valores predictivos positivos (VPP). Es la proporción de resultados positivos que son verdaderos positivos. La precisión se puede ver como \"*qué tan seguro estás de tus verdaderos positivos*\".\n",
    "\n"
   ]
  },
  {
   "cell_type": "markdown",
   "metadata": {
    "id": "qMMTGJ9qPczq"
   },
   "source": [
    "# Implementación de nuestras propias funciones proporcionando las principales métricas para clasificación\n",
    "\n",
    "Podemos codificar nuestras propias funciones de evaluación utilizando solo NumPy. En primer lugar, tenemos que calcular VP, FN, FP y VN. Luego, y con base a estas métricas, podemos calcular la matriz de confusión, sensibilidad, especificidad, precisión, recuperación(recall) y puntuación F1 (F1-Score). Más adelante, veremos cómo aplicar estas funciones con fines de evaluación y también compararemos los resultados con las métricas y funciones de puntuación incluidas en el módulo [sklearn.metrics](https://scikit-learn.org/stable/modules/classes.html#module-sklearn.metrics)."
   ]
  },
  {
   "cell_type": "code",
   "execution_count": null,
   "metadata": {
    "id": "1EKYR2kM1FY_"
   },
   "outputs": [],
   "source": [
    "import numpy as np\n",
    "\n",
    "def find_TP(y_true, y_pred):\n",
    "  # counts the number of true positives (y_true = 1, y_pred = 1)\n",
    "  return sum((y_true == 1) & (y_pred == 1))\n",
    "\n",
    "def find_FN(y_true, y_pred):\n",
    "  # counts the number of false negatives (y_true = 1, y_pred = 0)\n",
    "  return sum((y_true == 1) & (y_pred == 0))\n",
    "\n",
    "def find_FP(y_true, y_pred):\n",
    "  # counts the number of false positives (y_true = 0, y_pred = 1)\n",
    "  return sum((y_true == 0) & (y_pred == 1))\n",
    "\n",
    "def find_TN(y_true, y_pred):\n",
    "  # counts the number of true negatives (y_true = 0, y_pred = 0)\n",
    "  return sum((y_true == 0) & (y_pred == 0))\n",
    "\n",
    "def find_conf_matrix_values(y_true,y_pred):\n",
    "  # calculate TP, FN, FP, TN\n",
    "  TP = find_TP(y_true,y_pred)\n",
    "  FN = find_FN(y_true,y_pred)\n",
    "  FP = find_FP(y_true,y_pred)\n",
    "  TN = find_TN(y_true,y_pred)\n",
    "  return TP,FN,FP,TN\n",
    "\n",
    "def my_confusion_matrix(y_true, y_pred):\n",
    "  TP,FN,FP,TN = find_conf_matrix_values(y_true,y_pred)\n",
    "  return np.array([[TN,FP],[FN,TP]])\n",
    "\n",
    "def my_accuracy_score(y_true, y_pred):\n",
    "  # calculates the fraction of samples predicted correctly\n",
    "  TP,FN,FP,TN = find_conf_matrix_values(y_true,y_pred)\n",
    "  return (TP + TN)/(TP + FN + FP + TN)\n",
    "\n",
    "def my_recall_score(y_true, y_pred):\n",
    "  # True positive rate (TPR), recall, sensitivity\n",
    "  # calculates the fraction of positive samples predicted correctly\n",
    "  TP,FN,FP,TN = find_conf_matrix_values(y_true,y_pred)\n",
    "  return TP / (TP + FN)\n",
    "\n",
    "def my_precision_score(y_true, y_pred):\n",
    "  # calculates the fraction of predicted positives samples that are actually positive\n",
    "  TP,FN,FP,TN = find_conf_matrix_values(y_true,y_pred)\n",
    "  return TP / (TP + FP)\n",
    "\n",
    "# tn, fp, fn, tp = confusion_matrix(y_true, y_pred).ravel()\n",
    "# specificity = tn / (tn+fp)\n",
    "def my_specificity_score(y_true, y_pred):\n",
    "  # Specificity, selectivity, true negative rate (TNR)\n",
    "  # Calculates the fraction of negatives that are correctly identified\n",
    "  TP,FN,FP,TN = find_conf_matrix_values(y_true,y_pred)\n",
    "  return TN / (TN + FP)\n",
    "\n",
    "def my_f1_score(y_true, y_pred):\n",
    "  # calculates the F1 score\n",
    "  recall = my_recall_score(y_true,y_pred)\n",
    "  precision = my_precision_score(y_true,y_pred)\n",
    "  return 2 * (precision * recall) / (precision + recall)\n",
    "\n",
    "def show_metric(my_metric):\n",
    "  return \"{:.2f}%\".format(my_metric * 100)"
   ]
  },
  {
   "cell_type": "markdown",
   "metadata": {
    "id": "v-V3oRlKtEiv"
   },
   "source": [
    "En este punto, vamos a mostrar ejemplos de muestra para introducir todas las métricas y funciones de puntuación definidas anteriormente. Estos ejemplos se extraen [de este tutorial](https://towardsdatascience.com/should-i-look-at-precision-recall-or-specificity-sensitivity-3946158aace1).\n",
    "\n",
    "<img align=\"left\"  src =\"https://raw.githubusercontent.com/albertofernandezvillan/computer-vision-and-deep-learning-course/main/assets/pencil.jpg\" width=40 px>\n",
    "\n",
    "Puede revisar y completar este cuaderno con los ejemplos faltantes incluidos en el tutorial mencionado anteriormente."
   ]
  },
  {
   "cell_type": "markdown",
   "metadata": {
    "id": "_iDt6ZwQtKfc"
   },
   "source": [
    "## Ejemplo 1 — Low Precision, High Recall, and High Specificity\n",
    "\n",
    "<img src=\"https://miro.medium.com/max/700/1*btcfBuM5Eqqc6rJ3iw3sNQ.png\" width=600>"
   ]
  },
  {
   "cell_type": "code",
   "execution_count": null,
   "metadata": {
    "colab": {
     "base_uri": "https://localhost:8080/"
    },
    "id": "vhvYgiWxscOz",
    "outputId": "f4570f6f-978b-41f3-c22e-10016dffd9d5"
   },
   "outputs": [
    {
     "name": "stdout",
     "output_type": "stream",
     "text": [
      "precision: 33.33%\n",
      "recall: 100.00%\n",
      "specificity: 77.78%\n",
      "accuracy: 80.00%\n",
      "F1 score: 50.00%\n"
     ]
    }
   ],
   "source": [
    "import numpy as np\n",
    "\n",
    "y_true = np.array([1,0,0,0,0,0,0,0,0,0])\n",
    "y_pred = np.array([1,1,1,0,0,0,0,0,0,0])\n",
    "\n",
    "print(\"precision: {}\".format(show_metric(my_precision_score(y_true, y_pred))))\n",
    "print(\"recall: {}\".format(show_metric(my_recall_score(y_true, y_pred))))\n",
    "print(\"specificity: {}\".format(show_metric(my_specificity_score(y_true, y_pred))))\n",
    "print(\"accuracy: {}\".format(show_metric(my_accuracy_score(y_true, y_pred))))\n",
    "print(\"F1 score: {}\".format(show_metric(my_f1_score(y_true, y_pred))))"
   ]
  },
  {
   "cell_type": "markdown",
   "metadata": {
    "id": "fM8sVi-QPYyf"
   },
   "source": [
    "Por supuesto, aquí tienes la interpretación de los resultados proporcionados:\n",
    "\n",
    "- **Precisión (Precision):** 33.33%. Este resultado indica que de todas las instancias clasificadas como positivas, solo el 33.33% fue clasificado correctamente.\n",
    "\n",
    "- **Recuperación (Recall):** 100.00%. Este resultado indica que de todas las instancias que eran positivas, el 100.00% fue identificado correctamente. Es decir, el clasificador no dejó pasar ningún caso positivo.\n",
    "\n",
    "- **Especificidad (Specificity):** 77.78%. Esto sugiere que de todas las instancias que eran negativas, el 77.78% fue identificado correctamente. Por lo tanto, hay un 22.22% de instancias negativas que fueron incorrectamente clasificadas como positivas.\n",
    "\n",
    "- **Exactitud (Accuracy):** 80.00%. Esto implica que el 80.00% de todas las predicciones realizadas por el modelo fueron correctas. Es una medida general de la precisión del modelo, considerando tanto las predicciones positivas como negativas.\n",
    "\n",
    "- **Puntuación F1 (F1 Score):** 50.00%. Esta es una medida del equilibrio entre precisión y recuperación. Indica que el modelo tiene un rendimiento moderado en términos de equilibrar tanto la precisión como el recall.\n",
    "\n"
   ]
  },
  {
   "cell_type": "markdown",
   "metadata": {
    "id": "DEZirZq8QQP-"
   },
   "source": [
    "La puntuación F1 es una métrica comúnmente utilizada en la evaluación de modelos de clasificación. Es una medida que combina la precisión y la recuperación del modelo en un solo número, lo que proporciona una forma de evaluar el equilibrio entre la precisión y el recall.\n",
    "\n",
    "La puntuación F1 se calcula utilizando la siguiente fórmula:\n",
    "\n",
    "F1 = 2 * (Precision * Recall) / (Precision + Recall)\n",
    "\n",
    "Donde:\n",
    "- La precisión se refiere a la proporción de verdaderos positivos entre todas las instancias clasificadas como positivas por el modelo.\n",
    "- El recall se refiere a la proporción de verdaderos positivos entre todas las instancias que realmente son positivas en el conjunto de datos.\n",
    "\n",
    "La puntuación F1 es útil cuando hay un desequilibrio entre las clases de los datos, lo que significa que puede haber muchas más instancias de una clase que de otra. Ayuda a tener una visión más completa del rendimiento del modelo al considerar tanto los falsos positivos como los falsos negativos.\n",
    "\n",
    "Al utilizar la puntuación F1, se busca un equilibrio entre la precisión y el recall, lo que significa que se penaliza a los modelos que tienen una precisión o un recall extremadamente bajos. Una puntuación F1 alta indica un equilibrio sólido entre la precisión y el recall, lo que sugiere un mejor rendimiento del modelo en general.\n",
    "\n",
    "Si tienes más preguntas o necesitas más aclaraciones, no dudes en preguntar."
   ]
  },
  {
   "cell_type": "markdown",
   "metadata": {
    "id": "mdxJBbBibhUn"
   },
   "source": [
    "Si el clasificador predice negativo, puedes confiar en él, el ejemplo es negativo. Sin embargo, presta atención, si el ejemplo es negativo, no puedes estar seguro de que lo prediga como negativo (especificidad = 78%).\n",
    "\n",
    "Si el clasificador predice positivo, no puedes confiar en él (precisión = 33%). Sin embargo, si el ejemplo es positivo, puedes confiar en el clasificador (recall = 100%)."
   ]
  },
  {
   "cell_type": "markdown",
   "metadata": {
    "id": "_RNXdoNN40lc"
   },
   "source": [
    "## Ejemplo 2 — High Precision, High Recall, and Low Specificity\n",
    "\n",
    "<img src=\"https://miro.medium.com/max/2400/1*5tE354A0ULFcQJBB0iroLQ.png\" width=600>"
   ]
  },
  {
   "cell_type": "code",
   "execution_count": null,
   "metadata": {
    "colab": {
     "base_uri": "https://localhost:8080/"
    },
    "id": "_AwFR29I5J7F",
    "outputId": "da784261-232b-4880-f601-399edaca43a7"
   },
   "outputs": [
    {
     "name": "stdout",
     "output_type": "stream",
     "text": [
      "precision: 90.00%\n",
      "recall: 100.00%\n",
      "specificity: 0.00%\n",
      "accuracy: 90.00%\n",
      "F1 score: 94.74%\n"
     ]
    }
   ],
   "source": [
    "import numpy as np\n",
    "\n",
    "y_true = np.array([0,1,1,1,1,1,1,1,1,1])\n",
    "y_pred = np.array([1,1,1,1,1,1,1,1,1,1])\n",
    "\n",
    "print(\"precision: {}\".format(show_metric(my_precision_score(y_true, y_pred))))\n",
    "print(\"recall: {}\".format(show_metric(my_recall_score(y_true, y_pred))))\n",
    "print(\"specificity: {}\".format(show_metric(my_specificity_score(y_true, y_pred))))\n",
    "print(\"accuracy: {}\".format(show_metric(my_accuracy_score(y_true, y_pred))))\n",
    "print(\"F1 score: {}\".format(show_metric(my_f1_score(y_true, y_pred))))"
   ]
  },
  {
   "cell_type": "markdown",
   "metadata": {
    "id": "iewgbF0LcXcb"
   },
   "source": [
    "- Precision (Precisión): 90.00%: Indica que el 90% de las instancias clasificadas como positivas son realmente positivas. En otras palabras, de todas las muestras clasificadas como positivas, el 90% son clasificadas correctamente.\n",
    "\n",
    "- Recall (Recuperación): 100.00%: Esto significa que el 100% de todas las instancias positivas fueron identificadas correctamente por el modelo. No hay falsos negativos, lo que indica una capacidad perfecta del modelo para identificar todas las muestras positivas.\n",
    "\n",
    "- Specificity (Especificidad): 0.00%: Esto sugiere que el modelo no identificó correctamente ninguna de las instancias negativas. No hay verdaderos negativos, lo que indica una falta completa de capacidad para identificar correctamente las muestras negativas.\n",
    "\n",
    "- Accuracy (Exactitud): 90.00%: Esto indica la proporción de predicciones correctas en relación con el total de predicciones. En otras palabras, el 90% de todas las predicciones realizadas por el modelo son correctas.\n",
    "\n",
    "- F1 score: 94.74%: El F1-Score es una medida de la precisión general del modelo, que tiene en cuenta tanto la precisión como el recall. Un F1-Score del 94.74% indica un equilibrio general sólido entre la precisión y el recall."
   ]
  },
  {
   "cell_type": "markdown",
   "metadata": {
    "id": "q6aIhQkO5oby"
   },
   "source": [
    "De lo anterior se desprende:\n",
    "- Predecir todo como positivo claramente no puede ser una buena idea. Sin embargo, debido a que la población está desequilibrada, la precisión es relativamente alta (90%).\n",
    "- El recall es del 100% porque todos los ejemplos positivos se predicen como positivos.\n",
    "- La especificidad es del 0% porque ningún ejemplo negativo se predice como negativo."
   ]
  },
  {
   "cell_type": "markdown",
   "metadata": {
    "id": "OTWhFwCh_2oy"
   },
   "source": [
    "## Ejemplo 3 — High Precision, Low Recall, and High Specificity\n",
    "\n",
    "<img src=\"https://miro.medium.com/max/700/1*595ygSPyeaRYuDXYSnfCZQ.png\" width=600>"
   ]
  },
  {
   "cell_type": "code",
   "execution_count": null,
   "metadata": {
    "colab": {
     "base_uri": "https://localhost:8080/"
    },
    "id": "djtLxxs0_-F1",
    "outputId": "d2fc43a0-0153-4f1f-cad2-208b03edca94"
   },
   "outputs": [
    {
     "name": "stdout",
     "output_type": "stream",
     "text": [
      "precision: 100.00%\n",
      "recall: 11.11%\n",
      "specificity: 100.00%\n",
      "accuracy: 20.00%\n",
      "F1 score: 20.00%\n"
     ]
    }
   ],
   "source": [
    "import numpy as np\n",
    "\n",
    "y_true = np.array([0,1,1,1,1,1,1,1,1,1])\n",
    "y_pred = np.array([0,1,0,0,0,0,0,0,0,0])\n",
    "\n",
    "print(\"precision: {}\".format(show_metric(my_precision_score(y_true, y_pred))))\n",
    "print(\"recall: {}\".format(show_metric(my_recall_score(y_true, y_pred))))\n",
    "print(\"specificity: {}\".format(show_metric(my_specificity_score(y_true, y_pred))))\n",
    "print(\"accuracy: {}\".format(show_metric(my_accuracy_score(y_true, y_pred))))\n",
    "print(\"F1 score: {}\".format(show_metric(my_f1_score(y_true, y_pred))))"
   ]
  },
  {
   "cell_type": "markdown",
   "metadata": {
    "id": "3sQia_0wdchh"
   },
   "source": [
    "- Precision (Precisión): 100.00%: Indica que el 100% de las instancias clasificadas como positivas son realmente positivas. En otras palabras, todas las muestras clasificadas como positivas son verdaderos positivos.\n",
    "\n",
    "- Recall (Recuperación): 11.11%: Esto significa que solo el 11.11% de todas las instancias positivas fueron identificadas correctamente por el modelo. Un recall bajo sugiere que el modelo está perdiendo la mayoría de las instancias positivas.\n",
    "\n",
    "- Specificity (Especificidad): 100.00%: Esto indica que el modelo identifica correctamente todas las instancias negativas. Todas las muestras negativas son verdaderos negativos.\n",
    "\n",
    "- Accuracy (Exactitud): 20.00%: Esto indica la proporción de predicciones correctas en relación con el total de predicciones. En este caso, el modelo ha hecho predicciones correctas solo para el 20% de todas las instancias.\n",
    "\n",
    "- F1 score: 20.00%: El F1-Score es una medida de la precisión general del modelo, que tiene en cuenta tanto la precisión como el recall. Un F1-Score del 20.00% indica que el modelo tiene un rendimiento muy bajo en general.\n",
    "\n",
    "Estos resultados sugieren que el modelo tiene una precisión perfecta, pero tiene un rendimiento muy pobre en la identificación de instancias positivas (recall bajo). Además, la exactitud y el F1-Score son muy bajos, lo que indica un rendimiento general insatisfactorio en la clasificación de las muestras."
   ]
  },
  {
   "cell_type": "markdown",
   "metadata": {
    "id": "A9g94VhYA0zb"
   },
   "source": [
    "De acuerdo con los rsultados:\n",
    "\n",
    "- Si predice que un ejemplo es positivo, puedes confiar en ello porque es positivo.\n",
    "- Si predice que es negativo, no puedes confiar en ello, es probable que sea positivo."
   ]
  },
  {
   "cell_type": "code",
   "execution_count": null,
   "metadata": {
    "colab": {
     "base_uri": "https://localhost:8080/"
    },
    "id": "ZPoxI8dxnzrf",
    "outputId": "6f7ba237-5dd5-4d2e-d384-7361fbb01e1e"
   },
   "outputs": [
    {
     "name": "stdout",
     "output_type": "stream",
     "text": [
      "precision: 0.00%\n",
      "recall: 0.00%\n",
      "specificity: 88.89%\n",
      "accuracy: 80.00%\n",
      "F1 score: nan%\n"
     ]
    },
    {
     "name": "stderr",
     "output_type": "stream",
     "text": [
      "<ipython-input-1-79a286ba5a95>:59: RuntimeWarning: invalid value encountered in double_scalars\n",
      "  return 2 * (precision * recall) / (precision + recall)\n"
     ]
    }
   ],
   "source": [
    "# Ejercicio 4\n",
    "\n",
    "import numpy as np\n",
    "\n",
    "y_true = np.array([0,1,0,0,0,0,0,0,0,0])\n",
    "y_pred = np.array([0,0,0,0,1,0,0,0,0,0])\n",
    "\n",
    "print(\"precision: {}\".format(show_metric(my_precision_score(y_true, y_pred))))\n",
    "print(\"recall: {}\".format(show_metric(my_recall_score(y_true, y_pred))))\n",
    "print(\"specificity: {}\".format(show_metric(my_specificity_score(y_true, y_pred))))\n",
    "print(\"accuracy: {}\".format(show_metric(my_accuracy_score(y_true, y_pred))))\n",
    "print(\"F1 score: {}\".format(show_metric(my_f1_score(y_true, y_pred))))"
   ]
  },
  {
   "cell_type": "code",
   "execution_count": null,
   "metadata": {
    "colab": {
     "base_uri": "https://localhost:8080/"
    },
    "id": "8iqT5L7EoylQ",
    "outputId": "2e63c601-cce6-4fd0-b39f-cca0aefab555"
   },
   "outputs": [
    {
     "name": "stdout",
     "output_type": "stream",
     "text": [
      "precision: 66.67%\n",
      "recall: 22.22%\n",
      "specificity: 0.00%\n",
      "accuracy: 20.00%\n",
      "F1 score: 33.33%\n"
     ]
    }
   ],
   "source": [
    "# Ejercicio 5\n",
    "\n",
    "import numpy as np\n",
    "\n",
    "y_true = np.array([0,1,1,1,1,1,1,1,1,1])\n",
    "y_pred = np.array([1,1,1,0,0,0,0,0,0,0])\n",
    "\n",
    "print(\"precision: {}\".format(show_metric(my_precision_score(y_true, y_pred))))\n",
    "print(\"recall: {}\".format(show_metric(my_recall_score(y_true, y_pred))))\n",
    "print(\"specificity: {}\".format(show_metric(my_specificity_score(y_true, y_pred))))\n",
    "print(\"accuracy: {}\".format(show_metric(my_accuracy_score(y_true, y_pred))))\n",
    "print(\"F1 score: {}\".format(show_metric(my_f1_score(y_true, y_pred))))"
   ]
  },
  {
   "cell_type": "code",
   "execution_count": null,
   "metadata": {
    "colab": {
     "base_uri": "https://localhost:8080/"
    },
    "id": "GIVXnOtXpC_Z",
    "outputId": "3a248aa5-2627-4445-ec2f-734722fd0fb7"
   },
   "outputs": [
    {
     "name": "stdout",
     "output_type": "stream",
     "text": [
      "precision: 10.00%\n",
      "recall: 100.00%\n",
      "specificity: 0.00%\n",
      "accuracy: 10.00%\n",
      "F1 score: 18.18%\n"
     ]
    }
   ],
   "source": [
    "# Ejercicio 6\n",
    "\n",
    "import numpy as np\n",
    "\n",
    "y_true = np.array([0,1,0,0,0,0,0,0,0,0])\n",
    "y_pred = np.array([1,1,1,1,1,1,1,1,1,1])\n",
    "\n",
    "print(\"precision: {}\".format(show_metric(my_precision_score(y_true, y_pred))))\n",
    "print(\"recall: {}\".format(show_metric(my_recall_score(y_true, y_pred))))\n",
    "print(\"specificity: {}\".format(show_metric(my_specificity_score(y_true, y_pred))))\n",
    "print(\"accuracy: {}\".format(show_metric(my_accuracy_score(y_true, y_pred))))\n",
    "print(\"F1 score: {}\".format(show_metric(my_f1_score(y_true, y_pred))))"
   ]
  },
  {
   "cell_type": "code",
   "execution_count": null,
   "metadata": {
    "colab": {
     "base_uri": "https://localhost:8080/"
    },
    "id": "P5B8Bpdhps9y",
    "outputId": "166b0f4e-60bd-4641-d7da-ac4251d2d40f"
   },
   "outputs": [
    {
     "name": "stdout",
     "output_type": "stream",
     "text": [
      "precision: 100.00%\n",
      "recall: 100.00%\n",
      "specificity: 100.00%\n",
      "accuracy: 100.00%\n",
      "F1 score: 100.00%\n"
     ]
    }
   ],
   "source": [
    "# Ejercicio 7\n",
    "\n",
    "import numpy as np\n",
    "\n",
    "y_true = np.array([1,0,1,1,1,1,1,1,1,1])\n",
    "y_pred = np.array([1,0,1,1,1,1,1,1,1,1])\n",
    "\n",
    "print(\"precision: {}\".format(show_metric(my_precision_score(y_true, y_pred))))\n",
    "print(\"recall: {}\".format(show_metric(my_recall_score(y_true, y_pred))))\n",
    "print(\"specificity: {}\".format(show_metric(my_specificity_score(y_true, y_pred))))\n",
    "print(\"accuracy: {}\".format(show_metric(my_accuracy_score(y_true, y_pred))))\n",
    "print(\"F1 score: {}\".format(show_metric(my_f1_score(y_true, y_pred))))"
   ]
  },
  {
   "cell_type": "code",
   "execution_count": null,
   "metadata": {
    "colab": {
     "base_uri": "https://localhost:8080/"
    },
    "id": "CLzxVH15p7g1",
    "outputId": "de9a4e50-8edd-4ffe-9319-dafbe536f0c5"
   },
   "outputs": [
    {
     "name": "stdout",
     "output_type": "stream",
     "text": [
      "precision: 0.00%\n",
      "recall: 0.00%\n",
      "specificity: 0.00%\n",
      "accuracy: 0.00%\n",
      "F1 score: nan%\n"
     ]
    },
    {
     "name": "stderr",
     "output_type": "stream",
     "text": [
      "<ipython-input-1-79a286ba5a95>:59: RuntimeWarning: invalid value encountered in double_scalars\n",
      "  return 2 * (precision * recall) / (precision + recall)\n"
     ]
    }
   ],
   "source": [
    "# Ejercicio 8\n",
    "\n",
    "import numpy as np\n",
    "\n",
    "y_true = np.array([0,1,0,0,0,0,0,0,0,0])\n",
    "y_pred = np.array([1,0,1,1,1,1,1,1,1,1])\n",
    "\n",
    "print(\"precision: {}\".format(show_metric(my_precision_score(y_true, y_pred))))\n",
    "print(\"recall: {}\".format(show_metric(my_recall_score(y_true, y_pred))))\n",
    "print(\"specificity: {}\".format(show_metric(my_specificity_score(y_true, y_pred))))\n",
    "print(\"accuracy: {}\".format(show_metric(my_accuracy_score(y_true, y_pred))))\n",
    "print(\"F1 score: {}\".format(show_metric(my_f1_score(y_true, y_pred))))"
   ]
  },
  {
   "cell_type": "markdown",
   "metadata": {
    "id": "i-2QqR3mRp__"
   },
   "source": [
    "# Métricas de clasificación de Scikit-learn\n",
    "\n",
    "En este punto, vamos a presentar algunas de las métricas principales que scikit-learn proporciona para propósitos de clasificación. En primer lugar, vamos a obtener [algunos datos](https://towardsdatascience.com/understanding-data-science-classification-metrics-in-scikit-learn-in-python-3bc336865019). Este conjunto de datos tiene las etiquetas reales (`actual_label`) y las probabilidades de predicción para dos modelos (`model_RF` y `model_LR`). Aquí, las probabilidades son la probabilidad de ser `clase 1`.\n",
    "\n",
    "Además, vamos a mostrar las primeras filas."
   ]
  },
  {
   "cell_type": "code",
   "execution_count": null,
   "metadata": {
    "colab": {
     "base_uri": "https://localhost:8080/",
     "height": 206
    },
    "id": "YdzOs0K9tfAZ",
    "outputId": "a1f10364-e745-4bb9-abeb-dc16bd24147f"
   },
   "outputs": [
    {
     "data": {
      "text/html": [
       "\n",
       "  <div id=\"df-7681c7f2-7b94-4322-86ac-a2352ee2795a\" class=\"colab-df-container\">\n",
       "    <div>\n",
       "<style scoped>\n",
       "    .dataframe tbody tr th:only-of-type {\n",
       "        vertical-align: middle;\n",
       "    }\n",
       "\n",
       "    .dataframe tbody tr th {\n",
       "        vertical-align: top;\n",
       "    }\n",
       "\n",
       "    .dataframe thead th {\n",
       "        text-align: right;\n",
       "    }\n",
       "</style>\n",
       "<table border=\"1\" class=\"dataframe\">\n",
       "  <thead>\n",
       "    <tr style=\"text-align: right;\">\n",
       "      <th></th>\n",
       "      <th>actual_label</th>\n",
       "      <th>model_RF</th>\n",
       "      <th>model_LR</th>\n",
       "    </tr>\n",
       "  </thead>\n",
       "  <tbody>\n",
       "    <tr>\n",
       "      <th>0</th>\n",
       "      <td>1</td>\n",
       "      <td>0.639816</td>\n",
       "      <td>0.531904</td>\n",
       "    </tr>\n",
       "    <tr>\n",
       "      <th>1</th>\n",
       "      <td>0</td>\n",
       "      <td>0.490993</td>\n",
       "      <td>0.414496</td>\n",
       "    </tr>\n",
       "    <tr>\n",
       "      <th>2</th>\n",
       "      <td>1</td>\n",
       "      <td>0.623815</td>\n",
       "      <td>0.569883</td>\n",
       "    </tr>\n",
       "    <tr>\n",
       "      <th>3</th>\n",
       "      <td>1</td>\n",
       "      <td>0.506616</td>\n",
       "      <td>0.443674</td>\n",
       "    </tr>\n",
       "    <tr>\n",
       "      <th>4</th>\n",
       "      <td>0</td>\n",
       "      <td>0.418302</td>\n",
       "      <td>0.369532</td>\n",
       "    </tr>\n",
       "  </tbody>\n",
       "</table>\n",
       "</div>\n",
       "    <div class=\"colab-df-buttons\">\n",
       "\n",
       "  <div class=\"colab-df-container\">\n",
       "    <button class=\"colab-df-convert\" onclick=\"convertToInteractive('df-7681c7f2-7b94-4322-86ac-a2352ee2795a')\"\n",
       "            title=\"Convert this dataframe to an interactive table.\"\n",
       "            style=\"display:none;\">\n",
       "\n",
       "  <svg xmlns=\"http://www.w3.org/2000/svg\" height=\"24px\" viewBox=\"0 -960 960 960\">\n",
       "    <path d=\"M120-120v-720h720v720H120Zm60-500h600v-160H180v160Zm220 220h160v-160H400v160Zm0 220h160v-160H400v160ZM180-400h160v-160H180v160Zm440 0h160v-160H620v160ZM180-180h160v-160H180v160Zm440 0h160v-160H620v160Z\"/>\n",
       "  </svg>\n",
       "    </button>\n",
       "\n",
       "  <style>\n",
       "    .colab-df-container {\n",
       "      display:flex;\n",
       "      gap: 12px;\n",
       "    }\n",
       "\n",
       "    .colab-df-convert {\n",
       "      background-color: #E8F0FE;\n",
       "      border: none;\n",
       "      border-radius: 50%;\n",
       "      cursor: pointer;\n",
       "      display: none;\n",
       "      fill: #1967D2;\n",
       "      height: 32px;\n",
       "      padding: 0 0 0 0;\n",
       "      width: 32px;\n",
       "    }\n",
       "\n",
       "    .colab-df-convert:hover {\n",
       "      background-color: #E2EBFA;\n",
       "      box-shadow: 0px 1px 2px rgba(60, 64, 67, 0.3), 0px 1px 3px 1px rgba(60, 64, 67, 0.15);\n",
       "      fill: #174EA6;\n",
       "    }\n",
       "\n",
       "    .colab-df-buttons div {\n",
       "      margin-bottom: 4px;\n",
       "    }\n",
       "\n",
       "    [theme=dark] .colab-df-convert {\n",
       "      background-color: #3B4455;\n",
       "      fill: #D2E3FC;\n",
       "    }\n",
       "\n",
       "    [theme=dark] .colab-df-convert:hover {\n",
       "      background-color: #434B5C;\n",
       "      box-shadow: 0px 1px 3px 1px rgba(0, 0, 0, 0.15);\n",
       "      filter: drop-shadow(0px 1px 2px rgba(0, 0, 0, 0.3));\n",
       "      fill: #FFFFFF;\n",
       "    }\n",
       "  </style>\n",
       "\n",
       "    <script>\n",
       "      const buttonEl =\n",
       "        document.querySelector('#df-7681c7f2-7b94-4322-86ac-a2352ee2795a button.colab-df-convert');\n",
       "      buttonEl.style.display =\n",
       "        google.colab.kernel.accessAllowed ? 'block' : 'none';\n",
       "\n",
       "      async function convertToInteractive(key) {\n",
       "        const element = document.querySelector('#df-7681c7f2-7b94-4322-86ac-a2352ee2795a');\n",
       "        const dataTable =\n",
       "          await google.colab.kernel.invokeFunction('convertToInteractive',\n",
       "                                                    [key], {});\n",
       "        if (!dataTable) return;\n",
       "\n",
       "        const docLinkHtml = 'Like what you see? Visit the ' +\n",
       "          '<a target=\"_blank\" href=https://colab.research.google.com/notebooks/data_table.ipynb>data table notebook</a>'\n",
       "          + ' to learn more about interactive tables.';\n",
       "        element.innerHTML = '';\n",
       "        dataTable['output_type'] = 'display_data';\n",
       "        await google.colab.output.renderOutput(dataTable, element);\n",
       "        const docLink = document.createElement('div');\n",
       "        docLink.innerHTML = docLinkHtml;\n",
       "        element.appendChild(docLink);\n",
       "      }\n",
       "    </script>\n",
       "  </div>\n",
       "\n",
       "\n",
       "<div id=\"df-a289861e-4a54-4fd6-a733-897a6f5d258f\">\n",
       "  <button class=\"colab-df-quickchart\" onclick=\"quickchart('df-a289861e-4a54-4fd6-a733-897a6f5d258f')\"\n",
       "            title=\"Suggest charts.\"\n",
       "            style=\"display:none;\">\n",
       "\n",
       "<svg xmlns=\"http://www.w3.org/2000/svg\" height=\"24px\"viewBox=\"0 0 24 24\"\n",
       "     width=\"24px\">\n",
       "    <g>\n",
       "        <path d=\"M19 3H5c-1.1 0-2 .9-2 2v14c0 1.1.9 2 2 2h14c1.1 0 2-.9 2-2V5c0-1.1-.9-2-2-2zM9 17H7v-7h2v7zm4 0h-2V7h2v10zm4 0h-2v-4h2v4z\"/>\n",
       "    </g>\n",
       "</svg>\n",
       "  </button>\n",
       "\n",
       "<style>\n",
       "  .colab-df-quickchart {\n",
       "      --bg-color: #E8F0FE;\n",
       "      --fill-color: #1967D2;\n",
       "      --hover-bg-color: #E2EBFA;\n",
       "      --hover-fill-color: #174EA6;\n",
       "      --disabled-fill-color: #AAA;\n",
       "      --disabled-bg-color: #DDD;\n",
       "  }\n",
       "\n",
       "  [theme=dark] .colab-df-quickchart {\n",
       "      --bg-color: #3B4455;\n",
       "      --fill-color: #D2E3FC;\n",
       "      --hover-bg-color: #434B5C;\n",
       "      --hover-fill-color: #FFFFFF;\n",
       "      --disabled-bg-color: #3B4455;\n",
       "      --disabled-fill-color: #666;\n",
       "  }\n",
       "\n",
       "  .colab-df-quickchart {\n",
       "    background-color: var(--bg-color);\n",
       "    border: none;\n",
       "    border-radius: 50%;\n",
       "    cursor: pointer;\n",
       "    display: none;\n",
       "    fill: var(--fill-color);\n",
       "    height: 32px;\n",
       "    padding: 0;\n",
       "    width: 32px;\n",
       "  }\n",
       "\n",
       "  .colab-df-quickchart:hover {\n",
       "    background-color: var(--hover-bg-color);\n",
       "    box-shadow: 0 1px 2px rgba(60, 64, 67, 0.3), 0 1px 3px 1px rgba(60, 64, 67, 0.15);\n",
       "    fill: var(--button-hover-fill-color);\n",
       "  }\n",
       "\n",
       "  .colab-df-quickchart-complete:disabled,\n",
       "  .colab-df-quickchart-complete:disabled:hover {\n",
       "    background-color: var(--disabled-bg-color);\n",
       "    fill: var(--disabled-fill-color);\n",
       "    box-shadow: none;\n",
       "  }\n",
       "\n",
       "  .colab-df-spinner {\n",
       "    border: 2px solid var(--fill-color);\n",
       "    border-color: transparent;\n",
       "    border-bottom-color: var(--fill-color);\n",
       "    animation:\n",
       "      spin 1s steps(1) infinite;\n",
       "  }\n",
       "\n",
       "  @keyframes spin {\n",
       "    0% {\n",
       "      border-color: transparent;\n",
       "      border-bottom-color: var(--fill-color);\n",
       "      border-left-color: var(--fill-color);\n",
       "    }\n",
       "    20% {\n",
       "      border-color: transparent;\n",
       "      border-left-color: var(--fill-color);\n",
       "      border-top-color: var(--fill-color);\n",
       "    }\n",
       "    30% {\n",
       "      border-color: transparent;\n",
       "      border-left-color: var(--fill-color);\n",
       "      border-top-color: var(--fill-color);\n",
       "      border-right-color: var(--fill-color);\n",
       "    }\n",
       "    40% {\n",
       "      border-color: transparent;\n",
       "      border-right-color: var(--fill-color);\n",
       "      border-top-color: var(--fill-color);\n",
       "    }\n",
       "    60% {\n",
       "      border-color: transparent;\n",
       "      border-right-color: var(--fill-color);\n",
       "    }\n",
       "    80% {\n",
       "      border-color: transparent;\n",
       "      border-right-color: var(--fill-color);\n",
       "      border-bottom-color: var(--fill-color);\n",
       "    }\n",
       "    90% {\n",
       "      border-color: transparent;\n",
       "      border-bottom-color: var(--fill-color);\n",
       "    }\n",
       "  }\n",
       "</style>\n",
       "\n",
       "  <script>\n",
       "    async function quickchart(key) {\n",
       "      const quickchartButtonEl =\n",
       "        document.querySelector('#' + key + ' button');\n",
       "      quickchartButtonEl.disabled = true;  // To prevent multiple clicks.\n",
       "      quickchartButtonEl.classList.add('colab-df-spinner');\n",
       "      try {\n",
       "        const charts = await google.colab.kernel.invokeFunction(\n",
       "            'suggestCharts', [key], {});\n",
       "      } catch (error) {\n",
       "        console.error('Error during call to suggestCharts:', error);\n",
       "      }\n",
       "      quickchartButtonEl.classList.remove('colab-df-spinner');\n",
       "      quickchartButtonEl.classList.add('colab-df-quickchart-complete');\n",
       "    }\n",
       "    (() => {\n",
       "      let quickchartButtonEl =\n",
       "        document.querySelector('#df-a289861e-4a54-4fd6-a733-897a6f5d258f button');\n",
       "      quickchartButtonEl.style.display =\n",
       "        google.colab.kernel.accessAllowed ? 'block' : 'none';\n",
       "    })();\n",
       "  </script>\n",
       "</div>\n",
       "    </div>\n",
       "  </div>\n"
      ],
      "text/plain": [
       "   actual_label  model_RF  model_LR\n",
       "0             1  0.639816  0.531904\n",
       "1             0  0.490993  0.414496\n",
       "2             1  0.623815  0.569883\n",
       "3             1  0.506616  0.443674\n",
       "4             0  0.418302  0.369532"
      ]
     },
     "execution_count": 8,
     "metadata": {},
     "output_type": "execute_result"
    }
   ],
   "source": [
    "import pandas as pd\n",
    "\n",
    "url = \"https://raw.githubusercontent.com/andrewwlong/classification_metrics_sklearn/master/data.csv\"\n",
    "df = pd.read_csv(url)\n",
    "df.head()"
   ]
  },
  {
   "cell_type": "markdown",
   "metadata": {
    "id": "D3WGCK0sVlWm"
   },
   "source": [
    "En la mayoría de los proyectos de ML, definirás un umbral para determinar qué probabilidades de predicción se etiquetan como positivas frente a negativas. Por ahora, asumamos que el umbral es `0.5`. Vamos a añadir dos columnas adicionales que conviertan las probabilidades en etiquetas predichas."
   ]
  },
  {
   "cell_type": "code",
   "execution_count": null,
   "metadata": {
    "colab": {
     "base_uri": "https://localhost:8080/",
     "height": 206
    },
    "id": "evR5THFQ-3vt",
    "outputId": "d546565a-6921-4e6d-bf3a-6fbf4e9e4a75"
   },
   "outputs": [
    {
     "data": {
      "text/html": [
       "\n",
       "  <div id=\"df-323250e6-9d06-4b6f-93b8-c22249b8d214\" class=\"colab-df-container\">\n",
       "    <div>\n",
       "<style scoped>\n",
       "    .dataframe tbody tr th:only-of-type {\n",
       "        vertical-align: middle;\n",
       "    }\n",
       "\n",
       "    .dataframe tbody tr th {\n",
       "        vertical-align: top;\n",
       "    }\n",
       "\n",
       "    .dataframe thead th {\n",
       "        text-align: right;\n",
       "    }\n",
       "</style>\n",
       "<table border=\"1\" class=\"dataframe\">\n",
       "  <thead>\n",
       "    <tr style=\"text-align: right;\">\n",
       "      <th></th>\n",
       "      <th>actual_label</th>\n",
       "      <th>model_RF</th>\n",
       "      <th>model_LR</th>\n",
       "      <th>predicted_RF</th>\n",
       "      <th>predicted_LR</th>\n",
       "    </tr>\n",
       "  </thead>\n",
       "  <tbody>\n",
       "    <tr>\n",
       "      <th>0</th>\n",
       "      <td>1</td>\n",
       "      <td>0.639816</td>\n",
       "      <td>0.531904</td>\n",
       "      <td>1</td>\n",
       "      <td>1</td>\n",
       "    </tr>\n",
       "    <tr>\n",
       "      <th>1</th>\n",
       "      <td>0</td>\n",
       "      <td>0.490993</td>\n",
       "      <td>0.414496</td>\n",
       "      <td>0</td>\n",
       "      <td>0</td>\n",
       "    </tr>\n",
       "    <tr>\n",
       "      <th>2</th>\n",
       "      <td>1</td>\n",
       "      <td>0.623815</td>\n",
       "      <td>0.569883</td>\n",
       "      <td>1</td>\n",
       "      <td>1</td>\n",
       "    </tr>\n",
       "    <tr>\n",
       "      <th>3</th>\n",
       "      <td>1</td>\n",
       "      <td>0.506616</td>\n",
       "      <td>0.443674</td>\n",
       "      <td>1</td>\n",
       "      <td>0</td>\n",
       "    </tr>\n",
       "    <tr>\n",
       "      <th>4</th>\n",
       "      <td>0</td>\n",
       "      <td>0.418302</td>\n",
       "      <td>0.369532</td>\n",
       "      <td>0</td>\n",
       "      <td>0</td>\n",
       "    </tr>\n",
       "  </tbody>\n",
       "</table>\n",
       "</div>\n",
       "    <div class=\"colab-df-buttons\">\n",
       "\n",
       "  <div class=\"colab-df-container\">\n",
       "    <button class=\"colab-df-convert\" onclick=\"convertToInteractive('df-323250e6-9d06-4b6f-93b8-c22249b8d214')\"\n",
       "            title=\"Convert this dataframe to an interactive table.\"\n",
       "            style=\"display:none;\">\n",
       "\n",
       "  <svg xmlns=\"http://www.w3.org/2000/svg\" height=\"24px\" viewBox=\"0 -960 960 960\">\n",
       "    <path d=\"M120-120v-720h720v720H120Zm60-500h600v-160H180v160Zm220 220h160v-160H400v160Zm0 220h160v-160H400v160ZM180-400h160v-160H180v160Zm440 0h160v-160H620v160ZM180-180h160v-160H180v160Zm440 0h160v-160H620v160Z\"/>\n",
       "  </svg>\n",
       "    </button>\n",
       "\n",
       "  <style>\n",
       "    .colab-df-container {\n",
       "      display:flex;\n",
       "      gap: 12px;\n",
       "    }\n",
       "\n",
       "    .colab-df-convert {\n",
       "      background-color: #E8F0FE;\n",
       "      border: none;\n",
       "      border-radius: 50%;\n",
       "      cursor: pointer;\n",
       "      display: none;\n",
       "      fill: #1967D2;\n",
       "      height: 32px;\n",
       "      padding: 0 0 0 0;\n",
       "      width: 32px;\n",
       "    }\n",
       "\n",
       "    .colab-df-convert:hover {\n",
       "      background-color: #E2EBFA;\n",
       "      box-shadow: 0px 1px 2px rgba(60, 64, 67, 0.3), 0px 1px 3px 1px rgba(60, 64, 67, 0.15);\n",
       "      fill: #174EA6;\n",
       "    }\n",
       "\n",
       "    .colab-df-buttons div {\n",
       "      margin-bottom: 4px;\n",
       "    }\n",
       "\n",
       "    [theme=dark] .colab-df-convert {\n",
       "      background-color: #3B4455;\n",
       "      fill: #D2E3FC;\n",
       "    }\n",
       "\n",
       "    [theme=dark] .colab-df-convert:hover {\n",
       "      background-color: #434B5C;\n",
       "      box-shadow: 0px 1px 3px 1px rgba(0, 0, 0, 0.15);\n",
       "      filter: drop-shadow(0px 1px 2px rgba(0, 0, 0, 0.3));\n",
       "      fill: #FFFFFF;\n",
       "    }\n",
       "  </style>\n",
       "\n",
       "    <script>\n",
       "      const buttonEl =\n",
       "        document.querySelector('#df-323250e6-9d06-4b6f-93b8-c22249b8d214 button.colab-df-convert');\n",
       "      buttonEl.style.display =\n",
       "        google.colab.kernel.accessAllowed ? 'block' : 'none';\n",
       "\n",
       "      async function convertToInteractive(key) {\n",
       "        const element = document.querySelector('#df-323250e6-9d06-4b6f-93b8-c22249b8d214');\n",
       "        const dataTable =\n",
       "          await google.colab.kernel.invokeFunction('convertToInteractive',\n",
       "                                                    [key], {});\n",
       "        if (!dataTable) return;\n",
       "\n",
       "        const docLinkHtml = 'Like what you see? Visit the ' +\n",
       "          '<a target=\"_blank\" href=https://colab.research.google.com/notebooks/data_table.ipynb>data table notebook</a>'\n",
       "          + ' to learn more about interactive tables.';\n",
       "        element.innerHTML = '';\n",
       "        dataTable['output_type'] = 'display_data';\n",
       "        await google.colab.output.renderOutput(dataTable, element);\n",
       "        const docLink = document.createElement('div');\n",
       "        docLink.innerHTML = docLinkHtml;\n",
       "        element.appendChild(docLink);\n",
       "      }\n",
       "    </script>\n",
       "  </div>\n",
       "\n",
       "\n",
       "<div id=\"df-28c14352-eae3-4a7f-82ab-b2bf5f7a5f00\">\n",
       "  <button class=\"colab-df-quickchart\" onclick=\"quickchart('df-28c14352-eae3-4a7f-82ab-b2bf5f7a5f00')\"\n",
       "            title=\"Suggest charts.\"\n",
       "            style=\"display:none;\">\n",
       "\n",
       "<svg xmlns=\"http://www.w3.org/2000/svg\" height=\"24px\"viewBox=\"0 0 24 24\"\n",
       "     width=\"24px\">\n",
       "    <g>\n",
       "        <path d=\"M19 3H5c-1.1 0-2 .9-2 2v14c0 1.1.9 2 2 2h14c1.1 0 2-.9 2-2V5c0-1.1-.9-2-2-2zM9 17H7v-7h2v7zm4 0h-2V7h2v10zm4 0h-2v-4h2v4z\"/>\n",
       "    </g>\n",
       "</svg>\n",
       "  </button>\n",
       "\n",
       "<style>\n",
       "  .colab-df-quickchart {\n",
       "      --bg-color: #E8F0FE;\n",
       "      --fill-color: #1967D2;\n",
       "      --hover-bg-color: #E2EBFA;\n",
       "      --hover-fill-color: #174EA6;\n",
       "      --disabled-fill-color: #AAA;\n",
       "      --disabled-bg-color: #DDD;\n",
       "  }\n",
       "\n",
       "  [theme=dark] .colab-df-quickchart {\n",
       "      --bg-color: #3B4455;\n",
       "      --fill-color: #D2E3FC;\n",
       "      --hover-bg-color: #434B5C;\n",
       "      --hover-fill-color: #FFFFFF;\n",
       "      --disabled-bg-color: #3B4455;\n",
       "      --disabled-fill-color: #666;\n",
       "  }\n",
       "\n",
       "  .colab-df-quickchart {\n",
       "    background-color: var(--bg-color);\n",
       "    border: none;\n",
       "    border-radius: 50%;\n",
       "    cursor: pointer;\n",
       "    display: none;\n",
       "    fill: var(--fill-color);\n",
       "    height: 32px;\n",
       "    padding: 0;\n",
       "    width: 32px;\n",
       "  }\n",
       "\n",
       "  .colab-df-quickchart:hover {\n",
       "    background-color: var(--hover-bg-color);\n",
       "    box-shadow: 0 1px 2px rgba(60, 64, 67, 0.3), 0 1px 3px 1px rgba(60, 64, 67, 0.15);\n",
       "    fill: var(--button-hover-fill-color);\n",
       "  }\n",
       "\n",
       "  .colab-df-quickchart-complete:disabled,\n",
       "  .colab-df-quickchart-complete:disabled:hover {\n",
       "    background-color: var(--disabled-bg-color);\n",
       "    fill: var(--disabled-fill-color);\n",
       "    box-shadow: none;\n",
       "  }\n",
       "\n",
       "  .colab-df-spinner {\n",
       "    border: 2px solid var(--fill-color);\n",
       "    border-color: transparent;\n",
       "    border-bottom-color: var(--fill-color);\n",
       "    animation:\n",
       "      spin 1s steps(1) infinite;\n",
       "  }\n",
       "\n",
       "  @keyframes spin {\n",
       "    0% {\n",
       "      border-color: transparent;\n",
       "      border-bottom-color: var(--fill-color);\n",
       "      border-left-color: var(--fill-color);\n",
       "    }\n",
       "    20% {\n",
       "      border-color: transparent;\n",
       "      border-left-color: var(--fill-color);\n",
       "      border-top-color: var(--fill-color);\n",
       "    }\n",
       "    30% {\n",
       "      border-color: transparent;\n",
       "      border-left-color: var(--fill-color);\n",
       "      border-top-color: var(--fill-color);\n",
       "      border-right-color: var(--fill-color);\n",
       "    }\n",
       "    40% {\n",
       "      border-color: transparent;\n",
       "      border-right-color: var(--fill-color);\n",
       "      border-top-color: var(--fill-color);\n",
       "    }\n",
       "    60% {\n",
       "      border-color: transparent;\n",
       "      border-right-color: var(--fill-color);\n",
       "    }\n",
       "    80% {\n",
       "      border-color: transparent;\n",
       "      border-right-color: var(--fill-color);\n",
       "      border-bottom-color: var(--fill-color);\n",
       "    }\n",
       "    90% {\n",
       "      border-color: transparent;\n",
       "      border-bottom-color: var(--fill-color);\n",
       "    }\n",
       "  }\n",
       "</style>\n",
       "\n",
       "  <script>\n",
       "    async function quickchart(key) {\n",
       "      const quickchartButtonEl =\n",
       "        document.querySelector('#' + key + ' button');\n",
       "      quickchartButtonEl.disabled = true;  // To prevent multiple clicks.\n",
       "      quickchartButtonEl.classList.add('colab-df-spinner');\n",
       "      try {\n",
       "        const charts = await google.colab.kernel.invokeFunction(\n",
       "            'suggestCharts', [key], {});\n",
       "      } catch (error) {\n",
       "        console.error('Error during call to suggestCharts:', error);\n",
       "      }\n",
       "      quickchartButtonEl.classList.remove('colab-df-spinner');\n",
       "      quickchartButtonEl.classList.add('colab-df-quickchart-complete');\n",
       "    }\n",
       "    (() => {\n",
       "      let quickchartButtonEl =\n",
       "        document.querySelector('#df-28c14352-eae3-4a7f-82ab-b2bf5f7a5f00 button');\n",
       "      quickchartButtonEl.style.display =\n",
       "        google.colab.kernel.accessAllowed ? 'block' : 'none';\n",
       "    })();\n",
       "  </script>\n",
       "</div>\n",
       "    </div>\n",
       "  </div>\n"
      ],
      "text/plain": [
       "   actual_label  model_RF  model_LR  predicted_RF  predicted_LR\n",
       "0             1  0.639816  0.531904             1             1\n",
       "1             0  0.490993  0.414496             0             0\n",
       "2             1  0.623815  0.569883             1             1\n",
       "3             1  0.506616  0.443674             1             0\n",
       "4             0  0.418302  0.369532             0             0"
      ]
     },
     "execution_count": 10,
     "metadata": {},
     "output_type": "execute_result"
    }
   ],
   "source": [
    "thresh = 0.5\n",
    "df['predicted_RF'] = (df.model_RF >= 0.5).astype('int')\n",
    "df['predicted_LR'] = (df.model_LR >= 0.5).astype('int')\n",
    "df.head()"
   ]
  },
  {
   "cell_type": "code",
   "execution_count": null,
   "metadata": {
    "colab": {
     "base_uri": "https://localhost:8080/"
    },
    "id": "ePj3_o82jjjI",
    "outputId": "d80da8df-541e-411e-e599-b3163d1b3f34"
   },
   "outputs": [
    {
     "name": "stdout",
     "output_type": "stream",
     "text": [
      "<class 'pandas.core.frame.DataFrame'>\n",
      "RangeIndex: 15758 entries, 0 to 15757\n",
      "Data columns (total 5 columns):\n",
      " #   Column        Non-Null Count  Dtype  \n",
      "---  ------        --------------  -----  \n",
      " 0   actual_label  15758 non-null  int64  \n",
      " 1   model_RF      15758 non-null  float64\n",
      " 2   model_LR      15758 non-null  float64\n",
      " 3   predicted_RF  15758 non-null  int64  \n",
      " 4   predicted_LR  15758 non-null  int64  \n",
      "dtypes: float64(2), int64(3)\n",
      "memory usage: 615.7 KB\n"
     ]
    }
   ],
   "source": [
    "df.info()"
   ]
  },
  {
   "cell_type": "markdown",
   "metadata": {
    "id": "OLZa_jyIXJDu"
   },
   "source": [
    "## Accuracy\n",
    "\n",
    "**Accuracy score**\n",
    "\n",
    "La función [accuracy_score](https://scikit-learn.org/stable/modules/generated/sklearn.metrics.accuracy_score.html#sklearn.metrics.accuracy_score) calcula la exactitud, ya sea la fracción de predicciones correctas (por defecto) o el recuento (`normalize=False`) de predicciones correctas.\n",
    "\n",
    "$\\ \\texttt{precisión}(y, \\hat{y}) = \\frac{1}{n_\\text{muestras}} \\sum_{i=0}^{n_\\text{muestras}-1} 1(\\hat{y}_i = y_i)$\n",
    "\n",
    "La precisión es la métrica de evaluación más común para problemas de clasificación. Sin embargo, solo se debe utilizar cuando:\n",
    "\n",
    "- Hay un número igual de observaciones en cada clase\n",
    "- Todas las predicciones y errores de predicción son igualmente importantes"
   ]
  },
  {
   "cell_type": "code",
   "execution_count": null,
   "metadata": {
    "colab": {
     "base_uri": "https://localhost:8080/"
    },
    "id": "_9iJ5xKyYpcV",
    "outputId": "9a09b52a-2b03-436f-c996-a42250de7bb8"
   },
   "outputs": [
    {
     "name": "stdout",
     "output_type": "stream",
     "text": [
      "0.6705165630156111\n",
      "0.6158141896179719\n"
     ]
    }
   ],
   "source": [
    "from sklearn.metrics import accuracy_score\n",
    "\n",
    "print(accuracy_score(df[\"actual_label\"], df[\"predicted_RF\"]))\n",
    "print(my_accuracy_score(df[\"actual_label\"], df[\"predicted_LR\"]))"
   ]
  },
  {
   "cell_type": "markdown",
   "metadata": {
    "id": "d1PCb8Qsp-ri"
   },
   "source": [
    "## Balanced accuracy\n",
    "\n",
    "La función [`balanced_accuracy_score()`](https://scikit-learn.org/stable/modules/generated/sklearn.metrics.balanced_accuracy_score.html) se puede utilizar en problemas de clasificación binaria y multiclase para tratar con conjuntos de datos desequilibrados. `balanced_accuracy_score()` devuelve la precisión promedio por clase. En el siguiente ejemplo, tenemos 10 muestras para 2 clases con 7 observaciones en la clase 0 y 3 observaciones en la clase 1. Por lo tanto, `accuracy_score()` nos da un valor de (7/10 = 0.7) y `balanced_accuracy_score()` devolvería (6/7 + 1/3)/2 = 0.5952.\n",
    "\n"
   ]
  },
  {
   "cell_type": "code",
   "execution_count": null,
   "metadata": {
    "colab": {
     "base_uri": "https://localhost:8080/"
    },
    "id": "CbIGDr0Tqbb9",
    "outputId": "2d45fbc1-158f-448d-cd2c-1cbd37737448"
   },
   "outputs": [
    {
     "name": "stdout",
     "output_type": "stream",
     "text": [
      "0.7\n",
      "0.5952380952380952\n"
     ]
    }
   ],
   "source": [
    "from sklearn.metrics import balanced_accuracy_score\n",
    "\n",
    "y_true = np.array([1,1,0,0,0,0,0,0,0,1])\n",
    "y_pred = np.array([0,1,0,0,0,0,0,0,1,0])\n",
    "\n",
    "print(accuracy_score(y_true, y_pred))\n",
    "print(balanced_accuracy_score(y_true, y_pred))"
   ]
  },
  {
   "cell_type": "markdown",
   "metadata": {
    "id": "C_3K2MUegN9u"
   },
   "source": [
    "Para el valor de la métrica de precisión (accuracy) de 0.7, esto indica que el modelo ha realizado correctamente el 70% de todas las predicciones. Específicamente, ha predicho correctamente el 70% de todas las muestras en el conjunto de datos.\n",
    "\n",
    "En cuanto al valor de la métrica de precisión balanceada (balanced_accuracy) de 0.5952, esto sugiere que el modelo ha logrado una precisión promedio equilibrada por clase de aproximadamente 0.5952. La precisión equilibrada tiene en cuenta el desequilibrio de clases y proporciona una medida más precisa del rendimiento del modelo en conjuntos de datos desequilibrados."
   ]
  },
  {
   "cell_type": "markdown",
   "metadata": {
    "id": "VBy2wufIXDUU"
   },
   "source": [
    "## Matriz de confusión\n",
    "\n",
    "Una matriz de confusión es una técnica para resumir el rendimiento de un algoritmo de clasificación. La precisión de clasificación por sí sola puede ser engañosa si tienes un número desigual de observaciones en cada clase o si tienes más de dos clases en tu conjunto de datos. Calcular una matriz de confusión puede darte una mejor idea de lo que tu modelo de clasificación está haciendo bien y qué tipos de errores está cometiendo."
   ]
  },
  {
   "cell_type": "code",
   "execution_count": null,
   "metadata": {
    "colab": {
     "base_uri": "https://localhost:8080/"
    },
    "id": "YeIEzS0R-9ID",
    "outputId": "23a750ef-5d6d-4794-ed29-26849501ed4f"
   },
   "outputs": [
    {
     "name": "stdout",
     "output_type": "stream",
     "text": [
      "[[5519 2360]\n",
      " [2832 5047]]\n",
      "[[5425 2454]\n",
      " [3600 4279]]\n"
     ]
    }
   ],
   "source": [
    "from sklearn.metrics import confusion_matrix\n",
    "\n",
    "# [TN,FP],[FN,TP]\n",
    "print(confusion_matrix(df['actual_label'], df['predicted_RF']))\n",
    "print(my_confusion_matrix(df['actual_label'], df['predicted_LR']))"
   ]
  },
  {
   "cell_type": "markdown",
   "metadata": {
    "id": "F91CD3oSeHu5"
   },
   "source": [
    "También podemos mostrar la matriz de confusión utilizando [`ConfusionMatrixDisplay`](https://scikit-learn.org/stable/modules/generated/sklearn.metrics.ConfusionMatrixDisplay.html), que proporciona una visualización agradable."
   ]
  },
  {
   "cell_type": "code",
   "execution_count": null,
   "metadata": {
    "colab": {
     "base_uri": "https://localhost:8080/",
     "height": 453
    },
    "id": "Tba5y_D5acwp",
    "outputId": "2a78d67c-b6b3-4278-a54a-58d2c4708e49"
   },
   "outputs": [
    {
     "data": {
      "image/png": "[encoded data removed]",
      "text/plain": [
       "<Figure size 640x480 with 2 Axes>"
      ]
     },
     "metadata": {},
     "output_type": "display_data"
    }
   ],
   "source": [
    "# https://stackoverflow.com/questions/59165149/plot-confusion-matrix-with-scikit-learn-without-a-classifier\n",
    "\n",
    "import matplotlib.pyplot as plt\n",
    "from sklearn.metrics import ConfusionMatrixDisplay\n",
    "\n",
    "cm = confusion_matrix(df['actual_label'], df['predicted_RF'])\n",
    "display_labels = [\"0\", \"1\"]\n",
    "disp = ConfusionMatrixDisplay(confusion_matrix=cm, display_labels=display_labels)\n",
    "disp = disp.plot(values_format='.0f')\n",
    "plt.show()"
   ]
  },
  {
   "cell_type": "markdown",
   "metadata": {
    "id": "q_SxETtbfzrR"
   },
   "source": [
    "La matriz de confusión también se puede normalizar. El parámetro `normalize` permite informar relaciones en lugar de recuentos. La matriz de confusión se puede normalizar de 3 formas diferentes: `'pred'`, `'true'` y `'all'`, que dividirán los recuentos por la suma de cada columna, fila o toda la matriz, respectivamente."
   ]
  },
  {
   "cell_type": "code",
   "execution_count": null,
   "metadata": {
    "colab": {
     "base_uri": "https://localhost:8080/",
     "height": 454
    },
    "id": "7kEz8RCRfmCe",
    "outputId": "ad4321c0-706e-4234-f2d3-3a345090e817"
   },
   "outputs": [
    {
     "data": {
      "image/png": "[encoded data removed]",
      "text/plain": [
       "<Figure size 640x480 with 2 Axes>"
      ]
     },
     "metadata": {},
     "output_type": "display_data"
    }
   ],
   "source": [
    "import matplotlib.pyplot as plt\n",
    "from sklearn.metrics import ConfusionMatrixDisplay\n",
    "\n",
    "cm = confusion_matrix(df['actual_label'], df['predicted_RF'], normalize='all')\n",
    "display_labels = [\"0\", \"1\"]\n",
    "disp = ConfusionMatrixDisplay(confusion_matrix=cm, display_labels=display_labels)\n",
    "disp = disp.plot(values_format='.2%')\n",
    "plt.show()"
   ]
  },
  {
   "cell_type": "markdown",
   "metadata": {
    "id": "hlYayaJVkB4Y"
   },
   "source": [
    "## Precisión\n",
    "\n",
    "La [precisión](https://scikit-learn.org/stable/modules/generated/sklearn.metrics.precision_score.html#sklearn.metrics.precision_score) es intuitivamente la capacidad del clasificador para no etiquetar como positiva una muestra que es negativa. Se puede calcular utilizando `precision_score()`:\n"
   ]
  },
  {
   "cell_type": "code",
   "execution_count": null,
   "metadata": {
    "colab": {
     "base_uri": "https://localhost:8080/"
    },
    "id": "1W3wguPakrvN",
    "outputId": "9fe29c19-1811-4d3f-f82e-dfc0278a9070"
   },
   "outputs": [
    {
     "name": "stdout",
     "output_type": "stream",
     "text": [
      "0.681382476036182\n",
      "0.681382476036182\n"
     ]
    }
   ],
   "source": [
    "from sklearn.metrics import precision_score\n",
    "\n",
    "print(precision_score(df['actual_label'], df['predicted_RF']))\n",
    "print(my_precision_score(df['actual_label'], df['predicted_RF']))"
   ]
  },
  {
   "cell_type": "markdown",
   "metadata": {
    "id": "9Aqj8RhDk0mH"
   },
   "source": [
    "## Recall\n",
    "\n",
    "El recall se refiere intuitivamente a la capacidad del clasificador para encontrar todas las muestras positivas. Se puede calcular utilizando recall_score():\n"
   ]
  },
  {
   "cell_type": "code",
   "execution_count": null,
   "metadata": {
    "colab": {
     "base_uri": "https://localhost:8080/"
    },
    "id": "Ttbd1rWOBORI",
    "outputId": "cdaca25e-9e0a-40ce-ad21-9d95bde2dbcf"
   },
   "outputs": [
    {
     "name": "stdout",
     "output_type": "stream",
     "text": [
      "0.6405635232897576\n",
      "0.6405635232897576\n"
     ]
    }
   ],
   "source": [
    "from sklearn.metrics import recall_score\n",
    "\n",
    "print(recall_score(df['actual_label'], df['predicted_RF']))\n",
    "print(my_recall_score(df['actual_label'], df['predicted_RF']))"
   ]
  },
  {
   "cell_type": "markdown",
   "metadata": {
    "id": "oVcJUoy8mxxf"
   },
   "source": [
    "## F1 Score\n",
    "\n",
    "[`f1_score()`](https://scikit-learn.org/stable/modules/generated/sklearn.metrics.f1_score.html) calcula el puntaje F1, también conocido como puntuación F equilibrada o medida F. El puntaje F1 se puede interpretar como un promedio ponderado de la precisión y el recall, donde un puntaje F1 alcanza su mejor valor en 1 y su peor puntaje en 0."
   ]
  },
  {
   "cell_type": "code",
   "execution_count": null,
   "metadata": {
    "colab": {
     "base_uri": "https://localhost:8080/"
    },
    "id": "k_hPKmY6nYRN",
    "outputId": "19fe4ec0-209d-405e-c4f9-022c8bb8a4c8"
   },
   "outputs": [
    {
     "name": "stdout",
     "output_type": "stream",
     "text": [
      "0.660342797330891\n",
      "0.660342797330891\n"
     ]
    }
   ],
   "source": [
    "from sklearn.metrics import f1_score\n",
    "\n",
    "print(f1_score(df['actual_label'], df['predicted_RF']))\n",
    "print(my_f1_score(df['actual_label'], df['predicted_RF']))"
   ]
  },
  {
   "cell_type": "markdown",
   "metadata": {
    "id": "a9_Oi3eihkds"
   },
   "source": [
    "## Informe de clasificación\n",
    "\n",
    "La función [`classification_report()`](https://scikit-learn.org/stable/modules/generated/sklearn.metrics.classification_report.html) construye un informe de texto que muestra las principales métricas de clasificación.\n",
    "\n",
    "- El recall significa \"cuántos de esta clase encuentras sobre el número total de elementos de esta clase\"\n",
    "- La precisión será \"cuántos se clasifican correctamente entre esa clase\"\n",
    "- El puntaje F1 es la media armónica entre la precisión y el recall\n",
    "- El soporte es el número de ocurrencias de la clase dada en tu conjunto de datos\n",
    "\n",
    "Aquí tienes un pequeño ejemplo con `target_names` personalizados."
   ]
  },
  {
   "cell_type": "code",
   "execution_count": null,
   "metadata": {
    "colab": {
     "base_uri": "https://localhost:8080/"
    },
    "id": "nmOicWYkhwjJ",
    "outputId": "366af970-27e6-4abb-8dd7-4e2f8e8d4b4d"
   },
   "outputs": [
    {
     "name": "stdout",
     "output_type": "stream",
     "text": [
      "              precision    recall  f1-score   support\n",
      "\n",
      "     class 0       0.66      0.70      0.68      7879\n",
      "     class 1       0.68      0.64      0.66      7879\n",
      "\n",
      "    accuracy                           0.67     15758\n",
      "   macro avg       0.67      0.67      0.67     15758\n",
      "weighted avg       0.67      0.67      0.67     15758\n",
      "\n"
     ]
    }
   ],
   "source": [
    "from sklearn.metrics import classification_report\n",
    "\n",
    "target_names = ['class 0', 'class 1']\n",
    "print(classification_report(df['actual_label'], df['predicted_RF'], target_names=target_names))"
   ]
  },
  {
   "cell_type": "markdown",
   "metadata": {
    "id": "-AhSXGYaj069"
   },
   "source": [
    "- Para \"class 0\":\n",
    "  - Precisión (precision): 0.66: Esto significa que el 66% de las muestras clasificadas como \"class 0\" son verdaderos positivos.\n",
    "  - Recall: 0.70: Esto significa que se han encontrado el 70% de todas las muestras reales de \"class 0\".\n",
    "  - Puntaje F1 (f1-score): 0.68: El puntaje F1 es una medida armónica entre la precisión y el recall, y tiene un valor de 0.68.\n",
    "  - Soporte (support): 7879: Hay un total de 7879 muestras de \"class 0\" en el conjunto de datos.\n",
    "\n",
    "- Para \"class 1\":\n",
    "  - Precisión: 0.68: Esto significa que el 68% de las muestras clasificadas como \"class 1\" son verdaderos positivos.\n",
    "  - Recall: 0.64: Esto significa que se han encontrado el 64% de todas las muestras reales de \"class 1\".\n",
    "  - Puntaje F1: 0.66: El puntaje F1 es 0.66 para \"class 1\".\n",
    "  - Soporte: 7879: Hay un total de 7879 muestras de \"class 1\" en el conjunto de datos.\n",
    "\n",
    "- Exactitud (accuracy): 0.67: Esto indica que el modelo ha realizado correctamente el 67% de todas las predicciones en el conjunto de datos.\n",
    "\n",
    "- Promedio general (macro avg): Los promedios ponderados de todas las métricas son del 67%. Esto proporciona una visión general del rendimiento del modelo.\n",
    "\n",
    "- Promedio ponderado (weighted avg): Los promedios ponderados de todas las métricas también son del 67%. Esto proporciona un promedio ponderado del rendimiento del modelo, que tiene en cuenta el desequilibrio de clases.\n",
    "\n",
    "En resumen, el modelo tiene un rendimiento relativamente similar en ambas clases, con precisiones y recalls cercanos al 0.67 y puntajes F1 en el rango de 0.66 a 0.68. La exactitud general del modelo es del 67%."
   ]
  },
  {
   "cell_type": "markdown",
   "metadata": {
    "id": "1cbLy1zb1aOU"
   },
   "source": [
    "## Curvas ROC\n",
    "\n",
    "Hasta ahora, hemos establecido un umbral de `0.5` para seleccionar qué muestras se predicen como positivas. Según este umbral, todas las métricas que hemos visto anteriormente se calculan en consecuencia. Además, este umbral se puede ajustar para ajustar el comportamiento del modelo para un problema específico.\n",
    "\n",
    "Al hacer una predicción para un problema de clasificación binaria o de dos clases, los dos tipos de errores que podríamos cometer son: error de falso positivo y error de falso negativo. Al predecir probabilidades y calibrar un umbral, se puede establecer un equilibrio entre estos dos errores.\n",
    "\n",
    "Una herramienta útil al predecir la probabilidad de un resultado binario es la curva Característica de Operación del Receptor, o curva ROC.\n",
    "\n",
    "[`roc_curve()`](https://scikit-learn.org/stable/modules/generated/sklearn.metrics.roc_curve.html) calcula la característica de operación del receptor (ROC). Esta implementación está restringida a la tarea de clasificación binaria.\n",
    "\n",
    "Es un gráfico de la **tasa de falsos positivos** (eje x) versus la **tasa de verdaderos positivos** (eje y) para una serie de valores de umbral candidatos entre 0.0 y 1.0.\n",
    "\n",
    "- La tasa de verdaderos positivos también se conoce como sensibilidad.\n",
    "- La tasa de falsos positivos también se conoce como la especificidad invertida (1 - especificidad).\n",
    "\n",
    "Un espacio ROC está definido por FPR y TPR como ejes x e y, respectivamente, que representan los compromisos relativos entre verdaderos positivos (beneficios) y falsos positivos (costos). Dado que TPR es equivalente a sensibilidad y FPR es igual a 1 - especificidad, el gráfico ROC a veces se denomina gráfico de sensibilidad vs (1 - especificidad).\n",
    "\n",
    "\n",
    "<img src=\"https://upload.wikimedia.org/wikipedia/commons/thumb/3/36/Roc-draft-xkcd-style.svg/500px-Roc-draft-xkcd-style.svg.png\">\n",
    "\n",
    "Algunas notas de la figura mostrada anteriormente:\n",
    "\n",
    "- El método de predicción más adecuado daría un punto en la esquina superior izquierda o coordenada (0,1) del espacio ROC, que representa una sensibilidad del 100% (sin falsos negativos) y una especificidad del 100% (sin falsos positivos).\n",
    "\n",
    "- Una suposición aleatoria daría un punto a lo largo de una línea diagonal (la llamada línea de no discriminación) desde las esquinas inferiores izquierda hasta las superiores derecha (independientemente de las tasas de base positivas y negativas).\n",
    "\n",
    "- La diagonal divide el espacio ROC.\n",
    " - Los puntos por encima de la diagonal representan buenos resultados de clasificación (mejores que aleatorios).\n",
    " - Los puntos por debajo de la línea representan malos resultados (peores que aleatorios). Se debe tener en cuenta que la salida de un predictor consistentemente malo simplemente se podría invertir para obtener un buen predictor.\n",
    "\n",
    "Además, el cálculo del área bajo la curva ROC (ROC AUC) se puede calcular utilizando la función [`roc_auc_score()`](https://scikit-learn.org/stable/modules/generated/sklearn.metrics.roc_auc_score.html).\n"
   ]
  },
  {
   "cell_type": "code",
   "execution_count": null,
   "metadata": {
    "colab": {
     "base_uri": "https://localhost:8080/"
    },
    "id": "UkLmZcyI5I7s",
    "outputId": "0ceaa163-5c44-474c-a7ab-8a6ba0b5bf59"
   },
   "outputs": [
    {
     "name": "stdout",
     "output_type": "stream",
     "text": [
      "0.73829514083596\n",
      "[0.        0.        0.        ... 0.9941617 0.9941617 1.       ] [0.00000000e+00 1.26919660e-04 5.33062571e-03 ... 9.99873080e-01\n",
      " 1.00000000e+00 1.00000000e+00] [1.93052053 0.93052053 0.82363091 ... 0.25654616 0.25587275 0.17142947]\n"
     ]
    }
   ],
   "source": [
    "from sklearn.metrics import roc_curve\n",
    "from sklearn.metrics import roc_auc_score\n",
    "\n",
    "fpr, tpr, thresholds = roc_curve(df[\"actual_label\"], df[\"model_RF\"])\n",
    "print(roc_auc_score(df[\"actual_label\"], df[\"model_RF\"]))\n",
    "print(fpr, tpr, thresholds)"
   ]
  },
  {
   "cell_type": "code",
   "execution_count": null,
   "metadata": {
    "colab": {
     "base_uri": "https://localhost:8080/",
     "height": 449
    },
    "id": "ZzCKaw1N6eEY",
    "outputId": "ea4bf104-ed23-448c-a293-b26f1197b4a8"
   },
   "outputs": [
    {
     "data": {
      "image/png": "[encoded data removed]",
      "text/plain": [
       "<Figure size 640x480 with 1 Axes>"
      ]
     },
     "metadata": {},
     "output_type": "display_data"
    }
   ],
   "source": [
    "import matplotlib.pyplot as plt\n",
    "\n",
    "plt.plot(fpr, tpr,'r-',label = 'RF')\n",
    "plt.legend()\n",
    "plt.xlabel('False Positive Rate')\n",
    "plt.ylabel('True Positive Rate')\n",
    "plt.show()"
   ]
  },
  {
   "cell_type": "code",
   "execution_count": null,
   "metadata": {
    "colab": {
     "base_uri": "https://localhost:8080/"
    },
    "id": "BRiqBli5m6PD",
    "outputId": "1f434a04-6c30-4350-e641-eab5c8a09780"
   },
   "outputs": [
    {
     "name": "stdout",
     "output_type": "stream",
     "text": [
      "Requirement already satisfied: scikit-learn in /usr/local/lib/python3.10/dist-packages (1.3.1)\n",
      "Requirement already satisfied: numpy<2.0,>=1.17.3 in /usr/local/lib/python3.10/dist-packages (from scikit-learn) (1.23.5)\n",
      "Requirement already satisfied: scipy>=1.5.0 in /usr/local/lib/python3.10/dist-packages (from scikit-learn) (1.11.3)\n",
      "Requirement already satisfied: joblib>=1.1.1 in /usr/local/lib/python3.10/dist-packages (from scikit-learn) (1.3.2)\n",
      "Requirement already satisfied: threadpoolctl>=2.0.0 in /usr/local/lib/python3.10/dist-packages (from scikit-learn) (3.2.0)\n"
     ]
    }
   ],
   "source": [
    "!pip install -U scikit-learn"
   ]
  },
  {
   "cell_type": "code",
   "execution_count": null,
   "metadata": {
    "colab": {
     "base_uri": "https://localhost:8080/",
     "height": 449
    },
    "id": "m_-WVWGrmjmL",
    "outputId": "79167cb9-a97a-46fe-ffac-4ad33c2323ea"
   },
   "outputs": [
    {
     "data": {
      "image/png": "[encoded data removed]",
      "text/plain": [
       "<Figure size 640x480 with 1 Axes>"
      ]
     },
     "metadata": {},
     "output_type": "display_data"
    }
   ],
   "source": [
    "from sklearn.datasets import make_classification\n",
    "from sklearn.model_selection import train_test_split\n",
    "from sklearn.linear_model import LogisticRegression\n",
    "from sklearn.metrics import RocCurveDisplay, roc_curve\n",
    "import matplotlib.pyplot as plt\n",
    "\n",
    "# Generar datos simulados\n",
    "X, y = make_classification(n_samples=1000, n_features=20, random_state=42)\n",
    "\n",
    "# Dividir los datos en conjuntos de entrenamiento y prueba\n",
    "X_train, X_test, y_train, y_test = train_test_split(X, y, test_size=0.2, random_state=42)\n",
    "\n",
    "# Inicializar el clasificador y ajustarlo\n",
    "classifier = LogisticRegression()\n",
    "classifier.fit(X_train, y_train)\n",
    "\n",
    "# Calcular la curva ROC\n",
    "probs = classifier.predict_proba(X_test)\n",
    "probs = probs[:, 1]  # Probabilidades de la clase positiva\n",
    "fpr, tpr, thresholds = roc_curve(y_test, probs)\n",
    "\n",
    "# Crear el objeto de la curva ROC\n",
    "roc_display = RocCurveDisplay(fpr=fpr, tpr=tpr).plot()\n",
    "plt.show()\n",
    "\n"
   ]
  },
  {
   "cell_type": "code",
   "execution_count": null,
   "metadata": {
    "colab": {
     "base_uri": "https://localhost:8080/",
     "height": 449
    },
    "id": "sMh1qG1ynp3q",
    "outputId": "77e31f8a-ce18-48fd-9d60-3ebc5e333fdf"
   },
   "outputs": [
    {
     "data": {
      "image/png": "[encoded data removed]",
      "text/plain": [
       "<Figure size 640x480 with 1 Axes>"
      ]
     },
     "metadata": {},
     "output_type": "display_data"
    }
   ],
   "source": [
    "from sklearn.datasets import make_classification\n",
    "from sklearn.model_selection import train_test_split\n",
    "from sklearn.linear_model import LogisticRegression\n",
    "from sklearn.metrics import RocCurveDisplay, roc_curve\n",
    "import matplotlib.pyplot as plt\n",
    "\n",
    "# Generar datos simulados\n",
    "X, y = make_classification(n_samples=1000, n_features=20, random_state=42)\n",
    "\n",
    "# Dividir los datos en conjuntos de entrenamiento y prueba\n",
    "X_train, X_test, y_train, y_test = train_test_split(X, y, test_size=0.2, random_state=42)\n",
    "\n",
    "# Inicializar el clasificador y ajustarlo\n",
    "classifier = LogisticRegression()\n",
    "classifier.fit(X_train, y_train)\n",
    "\n",
    "# Calcular la curva ROC\n",
    "probs = classifier.predict_proba(X_test)\n",
    "probs = probs[:, 1]  # Probabilidades de la clase positiva\n",
    "fpr, tpr, thresholds = roc_curve(y_test, probs)\n",
    "\n",
    "# Crear el objeto de la curva ROC\n",
    "roc_display = RocCurveDisplay(fpr=fpr, tpr=tpr).plot()\n",
    "\n",
    "# Agregar la línea del clasificador aleatorio\n",
    "plt.plot([0, 1], [0, 1], linestyle='--', lw=2, color='r', label='Clasificador aleatorio')\n",
    "\n",
    "# Mostrar la leyenda y el gráfico\n",
    "plt.legend(loc='lower right')\n",
    "plt.show()\n"
   ]
  },
  {
   "cell_type": "code",
   "execution_count": null,
   "metadata": {
    "id": "5FfES3zmmjxu"
   },
   "outputs": [],
   "source": []
  },
  {
   "cell_type": "markdown",
   "metadata": {
    "id": "VRBfACBjCwlh"
   },
   "source": [
    "Un umbral alto resulta en un punto en la parte inferior izquierda. Un umbral bajo resulta en un punto en la parte superior derecha. Esto significa que al disminuir el umbral obtienes una TPR más alta a costa de un FPR más alto."
   ]
  },
  {
   "cell_type": "markdown",
   "metadata": {
    "id": "2T6xwUbyFC8_"
   },
   "source": [
    "## Precision-Recall Curves\n",
    "\n",
    "La precisión y la recuperación se pueden calcular para umbrales utilizando la función [precision_recall_curve()](https://scikit-learn.org/stable/modules/generated/sklearn.metrics.precision_recall_curve.html), que toma como entrada los valores de salida verdaderos y las probabilidades para la clase positiva, y devuelve los valores de precisión, recuperación y umbral."
   ]
  },
  {
   "cell_type": "code",
   "execution_count": null,
   "metadata": {
    "id": "U09bUQGEFI_M"
   },
   "outputs": [],
   "source": [
    "from sklearn.metrics import precision_recall_curve\n",
    "\n",
    "precision, recall, thresholds = precision_recall_curve(df[\"actual_label\"], df[\"model_RF\"])"
   ]
  },
  {
   "cell_type": "code",
   "execution_count": null,
   "metadata": {
    "colab": {
     "base_uri": "https://localhost:8080/",
     "height": 449
    },
    "id": "ziCUW0f6Fdlm",
    "outputId": "c2b8db4f-94ab-427a-d67a-ce61c4bc3ac6"
   },
   "outputs": [
    {
     "data": {
      "image/png": "[encoded data removed]",
      "text/plain": [
       "<Figure size 640x480 with 1 Axes>"
      ]
     },
     "metadata": {},
     "output_type": "display_data"
    }
   ],
   "source": [
    "import matplotlib.pyplot as plt\n",
    "\n",
    "plt.plot(recall, precision, 'r-',label = 'RF')\n",
    "plt.xlabel('Recall')\n",
    "plt.ylabel('Precision')\n",
    "plt.legend()\n",
    "plt.show()"
   ]
  },
  {
   "cell_type": "markdown",
   "metadata": {
    "id": "Zo1FKAyrL2ac"
   },
   "source": [
    "La curva de precisión-recuperación (PRC) muestra el compromiso entre la precisión y la recuperación para diferentes umbrales. Un área grande bajo la curva representa tanto una alta recuperación como una alta precisión, donde una alta precisión se relaciona con una baja tasa de falsos positivos y una alta recuperación se relaciona con una baja tasa de falsos negativos.\n",
    "\n",
    "Generalmente, el uso de las curvas ROC y las curvas de precisión-recuperación es el siguiente:\n",
    "\n",
    "- Las curvas ROC deben usarse cuando hay aproximadamente el mismo número de observaciones para cada clase.\n",
    "- Las curvas de precisión-recuperación deben usarse cuando hay un desequilibrio moderado a grande de clases.\n",
    "\n",
    "La razón de esta recomendación es que las curvas ROC presentan una imagen optimista del modelo en conjuntos de datos con un desequilibrio de clases."
   ]
  },
  {
   "cell_type": "markdown",
   "metadata": {
    "id": "EuRR0BndMjmA"
   },
   "source": [
    "# Comparación con clasificadores Ingenuos\n",
    "\n",
    "[DummyClassifier](https://scikit-learn.org/stable/modules/generated/sklearn.dummy.DummyClassifier.html) es un clasificador que hace predicciones utilizando reglas simples. Este clasificador es útil como referencia básica para comparar con otros clasificadores (reales). No lo utilices para problemas reales.\n"
   ]
  },
  {
   "cell_type": "code",
   "execution_count": null,
   "metadata": {
    "colab": {
     "base_uri": "https://localhost:8080/"
    },
    "id": "lHJA8sQbqhPO",
    "outputId": "981ecf59-340a-499d-f7f5-bc74b3cb3c2b"
   },
   "outputs": [
    {
     "name": "stdout",
     "output_type": "stream",
     "text": [
      "Requirement already satisfied: scikit-learn in /usr/local/lib/python3.10/dist-packages (1.3.1)\n",
      "Requirement already satisfied: numpy<2.0,>=1.17.3 in /usr/local/lib/python3.10/dist-packages (from scikit-learn) (1.23.5)\n",
      "Requirement already satisfied: scipy>=1.5.0 in /usr/local/lib/python3.10/dist-packages (from scikit-learn) (1.11.3)\n",
      "Requirement already satisfied: joblib>=1.1.1 in /usr/local/lib/python3.10/dist-packages (from scikit-learn) (1.3.2)\n",
      "Requirement already satisfied: threadpoolctl>=2.0.0 in /usr/local/lib/python3.10/dist-packages (from scikit-learn) (3.2.0)\n"
     ]
    }
   ],
   "source": [
    "pip install --upgrade scikit-learn"
   ]
  },
  {
   "cell_type": "code",
   "execution_count": null,
   "metadata": {
    "id": "ZiM6njMdqeZB"
   },
   "outputs": [],
   "source": [
    "import numpy as np\n",
    "from sklearn.dummy import DummyClassifier"
   ]
  },
  {
   "cell_type": "code",
   "execution_count": null,
   "metadata": {
    "colab": {
     "base_uri": "https://localhost:8080/",
     "height": 74
    },
    "id": "8aHZ3iv7NrW6",
    "outputId": "2e662d33-3eaf-41eb-9223-f10a8db05199"
   },
   "outputs": [
    {
     "data": {
      "text/html": [
       "<style>#sk-container-id-1 {color: black;background-color: white;}#sk-container-id-1 pre{padding: 0;}#sk-container-id-1 div.sk-toggleable {background-color: white;}#sk-container-id-1 label.sk-toggleable__label {cursor: pointer;display: block;width: 100%;margin-bottom: 0;padding: 0.3em;box-sizing: border-box;text-align: center;}#sk-container-id-1 label.sk-toggleable__label-arrow:before {content: \"▸\";float: left;margin-right: 0.25em;color: #696969;}#sk-container-id-1 label.sk-toggleable__label-arrow:hover:before {color: black;}#sk-container-id-1 div.sk-estimator:hover label.sk-toggleable__label-arrow:before {color: black;}#sk-container-id-1 div.sk-toggleable__content {max-height: 0;max-width: 0;overflow: hidden;text-align: left;background-color: #f0f8ff;}#sk-container-id-1 div.sk-toggleable__content pre {margin: 0.2em;color: black;border-radius: 0.25em;background-color: #f0f8ff;}#sk-container-id-1 input.sk-toggleable__control:checked~div.sk-toggleable__content {max-height: 200px;max-width: 100%;overflow: auto;}#sk-container-id-1 input.sk-toggleable__control:checked~label.sk-toggleable__label-arrow:before {content: \"▾\";}#sk-container-id-1 div.sk-estimator input.sk-toggleable__control:checked~label.sk-toggleable__label {background-color: #d4ebff;}#sk-container-id-1 div.sk-label input.sk-toggleable__control:checked~label.sk-toggleable__label {background-color: #d4ebff;}#sk-container-id-1 input.sk-hidden--visually {border: 0;clip: rect(1px 1px 1px 1px);clip: rect(1px, 1px, 1px, 1px);height: 1px;margin: -1px;overflow: hidden;padding: 0;position: absolute;width: 1px;}#sk-container-id-1 div.sk-estimator {font-family: monospace;background-color: #f0f8ff;border: 1px dotted black;border-radius: 0.25em;box-sizing: border-box;margin-bottom: 0.5em;}#sk-container-id-1 div.sk-estimator:hover {background-color: #d4ebff;}#sk-container-id-1 div.sk-parallel-item::after {content: \"\";width: 100%;border-bottom: 1px solid gray;flex-grow: 1;}#sk-container-id-1 div.sk-label:hover label.sk-toggleable__label {background-color: #d4ebff;}#sk-container-id-1 div.sk-serial::before {content: \"\";position: absolute;border-left: 1px solid gray;box-sizing: border-box;top: 0;bottom: 0;left: 50%;z-index: 0;}#sk-container-id-1 div.sk-serial {display: flex;flex-direction: column;align-items: center;background-color: white;padding-right: 0.2em;padding-left: 0.2em;position: relative;}#sk-container-id-1 div.sk-item {position: relative;z-index: 1;}#sk-container-id-1 div.sk-parallel {display: flex;align-items: stretch;justify-content: center;background-color: white;position: relative;}#sk-container-id-1 div.sk-item::before, #sk-container-id-1 div.sk-parallel-item::before {content: \"\";position: absolute;border-left: 1px solid gray;box-sizing: border-box;top: 0;bottom: 0;left: 50%;z-index: -1;}#sk-container-id-1 div.sk-parallel-item {display: flex;flex-direction: column;z-index: 1;position: relative;background-color: white;}#sk-container-id-1 div.sk-parallel-item:first-child::after {align-self: flex-end;width: 50%;}#sk-container-id-1 div.sk-parallel-item:last-child::after {align-self: flex-start;width: 50%;}#sk-container-id-1 div.sk-parallel-item:only-child::after {width: 0;}#sk-container-id-1 div.sk-dashed-wrapped {border: 1px dashed gray;margin: 0 0.4em 0.5em 0.4em;box-sizing: border-box;padding-bottom: 0.4em;background-color: white;}#sk-container-id-1 div.sk-label label {font-family: monospace;font-weight: bold;display: inline-block;line-height: 1.2em;}#sk-container-id-1 div.sk-label-container {text-align: center;}#sk-container-id-1 div.sk-container {/* jupyter's `normalize.less` sets `[hidden] { display: none; }` but bootstrap.min.css set `[hidden] { display: none !important; }` so we also need the `!important` here to be able to override the default hidden behavior on the sphinx rendered scikit-learn.org. See: https://github.com/scikit-learn/scikit-learn/issues/21755 */display: inline-block !important;position: relative;}#sk-container-id-1 div.sk-text-repr-fallback {display: none;}</style><div id=\"sk-container-id-1\" class=\"sk-top-container\"><div class=\"sk-text-repr-fallback\"><pre>DummyClassifier(random_state=42)</pre><b>In a Jupyter environment, please rerun this cell to show the HTML representation or trust the notebook. <br />On GitHub, the HTML representation is unable to render, please try loading this page with nbviewer.org.</b></div><div class=\"sk-container\" hidden><div class=\"sk-item\"><div class=\"sk-estimator sk-toggleable\"><input class=\"sk-toggleable__control sk-hidden--visually\" id=\"sk-estimator-id-1\" type=\"checkbox\" checked><label for=\"sk-estimator-id-1\" class=\"sk-toggleable__label sk-toggleable__label-arrow\">DummyClassifier</label><div class=\"sk-toggleable__content\"><pre>DummyClassifier(random_state=42)</pre></div></div></div></div></div>"
      ],
      "text/plain": [
       "DummyClassifier(random_state=42)"
      ]
     },
     "execution_count": 31,
     "metadata": {},
     "output_type": "execute_result"
    }
   ],
   "source": [
    "import numpy as np\n",
    "from sklearn.dummy import DummyClassifier\n",
    "\n",
    "dummy_clf = DummyClassifier(random_state=42)\n",
    "\n",
    "X = np.zeros((df.shape[0], 1))  # Corrección en la dimensión de la matriz de características\n",
    "dummy_clf.fit(X, df[\"actual_label\"])  # Asumiendo que \"df\" es el nombre de tu DataFrame\n",
    "\n"
   ]
  },
  {
   "cell_type": "code",
   "execution_count": null,
   "metadata": {
    "id": "FGCFe6AZPS4D"
   },
   "outputs": [],
   "source": [
    "from sklearn.metrics import roc_curve\n",
    "from sklearn.metrics import roc_auc_score\n",
    "\n",
    "fpr_dummy, tpr_dummy, thresholds_dummy = roc_curve(df[\"actual_label\"], dummy_clf.predict(X))"
   ]
  },
  {
   "cell_type": "code",
   "execution_count": null,
   "metadata": {
    "colab": {
     "base_uri": "https://localhost:8080/",
     "height": 449
    },
    "id": "XYqx-kccPwc2",
    "outputId": "4a4f1ea8-816e-4a82-c473-687a10e9d433"
   },
   "outputs": [
    {
     "data": {
      "image/png": "[encoded data removed]",
      "text/plain": [
       "<Figure size 640x480 with 1 Axes>"
      ]
     },
     "metadata": {},
     "output_type": "display_data"
    }
   ],
   "source": [
    "import matplotlib.pyplot as plt\n",
    "\n",
    "plt.plot(fpr_dummy, tpr_dummy,'r-',label = 'dummy')\n",
    "plt.legend()\n",
    "plt.xlabel('False Positive Rate')\n",
    "plt.ylabel('True Positive Rate')\n",
    "plt.show()"
   ]
  },
  {
   "cell_type": "markdown",
   "metadata": {
    "id": "LpS6Cnrkn03l"
   },
   "source": [
    "# Conclusiones\n",
    "\n",
    "En este cuaderno, hemos visto algunas de las métricas que proporciona scikit-learn para la clasificación y también hemos escrito nuestras propias funciones desde cero. Más específicamente, hemos visto cómo calcular: precisión, exactitud equilibrada, matriz de confusión, precisión, recuperación, puntuación F1, y también algunas funcionalidades interesantes como el informe de clasificación, curvas ROC, curvas de precisión-recuperación y clasificadores ficticios.\n",
    "\n",
    "Finalmente, siéntete libre de revisar estos interesantes tutoriales, de los cuales gran parte del contenido de este cuaderno se basa en ellos:\n",
    "\n",
    "- [Métricas de rendimiento de ciencia de datos para todos](https://towardsdatascience.com/data-science-performance-metrics-for-everyone-4d68f4859eef)\n",
    "- [Comprensión de las métricas de clasificación de ciencia de datos en Scikit-Learn en Python](https://towardsdatascience.com/understanding-data-science-classification-metrics-in-scikit-learn-in-python-3bc336865019)\n",
    "- [Cómo utilizar curvas ROC y curvas de precisión-recuperación para la clasificación en Python](https://machinelearningmastery.com/roc-curves-and-precision-recall-curves-for-classification-in-python/)\n"
   ]
  },
  {
   "cell_type": "markdown",
   "metadata": {
    "id": "H3TfP14z8f6e"
   },
   "source": [
    "# **Ejemplo Paso a Paso ROC**"
   ]
  },
  {
   "cell_type": "markdown",
   "metadata": {
    "id": "8GUbVZn48Xdw"
   },
   "source": [
    "## **¿Cómo se calcula una curva ROC?**\n",
    "\n",
    "Supongamos que tenemos un modelo de clasificación binaria que predice si un correo electrónico es spam (1) o no (0). A continuación se presenta una tabla con las verdaderas etiquetas y las probabilidades de predicción para cinco correos electrónicos de prueba:\n",
    "\n",
    "```\n",
    "| Correo | Etiqueta Real | Probabilidad de Predicción |\n",
    "|--------|--------------|---------------------------|\n",
    "|   1    |      0       |            0.2            |\n",
    "|   2    |      1       |            0.4            |\n",
    "|   3    |      1       |            0.6            |\n",
    "|   4    |      0       |            0.7            |\n",
    "|   5    |      1       |            0.9            |\n",
    "```\n",
    "\n",
    "Para calcular la curva ROC, primero ordenamos las predicciones de manera descendente según las probabilidades de predicción:\n",
    "\n",
    "```\n",
    "| Correo | Etiqueta Real | Probabilidad de Predicción |\n",
    "|--------|--------------|---------------------------|\n",
    "|   5    |      1       |            0.9            |\n",
    "|   4    |      0       |            0.7            |\n",
    "|   3    |      1       |            0.6            |\n",
    "|   2    |      1       |            0.4            |\n",
    "|   1    |      0       |            0.2            |\n",
    "```\n",
    "\n",
    "Luego, se calcula la tasa de verdaderos positivos (TPR) y la tasa de falsos positivos (FPR) para cada umbral:\n",
    "\n",
    "- Con umbral 0.9: TPR = 1/2 = 0.5 y FPR = 0/3 = 0.\n",
    "- Con umbral 0.7: TPR = 2/2 = 1 y FPR = 1/3 = 0.33.\n",
    "- Con umbral 0.6: TPR = 3/2 = 1.5 y FPR = 1/3 = 0.33.\n",
    "- Con umbral 0.4: TPR = 4/2 = 2 y FPR = 1/3 = 0.33.\n",
    "- Con umbral 0.2: TPR = 4/2 = 2 y FPR = 2/3 = 0.66.\n",
    "\n",
    "Estos valores se utilizan para trazar la curva ROC en un gráfico con TPR en el eje y y FPR en el eje x. La curva ROC mostrará la relación entre la tasa de verdaderos positivos y la tasa de falsos positivos a medida que se varía el umbral de clasificación."
   ]
  }
 ],
 "metadata": {
  "colab": {
   "provenance": []
  },
  "kernelspec": {
   "display_name": "Python 3 (ipykernel)",
   "language": "python",
   "name": "python3"
  },
  "language_info": {
   "codemirror_mode": {
    "name": "ipython",
    "version": 3
   },
   "file_extension": ".py",
   "mimetype": "text/x-python",
   "name": "python",
   "nbconvert_exporter": "python",
   "pygments_lexer": "ipython3",
   "version": "3.10.14"
  }
 },
 "nbformat": 4,
 "nbformat_minor": 4
}
