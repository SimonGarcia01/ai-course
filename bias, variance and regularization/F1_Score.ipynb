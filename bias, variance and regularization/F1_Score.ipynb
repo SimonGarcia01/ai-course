{
 "cells": [
  {
   "cell_type": "markdown",
   "metadata": {
    "id": "kKBTk1AGJetO"
   },
   "source": [
    "# **F1 - Score**\n",
    "\n",
    "\n",
    "El **F1-score** es una métrica de evaluación utilizada en problemas de clasificación para medir el equilibrio entre la **precisión** y la **recuperación** (recall). Es especialmente útil cuando hay clases desbalanceadas, es decir, cuando una clase tiene muchos más ejemplos que la otra.\n",
    "\n",
    "### Fórmulas clave:\n",
    "\n",
    "1. **Precisión (Precision)**: ¿Cuántos de los que predije como positivos realmente lo son?  \n",
    "   $\n",
    "   Precision = \\frac{TP}{TP + FP}\n",
    "   $\n",
    "   - TP (True Positives): Verdaderos positivos  \n",
    "   - FP (False Positives): Falsos positivos  \n",
    "\n",
    "2. **Recall (Sensibilidad o Recuperación)**: ¿Cuántos de los positivos reales fueron detectados?  \n",
    "   $\n",
    "   Recall = \\frac{TP}{TP + FN}\n",
    "   $\n",
    "   - FN (False Negatives): Falsos negativos  \n",
    "\n",
    "3. **F1-score**: Es la **media armónica** entre precisión y recall:  \n",
    "   $\n",
    "   F1 = 2 \\times \\frac{Precision \\times Recall}{Precision + Recall}\n",
    "   $\n",
    "   Se usa la media armónica porque penaliza más las diferencias grandes entre precisión y recall. Un F1-score alto solo se logra si ambos valores son altos.\n",
    "\n",
    "### Interpretación:\n",
    "- **F1 = 1**: Clasificación perfecta (precisión y recall son ambos 1).\n",
    "- **F1 = 0**: Clasificación completamente errónea.\n",
    "- **Valores intermedios**: Cuanto más alto el F1-score, mejor el rendimiento del modelo.\n",
    "\n",
    "----\n",
    "\n",
    "Ahora veamos un ejemplo en el que entenderemos el valor agregado del F1 Score. Utilizaremos un conjunto de datos de ejemplo que contiene información sobre varios visitantes de un sitio web.\n",
    "\n",
    "El objetivo del ejercicio será construir un modelo de clasificación sencillo que utilice cuatro variables independientes para predecir si el visitante comprará algo. Veremos cómo utilizar diferentes métricas y cómo diferentes métricas nos darán diferentes conclusiones.\n"
   ]
  },
  {
   "cell_type": "code",
   "execution_count": 1,
   "metadata": {
    "colab": {
     "base_uri": "https://localhost:8080/",
     "height": 206
    },
    "id": "Prx1B-KYDL_x",
    "outputId": "1d570671-1567-4a86-ec5b-912f76cdd1ab"
   },
   "outputs": [
    {
     "data": {
      "text/html": [
       "<div>\n",
       "<style scoped>\n",
       "    .dataframe tbody tr th:only-of-type {\n",
       "        vertical-align: middle;\n",
       "    }\n",
       "\n",
       "    .dataframe tbody tr th {\n",
       "        vertical-align: top;\n",
       "    }\n",
       "\n",
       "    .dataframe thead th {\n",
       "        text-align: right;\n",
       "    }\n",
       "</style>\n",
       "<table border=\"1\" class=\"dataframe\">\n",
       "  <thead>\n",
       "    <tr style=\"text-align: right;\">\n",
       "      <th></th>\n",
       "      <th>time_on_page</th>\n",
       "      <th>pages_viewed</th>\n",
       "      <th>interest_ski</th>\n",
       "      <th>interest_climb</th>\n",
       "      <th>buy</th>\n",
       "    </tr>\n",
       "  </thead>\n",
       "  <tbody>\n",
       "    <tr>\n",
       "      <th>0</th>\n",
       "      <td>282.0</td>\n",
       "      <td>3.0</td>\n",
       "      <td>0</td>\n",
       "      <td>1</td>\n",
       "      <td>1</td>\n",
       "    </tr>\n",
       "    <tr>\n",
       "      <th>1</th>\n",
       "      <td>223.0</td>\n",
       "      <td>3.0</td>\n",
       "      <td>0</td>\n",
       "      <td>1</td>\n",
       "      <td>1</td>\n",
       "    </tr>\n",
       "    <tr>\n",
       "      <th>2</th>\n",
       "      <td>285.0</td>\n",
       "      <td>3.0</td>\n",
       "      <td>1</td>\n",
       "      <td>1</td>\n",
       "      <td>1</td>\n",
       "    </tr>\n",
       "    <tr>\n",
       "      <th>3</th>\n",
       "      <td>250.0</td>\n",
       "      <td>3.0</td>\n",
       "      <td>0</td>\n",
       "      <td>1</td>\n",
       "      <td>1</td>\n",
       "    </tr>\n",
       "    <tr>\n",
       "      <th>4</th>\n",
       "      <td>271.0</td>\n",
       "      <td>2.0</td>\n",
       "      <td>1</td>\n",
       "      <td>1</td>\n",
       "      <td>1</td>\n",
       "    </tr>\n",
       "  </tbody>\n",
       "</table>\n",
       "</div>"
      ],
      "text/plain": [
       "   time_on_page  pages_viewed  interest_ski  interest_climb  buy\n",
       "0         282.0           3.0             0               1    1\n",
       "1         223.0           3.0             0               1    1\n",
       "2         285.0           3.0             1               1    1\n",
       "3         250.0           3.0             0               1    1\n",
       "4         271.0           2.0             1               1    1"
      ]
     },
     "execution_count": 1,
     "metadata": {},
     "output_type": "execute_result"
    }
   ],
   "source": [
    "import pandas as pd\n",
    "data = pd.read_csv('https://raw.githubusercontent.com/JoosKorstanje/datasets/main/sales_data.csv')\n",
    "data.head()"
   ]
  },
  {
   "cell_type": "code",
   "execution_count": 2,
   "metadata": {
    "colab": {
     "base_uri": "https://localhost:8080/",
     "height": 484
    },
    "id": "twYhIK9WDQE4",
    "outputId": "80190ab9-fe8e-4bb6-e6c5-f512ae6059df"
   },
   "outputs": [
    {
     "data": {
      "text/plain": [
       "<Axes: title={'center': 'Class distribution'}, xlabel='buy'>"
      ]
     },
     "execution_count": 2,
     "metadata": {},
     "output_type": "execute_result"
    },
    {
     "data": {
      "image/png": "[encoded data removed]",
      "text/plain": [
       "<Figure size 640x480 with 1 Axes>"
      ]
     },
     "metadata": {},
     "output_type": "display_data"
    }
   ],
   "source": [
    "data.pivot_table(index='buy', aggfunc='size').plot(kind='bar', title = 'Class distribution')\n"
   ]
  },
  {
   "cell_type": "markdown",
   "metadata": {
    "id": "pnd1lZKODyc9"
   },
   "source": [
    "# División de Entrenamiento y Prueba Estratificada\n",
    "\n",
    "Antes de construir cualquier modelo, debemos crear una división de entrenamiento/prueba.\n",
    "\n",
    "Sin embargo, es arriesgado realizar una división de entrenamiento/prueba aleatoria estándar cuando se tiene un fuerte desequilibrio de clases. Debido al número muy pequeño de casos positivos, podrías terminar con un conjunto de entrenamiento y prueba que tienen distribuciones de clases muy diferentes. Incluso podrías terminar con casi cero casos positivos en tu conjunto de pruebas.\n",
    "\n",
    "El muestreo estratificado es un método de muestreo que evita perturbar el equilibrio de clases en tus muestras. Te permite generar un conjunto de entrenamiento y un conjunto de pruebas con el mismo equilibrio de clases que en los datos originales. Puedes utilizar el siguiente código para ejecutar un muestreo estratificado de entrenamiento/prueba en scikit-learn:"
   ]
  },
  {
   "cell_type": "markdown",
   "metadata": {
    "id": "_IzN6uJcEUPq"
   },
   "source": [
    "# A Baseline Model"
   ]
  },
  {
   "cell_type": "code",
   "execution_count": 3,
   "metadata": {
    "id": "KjZcGJ6GDUxo"
   },
   "outputs": [],
   "source": [
    "from sklearn.model_selection import train_test_split\n",
    "train, test = train_test_split(data, test_size = 0.3, stratify=data.buy)"
   ]
  },
  {
   "cell_type": "code",
   "execution_count": 4,
   "metadata": {
    "id": "5G1uiL81EE_q"
   },
   "outputs": [],
   "source": [
    "# this very bad model predicts that nobody ever buys anything\n",
    "preds = [0] * len(test)"
   ]
  },
  {
   "cell_type": "code",
   "execution_count": 5,
   "metadata": {
    "colab": {
     "base_uri": "https://localhost:8080/"
    },
    "id": "GamUIp6TENtZ",
    "outputId": "d78ab6dc-d652-498c-a982-ad01fcbbaecc"
   },
   "outputs": [
    {
     "data": {
      "text/plain": [
       "0.95"
      ]
     },
     "execution_count": 5,
     "metadata": {},
     "output_type": "execute_result"
    }
   ],
   "source": [
    "from sklearn.metrics import accuracy_score\n",
    "accuracy_score(test.buy, preds)"
   ]
  },
  {
   "cell_type": "code",
   "execution_count": 6,
   "metadata": {
    "colab": {
     "base_uri": "https://localhost:8080/"
    },
    "id": "0VD5WV9LEtIQ",
    "outputId": "6e587805-0438-4a1a-e820-2d9ff68ee537"
   },
   "outputs": [
    {
     "name": "stdout",
     "output_type": "stream",
     "text": [
      "Precision is:  0.0\n",
      "Recall is:  0.0\n"
     ]
    },
    {
     "name": "stderr",
     "output_type": "stream",
     "text": [
      "/home/analitica/.local/lib/python3.10/site-packages/sklearn/metrics/_classification.py:1565: UndefinedMetricWarning: Precision is ill-defined and being set to 0.0 due to no predicted samples. Use `zero_division` parameter to control this behavior.\n",
      "  _warn_prf(average, modifier, f\"{metric.capitalize()} is\", len(result))\n"
     ]
    }
   ],
   "source": [
    "\n",
    "from sklearn.metrics import precision_score, recall_score\n",
    "print('Precision is: ', precision_score(test.buy, preds))\n",
    "print('Recall is: ', recall_score(test.buy, preds))"
   ]
  },
  {
   "cell_type": "code",
   "execution_count": 7,
   "metadata": {
    "colab": {
     "base_uri": "https://localhost:8080/"
    },
    "id": "x-8BUJ6WESoS",
    "outputId": "a02a6687-82eb-44a7-9cdf-bebcbf3535c4"
   },
   "outputs": [
    {
     "name": "stdout",
     "output_type": "stream",
     "text": [
      "Precision is:  0.0\n",
      "Recall is:  0.0\n"
     ]
    }
   ],
   "source": [
    "from sklearn.metrics import precision_score, recall_score\n",
    "\n",
    "print('Precision is: ', precision_score(test.buy, preds, zero_division=0))\n",
    "print('Recall is: ', recall_score(test.buy, preds, zero_division=0))"
   ]
  },
  {
   "cell_type": "code",
   "execution_count": 8,
   "metadata": {
    "colab": {
     "base_uri": "https://localhost:8080/"
    },
    "id": "RiLXD7BZFCt5",
    "outputId": "8e885db8-ca8a-48ed-b23f-770ff5fbc32a"
   },
   "outputs": [
    {
     "name": "stdout",
     "output_type": "stream",
     "text": [
      "F1 is:  0.0\n"
     ]
    }
   ],
   "source": [
    "from sklearn.metrics import f1_score\n",
    "print('F1 is: ', f1_score(test.buy, preds))"
   ]
  },
  {
   "cell_type": "markdown",
   "metadata": {
    "id": "TNk8MrwkFN-w"
   },
   "source": [
    "# A Better Model"
   ]
  },
  {
   "cell_type": "code",
   "execution_count": 9,
   "metadata": {
    "id": "X6VgtLnXFRnD"
   },
   "outputs": [],
   "source": [
    "from sklearn.linear_model import LogisticRegression\n",
    "\n",
    "# Instantiate the Logistic Regression with only default settings\n",
    "my_log_reg = LogisticRegression()\n",
    "\n",
    "# Fit the logistic regression on the independent variables of the train data with buy as dependent variable\n",
    "my_log_reg.fit(train[['time_on_page',\t'pages_viewed',\t'interest_ski',\t'interest_climb']], train['buy'])\n",
    "\n",
    "# Make a prediction using our model on the test set\n",
    "preds = my_log_reg.predict(test[['time_on_page',\t'pages_viewed',\t'interest_ski',\t'interest_climb']])\n"
   ]
  },
  {
   "cell_type": "code",
   "execution_count": 10,
   "metadata": {
    "colab": {
     "base_uri": "https://localhost:8080/"
    },
    "id": "VtWZfqfZFTpg",
    "outputId": "cd49f70e-a059-40fc-b8dd-2304074870d5"
   },
   "outputs": [
    {
     "name": "stdout",
     "output_type": "stream",
     "text": [
      "True negatives:  282 \n",
      "False positives:  3 \n",
      "False negatives:  7 \n",
      "True Positives:  8\n"
     ]
    }
   ],
   "source": [
    "from sklearn.metrics import confusion_matrix\n",
    "tn, fp, fn, tp = confusion_matrix(test['buy'], preds).ravel()\n",
    "print('True negatives: ', tn, '\\nFalse positives: ', fp, '\\nFalse negatives: ', fn, '\\nTrue Positives: ', tp)\n"
   ]
  },
  {
   "cell_type": "code",
   "execution_count": 11,
   "metadata": {
    "colab": {
     "base_uri": "https://localhost:8080/"
    },
    "id": "gsi9Mb7TFbRy",
    "outputId": "5eecd25f-c897-4a84-8c6b-dfcb3e5c27e9"
   },
   "outputs": [
    {
     "name": "stdout",
     "output_type": "stream",
     "text": [
      "Accuracy is:  0.9666666666666667\n"
     ]
    }
   ],
   "source": [
    "print('Accuracy is: ', accuracy_score(test.buy, preds))"
   ]
  },
  {
   "cell_type": "code",
   "execution_count": 12,
   "metadata": {
    "colab": {
     "base_uri": "https://localhost:8080/"
    },
    "id": "OKGo4FExFgyY",
    "outputId": "ffaedcf2-4210-4873-f267-3aaf7331e58f"
   },
   "outputs": [
    {
     "name": "stdout",
     "output_type": "stream",
     "text": [
      "Precision is:  0.7272727272727273\n",
      "Recall is:  0.5333333333333333\n"
     ]
    }
   ],
   "source": [
    "\n",
    "print('Precision is: ', precision_score(test.buy, preds))\n",
    "print('Recall is: ', recall_score(test.buy, preds))"
   ]
  },
  {
   "cell_type": "code",
   "execution_count": 14,
   "metadata": {
    "colab": {
     "base_uri": "https://localhost:8080/"
    },
    "id": "keB3KYvrFnbo",
    "outputId": "66aef81b-173a-4f96-f536-cbb6c89f02dd"
   },
   "outputs": [
    {
     "name": "stdout",
     "output_type": "stream",
     "text": [
      "F1 is:  0.6153846153846154\n"
     ]
    }
   ],
   "source": [
    "\n",
    "print('F1 is: ', f1_score(test.buy, preds))"
   ]
  },
  {
   "cell_type": "markdown",
   "metadata": {
    "id": "ctykyQ9QGHYP"
   },
   "source": [
    "# ¿Qué modelo y métrica son mejores?\n",
    "\n",
    "Por lo tanto, la precisión y la exhaustividad nos indican que la regresión logística es mejor que el mal modelo base. Intentemos comprender por qué:\n",
    "\n",
    "1. El número total de errores de los dos modelos es el mismo. Por lo tanto, la precisión es la misma.\n",
    "2. El segundo modelo es capaz de encontrar (al menos algunos) casos positivos (compradores), mientras que el primer modelo no encontró ni un solo comprador en los datos. Por lo tanto, la exhaustividad (recall) del segundo modelo es mayor (0.33 para la regresión logística en lugar de 0 para el primer modelo).\n",
    "3. El primer modelo no encontró ningún comprador y la precisión es automáticamente cero. La regresión logística encontró algunos compradores, por lo que podemos calcular una precisión. La precisión muestra cuántos de los compradores predichos fueron realmente correctos. Esto resulta ser del 50%.\n",
    "4. El puntaje F1 es la métrica que realmente nos interesa. El objetivo del ejemplo era mostrar su valor agregado para el modelado con datos desequilibrados. El puntaje F1 resultante del primer modelo fue 0: podemos estar satisfechos con este puntaje, ya que fue un modelo muy malo.\n",
    "5. El puntaje F1 del segundo modelo fue de 0.4. Esto muestra que el segundo modelo, aunque está lejos de ser perfecto, al menos es una mejora seria con respecto al primer modelo. Esta es información valiosa que no podríamos haber obtenido utilizando la precisión como métrica porque la precisión de ambos modelos es la misma.\n",
    "\n",
    "\n",
    "# Conclusión\n",
    "\n",
    "El F1 - score se vuelve especialmente valioso al trabajar en modelos de clasificación en los que su conjunto de datos está desequilibrado.\n",
    "\n",
    "El F1-score combina la precisión y la exhaustividad en una sola métrica. Esto facilita su uso en Grid Search u optimización automatizada.\n"
   ]
  }
 ],
 "metadata": {
  "colab": {
   "provenance": []
  },
  "kernelspec": {
   "display_name": "Python 3",
   "language": "python",
   "name": "python3"
  },
  "language_info": {
   "codemirror_mode": {
    "name": "ipython",
    "version": 3
   },
   "file_extension": ".py",
   "mimetype": "text/x-python",
   "name": "python",
   "nbconvert_exporter": "python",
   "pygments_lexer": "ipython3",
   "version": "3.10.12"
  }
 },
 "nbformat": 4,
 "nbformat_minor": 4
}
