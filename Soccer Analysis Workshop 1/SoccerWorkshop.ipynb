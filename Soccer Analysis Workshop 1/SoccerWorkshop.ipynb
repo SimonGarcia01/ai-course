{
 "cells": [
  {
   "cell_type": "code",
   "execution_count": 1,
   "metadata": {},
   "outputs": [],
   "source": [
    "import pandas as pd\n",
    "import matplotlib.pyplot as plt\n",
    "import numpy as np\n",
    "import seaborn as sns"
   ]
  },
  {
   "cell_type": "code",
   "execution_count": 2,
   "metadata": {},
   "outputs": [],
   "source": [
    "df = pd.read_csv(\"base_taller.csv\", delimiter=';')"
   ]
  },
  {
   "cell_type": "code",
   "execution_count": 3,
   "metadata": {},
   "outputs": [
    {
     "data": {
      "text/html": [
       "<div>\n",
       "<style scoped>\n",
       "    .dataframe tbody tr th:only-of-type {\n",
       "        vertical-align: middle;\n",
       "    }\n",
       "\n",
       "    .dataframe tbody tr th {\n",
       "        vertical-align: top;\n",
       "    }\n",
       "\n",
       "    .dataframe thead th {\n",
       "        text-align: right;\n",
       "    }\n",
       "</style>\n",
       "<table border=\"1\" class=\"dataframe\">\n",
       "  <thead>\n",
       "    <tr style=\"text-align: right;\">\n",
       "      <th></th>\n",
       "      <th>player_id</th>\n",
       "      <th>player_name</th>\n",
       "      <th>age</th>\n",
       "      <th>country</th>\n",
       "      <th>height_cm</th>\n",
       "      <th>weight_lbs</th>\n",
       "      <th>position</th>\n",
       "      <th>overall</th>\n",
       "      <th>potential</th>\n",
       "      <th>Value_millions</th>\n",
       "      <th>pref_foot</th>\n",
       "      <th>weak_foot</th>\n",
       "      <th>skill_moves</th>\n",
       "      <th>international_reputation</th>\n",
       "      <th>Attacking_work_rate</th>\n",
       "      <th>Defensive_work_rate</th>\n",
       "      <th>body_type</th>\n",
       "      <th>club_country</th>\n",
       "      <th>club_name</th>\n",
       "      <th>club_overall</th>\n",
       "    </tr>\n",
       "  </thead>\n",
       "  <tbody>\n",
       "    <tr>\n",
       "      <th>0</th>\n",
       "      <td>231747</td>\n",
       "      <td>Kylian Mbappé Lottin</td>\n",
       "      <td>23</td>\n",
       "      <td>France</td>\n",
       "      <td>182</td>\n",
       "      <td>161</td>\n",
       "      <td>ST</td>\n",
       "      <td>91</td>\n",
       "      <td>95</td>\n",
       "      <td>190,5</td>\n",
       "      <td>Right</td>\n",
       "      <td>4</td>\n",
       "      <td>5</td>\n",
       "      <td>4</td>\n",
       "      <td>High</td>\n",
       "      <td>Low</td>\n",
       "      <td>Unique</td>\n",
       "      <td>France</td>\n",
       "      <td>Paris Saint Germain</td>\n",
       "      <td>84</td>\n",
       "    </tr>\n",
       "    <tr>\n",
       "      <th>1</th>\n",
       "      <td>192985</td>\n",
       "      <td>Kevin De Bruyne</td>\n",
       "      <td>31</td>\n",
       "      <td>Belgium</td>\n",
       "      <td>181</td>\n",
       "      <td>165</td>\n",
       "      <td>CM</td>\n",
       "      <td>91</td>\n",
       "      <td>91</td>\n",
       "      <td>107,5</td>\n",
       "      <td>Right</td>\n",
       "      <td>5</td>\n",
       "      <td>4</td>\n",
       "      <td>4</td>\n",
       "      <td>High</td>\n",
       "      <td>Medium</td>\n",
       "      <td>Unique</td>\n",
       "      <td>England</td>\n",
       "      <td>Manchester City</td>\n",
       "      <td>85</td>\n",
       "    </tr>\n",
       "    <tr>\n",
       "      <th>2</th>\n",
       "      <td>188545</td>\n",
       "      <td>Robert Lewandowski</td>\n",
       "      <td>33</td>\n",
       "      <td>Poland</td>\n",
       "      <td>185</td>\n",
       "      <td>179</td>\n",
       "      <td>ST</td>\n",
       "      <td>91</td>\n",
       "      <td>91</td>\n",
       "      <td>84</td>\n",
       "      <td>Right</td>\n",
       "      <td>4</td>\n",
       "      <td>4</td>\n",
       "      <td>5</td>\n",
       "      <td>High</td>\n",
       "      <td>Medium</td>\n",
       "      <td>Unique</td>\n",
       "      <td>Spain</td>\n",
       "      <td>Fc Barcelona</td>\n",
       "      <td>83</td>\n",
       "    </tr>\n",
       "    <tr>\n",
       "      <th>3</th>\n",
       "      <td>165153</td>\n",
       "      <td>Karim Benzema</td>\n",
       "      <td>34</td>\n",
       "      <td>France</td>\n",
       "      <td>185</td>\n",
       "      <td>179</td>\n",
       "      <td>CF</td>\n",
       "      <td>91</td>\n",
       "      <td>91</td>\n",
       "      <td>64</td>\n",
       "      <td>Right</td>\n",
       "      <td>4</td>\n",
       "      <td>4</td>\n",
       "      <td>4</td>\n",
       "      <td>Medium</td>\n",
       "      <td>Medium</td>\n",
       "      <td>Normal (170-185)</td>\n",
       "      <td>Spain</td>\n",
       "      <td>Real Madrid</td>\n",
       "      <td>85</td>\n",
       "    </tr>\n",
       "    <tr>\n",
       "      <th>4</th>\n",
       "      <td>158023</td>\n",
       "      <td>Lionel Andrés Messi Cuccittini</td>\n",
       "      <td>35</td>\n",
       "      <td>Argentina</td>\n",
       "      <td>169</td>\n",
       "      <td>148</td>\n",
       "      <td>RW</td>\n",
       "      <td>91</td>\n",
       "      <td>91</td>\n",
       "      <td>54</td>\n",
       "      <td>Left</td>\n",
       "      <td>4</td>\n",
       "      <td>4</td>\n",
       "      <td>5</td>\n",
       "      <td>Low</td>\n",
       "      <td>Low</td>\n",
       "      <td>Unique</td>\n",
       "      <td>France</td>\n",
       "      <td>Paris Saint Germain</td>\n",
       "      <td>84</td>\n",
       "    </tr>\n",
       "    <tr>\n",
       "      <th>5</th>\n",
       "      <td>239085</td>\n",
       "      <td>Erling Braut Haaland</td>\n",
       "      <td>21</td>\n",
       "      <td>Norway</td>\n",
       "      <td>195</td>\n",
       "      <td>207</td>\n",
       "      <td>ST</td>\n",
       "      <td>89</td>\n",
       "      <td>94</td>\n",
       "      <td>160</td>\n",
       "      <td>Left</td>\n",
       "      <td>3</td>\n",
       "      <td>3</td>\n",
       "      <td>4</td>\n",
       "      <td>High</td>\n",
       "      <td>Medium</td>\n",
       "      <td>Unique</td>\n",
       "      <td>England</td>\n",
       "      <td>Manchester City</td>\n",
       "      <td>85</td>\n",
       "    </tr>\n",
       "    <tr>\n",
       "      <th>6</th>\n",
       "      <td>192119</td>\n",
       "      <td>Thibaut Nicolas Marc Courtois</td>\n",
       "      <td>30</td>\n",
       "      <td>Belgium</td>\n",
       "      <td>199</td>\n",
       "      <td>212</td>\n",
       "      <td>GK</td>\n",
       "      <td>90</td>\n",
       "      <td>91</td>\n",
       "      <td>90</td>\n",
       "      <td>Left</td>\n",
       "      <td>3</td>\n",
       "      <td>1</td>\n",
       "      <td>4</td>\n",
       "      <td>Medium</td>\n",
       "      <td>Medium</td>\n",
       "      <td>Unique</td>\n",
       "      <td>Spain</td>\n",
       "      <td>Real Madrid</td>\n",
       "      <td>85</td>\n",
       "    </tr>\n",
       "    <tr>\n",
       "      <th>7</th>\n",
       "      <td>212831</td>\n",
       "      <td>Alisson Ramsés Becker</td>\n",
       "      <td>29</td>\n",
       "      <td>Brazil</td>\n",
       "      <td>193</td>\n",
       "      <td>201</td>\n",
       "      <td>GK</td>\n",
       "      <td>89</td>\n",
       "      <td>90</td>\n",
       "      <td>79</td>\n",
       "      <td>Right</td>\n",
       "      <td>3</td>\n",
       "      <td>1</td>\n",
       "      <td>3</td>\n",
       "      <td>Medium</td>\n",
       "      <td>Medium</td>\n",
       "      <td>Unique</td>\n",
       "      <td>England</td>\n",
       "      <td>Liverpool</td>\n",
       "      <td>84</td>\n",
       "    </tr>\n",
       "    <tr>\n",
       "      <th>8</th>\n",
       "      <td>212622</td>\n",
       "      <td>Joshua Walter Kimmich</td>\n",
       "      <td>27</td>\n",
       "      <td>Germany</td>\n",
       "      <td>177</td>\n",
       "      <td>165</td>\n",
       "      <td>CDM</td>\n",
       "      <td>89</td>\n",
       "      <td>90</td>\n",
       "      <td>105,5</td>\n",
       "      <td>Right</td>\n",
       "      <td>4</td>\n",
       "      <td>3</td>\n",
       "      <td>4</td>\n",
       "      <td>High</td>\n",
       "      <td>Medium</td>\n",
       "      <td>Normal (170-185)</td>\n",
       "      <td>Germany</td>\n",
       "      <td>Fc Bayern München</td>\n",
       "      <td>85</td>\n",
       "    </tr>\n",
       "    <tr>\n",
       "      <th>9</th>\n",
       "      <td>209331</td>\n",
       "      <td>Mohamed Salah Ghaly</td>\n",
       "      <td>30</td>\n",
       "      <td>Egypt</td>\n",
       "      <td>175</td>\n",
       "      <td>157</td>\n",
       "      <td>RW</td>\n",
       "      <td>89</td>\n",
       "      <td>89</td>\n",
       "      <td>99,5</td>\n",
       "      <td>Left</td>\n",
       "      <td>3</td>\n",
       "      <td>4</td>\n",
       "      <td>4</td>\n",
       "      <td>High</td>\n",
       "      <td>Medium</td>\n",
       "      <td>Unique</td>\n",
       "      <td>England</td>\n",
       "      <td>Liverpool</td>\n",
       "      <td>84</td>\n",
       "    </tr>\n",
       "  </tbody>\n",
       "</table>\n",
       "</div>"
      ],
      "text/plain": [
       "   player_id                     player_name  age    country  height_cm  \\\n",
       "0     231747            Kylian Mbappé Lottin   23     France        182   \n",
       "1     192985                 Kevin De Bruyne   31    Belgium        181   \n",
       "2     188545              Robert Lewandowski   33     Poland        185   \n",
       "3     165153                   Karim Benzema   34     France        185   \n",
       "4     158023  Lionel Andrés Messi Cuccittini   35  Argentina        169   \n",
       "5     239085            Erling Braut Haaland   21     Norway        195   \n",
       "6     192119   Thibaut Nicolas Marc Courtois   30    Belgium        199   \n",
       "7     212831           Alisson Ramsés Becker   29     Brazil        193   \n",
       "8     212622           Joshua Walter Kimmich   27    Germany        177   \n",
       "9     209331             Mohamed Salah Ghaly   30      Egypt        175   \n",
       "\n",
       "   weight_lbs position  overall  potential Value_millions pref_foot  \\\n",
       "0         161       ST       91         95          190,5     Right   \n",
       "1         165       CM       91         91          107,5     Right   \n",
       "2         179       ST       91         91             84     Right   \n",
       "3         179       CF       91         91             64     Right   \n",
       "4         148       RW       91         91             54      Left   \n",
       "5         207       ST       89         94            160      Left   \n",
       "6         212       GK       90         91             90      Left   \n",
       "7         201       GK       89         90             79     Right   \n",
       "8         165      CDM       89         90          105,5     Right   \n",
       "9         157       RW       89         89           99,5      Left   \n",
       "\n",
       "   weak_foot  skill_moves  international_reputation Attacking_work_rate  \\\n",
       "0          4            5                         4                High   \n",
       "1          5            4                         4                High   \n",
       "2          4            4                         5                High   \n",
       "3          4            4                         4              Medium   \n",
       "4          4            4                         5                 Low   \n",
       "5          3            3                         4                High   \n",
       "6          3            1                         4              Medium   \n",
       "7          3            1                         3              Medium   \n",
       "8          4            3                         4                High   \n",
       "9          3            4                         4                High   \n",
       "\n",
       "  Defensive_work_rate         body_type club_country            club_name  \\\n",
       "0                 Low            Unique       France  Paris Saint Germain   \n",
       "1              Medium            Unique      England      Manchester City   \n",
       "2              Medium            Unique        Spain         Fc Barcelona   \n",
       "3              Medium  Normal (170-185)        Spain          Real Madrid   \n",
       "4                 Low            Unique       France  Paris Saint Germain   \n",
       "5              Medium            Unique      England      Manchester City   \n",
       "6              Medium            Unique        Spain          Real Madrid   \n",
       "7              Medium            Unique      England            Liverpool   \n",
       "8              Medium  Normal (170-185)      Germany    Fc Bayern München   \n",
       "9              Medium            Unique      England            Liverpool   \n",
       "\n",
       "   club_overall  \n",
       "0            84  \n",
       "1            85  \n",
       "2            83  \n",
       "3            85  \n",
       "4            84  \n",
       "5            85  \n",
       "6            85  \n",
       "7            84  \n",
       "8            85  \n",
       "9            84  "
      ]
     },
     "execution_count": 3,
     "metadata": {},
     "output_type": "execute_result"
    }
   ],
   "source": [
    "df.head(10)"
   ]
  },
  {
   "cell_type": "code",
   "execution_count": 4,
   "metadata": {},
   "outputs": [
    {
     "data": {
      "text/plain": [
       "player_id                   0\n",
       "player_name                 0\n",
       "age                         0\n",
       "country                     0\n",
       "height_cm                   0\n",
       "weight_lbs                  0\n",
       "position                    0\n",
       "overall                     0\n",
       "potential                   0\n",
       "Value_millions              0\n",
       "pref_foot                   0\n",
       "weak_foot                   0\n",
       "skill_moves                 0\n",
       "international_reputation    0\n",
       "Attacking_work_rate         0\n",
       "Defensive_work_rate         0\n",
       "body_type                   0\n",
       "club_country                0\n",
       "club_name                   0\n",
       "club_overall                0\n",
       "dtype: int64"
      ]
     },
     "execution_count": 4,
     "metadata": {},
     "output_type": "execute_result"
    }
   ],
   "source": [
    "df.isnull().sum()"
   ]
  },
  {
   "cell_type": "code",
   "execution_count": 5,
   "metadata": {},
   "outputs": [
    {
     "name": "stdout",
     "output_type": "stream",
     "text": [
      "<class 'pandas.core.frame.DataFrame'>\n",
      "RangeIndex: 22080 entries, 0 to 22079\n",
      "Data columns (total 20 columns):\n",
      " #   Column                    Non-Null Count  Dtype \n",
      "---  ------                    --------------  ----- \n",
      " 0   player_id                 22080 non-null  int64 \n",
      " 1   player_name               22080 non-null  object\n",
      " 2   age                       22080 non-null  int64 \n",
      " 3   country                   22080 non-null  object\n",
      " 4   height_cm                 22080 non-null  int64 \n",
      " 5   weight_lbs                22080 non-null  int64 \n",
      " 6   position                  22080 non-null  object\n",
      " 7   overall                   22080 non-null  int64 \n",
      " 8   potential                 22080 non-null  int64 \n",
      " 9   Value_millions            22080 non-null  object\n",
      " 10  pref_foot                 22080 non-null  object\n",
      " 11  weak_foot                 22080 non-null  int64 \n",
      " 12  skill_moves               22080 non-null  int64 \n",
      " 13  international_reputation  22080 non-null  int64 \n",
      " 14  Attacking_work_rate       22080 non-null  object\n",
      " 15  Defensive_work_rate       22080 non-null  object\n",
      " 16  body_type                 22080 non-null  object\n",
      " 17  club_country              22080 non-null  object\n",
      " 18  club_name                 22080 non-null  object\n",
      " 19  club_overall              22080 non-null  int64 \n",
      "dtypes: int64(10), object(10)\n",
      "memory usage: 3.4+ MB\n"
     ]
    }
   ],
   "source": [
    "df.info()"
   ]
  },
  {
   "cell_type": "code",
   "execution_count": 6,
   "metadata": {},
   "outputs": [],
   "source": [
    "df['Value_millions'] = df['Value_millions'].str.replace(',', '.', regex=False)\n",
    "df['Value_millions'] =pd.to_numeric(df['Value_millions'])"
   ]
  },
  {
   "cell_type": "code",
   "execution_count": 7,
   "metadata": {},
   "outputs": [
    {
     "data": {
      "text/html": [
       "<div>\n",
       "<style scoped>\n",
       "    .dataframe tbody tr th:only-of-type {\n",
       "        vertical-align: middle;\n",
       "    }\n",
       "\n",
       "    .dataframe tbody tr th {\n",
       "        vertical-align: top;\n",
       "    }\n",
       "\n",
       "    .dataframe thead th {\n",
       "        text-align: right;\n",
       "    }\n",
       "</style>\n",
       "<table border=\"1\" class=\"dataframe\">\n",
       "  <thead>\n",
       "    <tr style=\"text-align: right;\">\n",
       "      <th></th>\n",
       "      <th>player_id</th>\n",
       "      <th>age</th>\n",
       "      <th>height_cm</th>\n",
       "      <th>weight_lbs</th>\n",
       "      <th>overall</th>\n",
       "      <th>potential</th>\n",
       "      <th>Value_millions</th>\n",
       "      <th>weak_foot</th>\n",
       "      <th>skill_moves</th>\n",
       "      <th>international_reputation</th>\n",
       "      <th>club_overall</th>\n",
       "    </tr>\n",
       "  </thead>\n",
       "  <tbody>\n",
       "    <tr>\n",
       "      <th>count</th>\n",
       "      <td>22080.000000</td>\n",
       "      <td>22080.000000</td>\n",
       "      <td>22080.000000</td>\n",
       "      <td>22080.000000</td>\n",
       "      <td>22080.000000</td>\n",
       "      <td>22080.000000</td>\n",
       "      <td>22080.000000</td>\n",
       "      <td>22080.000000</td>\n",
       "      <td>22080.000000</td>\n",
       "      <td>22080.000000</td>\n",
       "      <td>22080.000000</td>\n",
       "    </tr>\n",
       "    <tr>\n",
       "      <th>mean</th>\n",
       "      <td>238806.667618</td>\n",
       "      <td>24.894112</td>\n",
       "      <td>181.391893</td>\n",
       "      <td>165.399457</td>\n",
       "      <td>65.223958</td>\n",
       "      <td>70.458107</td>\n",
       "      <td>2.501067</td>\n",
       "      <td>2.932699</td>\n",
       "      <td>2.362726</td>\n",
       "      <td>1.075272</td>\n",
       "      <td>68.295743</td>\n",
       "    </tr>\n",
       "    <tr>\n",
       "      <th>std</th>\n",
       "      <td>28565.188684</td>\n",
       "      <td>4.891117</td>\n",
       "      <td>6.852274</td>\n",
       "      <td>15.411979</td>\n",
       "      <td>6.804443</td>\n",
       "      <td>6.147813</td>\n",
       "      <td>6.869693</td>\n",
       "      <td>0.673396</td>\n",
       "      <td>0.764252</td>\n",
       "      <td>0.334532</td>\n",
       "      <td>5.358555</td>\n",
       "    </tr>\n",
       "    <tr>\n",
       "      <th>min</th>\n",
       "      <td>1179.000000</td>\n",
       "      <td>16.000000</td>\n",
       "      <td>155.000000</td>\n",
       "      <td>108.000000</td>\n",
       "      <td>46.000000</td>\n",
       "      <td>46.000000</td>\n",
       "      <td>0.000000</td>\n",
       "      <td>1.000000</td>\n",
       "      <td>1.000000</td>\n",
       "      <td>1.000000</td>\n",
       "      <td>0.000000</td>\n",
       "    </tr>\n",
       "    <tr>\n",
       "      <th>25%</th>\n",
       "      <td>222433.250000</td>\n",
       "      <td>21.000000</td>\n",
       "      <td>176.000000</td>\n",
       "      <td>154.000000</td>\n",
       "      <td>61.000000</td>\n",
       "      <td>66.000000</td>\n",
       "      <td>0.450000</td>\n",
       "      <td>3.000000</td>\n",
       "      <td>2.000000</td>\n",
       "      <td>1.000000</td>\n",
       "      <td>65.000000</td>\n",
       "    </tr>\n",
       "    <tr>\n",
       "      <th>50%</th>\n",
       "      <td>243590.000000</td>\n",
       "      <td>24.000000</td>\n",
       "      <td>181.000000</td>\n",
       "      <td>165.000000</td>\n",
       "      <td>65.000000</td>\n",
       "      <td>70.000000</td>\n",
       "      <td>0.900000</td>\n",
       "      <td>3.000000</td>\n",
       "      <td>2.000000</td>\n",
       "      <td>1.000000</td>\n",
       "      <td>68.000000</td>\n",
       "    </tr>\n",
       "    <tr>\n",
       "      <th>75%</th>\n",
       "      <td>262079.500000</td>\n",
       "      <td>28.000000</td>\n",
       "      <td>186.000000</td>\n",
       "      <td>176.000000</td>\n",
       "      <td>70.000000</td>\n",
       "      <td>74.000000</td>\n",
       "      <td>1.800000</td>\n",
       "      <td>3.000000</td>\n",
       "      <td>3.000000</td>\n",
       "      <td>1.000000</td>\n",
       "      <td>71.000000</td>\n",
       "    </tr>\n",
       "    <tr>\n",
       "      <th>max</th>\n",
       "      <td>275460.000000</td>\n",
       "      <td>44.000000</td>\n",
       "      <td>206.000000</td>\n",
       "      <td>231.000000</td>\n",
       "      <td>91.000000</td>\n",
       "      <td>95.000000</td>\n",
       "      <td>190.500000</td>\n",
       "      <td>5.000000</td>\n",
       "      <td>5.000000</td>\n",
       "      <td>5.000000</td>\n",
       "      <td>85.000000</td>\n",
       "    </tr>\n",
       "  </tbody>\n",
       "</table>\n",
       "</div>"
      ],
      "text/plain": [
       "           player_id           age     height_cm    weight_lbs       overall  \\\n",
       "count   22080.000000  22080.000000  22080.000000  22080.000000  22080.000000   \n",
       "mean   238806.667618     24.894112    181.391893    165.399457     65.223958   \n",
       "std     28565.188684      4.891117      6.852274     15.411979      6.804443   \n",
       "min      1179.000000     16.000000    155.000000    108.000000     46.000000   \n",
       "25%    222433.250000     21.000000    176.000000    154.000000     61.000000   \n",
       "50%    243590.000000     24.000000    181.000000    165.000000     65.000000   \n",
       "75%    262079.500000     28.000000    186.000000    176.000000     70.000000   \n",
       "max    275460.000000     44.000000    206.000000    231.000000     91.000000   \n",
       "\n",
       "          potential  Value_millions     weak_foot   skill_moves  \\\n",
       "count  22080.000000    22080.000000  22080.000000  22080.000000   \n",
       "mean      70.458107        2.501067      2.932699      2.362726   \n",
       "std        6.147813        6.869693      0.673396      0.764252   \n",
       "min       46.000000        0.000000      1.000000      1.000000   \n",
       "25%       66.000000        0.450000      3.000000      2.000000   \n",
       "50%       70.000000        0.900000      3.000000      2.000000   \n",
       "75%       74.000000        1.800000      3.000000      3.000000   \n",
       "max       95.000000      190.500000      5.000000      5.000000   \n",
       "\n",
       "       international_reputation  club_overall  \n",
       "count              22080.000000  22080.000000  \n",
       "mean                   1.075272     68.295743  \n",
       "std                    0.334532      5.358555  \n",
       "min                    1.000000      0.000000  \n",
       "25%                    1.000000     65.000000  \n",
       "50%                    1.000000     68.000000  \n",
       "75%                    1.000000     71.000000  \n",
       "max                    5.000000     85.000000  "
      ]
     },
     "execution_count": 7,
     "metadata": {},
     "output_type": "execute_result"
    }
   ],
   "source": [
    "df.describe()"
   ]
  },
  {
   "cell_type": "code",
   "execution_count": 8,
   "metadata": {},
   "outputs": [
    {
     "data": {
      "text/plain": [
       "position\n",
       "CB     3876\n",
       "ST     3113\n",
       "CM     2590\n",
       "GK     2430\n",
       "CDM    1829\n",
       "RB     1416\n",
       "LB     1379\n",
       "CAM    1267\n",
       "RM     1145\n",
       "LM     1143\n",
       "RW      548\n",
       "LW      506\n",
       "LWB     353\n",
       "RWB     345\n",
       "CF      140\n",
       "Name: count, dtype: int64"
      ]
     },
     "execution_count": 8,
     "metadata": {},
     "output_type": "execute_result"
    }
   ],
   "source": [
    "df['position'].value_counts()"
   ]
  },
  {
   "cell_type": "code",
   "execution_count": 9,
   "metadata": {},
   "outputs": [
    {
     "data": {
      "text/plain": [
       "club_country\n",
       "England                 2741\n",
       "Germany                 1700\n",
       "Spain                   1355\n",
       "Italy                   1178\n",
       "France                  1167\n",
       "Argentina                949\n",
       "United States            832\n",
       "China PR                 600\n",
       "Portugal                 576\n",
       "Turkey                   570\n",
       "Poland                   562\n",
       "Netherlands              555\n",
       "Romania                  528\n",
       "Belgium                  527\n",
       "Sweden                   509\n",
       "Saudi Arabia             501\n",
       "Norway                   490\n",
       "Korea Republic           419\n",
       "Ecuador                  372\n",
       "Austria                  366\n",
       "Denmark                  358\n",
       "Colombia                 350\n",
       "Bolivia                  347\n",
       "Scotland                 346\n",
       "Brazil                   340\n",
       "Paraguay                 338\n",
       "Chile                    336\n",
       "Australia                326\n",
       "India                    324\n",
       "Venezuela                322\n",
       "Peru                     317\n",
       "Republic of Ireland      299\n",
       "Switzerland              294\n",
       "Uruguay                  286\n",
       "Wales                    135\n",
       "South Africa             100\n",
       "Canada                    98\n",
       "Czech Republic            96\n",
       "Greece                    90\n",
       "Ukraine                   74\n",
       "Croatia                   71\n",
       "Hungary                   49\n",
       "Finland                   48\n",
       "New Zealand               37\n",
       "Northern Ireland          34\n",
       "Cyprus                    30\n",
       "United Arab Emirates      28\n",
       "Monaco                    28\n",
       "Qatar                     25\n",
       "No club                   19\n",
       "Mexico                    16\n",
       "Iceland                   11\n",
       "Morocco                    6\n",
       "Ghana                      5\n",
       "Name: count, dtype: int64"
      ]
     },
     "execution_count": 9,
     "metadata": {},
     "output_type": "execute_result"
    }
   ],
   "source": [
    "df['club_country'].value_counts()"
   ]
  },
  {
   "cell_type": "code",
   "execution_count": 10,
   "metadata": {},
   "outputs": [
    {
     "data": {
      "text/plain": [
       "<Axes: xlabel='club_country'>"
      ]
     },
     "execution_count": 10,
     "metadata": {},
     "output_type": "execute_result"
    },
    {
     "data": {
      "image/png": "[encoded data removed]",
      "text/plain": [
       "<Figure size 640x480 with 1 Axes>"
      ]
     },
     "metadata": {},
     "output_type": "display_data"
    }
   ],
   "source": [
    "df['club_country'].value_counts().head(5).plot(kind='bar')"
   ]
  },
  {
   "cell_type": "code",
   "execution_count": 11,
   "metadata": {},
   "outputs": [
    {
     "data": {
      "text/plain": [
       "54"
      ]
     },
     "execution_count": 11,
     "metadata": {},
     "output_type": "execute_result"
    }
   ],
   "source": [
    "df['club_country'].value_counts().size"
   ]
  },
  {
   "cell_type": "code",
   "execution_count": 12,
   "metadata": {},
   "outputs": [
    {
     "data": {
      "text/plain": [
       "<Axes: >"
      ]
     },
     "execution_count": 12,
     "metadata": {},
     "output_type": "execute_result"
    },
    {
     "data": {
      "image/png": "[encoded data removed]",
      "text/plain": [
       "<Figure size 1400x600 with 1 Axes>"
      ]
     },
     "metadata": {},
     "output_type": "display_data"
    }
   ],
   "source": [
    "df.select_dtypes(include='number').drop(columns=['player_id', 'weak_foot', 'skill_moves', 'international_reputation']).plot(kind='box', figsize=(14,6))"
   ]
  },
  {
   "cell_type": "code",
   "execution_count": 13,
   "metadata": {},
   "outputs": [
    {
     "data": {
      "text/plain": [
       "pref_foot\n",
       "Right    16733\n",
       "Left      5347\n",
       "Name: count, dtype: int64"
      ]
     },
     "execution_count": 13,
     "metadata": {},
     "output_type": "execute_result"
    }
   ],
   "source": [
    "df['pref_foot'].value_counts()"
   ]
  },
  {
   "cell_type": "code",
   "execution_count": 14,
   "metadata": {},
   "outputs": [
    {
     "data": {
      "text/plain": [
       "<Axes: xlabel='pref_foot'>"
      ]
     },
     "execution_count": 14,
     "metadata": {},
     "output_type": "execute_result"
    },
    {
     "data": {
      "image/png": "[encoded data removed]",
      "text/plain": [
       "<Figure size 640x480 with 1 Axes>"
      ]
     },
     "metadata": {},
     "output_type": "display_data"
    }
   ],
   "source": [
    "df['pref_foot'].value_counts().plot(kind='bar')"
   ]
  },
  {
   "cell_type": "code",
   "execution_count": 15,
   "metadata": {},
   "outputs": [
    {
     "data": {
      "text/html": [
       "<div>\n",
       "<style scoped>\n",
       "    .dataframe tbody tr th:only-of-type {\n",
       "        vertical-align: middle;\n",
       "    }\n",
       "\n",
       "    .dataframe tbody tr th {\n",
       "        vertical-align: top;\n",
       "    }\n",
       "\n",
       "    .dataframe thead th {\n",
       "        text-align: right;\n",
       "    }\n",
       "</style>\n",
       "<table border=\"1\" class=\"dataframe\">\n",
       "  <thead>\n",
       "    <tr style=\"text-align: right;\">\n",
       "      <th></th>\n",
       "      <th>height_cm</th>\n",
       "      <th>overall</th>\n",
       "    </tr>\n",
       "  </thead>\n",
       "  <tbody>\n",
       "    <tr>\n",
       "      <th>6</th>\n",
       "      <td>199</td>\n",
       "      <td>90</td>\n",
       "    </tr>\n",
       "    <tr>\n",
       "      <th>7</th>\n",
       "      <td>193</td>\n",
       "      <td>89</td>\n",
       "    </tr>\n",
       "    <tr>\n",
       "      <th>11</th>\n",
       "      <td>188</td>\n",
       "      <td>89</td>\n",
       "    </tr>\n",
       "    <tr>\n",
       "      <th>14</th>\n",
       "      <td>193</td>\n",
       "      <td>89</td>\n",
       "    </tr>\n",
       "    <tr>\n",
       "      <th>16</th>\n",
       "      <td>196</td>\n",
       "      <td>88</td>\n",
       "    </tr>\n",
       "  </tbody>\n",
       "</table>\n",
       "</div>"
      ],
      "text/plain": [
       "    height_cm  overall\n",
       "6         199       90\n",
       "7         193       89\n",
       "11        188       89\n",
       "14        193       89\n",
       "16        196       88"
      ]
     },
     "execution_count": 15,
     "metadata": {},
     "output_type": "execute_result"
    }
   ],
   "source": [
    "goalKeeperHeight = df.loc[df['position']=='GK', ['height_cm','overall']]\n",
    "goalKeeperHeight.head()"
   ]
  },
  {
   "cell_type": "code",
   "execution_count": 16,
   "metadata": {},
   "outputs": [
    {
     "data": {
      "text/html": [
       "<div>\n",
       "<style scoped>\n",
       "    .dataframe tbody tr th:only-of-type {\n",
       "        vertical-align: middle;\n",
       "    }\n",
       "\n",
       "    .dataframe tbody tr th {\n",
       "        vertical-align: top;\n",
       "    }\n",
       "\n",
       "    .dataframe thead th {\n",
       "        text-align: right;\n",
       "    }\n",
       "</style>\n",
       "<table border=\"1\" class=\"dataframe\">\n",
       "  <thead>\n",
       "    <tr style=\"text-align: right;\">\n",
       "      <th></th>\n",
       "      <th>height_cm</th>\n",
       "      <th>overall</th>\n",
       "      <th>height_group</th>\n",
       "    </tr>\n",
       "  </thead>\n",
       "  <tbody>\n",
       "    <tr>\n",
       "      <th>6</th>\n",
       "      <td>199</td>\n",
       "      <td>90</td>\n",
       "      <td>&gt;192 cm</td>\n",
       "    </tr>\n",
       "    <tr>\n",
       "      <th>7</th>\n",
       "      <td>193</td>\n",
       "      <td>89</td>\n",
       "      <td>&gt;192 cm</td>\n",
       "    </tr>\n",
       "    <tr>\n",
       "      <th>11</th>\n",
       "      <td>188</td>\n",
       "      <td>89</td>\n",
       "      <td>185-192 cm</td>\n",
       "    </tr>\n",
       "    <tr>\n",
       "      <th>14</th>\n",
       "      <td>193</td>\n",
       "      <td>89</td>\n",
       "      <td>&gt;192 cm</td>\n",
       "    </tr>\n",
       "    <tr>\n",
       "      <th>16</th>\n",
       "      <td>196</td>\n",
       "      <td>88</td>\n",
       "      <td>&gt;192 cm</td>\n",
       "    </tr>\n",
       "  </tbody>\n",
       "</table>\n",
       "</div>"
      ],
      "text/plain": [
       "    height_cm  overall height_group\n",
       "6         199       90      >192 cm\n",
       "7         193       89      >192 cm\n",
       "11        188       89   185-192 cm\n",
       "14        193       89      >192 cm\n",
       "16        196       88      >192 cm"
      ]
     },
     "execution_count": 16,
     "metadata": {},
     "output_type": "execute_result"
    }
   ],
   "source": [
    "bins = [0, 185, 192, float('inf')]  # Ranges: <185, 185-192, >192\n",
    "labels = [\"<185 cm\", \"185-192 cm\", \">192 cm\"]\n",
    "goalKeeperHeight['height_group'] = pd.cut(goalKeeperHeight['height_cm'],\n",
    "                                          bins = bins, labels = labels)\n",
    "goalKeeperHeight.head()"
   ]
  },
  {
   "cell_type": "code",
   "execution_count": 17,
   "metadata": {},
   "outputs": [
    {
     "name": "stderr",
     "output_type": "stream",
     "text": [
      "C:\\Users\\diana\\AppData\\Local\\Temp\\ipykernel_6232\\749192440.py:1: FutureWarning: The default of observed=False is deprecated and will be changed to True in a future version of pandas. Pass observed=False to retain current behavior or observed=True to adopt the future default and silence this warning.\n",
      "  goalKeeperHeight.groupby('height_group')['overall'].describe()\n"
     ]
    },
    {
     "data": {
      "text/html": [
       "<div>\n",
       "<style scoped>\n",
       "    .dataframe tbody tr th:only-of-type {\n",
       "        vertical-align: middle;\n",
       "    }\n",
       "\n",
       "    .dataframe tbody tr th {\n",
       "        vertical-align: top;\n",
       "    }\n",
       "\n",
       "    .dataframe thead th {\n",
       "        text-align: right;\n",
       "    }\n",
       "</style>\n",
       "<table border=\"1\" class=\"dataframe\">\n",
       "  <thead>\n",
       "    <tr style=\"text-align: right;\">\n",
       "      <th></th>\n",
       "      <th>count</th>\n",
       "      <th>mean</th>\n",
       "      <th>std</th>\n",
       "      <th>min</th>\n",
       "      <th>25%</th>\n",
       "      <th>50%</th>\n",
       "      <th>75%</th>\n",
       "      <th>max</th>\n",
       "    </tr>\n",
       "    <tr>\n",
       "      <th>height_group</th>\n",
       "      <th></th>\n",
       "      <th></th>\n",
       "      <th></th>\n",
       "      <th></th>\n",
       "      <th></th>\n",
       "      <th></th>\n",
       "      <th></th>\n",
       "      <th></th>\n",
       "    </tr>\n",
       "  </thead>\n",
       "  <tbody>\n",
       "    <tr>\n",
       "      <th>&lt;185 cm</th>\n",
       "      <td>649.0</td>\n",
       "      <td>62.092450</td>\n",
       "      <td>7.253400</td>\n",
       "      <td>48.0</td>\n",
       "      <td>56.0</td>\n",
       "      <td>62.0</td>\n",
       "      <td>67.0</td>\n",
       "      <td>87.0</td>\n",
       "    </tr>\n",
       "    <tr>\n",
       "      <th>185-192 cm</th>\n",
       "      <td>1264.0</td>\n",
       "      <td>64.481013</td>\n",
       "      <td>7.319944</td>\n",
       "      <td>46.0</td>\n",
       "      <td>60.0</td>\n",
       "      <td>64.0</td>\n",
       "      <td>69.0</td>\n",
       "      <td>89.0</td>\n",
       "    </tr>\n",
       "    <tr>\n",
       "      <th>&gt;192 cm</th>\n",
       "      <td>517.0</td>\n",
       "      <td>64.746615</td>\n",
       "      <td>7.639378</td>\n",
       "      <td>48.0</td>\n",
       "      <td>60.0</td>\n",
       "      <td>64.0</td>\n",
       "      <td>70.0</td>\n",
       "      <td>90.0</td>\n",
       "    </tr>\n",
       "  </tbody>\n",
       "</table>\n",
       "</div>"
      ],
      "text/plain": [
       "               count       mean       std   min   25%   50%   75%   max\n",
       "height_group                                                           \n",
       "<185 cm        649.0  62.092450  7.253400  48.0  56.0  62.0  67.0  87.0\n",
       "185-192 cm    1264.0  64.481013  7.319944  46.0  60.0  64.0  69.0  89.0\n",
       ">192 cm        517.0  64.746615  7.639378  48.0  60.0  64.0  70.0  90.0"
      ]
     },
     "execution_count": 17,
     "metadata": {},
     "output_type": "execute_result"
    }
   ],
   "source": [
    "goalKeeperHeight.groupby('height_group')['overall'].describe()"
   ]
  },
  {
   "cell_type": "code",
   "execution_count": 18,
   "metadata": {},
   "outputs": [
    {
     "data": {
      "image/png": "[encoded data removed]",
      "text/plain": [
       "<Figure size 1400x600 with 1 Axes>"
      ]
     },
     "metadata": {},
     "output_type": "display_data"
    }
   ],
   "source": [
    "plt.figure(figsize=(14, 6))\n",
    "sns.boxplot(goalKeeperHeight, x='height_group', y='overall')\n",
    "plt.xlabel(\"Height Group\")\n",
    "plt.ylabel(\"Overall Rating\")\n",
    "plt.title(\"Distribution of Goalkeeper Overall Rating by Height Group\")\n",
    "plt.grid(axis='y', linestyle='--', alpha=0.9) #alpha refers to opaqueness \n",
    "plt.show()"
   ]
  },
  {
   "cell_type": "code",
   "execution_count": 19,
   "metadata": {},
   "outputs": [
    {
     "data": {
      "text/html": [
       "<div>\n",
       "<style scoped>\n",
       "    .dataframe tbody tr th:only-of-type {\n",
       "        vertical-align: middle;\n",
       "    }\n",
       "\n",
       "    .dataframe tbody tr th {\n",
       "        vertical-align: top;\n",
       "    }\n",
       "\n",
       "    .dataframe thead th {\n",
       "        text-align: right;\n",
       "    }\n",
       "</style>\n",
       "<table border=\"1\" class=\"dataframe\">\n",
       "  <thead>\n",
       "    <tr style=\"text-align: right;\">\n",
       "      <th></th>\n",
       "      <th>pref_foot</th>\n",
       "      <th>overall</th>\n",
       "    </tr>\n",
       "  </thead>\n",
       "  <tbody>\n",
       "    <tr>\n",
       "      <th>0</th>\n",
       "      <td>Right</td>\n",
       "      <td>91</td>\n",
       "    </tr>\n",
       "    <tr>\n",
       "      <th>1</th>\n",
       "      <td>Right</td>\n",
       "      <td>91</td>\n",
       "    </tr>\n",
       "    <tr>\n",
       "      <th>2</th>\n",
       "      <td>Right</td>\n",
       "      <td>91</td>\n",
       "    </tr>\n",
       "    <tr>\n",
       "      <th>3</th>\n",
       "      <td>Right</td>\n",
       "      <td>91</td>\n",
       "    </tr>\n",
       "    <tr>\n",
       "      <th>4</th>\n",
       "      <td>Left</td>\n",
       "      <td>91</td>\n",
       "    </tr>\n",
       "  </tbody>\n",
       "</table>\n",
       "</div>"
      ],
      "text/plain": [
       "  pref_foot  overall\n",
       "0     Right       91\n",
       "1     Right       91\n",
       "2     Right       91\n",
       "3     Right       91\n",
       "4      Left       91"
      ]
     },
     "execution_count": 19,
     "metadata": {},
     "output_type": "execute_result"
    }
   ],
   "source": [
    "dominantLeg = df[['pref_foot', 'overall']]\n",
    "dominantLeg.head()"
   ]
  },
  {
   "cell_type": "code",
   "execution_count": 20,
   "metadata": {},
   "outputs": [
    {
     "data": {
      "text/html": [
       "<div>\n",
       "<style scoped>\n",
       "    .dataframe tbody tr th:only-of-type {\n",
       "        vertical-align: middle;\n",
       "    }\n",
       "\n",
       "    .dataframe tbody tr th {\n",
       "        vertical-align: top;\n",
       "    }\n",
       "\n",
       "    .dataframe thead th {\n",
       "        text-align: right;\n",
       "    }\n",
       "</style>\n",
       "<table border=\"1\" class=\"dataframe\">\n",
       "  <thead>\n",
       "    <tr style=\"text-align: right;\">\n",
       "      <th></th>\n",
       "      <th>count</th>\n",
       "      <th>mean</th>\n",
       "      <th>std</th>\n",
       "      <th>min</th>\n",
       "      <th>25%</th>\n",
       "      <th>50%</th>\n",
       "      <th>75%</th>\n",
       "      <th>max</th>\n",
       "    </tr>\n",
       "    <tr>\n",
       "      <th>pref_foot</th>\n",
       "      <th></th>\n",
       "      <th></th>\n",
       "      <th></th>\n",
       "      <th></th>\n",
       "      <th></th>\n",
       "      <th></th>\n",
       "      <th></th>\n",
       "      <th></th>\n",
       "    </tr>\n",
       "  </thead>\n",
       "  <tbody>\n",
       "    <tr>\n",
       "      <th>Left</th>\n",
       "      <td>5347.0</td>\n",
       "      <td>65.766037</td>\n",
       "      <td>6.548680</td>\n",
       "      <td>46.0</td>\n",
       "      <td>62.0</td>\n",
       "      <td>66.0</td>\n",
       "      <td>70.0</td>\n",
       "      <td>91.0</td>\n",
       "    </tr>\n",
       "    <tr>\n",
       "      <th>Right</th>\n",
       "      <td>16733.0</td>\n",
       "      <td>65.050738</td>\n",
       "      <td>6.875354</td>\n",
       "      <td>46.0</td>\n",
       "      <td>61.0</td>\n",
       "      <td>65.0</td>\n",
       "      <td>69.0</td>\n",
       "      <td>91.0</td>\n",
       "    </tr>\n",
       "  </tbody>\n",
       "</table>\n",
       "</div>"
      ],
      "text/plain": [
       "             count       mean       std   min   25%   50%   75%   max\n",
       "pref_foot                                                            \n",
       "Left        5347.0  65.766037  6.548680  46.0  62.0  66.0  70.0  91.0\n",
       "Right      16733.0  65.050738  6.875354  46.0  61.0  65.0  69.0  91.0"
      ]
     },
     "execution_count": 20,
     "metadata": {},
     "output_type": "execute_result"
    }
   ],
   "source": [
    "dominantLeg.groupby('pref_foot')['overall'].describe()"
   ]
  },
  {
   "cell_type": "code",
   "execution_count": 21,
   "metadata": {},
   "outputs": [
    {
     "data": {
      "image/png": "[encoded data removed]",
      "text/plain": [
       "<Figure size 1600x1000 with 1 Axes>"
      ]
     },
     "metadata": {},
     "output_type": "display_data"
    }
   ],
   "source": [
    "plt.figure(figsize=(16,10))\n",
    "sns.boxplot(dominantLeg, x='pref_foot', y='overall')\n",
    "plt.title(\"Overall score based on pref foot\")\n",
    "plt.xlabel(\"Pref Foot\")\n",
    "plt.ylabel(\"Overall Score\")\n",
    "plt.grid(axis='y', linestyle='--', alpha=0.9)\n",
    "plt.show()"
   ]
  },
  {
   "cell_type": "code",
   "execution_count": 22,
   "metadata": {},
   "outputs": [
    {
     "data": {
      "text/html": [
       "<div>\n",
       "<style scoped>\n",
       "    .dataframe tbody tr th:only-of-type {\n",
       "        vertical-align: middle;\n",
       "    }\n",
       "\n",
       "    .dataframe tbody tr th {\n",
       "        vertical-align: top;\n",
       "    }\n",
       "\n",
       "    .dataframe thead th {\n",
       "        text-align: right;\n",
       "    }\n",
       "</style>\n",
       "<table border=\"1\" class=\"dataframe\">\n",
       "  <thead>\n",
       "    <tr style=\"text-align: right;\">\n",
       "      <th></th>\n",
       "      <th>club_country</th>\n",
       "      <th>overall</th>\n",
       "    </tr>\n",
       "  </thead>\n",
       "  <tbody>\n",
       "    <tr>\n",
       "      <th>0</th>\n",
       "      <td>France</td>\n",
       "      <td>91</td>\n",
       "    </tr>\n",
       "    <tr>\n",
       "      <th>1</th>\n",
       "      <td>England</td>\n",
       "      <td>91</td>\n",
       "    </tr>\n",
       "    <tr>\n",
       "      <th>2</th>\n",
       "      <td>Spain</td>\n",
       "      <td>91</td>\n",
       "    </tr>\n",
       "    <tr>\n",
       "      <th>3</th>\n",
       "      <td>Spain</td>\n",
       "      <td>91</td>\n",
       "    </tr>\n",
       "    <tr>\n",
       "      <th>4</th>\n",
       "      <td>France</td>\n",
       "      <td>91</td>\n",
       "    </tr>\n",
       "  </tbody>\n",
       "</table>\n",
       "</div>"
      ],
      "text/plain": [
       "  club_country  overall\n",
       "0       France       91\n",
       "1      England       91\n",
       "2        Spain       91\n",
       "3        Spain       91\n",
       "4       France       91"
      ]
     },
     "execution_count": 22,
     "metadata": {},
     "output_type": "execute_result"
    }
   ],
   "source": [
    "clubCountryDf = df[['club_country', 'overall']]\n",
    "clubCountryDf.head()"
   ]
  },
  {
   "cell_type": "code",
   "execution_count": 26,
   "metadata": {},
   "outputs": [
    {
     "name": "stderr",
     "output_type": "stream",
     "text": [
      "C:\\Users\\diana\\AppData\\Local\\Temp\\ipykernel_6232\\3588837120.py:2: SettingWithCopyWarning: \n",
      "A value is trying to be set on a copy of a slice from a DataFrame.\n",
      "Try using .loc[row_indexer,col_indexer] = value instead\n",
      "\n",
      "See the caveats in the documentation: https://pandas.pydata.org/pandas-docs/stable/user_guide/indexing.html#returning-a-view-versus-a-copy\n",
      "  clubCountryDf['leagueCategory'] = np.where(clubCountryDf['club_country'].isin(top5), \"Top 5 League\", \"Not Top 5 League\")\n"
     ]
    },
    {
     "data": {
      "text/html": [
       "<div>\n",
       "<style scoped>\n",
       "    .dataframe tbody tr th:only-of-type {\n",
       "        vertical-align: middle;\n",
       "    }\n",
       "\n",
       "    .dataframe tbody tr th {\n",
       "        vertical-align: top;\n",
       "    }\n",
       "\n",
       "    .dataframe thead th {\n",
       "        text-align: right;\n",
       "    }\n",
       "</style>\n",
       "<table border=\"1\" class=\"dataframe\">\n",
       "  <thead>\n",
       "    <tr style=\"text-align: right;\">\n",
       "      <th></th>\n",
       "      <th>club_country</th>\n",
       "      <th>overall</th>\n",
       "      <th>leagueCategory</th>\n",
       "    </tr>\n",
       "  </thead>\n",
       "  <tbody>\n",
       "    <tr>\n",
       "      <th>0</th>\n",
       "      <td>France</td>\n",
       "      <td>91</td>\n",
       "      <td>Top 5 League</td>\n",
       "    </tr>\n",
       "    <tr>\n",
       "      <th>1</th>\n",
       "      <td>England</td>\n",
       "      <td>91</td>\n",
       "      <td>Top 5 League</td>\n",
       "    </tr>\n",
       "    <tr>\n",
       "      <th>2</th>\n",
       "      <td>Spain</td>\n",
       "      <td>91</td>\n",
       "      <td>Top 5 League</td>\n",
       "    </tr>\n",
       "    <tr>\n",
       "      <th>3</th>\n",
       "      <td>Spain</td>\n",
       "      <td>91</td>\n",
       "      <td>Top 5 League</td>\n",
       "    </tr>\n",
       "    <tr>\n",
       "      <th>4</th>\n",
       "      <td>France</td>\n",
       "      <td>91</td>\n",
       "      <td>Top 5 League</td>\n",
       "    </tr>\n",
       "  </tbody>\n",
       "</table>\n",
       "</div>"
      ],
      "text/plain": [
       "  club_country  overall leagueCategory\n",
       "0       France       91   Top 5 League\n",
       "1      England       91   Top 5 League\n",
       "2        Spain       91   Top 5 League\n",
       "3        Spain       91   Top 5 League\n",
       "4       France       91   Top 5 League"
      ]
     },
     "execution_count": 26,
     "metadata": {},
     "output_type": "execute_result"
    }
   ],
   "source": [
    "top5 = [\"England\", \"Spain\", \"Germany\", \"Italy\", \"France\"]\n",
    "clubCountryDf['leagueCategory'] = np.where(clubCountryDf['club_country'].isin(top5), \"Top 5 League\", \"Not Top 5 League\")\n",
    "clubCountryDf.head()"
   ]
  },
  {
   "cell_type": "code",
   "execution_count": 27,
   "metadata": {},
   "outputs": [
    {
     "data": {
      "text/html": [
       "<div>\n",
       "<style scoped>\n",
       "    .dataframe tbody tr th:only-of-type {\n",
       "        vertical-align: middle;\n",
       "    }\n",
       "\n",
       "    .dataframe tbody tr th {\n",
       "        vertical-align: top;\n",
       "    }\n",
       "\n",
       "    .dataframe thead tr th {\n",
       "        text-align: left;\n",
       "    }\n",
       "\n",
       "    .dataframe thead tr:last-of-type th {\n",
       "        text-align: right;\n",
       "    }\n",
       "</style>\n",
       "<table border=\"1\" class=\"dataframe\">\n",
       "  <thead>\n",
       "    <tr>\n",
       "      <th></th>\n",
       "      <th colspan=\"8\" halign=\"left\">overall</th>\n",
       "    </tr>\n",
       "    <tr>\n",
       "      <th></th>\n",
       "      <th>count</th>\n",
       "      <th>mean</th>\n",
       "      <th>std</th>\n",
       "      <th>min</th>\n",
       "      <th>25%</th>\n",
       "      <th>50%</th>\n",
       "      <th>75%</th>\n",
       "      <th>max</th>\n",
       "    </tr>\n",
       "    <tr>\n",
       "      <th>leagueCategory</th>\n",
       "      <th></th>\n",
       "      <th></th>\n",
       "      <th></th>\n",
       "      <th></th>\n",
       "      <th></th>\n",
       "      <th></th>\n",
       "      <th></th>\n",
       "      <th></th>\n",
       "    </tr>\n",
       "  </thead>\n",
       "  <tbody>\n",
       "    <tr>\n",
       "      <th>Not Top 5 League</th>\n",
       "      <td>13939.0</td>\n",
       "      <td>64.277710</td>\n",
       "      <td>6.329658</td>\n",
       "      <td>46.0</td>\n",
       "      <td>60.0</td>\n",
       "      <td>65.0</td>\n",
       "      <td>68.0</td>\n",
       "      <td>87.0</td>\n",
       "    </tr>\n",
       "    <tr>\n",
       "      <th>Top 5 League</th>\n",
       "      <td>8141.0</td>\n",
       "      <td>66.844122</td>\n",
       "      <td>7.268095</td>\n",
       "      <td>48.0</td>\n",
       "      <td>62.0</td>\n",
       "      <td>66.0</td>\n",
       "      <td>72.0</td>\n",
       "      <td>91.0</td>\n",
       "    </tr>\n",
       "  </tbody>\n",
       "</table>\n",
       "</div>"
      ],
      "text/plain": [
       "                  overall                                                   \n",
       "                    count       mean       std   min   25%   50%   75%   max\n",
       "leagueCategory                                                              \n",
       "Not Top 5 League  13939.0  64.277710  6.329658  46.0  60.0  65.0  68.0  87.0\n",
       "Top 5 League       8141.0  66.844122  7.268095  48.0  62.0  66.0  72.0  91.0"
      ]
     },
     "execution_count": 27,
     "metadata": {},
     "output_type": "execute_result"
    }
   ],
   "source": [
    "clubCountryDf.groupby('leagueCategory').describe()"
   ]
  },
  {
   "cell_type": "code",
   "execution_count": 28,
   "metadata": {},
   "outputs": [
    {
     "data": {
      "image/png": "[encoded data removed]",
      "text/plain": [
       "<Figure size 1600x1000 with 1 Axes>"
      ]
     },
     "metadata": {},
     "output_type": "display_data"
    }
   ],
   "source": [
    "plt.figure(figsize=(16,10))\n",
    "sns.boxplot(clubCountryDf, x=\"leagueCategory\", y=\"overall\")\n",
    "plt.title(\"Overall score divided by league category\")\n",
    "plt.xlabel(\"League Category\")\n",
    "plt.ylabel(\"Overall Score\")\n",
    "plt.grid(axis=\"x\")\n",
    "plt.show()"
   ]
  },
  {
   "cell_type": "code",
   "execution_count": 29,
   "metadata": {},
   "outputs": [
    {
     "data": {
      "text/html": [
       "<div>\n",
       "<style scoped>\n",
       "    .dataframe tbody tr th:only-of-type {\n",
       "        vertical-align: middle;\n",
       "    }\n",
       "\n",
       "    .dataframe tbody tr th {\n",
       "        vertical-align: top;\n",
       "    }\n",
       "\n",
       "    .dataframe thead th {\n",
       "        text-align: right;\n",
       "    }\n",
       "</style>\n",
       "<table border=\"1\" class=\"dataframe\">\n",
       "  <thead>\n",
       "    <tr style=\"text-align: right;\">\n",
       "      <th></th>\n",
       "      <th>pref_foot</th>\n",
       "      <th>position</th>\n",
       "    </tr>\n",
       "  </thead>\n",
       "  <tbody>\n",
       "    <tr>\n",
       "      <th>0</th>\n",
       "      <td>Right</td>\n",
       "      <td>ST</td>\n",
       "    </tr>\n",
       "    <tr>\n",
       "      <th>1</th>\n",
       "      <td>Right</td>\n",
       "      <td>CM</td>\n",
       "    </tr>\n",
       "    <tr>\n",
       "      <th>2</th>\n",
       "      <td>Right</td>\n",
       "      <td>ST</td>\n",
       "    </tr>\n",
       "    <tr>\n",
       "      <th>3</th>\n",
       "      <td>Right</td>\n",
       "      <td>CF</td>\n",
       "    </tr>\n",
       "    <tr>\n",
       "      <th>4</th>\n",
       "      <td>Left</td>\n",
       "      <td>RW</td>\n",
       "    </tr>\n",
       "  </tbody>\n",
       "</table>\n",
       "</div>"
      ],
      "text/plain": [
       "  pref_foot position\n",
       "0     Right       ST\n",
       "1     Right       CM\n",
       "2     Right       ST\n",
       "3     Right       CF\n",
       "4      Left       RW"
      ]
     },
     "execution_count": 29,
     "metadata": {},
     "output_type": "execute_result"
    }
   ],
   "source": [
    "prefFootPositionDf = df[['pref_foot', 'position']]\n",
    "prefFootPositionDf.head()"
   ]
  },
  {
   "cell_type": "code",
   "execution_count": 34,
   "metadata": {},
   "outputs": [
    {
     "data": {
      "text/html": [
       "<div>\n",
       "<style scoped>\n",
       "    .dataframe tbody tr th:only-of-type {\n",
       "        vertical-align: middle;\n",
       "    }\n",
       "\n",
       "    .dataframe tbody tr th {\n",
       "        vertical-align: top;\n",
       "    }\n",
       "\n",
       "    .dataframe thead th {\n",
       "        text-align: right;\n",
       "    }\n",
       "</style>\n",
       "<table border=\"1\" class=\"dataframe\">\n",
       "  <thead>\n",
       "    <tr style=\"text-align: right;\">\n",
       "      <th></th>\n",
       "      <th>pref_foot</th>\n",
       "      <th>position</th>\n",
       "    </tr>\n",
       "  </thead>\n",
       "  <tbody>\n",
       "    <tr>\n",
       "      <th>4</th>\n",
       "      <td>Left</td>\n",
       "      <td>RW</td>\n",
       "    </tr>\n",
       "    <tr>\n",
       "      <th>5</th>\n",
       "      <td>Left</td>\n",
       "      <td>ST</td>\n",
       "    </tr>\n",
       "    <tr>\n",
       "      <th>6</th>\n",
       "      <td>Left</td>\n",
       "      <td>GK</td>\n",
       "    </tr>\n",
       "    <tr>\n",
       "      <th>9</th>\n",
       "      <td>Left</td>\n",
       "      <td>RW</td>\n",
       "    </tr>\n",
       "    <tr>\n",
       "      <th>17</th>\n",
       "      <td>Left</td>\n",
       "      <td>CAM</td>\n",
       "    </tr>\n",
       "  </tbody>\n",
       "</table>\n",
       "</div>"
      ],
      "text/plain": [
       "   pref_foot position\n",
       "4       Left       RW\n",
       "5       Left       ST\n",
       "6       Left       GK\n",
       "9       Left       RW\n",
       "17      Left      CAM"
      ]
     },
     "execution_count": 34,
     "metadata": {},
     "output_type": "execute_result"
    }
   ],
   "source": [
    "prefFootPositionDf = prefFootPositionDf[prefFootPositionDf['pref_foot']=='Left']\n",
    "prefFootPositionDf.head()"
   ]
  },
  {
   "cell_type": "code",
   "execution_count": 44,
   "metadata": {},
   "outputs": [
    {
     "data": {
      "text/plain": [
       "5347"
      ]
     },
     "execution_count": 44,
     "metadata": {},
     "output_type": "execute_result"
    }
   ],
   "source": [
    "prefFootPositionDf.shape[0]"
   ]
  },
  {
   "cell_type": "code",
   "execution_count": 37,
   "metadata": {},
   "outputs": [
    {
     "data": {
      "text/plain": [
       "position\n",
       "LB     1281\n",
       "CB      918\n",
       "CM      481\n",
       "ST      459\n",
       "LM      356\n",
       "CAM     353\n",
       "RM      324\n",
       "LWB     319\n",
       "GK      272\n",
       "CDM     224\n",
       "RW      194\n",
       "LW      118\n",
       "CF       30\n",
       "RB       12\n",
       "RWB       6\n",
       "Name: count, dtype: int64"
      ]
     },
     "execution_count": 37,
     "metadata": {},
     "output_type": "execute_result"
    }
   ],
   "source": [
    "prefFootPositionDf['position'].value_counts()"
   ]
  },
  {
   "cell_type": "code",
   "execution_count": 54,
   "metadata": {},
   "outputs": [
    {
     "data": {
      "text/html": [
       "<div>\n",
       "<style scoped>\n",
       "    .dataframe tbody tr th:only-of-type {\n",
       "        vertical-align: middle;\n",
       "    }\n",
       "\n",
       "    .dataframe tbody tr th {\n",
       "        vertical-align: top;\n",
       "    }\n",
       "\n",
       "    .dataframe thead th {\n",
       "        text-align: right;\n",
       "    }\n",
       "</style>\n",
       "<table border=\"1\" class=\"dataframe\">\n",
       "  <thead>\n",
       "    <tr style=\"text-align: right;\">\n",
       "      <th></th>\n",
       "      <th>overall</th>\n",
       "      <th>club_overall</th>\n",
       "    </tr>\n",
       "  </thead>\n",
       "  <tbody>\n",
       "    <tr>\n",
       "      <th>overall</th>\n",
       "      <td>1.000000</td>\n",
       "      <td>0.581029</td>\n",
       "    </tr>\n",
       "    <tr>\n",
       "      <th>club_overall</th>\n",
       "      <td>0.581029</td>\n",
       "      <td>1.000000</td>\n",
       "    </tr>\n",
       "  </tbody>\n",
       "</table>\n",
       "</div>"
      ],
      "text/plain": [
       "               overall  club_overall\n",
       "overall       1.000000      0.581029\n",
       "club_overall  0.581029      1.000000"
      ]
     },
     "execution_count": 54,
     "metadata": {},
     "output_type": "execute_result"
    }
   ],
   "source": [
    "corr = df[['overall', 'club_overall']].corr()\n",
    "corr"
   ]
  },
  {
   "cell_type": "code",
   "execution_count": 76,
   "metadata": {},
   "outputs": [
    {
     "data": {
      "image/png": "[encoded data removed]",
      "text/plain": [
       "<Figure size 1600x800 with 1 Axes>"
      ]
     },
     "metadata": {},
     "output_type": "display_data"
    }
   ],
   "source": [
    "plt.figure(figsize=(16,8))\n",
    "sns.regplot(data=df, x='club_overall', y='overall', scatter_kws={'alpha': 0.5}, line_kws={'color': 'red'})\n",
    "# sns.scatterplot(data=df, x='club_overall', y='overall')\n",
    "plt.title(\"Club Overall vs Player Overall\")\n",
    "plt.xlabel(\"Club Overall Score\")\n",
    "plt.ylabel(\"Player Overall Score\")\n",
    "plt.grid(axis='both')\n",
    "plt.show()"
   ]
  }
 ],
 "metadata": {
  "kernelspec": {
   "display_name": "Python 3",
   "language": "python",
   "name": "python3"
  },
  "language_info": {
   "codemirror_mode": {
    "name": "ipython",
    "version": 3
   },
   "file_extension": ".py",
   "mimetype": "text/x-python",
   "name": "python",
   "nbconvert_exporter": "python",
   "pygments_lexer": "ipython3",
   "version": "3.13.2"
  }
 },
 "nbformat": 4,
 "nbformat_minor": 2
}
